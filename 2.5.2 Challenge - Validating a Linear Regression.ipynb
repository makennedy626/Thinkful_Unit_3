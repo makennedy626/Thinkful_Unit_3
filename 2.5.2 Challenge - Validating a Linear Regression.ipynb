{
 "cells": [
  {
   "cell_type": "code",
   "execution_count": 53,
   "metadata": {
    "collapsed": false
   },
   "outputs": [
    {
     "name": "stderr",
     "output_type": "stream",
     "text": [
      "C:\\Users\\maken\\lib\\site-packages\\ipykernel\\__main__.py:20: ParserWarning: Falling back to the 'python' engine because the 'c' engine does not support skipfooter; you can avoid this warning by specifying engine='python'.\n"
     ]
    }
   ],
   "source": [
    "# Import the necessary features for this report\n",
    "import pandas as pd\n",
    "import numpy as np\n",
    "import matplotlib.pyplot as plt\n",
    "import seaborn as sns\n",
    "import scipy.stats as stats\n",
    "from scipy.stats import linregress\n",
    "from sklearn import linear_model\n",
    "import statsmodels.formula.api as smf\n",
    "import pickle\n",
    "\n",
    "# Improve the aesthetics\n",
    "sns.set_style(\"white\")\n",
    "\n",
    "\n",
    "df_ny = pd.read_pickle('C:\\\\Users\\\\maken\\\\2.4.4_Challenge_Prepared_Data.pkl')\n",
    "\n",
    "# Read the csv file. 'thousands' is used to format out the ',' when it appears in the numbers, skiprows will get rid of the first four rows (could also use skipheader), \n",
    "# skipfooter will remove the bottom three rows where the footnotes are located.\n",
    "df_ms = pd.read_csv('C:\\\\Users\\\\maken\\\\table_8_offenses_known_to_law_enforcement_mississippi_by_city_2013.csv', thousands = ',', skiprows = 4, skipfooter = 2, na_values = 'scalar')\n",
    "\n",
    "\n",
    "ny_model = pickle.load(open('C:\\\\Users\\\\maken\\\\NY_Property_Crimes_Regression_Model', 'rb'))"
   ]
  },
  {
   "cell_type": "code",
   "execution_count": 19,
   "metadata": {
    "collapsed": false
   },
   "outputs": [
    {
     "data": {
      "text/html": [
       "<div>\n",
       "<table border=\"1\" class=\"dataframe\">\n",
       "  <thead>\n",
       "    <tr style=\"text-align: right;\">\n",
       "      <th></th>\n",
       "      <th>City</th>\n",
       "      <th>Population</th>\n",
       "      <th>Violent\n",
       "crime</th>\n",
       "      <th>Murder and\n",
       "nonnegligent\n",
       "manslaughter</th>\n",
       "      <th>Rape\n",
       "(revised\n",
       "definition)1</th>\n",
       "      <th>Rape\n",
       "(legacy\n",
       "definition)2</th>\n",
       "      <th>Robbery</th>\n",
       "      <th>Aggravated\n",
       "assault</th>\n",
       "      <th>Property\n",
       "crime</th>\n",
       "      <th>Burglary</th>\n",
       "      <th>Larceny-\n",
       "theft</th>\n",
       "      <th>Motor\n",
       "vehicle\n",
       "theft</th>\n",
       "      <th>Arson</th>\n",
       "      <th>Unnamed: 13</th>\n",
       "    </tr>\n",
       "  </thead>\n",
       "  <tbody>\n",
       "    <tr>\n",
       "      <th>0</th>\n",
       "      <td>Aberdeen</td>\n",
       "      <td>5473</td>\n",
       "      <td>9</td>\n",
       "      <td>0</td>\n",
       "      <td>NaN</td>\n",
       "      <td>1.0</td>\n",
       "      <td>4</td>\n",
       "      <td>4</td>\n",
       "      <td>172</td>\n",
       "      <td>40</td>\n",
       "      <td>127</td>\n",
       "      <td>5</td>\n",
       "      <td>0</td>\n",
       "      <td>NaN</td>\n",
       "    </tr>\n",
       "    <tr>\n",
       "      <th>1</th>\n",
       "      <td>Amory</td>\n",
       "      <td>7167</td>\n",
       "      <td>5</td>\n",
       "      <td>0</td>\n",
       "      <td>NaN</td>\n",
       "      <td>1.0</td>\n",
       "      <td>2</td>\n",
       "      <td>2</td>\n",
       "      <td>265</td>\n",
       "      <td>81</td>\n",
       "      <td>181</td>\n",
       "      <td>3</td>\n",
       "      <td>2</td>\n",
       "      <td>NaN</td>\n",
       "    </tr>\n",
       "    <tr>\n",
       "      <th>2</th>\n",
       "      <td>Batesville</td>\n",
       "      <td>7417</td>\n",
       "      <td>18</td>\n",
       "      <td>2</td>\n",
       "      <td>NaN</td>\n",
       "      <td>1.0</td>\n",
       "      <td>5</td>\n",
       "      <td>10</td>\n",
       "      <td>447</td>\n",
       "      <td>72</td>\n",
       "      <td>360</td>\n",
       "      <td>15</td>\n",
       "      <td>1</td>\n",
       "      <td>NaN</td>\n",
       "    </tr>\n",
       "    <tr>\n",
       "      <th>3</th>\n",
       "      <td>Biloxi</td>\n",
       "      <td>44744</td>\n",
       "      <td>213</td>\n",
       "      <td>3</td>\n",
       "      <td>36.0</td>\n",
       "      <td>NaN</td>\n",
       "      <td>90</td>\n",
       "      <td>84</td>\n",
       "      <td>2316</td>\n",
       "      <td>703</td>\n",
       "      <td>1482</td>\n",
       "      <td>131</td>\n",
       "      <td>6</td>\n",
       "      <td>NaN</td>\n",
       "    </tr>\n",
       "    <tr>\n",
       "      <th>4</th>\n",
       "      <td>Byhalia</td>\n",
       "      <td>1270</td>\n",
       "      <td>10</td>\n",
       "      <td>0</td>\n",
       "      <td>NaN</td>\n",
       "      <td>0.0</td>\n",
       "      <td>0</td>\n",
       "      <td>10</td>\n",
       "      <td>71</td>\n",
       "      <td>19</td>\n",
       "      <td>51</td>\n",
       "      <td>1</td>\n",
       "      <td>0</td>\n",
       "      <td>NaN</td>\n",
       "    </tr>\n",
       "  </tbody>\n",
       "</table>\n",
       "</div>"
      ],
      "text/plain": [
       "         City  Population  Violent\\ncrime  \\\n",
       "0    Aberdeen        5473               9   \n",
       "1       Amory        7167               5   \n",
       "2  Batesville        7417              18   \n",
       "3      Biloxi       44744             213   \n",
       "4     Byhalia        1270              10   \n",
       "\n",
       "   Murder and\\nnonnegligent\\nmanslaughter  Rape\\n(revised\\ndefinition)1  \\\n",
       "0                                       0                           NaN   \n",
       "1                                       0                           NaN   \n",
       "2                                       2                           NaN   \n",
       "3                                       3                          36.0   \n",
       "4                                       0                           NaN   \n",
       "\n",
       "   Rape\\n(legacy\\ndefinition)2  Robbery  Aggravated\\nassault  Property\\ncrime  \\\n",
       "0                          1.0        4                    4              172   \n",
       "1                          1.0        2                    2              265   \n",
       "2                          1.0        5                   10              447   \n",
       "3                          NaN       90                   84             2316   \n",
       "4                          0.0        0                   10               71   \n",
       "\n",
       "   Burglary  Larceny-\\ntheft  Motor\\nvehicle\\ntheft  Arson  Unnamed: 13  \n",
       "0        40              127                      5      0          NaN  \n",
       "1        81              181                      3      2          NaN  \n",
       "2        72              360                     15      1          NaN  \n",
       "3       703             1482                    131      6          NaN  \n",
       "4        19               51                      1      0          NaN  "
      ]
     },
     "execution_count": 19,
     "metadata": {},
     "output_type": "execute_result"
    }
   ],
   "source": [
    "df_ms.head()"
   ]
  },
  {
   "cell_type": "code",
   "execution_count": 54,
   "metadata": {
    "collapsed": false
   },
   "outputs": [],
   "source": [
    "df_ms = df_ms.iloc[:, [0, 1, 3, 6, 8]].dropna()\n",
    "df_ms.columns = ['City', 'Population', 'Murder', 'Robbery', 'Property\\ncrime']\n",
    "\n",
    "#df_ms = df_ms.loc[:, ['City', 'Population', 'Murder and\\nnonnegligent\\nmanslaughter', 'Robbery', 'Property\\ncrime']]\n",
    "\n",
    "# Time to make some features. Let's make these x/person.\n",
    "df_ms['Robbery_per_thousand'] = df_ms['Robbery']/(df_ms['Population']/1000)\n",
    "df_ms['Murder_per_thousand'] = df_ms['Murder']/(df_ms['Population']/1000)\n",
    "\n",
    "df_ms['Robbery_0'] = np.where(df_ms['Robbery'] == 0, 0, 1)\n",
    "df_ms['Murder_0'] = np.where(df_ms['Murder'] == 0, 0, 1)\n",
    "\n",
    "df_ms['Population2'] = df_ms['Population'] * df_ms['Population']"
   ]
  },
  {
   "cell_type": "code",
   "execution_count": 55,
   "metadata": {
    "collapsed": false
   },
   "outputs": [
    {
     "data": {
      "text/html": [
       "<div>\n",
       "<table border=\"1\" class=\"dataframe\">\n",
       "  <thead>\n",
       "    <tr style=\"text-align: right;\">\n",
       "      <th></th>\n",
       "      <th>City</th>\n",
       "      <th>Population</th>\n",
       "      <th>Murder</th>\n",
       "      <th>Robbery</th>\n",
       "      <th>Property\n",
       "crime</th>\n",
       "      <th>Robbery_per_thousand</th>\n",
       "      <th>Murder_per_thousand</th>\n",
       "      <th>Robbery_0</th>\n",
       "      <th>Murder_0</th>\n",
       "      <th>Population2</th>\n",
       "    </tr>\n",
       "  </thead>\n",
       "  <tbody>\n",
       "    <tr>\n",
       "      <th>0</th>\n",
       "      <td>Aberdeen</td>\n",
       "      <td>5473</td>\n",
       "      <td>0</td>\n",
       "      <td>4</td>\n",
       "      <td>172</td>\n",
       "      <td>0.730861</td>\n",
       "      <td>0.000000</td>\n",
       "      <td>1</td>\n",
       "      <td>0</td>\n",
       "      <td>29953729</td>\n",
       "    </tr>\n",
       "    <tr>\n",
       "      <th>1</th>\n",
       "      <td>Amory</td>\n",
       "      <td>7167</td>\n",
       "      <td>0</td>\n",
       "      <td>2</td>\n",
       "      <td>265</td>\n",
       "      <td>0.279057</td>\n",
       "      <td>0.000000</td>\n",
       "      <td>1</td>\n",
       "      <td>0</td>\n",
       "      <td>51365889</td>\n",
       "    </tr>\n",
       "    <tr>\n",
       "      <th>2</th>\n",
       "      <td>Batesville</td>\n",
       "      <td>7417</td>\n",
       "      <td>2</td>\n",
       "      <td>5</td>\n",
       "      <td>447</td>\n",
       "      <td>0.674127</td>\n",
       "      <td>0.269651</td>\n",
       "      <td>1</td>\n",
       "      <td>1</td>\n",
       "      <td>55011889</td>\n",
       "    </tr>\n",
       "    <tr>\n",
       "      <th>3</th>\n",
       "      <td>Biloxi</td>\n",
       "      <td>44744</td>\n",
       "      <td>3</td>\n",
       "      <td>90</td>\n",
       "      <td>2316</td>\n",
       "      <td>2.011443</td>\n",
       "      <td>0.067048</td>\n",
       "      <td>1</td>\n",
       "      <td>1</td>\n",
       "      <td>2002025536</td>\n",
       "    </tr>\n",
       "    <tr>\n",
       "      <th>4</th>\n",
       "      <td>Byhalia</td>\n",
       "      <td>1270</td>\n",
       "      <td>0</td>\n",
       "      <td>0</td>\n",
       "      <td>71</td>\n",
       "      <td>0.000000</td>\n",
       "      <td>0.000000</td>\n",
       "      <td>0</td>\n",
       "      <td>0</td>\n",
       "      <td>1612900</td>\n",
       "    </tr>\n",
       "  </tbody>\n",
       "</table>\n",
       "</div>"
      ],
      "text/plain": [
       "         City  Population  Murder  Robbery  Property\\ncrime  \\\n",
       "0    Aberdeen        5473       0        4              172   \n",
       "1       Amory        7167       0        2              265   \n",
       "2  Batesville        7417       2        5              447   \n",
       "3      Biloxi       44744       3       90             2316   \n",
       "4     Byhalia        1270       0        0               71   \n",
       "\n",
       "   Robbery_per_thousand  Murder_per_thousand  Robbery_0  Murder_0  Population2  \n",
       "0              0.730861             0.000000          1         0     29953729  \n",
       "1              0.279057             0.000000          1         0     51365889  \n",
       "2              0.674127             0.269651          1         1     55011889  \n",
       "3              2.011443             0.067048          1         1   2002025536  \n",
       "4              0.000000             0.000000          0         0      1612900  "
      ]
     },
     "execution_count": 55,
     "metadata": {},
     "output_type": "execute_result"
    }
   ],
   "source": [
    "df_ms.head()"
   ]
  },
  {
   "cell_type": "code",
   "execution_count": 61,
   "metadata": {
    "collapsed": false
   },
   "outputs": [
    {
     "data": {
      "image/png": "[encoded data removed]",
      "text/plain": [
       "<matplotlib.figure.Figure at 0x2ea6dfc3860>"
      ]
     },
     "metadata": {},
     "output_type": "display_data"
    }
   ],
   "source": [
    "model_pred_ms = ny_model.predict(df_ms[['Population', 'Population2', 'Murder_0', 'Robbery_0', 'Murder_per_thousand', 'Robbery_per_thousand']]).ravel()\n",
    "\n",
    "actual = df_ms['Property\\ncrime']\n",
    "\n",
    "# Calculate the error, also called the residual.\n",
    "residual = actual - model_pred_ms\n",
    "\n",
    "\n",
    "plt.hist(residual)\n",
    "plt.title('Residual counts')\n",
    "plt.xlabel('Residual')\n",
    "plt.ylabel('Count')\n",
    "plt.show()"
   ]
  },
  {
   "cell_type": "code",
   "execution_count": 62,
   "metadata": {
    "collapsed": false
   },
   "outputs": [
    {
     "data": {
      "text/plain": [
       "NormaltestResult(statistic=12.538115238013848, pvalue=0.0018940126239523232)"
      ]
     },
     "execution_count": 62,
     "metadata": {},
     "output_type": "execute_result"
    }
   ],
   "source": [
    "# Use scipy.stats.normaltest to test whether a sample differs from a normal distribution.\n",
    "stats.normaltest(residual)"
   ]
  },
  {
   "cell_type": "markdown",
   "metadata": {},
   "source": [
    "The low pvalue shows that the distrubtion has a 99% chance of being normal, or that there is a .189% chance that the results occurred by chance alone."
   ]
  }
 ],
 "metadata": {
  "kernelspec": {
   "display_name": "Python 3",
   "language": "python",
   "name": "python3"
  },
  "language_info": {
   "codemirror_mode": {
    "name": "ipython",
    "version": 3
   },
   "file_extension": ".py",
   "mimetype": "text/x-python",
   "name": "python",
   "nbconvert_exporter": "python",
   "pygments_lexer": "ipython3",
   "version": "3.6.0"
  }
 },
 "nbformat": 4,
 "nbformat_minor": 2
}
