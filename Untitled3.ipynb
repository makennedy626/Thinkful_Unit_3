{
 "cells": [
  {
   "cell_type": "code",
   "execution_count": 20,
   "metadata": {
    "collapsed": false
   },
   "outputs": [
    {
     "name": "stdout",
     "output_type": "stream",
     "text": [
      "2.02\n",
      "5.26\n"
     ]
    },
    {
     "data": {
      "image/png": "[encoded data removed]",
      "text/plain": [
       "<matplotlib.figure.Figure at 0x1c2212bb748>"
      ]
     },
     "metadata": {},
     "output_type": "display_data"
    }
   ],
   "source": [
    "import numpy as np\n",
    "import pandas as pd\n",
    "import scipy\n",
    "import matplotlib.pyplot as plt\n",
    "%matplotlib inline\n",
    "\n",
    "pop1 = np.random.binomial(10, 0.2, 100)\n",
    "pop2 = np.random.binomial(10,0.5, 100) \n",
    "\n",
    "# Let’s make histograms for the two groups. \n",
    "plt.hist(pop1, alpha = .5, label = 'Pop1')\n",
    "plt.hist(pop2, alpha = .5, label = 'Pop2')\n",
    "plt.legend(loc='upper right')\n",
    "# Add a vertical line at the mean.\n",
    "plt.axvline(pop1.mean(), color='b', linestyle='solid', linewidth=2)\n",
    "plt.axvline(pop2.mean(), color = 'g', linestyle = 'solid', linewidth = 2)\n",
    "\n",
    "# Add a vertical line at one standard deviation above the mean.\n",
    "plt.axvline(pop1.mean() + pop1.std(), color='b', linestyle='dashed', linewidth=2)\n",
    "plt.axvline(pop2.mean() + pop2.std(), color = 'g', linestyle = 'dashed', linewidth = 2)\n",
    "\n",
    "# Add a vertical line at one standard deviation below the mean.\n",
    "plt.axvline(pop1.mean()-pop1.std(), color='b', linestyle='dashed', linewidth=2) \n",
    "plt.axvline(pop2.mean()- pop2.std(), color='g', linestyle='dashed', linewidth=2) \n",
    "\n",
    "print(pop1.mean())\n",
    "print(pop2.mean())"
   ]
  },
  {
   "cell_type": "code",
   "execution_count": 32,
   "metadata": {
    "collapsed": false
   },
   "outputs": [
    {
     "name": "stdout",
     "output_type": "stream",
     "text": [
      "2.019\n",
      "1.34485649792\n",
      "4.965\n",
      "1.56453667263\n"
     ]
    },
    {
     "data": {
      "image/png": "[encoded data removed]",
      "text/plain": [
       "<matplotlib.figure.Figure at 0x1c2208d6048>"
      ]
     },
     "metadata": {},
     "output_type": "display_data"
    }
   ],
   "source": [
    "pop1 = np.random.binomial(10, .2, 1000)\n",
    "pop2 = np.random.binomial(10, .5, 1000)\n",
    "\n",
    "plt.hist(pop1, alpha=0.5, label='pop 1') \n",
    "plt.hist(pop2, alpha=0.5, label='pop 2') \n",
    "plt.legend(loc='upper right')\n",
    "# Add a vertical line at the mean.\n",
    "plt.axvline(pop1.mean(), color='b', linestyle='solid', linewidth=2)\n",
    "plt.axvline(pop2.mean(), color = 'g', linestyle = 'solid', linewidth = 2)\n",
    "\n",
    "# Add a vertical line at one standard deviation above the mean.\n",
    "plt.axvline(pop1.mean() + pop1.std(), color='b', linestyle='dashed', linewidth=2)\n",
    "plt.axvline(pop2.mean() + pop2.std(), color = 'g', linestyle = 'dashed', linewidth = 2)\n",
    "\n",
    "# Add a vertical line at one standard deviation below the mean.\n",
    "plt.axvline(pop1.mean()-pop1.std(), color='b', linestyle='dashed', linewidth=2) \n",
    "plt.axvline(pop2.mean()- pop2.std(), color='g', linestyle='dashed', linewidth=2) \n",
    "\n",
    "print(pop1.mean())\n",
    "print(pop1.std())\n",
    "print(pop2.mean())\n",
    "print(pop2.std())"
   ]
  },
  {
   "cell_type": "code",
   "execution_count": 33,
   "metadata": {
    "collapsed": false
   },
   "outputs": [
    {
     "name": "stdout",
     "output_type": "stream",
     "text": [
      "2.25\n",
      "1.44481832768\n",
      "5.3\n",
      "1.84661853126\n"
     ]
    },
    {
     "data": {
      "image/png": "[encoded data removed]",
      "text/plain": [
       "<matplotlib.figure.Figure at 0x1c2223e9e10>"
      ]
     },
     "metadata": {},
     "output_type": "display_data"
    }
   ],
   "source": [
    "pop1 = np.random.binomial(10, .2, 20)\n",
    "pop2 = np.random.binomial(10, .5, 20)\n",
    "\n",
    "plt.hist(pop1, alpha=0.5, label='pop 1') \n",
    "plt.hist(pop2, alpha=0.5, label='pop 2') \n",
    "plt.legend(loc='upper right')\n",
    "# Add a vertical line at the mean.\n",
    "plt.axvline(pop1.mean(), color='b', linestyle='solid', linewidth=2)\n",
    "plt.axvline(pop2.mean(), color = 'g', linestyle = 'solid', linewidth = 2)\n",
    "\n",
    "# Add a vertical line at one standard deviation above the mean.\n",
    "plt.axvline(pop1.mean() + pop1.std(), color='b', linestyle='dashed', linewidth=2)\n",
    "plt.axvline(pop2.mean() + pop2.std(), color = 'g', linestyle = 'dashed', linewidth = 2)\n",
    "\n",
    "# Add a vertical line at one standard deviation below the mean.\n",
    "plt.axvline(pop1.mean()-pop1.std(), color='b', linestyle='dashed', linewidth=2) \n",
    "plt.axvline(pop2.mean()- pop2.std(), color='g', linestyle='dashed', linewidth=2) \n",
    "\n",
    "print(pop1.mean())\n",
    "print(pop1.std())\n",
    "print(pop2.mean())\n",
    "print(pop2.std())"
   ]
  },
  {
   "cell_type": "markdown",
   "metadata": {},
   "source": [
    "Q: What values change, and what remain the same?\n",
    "\n",
    "A: All of the values increased. "
   ]
  },
  {
   "cell_type": "code",
   "execution_count": 34,
   "metadata": {
    "collapsed": false
   },
   "outputs": [
    {
     "name": "stdout",
     "output_type": "stream",
     "text": [
      "2.6\n",
      "1.2\n",
      "5.2\n",
      "1.69115345253\n"
     ]
    },
    {
     "data": {
      "image/png": "[encoded data removed]",
      "text/plain": [
       "<matplotlib.figure.Figure at 0x1c220e1d7b8>"
      ]
     },
     "metadata": {},
     "output_type": "display_data"
    }
   ],
   "source": [
    "pop1 = np.random.binomial(10, .3, 20)\n",
    "pop2 = np.random.binomial(10, .5, 20)\n",
    "\n",
    "plt.hist(pop1, alpha=0.5, label='pop 1') \n",
    "plt.hist(pop2, alpha=0.5, label='pop 2') \n",
    "plt.legend(loc='upper right')\n",
    "# Add a vertical line at the mean.\n",
    "plt.axvline(pop1.mean(), color='b', linestyle='solid', linewidth=2)\n",
    "plt.axvline(pop2.mean(), color = 'g', linestyle = 'solid', linewidth = 2)\n",
    "\n",
    "# Add a vertical line at one standard deviation above the mean.\n",
    "plt.axvline(pop1.mean() + pop1.std(), color='b', linestyle='dashed', linewidth=2)\n",
    "plt.axvline(pop2.mean() + pop2.std(), color = 'g', linestyle = 'dashed', linewidth = 2)\n",
    "\n",
    "# Add a vertical line at one standard deviation below the mean.\n",
    "plt.axvline(pop1.mean()-pop1.std(), color='b', linestyle='dashed', linewidth=2) \n",
    "plt.axvline(pop2.mean()- pop2.std(), color='g', linestyle='dashed', linewidth=2) \n",
    "\n",
    "print(pop1.mean())\n",
    "print(pop1.std())\n",
    "print(pop2.mean())\n",
    "print(pop2.std())"
   ]
  },
  {
   "cell_type": "code",
   "execution_count": 35,
   "metadata": {
    "collapsed": false
   },
   "outputs": [
    {
     "name": "stdout",
     "output_type": "stream",
     "text": [
      "4.05\n",
      "2.1089096709\n",
      "4.6\n",
      "1.42828568571\n"
     ]
    },
    {
     "data": {
      "image/png": "[encoded data removed]",
      "text/plain": [
       "<matplotlib.figure.Figure at 0x1c22258f198>"
      ]
     },
     "metadata": {},
     "output_type": "display_data"
    }
   ],
   "source": [
    "pop1 = np.random.binomial(10, .4, 20)\n",
    "pop2 = np.random.binomial(10, .5, 20)\n",
    "\n",
    "plt.hist(pop1, alpha=0.5, label='pop 1') \n",
    "plt.hist(pop2, alpha=0.5, label='pop 2') \n",
    "plt.legend(loc='upper right')\n",
    "# Add a vertical line at the mean.\n",
    "plt.axvline(pop1.mean(), color='b', linestyle='solid', linewidth=2)\n",
    "plt.axvline(pop2.mean(), color = 'g', linestyle = 'solid', linewidth = 2)\n",
    "\n",
    "# Add a vertical line at one standard deviation above the mean.\n",
    "plt.axvline(pop1.mean() + pop1.std(), color='b', linestyle='dashed', linewidth=2)\n",
    "plt.axvline(pop2.mean() + pop2.std(), color = 'g', linestyle = 'dashed', linewidth = 2)\n",
    "\n",
    "# Add a vertical line at one standard deviation below the mean.\n",
    "plt.axvline(pop1.mean()-pop1.std(), color='b', linestyle='dashed', linewidth=2) \n",
    "plt.axvline(pop2.mean()- pop2.std(), color='g', linestyle='dashed', linewidth=2) \n",
    "\n",
    "print(pop1.mean())\n",
    "print(pop1.std())\n",
    "print(pop2.mean())\n",
    "print(pop2.std())"
   ]
  },
  {
   "cell_type": "markdown",
   "metadata": {},
   "source": [
    "Q: What changes, and why?\n",
    "\n",
    "A: The increase in p-value increases the mean and std for pop1, because an increase in p-value is an increase in the probability of the sample being more similar to the actual observed results. "
   ]
  },
  {
   "cell_type": "code",
   "execution_count": 36,
   "metadata": {
    "collapsed": false
   },
   "outputs": [
    {
     "name": "stdout",
     "output_type": "stream",
     "text": [
      "2.908\n",
      "1.74342651121\n",
      "4.999\n",
      "2.25853912961\n"
     ]
    },
    {
     "data": {
      "image/png": "[encoded data removed]",
      "text/plain": [
       "<matplotlib.figure.Figure at 0x1c220d930b8>"
      ]
     },
     "metadata": {},
     "output_type": "display_data"
    }
   ],
   "source": [
    "pop1 = np.random.poisson(3, 1000)\n",
    "pop2 = np.random.poisson(5, 1000)\n",
    "\n",
    "plt.hist(pop1, alpha=0.5, label='pop 1') \n",
    "plt.hist(pop2, alpha=0.5, label='pop 2') \n",
    "plt.legend(loc='upper right')\n",
    "# Add a vertical line at the mean.\n",
    "plt.axvline(pop1.mean(), color='b', linestyle='solid', linewidth=2)\n",
    "plt.axvline(pop2.mean(), color = 'g', linestyle = 'solid', linewidth = 2)\n",
    "\n",
    "# Add a vertical line at one standard deviation above the mean.\n",
    "plt.axvline(pop1.mean() + pop1.std(), color='b', linestyle='dashed', linewidth=2)\n",
    "plt.axvline(pop2.mean() + pop2.std(), color = 'g', linestyle = 'dashed', linewidth = 2)\n",
    "\n",
    "# Add a vertical line at one standard deviation below the mean.\n",
    "plt.axvline(pop1.mean()-pop1.std(), color='b', linestyle='dashed', linewidth=2) \n",
    "plt.axvline(pop2.mean()- pop2.std(), color='g', linestyle='dashed', linewidth=2) \n",
    "\n",
    "print(pop1.mean())\n",
    "print(pop1.std())\n",
    "print(pop2.mean())\n",
    "print(pop2.std())"
   ]
  },
  {
   "cell_type": "markdown",
   "metadata": {},
   "source": [
    "Q: Change the distribution of your populations from binomial to a distribution of your choice. Do the sample mean values still accurately represent the population values?\n",
    "\n",
    "A: For both populations, the lambda value (3 and 5) were close to the mean values (2.9 and 4.99), showing that the sample mean values are accurate. "
   ]
  }
 ],
 "metadata": {
  "kernelspec": {
   "display_name": "Python 3",
   "language": "python",
   "name": "python3"
  },
  "language_info": {
   "codemirror_mode": {
    "name": "ipython",
    "version": 3
   },
   "file_extension": ".py",
   "mimetype": "text/x-python",
   "name": "python",
   "nbconvert_exporter": "python",
   "pygments_lexer": "ipython3",
   "version": "3.6.0"
  }
 },
 "nbformat": 4,
 "nbformat_minor": 2
}
