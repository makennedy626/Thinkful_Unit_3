{
 "cells": [
  {
   "cell_type": "code",
   "execution_count": 1,
   "metadata": {
    "collapsed": true
   },
   "outputs": [],
   "source": [
    "import pandas as pd\n",
    "import numpy as np\n",
    "import matplotlib.pyplot as plt\n",
    "import seaborn as sns\n",
    "import scipy.stats as stats\n",
    "\n",
    "# Set the default plot aesthetics to be prettier.\n",
    "sns.set_style(\"white\")"
   ]
  },
  {
   "cell_type": "code",
   "execution_count": 2,
   "metadata": {
    "collapsed": false
   },
   "outputs": [
    {
     "name": "stdout",
     "output_type": "stream",
     "text": [
      "  cntry  idno  year  tvtot  ppltrst  pplfair  pplhlp  happy  sclmeet  sclact  \\\n",
      "0    CH   5.0     6    3.0      3.0     10.0     5.0    8.0      5.0     4.0   \n",
      "1    CH  25.0     6    6.0      5.0      7.0     5.0    9.0      3.0     2.0   \n",
      "2    CH  26.0     6    1.0      8.0      8.0     8.0    7.0      6.0     3.0   \n",
      "3    CH  28.0     6    4.0      6.0      6.0     7.0   10.0      6.0     2.0   \n",
      "4    CH  29.0     6    5.0      6.0      7.0     5.0    8.0      7.0     2.0   \n",
      "\n",
      "   gndr  agea  partner  \n",
      "0   2.0  60.0      1.0  \n",
      "1   2.0  59.0      1.0  \n",
      "2   1.0  24.0      2.0  \n",
      "3   2.0  64.0      1.0  \n",
      "4   2.0  55.0      1.0  \n",
      "['CH' 'CZ' 'DE' 'ES' 'NO' 'SE']\n"
     ]
    }
   ],
   "source": [
    "# Loading the data again.\n",
    "\n",
    "df = pd.read_csv(\"https://raw.githubusercontent.com/Thinkful-Ed/data-201-resources/master/ESS_practice_data/ESSdata_Thinkful.csv\")\n",
    "\n",
    "# Take a subset of the data to make plots clearer.\n",
    "print(df.head())\n",
    "\n",
    "print(df.cntry.unique())"
   ]
  },
  {
   "cell_type": "code",
   "execution_count": 3,
   "metadata": {
    "collapsed": false
   },
   "outputs": [
    {
     "name": "stdout",
     "output_type": "stream",
     "text": [
      "cntry     CH    CZ  DE    ES    NO    SE\n",
      "Nordic                                  \n",
      "0       1546  1316  28  2426     0     0\n",
      "1          0     0   0     0  1462  1816\n"
     ]
    }
   ],
   "source": [
    "# Making dummies.\n",
    "# Also creating a data frame to hold our features.\n",
    "features = pd.get_dummies(df['cntry'])\n",
    "\n",
    "# Nordic countries dummy.\n",
    "features['Nordic'] = np.where((df['cntry'].isin(['NO', 'SE'])), 1, 0)\n",
    "\n",
    "print(pd.crosstab(features['Nordic'], df['cntry']))"
   ]
  },
  {
   "cell_type": "code",
   "execution_count": null,
   "metadata": {
    "collapsed": true
   },
   "outputs": [],
   "source": []
  }
 ],
 "metadata": {
  "kernelspec": {
   "display_name": "Python 3",
   "language": "python",
   "name": "python3"
  },
  "language_info": {
   "codemirror_mode": {
    "name": "ipython",
    "version": 3
   },
   "file_extension": ".py",
   "mimetype": "text/x-python",
   "name": "python",
   "nbconvert_exporter": "python",
   "pygments_lexer": "ipython3",
   "version": "3.6.0"
  }
 },
 "nbformat": 4,
 "nbformat_minor": 2
}
