{
 "cells": [
  {
   "cell_type": "code",
   "execution_count": 81,
   "metadata": {
    "collapsed": false
   },
   "outputs": [],
   "source": [
    "# Import the necessary features for this report\n",
    "import pandas as pd\n",
    "import numpy as np\n",
    "import matplotlib.pyplot as plt\n",
    "import seaborn as sns\n",
    "import scipy.stats as stats\n",
    "from scipy.stats import linregress\n",
    "from sklearn import linear_model\n",
    "import statsmodels.formula.api as smf\n",
    "import pickle\n",
    "\n",
    "# Improve the aesthetics\n",
    "sns.set_style(\"white\")\n",
    "\n",
    "# Read the csv file. 'thousands' is used to format out the ',' when it appears in the numbers, skiprows will get rid of the first four rows (could also use skipheader), \n",
    "# skipfooter will remove the bottom three rows where the footnotes are located.\n",
    "df = pd.read_pickle('C:\\\\Users\\\\maken\\\\2.4.2_Drill_Prepared_Data.pkl')\n",
    "\n"
   ]
  },
  {
   "cell_type": "code",
   "execution_count": 76,
   "metadata": {
    "collapsed": false
   },
   "outputs": [
    {
     "data": {
      "text/html": [
       "<div>\n",
       "<table border=\"1\" class=\"dataframe\">\n",
       "  <thead>\n",
       "    <tr style=\"text-align: right;\">\n",
       "      <th></th>\n",
       "      <th>City</th>\n",
       "      <th>Population</th>\n",
       "      <th>Murder</th>\n",
       "      <th>Robbery</th>\n",
       "      <th>Property\n",
       "crime</th>\n",
       "    </tr>\n",
       "  </thead>\n",
       "  <tbody>\n",
       "    <tr>\n",
       "      <th>0</th>\n",
       "      <td>Adams Village</td>\n",
       "      <td>1861</td>\n",
       "      <td>0</td>\n",
       "      <td>0</td>\n",
       "      <td>12</td>\n",
       "    </tr>\n",
       "    <tr>\n",
       "      <th>1</th>\n",
       "      <td>Addison Town and Village</td>\n",
       "      <td>2577</td>\n",
       "      <td>0</td>\n",
       "      <td>0</td>\n",
       "      <td>24</td>\n",
       "    </tr>\n",
       "    <tr>\n",
       "      <th>2</th>\n",
       "      <td>Akron Village</td>\n",
       "      <td>2846</td>\n",
       "      <td>0</td>\n",
       "      <td>0</td>\n",
       "      <td>16</td>\n",
       "    </tr>\n",
       "    <tr>\n",
       "      <th>3</th>\n",
       "      <td>Albany</td>\n",
       "      <td>97956</td>\n",
       "      <td>8</td>\n",
       "      <td>227</td>\n",
       "      <td>4090</td>\n",
       "    </tr>\n",
       "    <tr>\n",
       "      <th>4</th>\n",
       "      <td>Albion Village</td>\n",
       "      <td>6388</td>\n",
       "      <td>0</td>\n",
       "      <td>4</td>\n",
       "      <td>223</td>\n",
       "    </tr>\n",
       "  </tbody>\n",
       "</table>\n",
       "</div>"
      ],
      "text/plain": [
       "                       City  Population  Murder  Robbery  Property\\ncrime\n",
       "0             Adams Village        1861       0        0               12\n",
       "1  Addison Town and Village        2577       0        0               24\n",
       "2             Akron Village        2846       0        0               16\n",
       "3                    Albany       97956       8      227             4090\n",
       "4            Albion Village        6388       0        4              223"
      ]
     },
     "execution_count": 76,
     "metadata": {},
     "output_type": "execute_result"
    }
   ],
   "source": [
    "df.head()"
   ]
  },
  {
   "cell_type": "code",
   "execution_count": 77,
   "metadata": {
    "collapsed": false
   },
   "outputs": [],
   "source": [
    "df_cleaned = df\n",
    "\n",
    "# Time to make some features. Let's make these x/person.\n",
    "df_cleaned['Robbery_per_thousand'] = df_cleaned['Robbery']/(df_cleaned['Population']/1000)\n",
    "df_cleaned['Murder_per_thousand'] = df_cleaned['Murder']/(df_cleaned['Population']/1000)\n",
    "\n",
    "df_cleaned['Robbery_0'] = np.where(df['Robbery'] == 0, 0, 1)\n",
    "df_cleaned['Murder_0'] = np.where(df['Murder'] == 0, 0, 1)\n",
    "\n",
    "df_cleaned['Population2'] = df_cleaned['Population'] * df_cleaned['Population']"
   ]
  },
  {
   "cell_type": "code",
   "execution_count": 78,
   "metadata": {
    "collapsed": false
   },
   "outputs": [
    {
     "name": "stdout",
     "output_type": "stream",
     "text": [
      "\n",
      "Coefficients: \n",
      " [[  3.02034479e-02  -1.58480786e-09  -6.27128615e+02  -1.83833341e+02\n",
      "    6.26996068e+03   3.28873370e+02]]\n",
      "\n",
      "Intercept: \n",
      " [-88.36668839]\n",
      "\n",
      "R-squared:\n",
      "0.99725316521\n"
     ]
    }
   ],
   "source": [
    "# Instantiate and fit our model.\n",
    "regr = linear_model.LinearRegression()\n",
    "Y = df_cleaned['Property\\ncrime'].values.reshape(-1, 1)\n",
    "X = df_cleaned[['Population', 'Population2', 'Murder_0', 'Robbery_0', 'Murder_per_thousand', 'Robbery_per_thousand']]\n",
    "regr.fit(X, Y)\n",
    "\n",
    "# Inspect the results.\n",
    "print('\\nCoefficients: \\n', regr.coef_)\n",
    "print('\\nIntercept: \\n', regr.intercept_)\n",
    "print('\\nR-squared:')\n",
    "print(regr.score(X, Y))"
   ]
  },
  {
   "cell_type": "code",
   "execution_count": 79,
   "metadata": {
    "collapsed": false
   },
   "outputs": [
    {
     "data": {
      "image/png": "[encoded data removed]",
      "text/plain": [
       "<matplotlib.figure.Figure at 0x2ca28ffc320>"
      ]
     },
     "metadata": {},
     "output_type": "display_data"
    }
   ],
   "source": [
    "# Extract predicted values.\n",
    "predicted = regr.predict(X).ravel()\n",
    "actual = df_cleaned['Property\\ncrime']\n",
    "\n",
    "# Calculate the error, also called the residual.\n",
    "residual = actual - predicted\n",
    "\n",
    "\n",
    "plt.hist(residual)\n",
    "plt.title('Residual counts')\n",
    "plt.xlabel('Residual')\n",
    "plt.ylabel('Count')\n",
    "plt.show()"
   ]
  },
  {
   "cell_type": "markdown",
   "metadata": {},
   "source": [
    "The high R-squared and the high counts of low residuals shows the accuracy of this model in predicting Property Crimes in NYC in 2013"
   ]
  },
  {
   "cell_type": "code",
   "execution_count": 84,
   "metadata": {
    "collapsed": false
   },
   "outputs": [],
   "source": [
    "pickle.dump(regr, open('C:\\\\Users\\\\maken\\\\NY_Property_Crimes_Regression_Model', 'wb'))\n",
    "\n",
    "df_cleaned.to_pickle('C:\\\\Users\\\\maken\\\\2.4.4_Challenge_Prepared_Data.pkl')"
   ]
  }
 ],
 "metadata": {
  "kernelspec": {
   "display_name": "Python 3",
   "language": "python",
   "name": "python3"
  },
  "language_info": {
   "codemirror_mode": {
    "name": "ipython",
    "version": 3
   },
   "file_extension": ".py",
   "mimetype": "text/x-python",
   "name": "python",
   "nbconvert_exporter": "python",
   "pygments_lexer": "ipython3",
   "version": "3.6.0"
  }
 },
 "nbformat": 4,
 "nbformat_minor": 2
}
