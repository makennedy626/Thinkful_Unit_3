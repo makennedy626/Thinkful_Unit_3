{
 "cells": [
  {
   "cell_type": "markdown",
   "metadata": {},
   "source": [
    "1: Determine the five most common journals and the total articles for each. \n",
    "2: Next, calculate the mean, median, and standard deviation of the open-access cost per article for each journal . You will need to do considerable data cleaning in order to extract accurate estimates. \n",
    "3: For a real bonus round, identify the open access prices paid by subject area."
   ]
  },
  {
   "cell_type": "code",
   "execution_count": 6,
   "metadata": {
    "collapsed": false
   },
   "outputs": [],
   "source": [
    "# Import the necessary modules\n",
    "import re\n",
    "import matplotlib.pyplot as plt\n",
    "import pandas as pd\n",
    "import numpy as np\n",
    "\n",
    "# Create a dataframe from the csv file, downloaded from dropbox\n",
    "df = pd.read_csv('C:\\\\Users\\\\maken\\\\WELLCOME_APCspend2013_forThinkful.csv', encoding=\"latin-1\")"
   ]
  },
  {
   "cell_type": "markdown",
   "metadata": {},
   "source": [
    "Determine the five most common journals and the total articles for each"
   ]
  },
  {
   "cell_type": "code",
   "execution_count": 7,
   "metadata": {
    "collapsed": false
   },
   "outputs": [
    {
     "data": {
      "text/plain": [
       "{'journal of biological chemistry': 53,\n",
       " 'neuroimage': 29,\n",
       " 'plos genetics': 24,\n",
       " 'plos one': 190,\n",
       " 'plos pathogens': 24}"
      ]
     },
     "execution_count": 7,
     "metadata": {},
     "output_type": "execute_result"
    }
   ],
   "source": [
    "Journal = df['Journal title'].map(lambda x: str(x).lower())\n",
    "\n",
    "from collections import Counter\n",
    "\n",
    "#sorted(dict(Counter(Journal).most_common(5)),key = Journal.get, reverse = True)\n",
    "\n",
    "dict(Counter(Journal).most_common(5))"
   ]
  },
  {
   "cell_type": "markdown",
   "metadata": {},
   "source": [
    "Calculate the mean, median, and standard deviation of the open-access cost per article for each journal. You will need to do considerable data cleaning in order to extract accurate estimates."
   ]
  },
  {
   "cell_type": "code",
   "execution_count": 74,
   "metadata": {
    "collapsed": false
   },
   "outputs": [
    {
     "name": "stdout",
     "output_type": "stream",
     "text": [
      "24206.091296121096\n",
      "1889.5\n",
      "147301.04559381554\n"
     ]
    }
   ],
   "source": [
    "# Declare the dataframe\n",
    "Cost = df['COST (£) charged to Wellcome (inc VAT when charged)']\n",
    "\n",
    "# Since there are only a few in USD, drop them\n",
    "# Do this by only taking values after the pound sign and before the decimal point\n",
    "Fixed = Cost.str.split('£', expand = True)\n",
    "keep = Fixed[1]\n",
    "\n",
    "clean = keep.str.split('.', expand = True)\n",
    "\n",
    "keep_clean = clean[0]\n",
    "\n",
    "cleaner = keep_clean.dropna()\n",
    "\n",
    "currency = cleaner.map(lambda x: int(x))\n",
    "\n",
    "#print(keep_clean)\n",
    "print(currency.mean())\n",
    "print(currency.median())\n",
    "print(currency.std())"
   ]
  },
  {
   "cell_type": "markdown",
   "metadata": {},
   "source": [
    "Extra Challenge: For a real bonus round, identify the open access prices paid by subject area."
   ]
  },
  {
   "cell_type": "code",
   "execution_count": 75,
   "metadata": {
    "collapsed": true
   },
   "outputs": [],
   "source": [
    "# Print a list of Journal Titles without duplicates\n",
    "# Categorize the items in this list \n",
    "# Associate all titles to a subject area (i.e. if it has 'chem,' then assign it to chemistry)\n",
    "\n",
    "# We might come back and do this. Going to submit what I have for now. "
   ]
  }
 ],
 "metadata": {
  "kernelspec": {
   "display_name": "Python 3",
   "language": "python",
   "name": "python3"
  },
  "language_info": {
   "codemirror_mode": {
    "name": "ipython",
    "version": 3
   },
   "file_extension": ".py",
   "mimetype": "text/x-python",
   "name": "python",
   "nbconvert_exporter": "python",
   "pygments_lexer": "ipython3",
   "version": "3.6.0"
  }
 },
 "nbformat": 4,
 "nbformat_minor": 2
}
