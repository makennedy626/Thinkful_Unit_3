{
 "cells": [
  {
   "cell_type": "markdown",
   "metadata": {},
   "source": [
    "# Unit 3 Capstone Project\n",
    "  ## Matthew Kennedy, August 2017\n",
    "\n",
    "   ## Section 1: Overview of Dataset and Analysis of Data\n",
    "   \n",
    "   The dataset used in this project comes from Kaggle user \"CNuge.\" The dataset contains historical stock prices over the last five years for all companies in the S&P 500 index and can be found at https://www.kaggle.com/camnugent/sandp500. This project will use the files that have the historical prices for individual stocks.   \n",
    "       \n",
    "   The dataset contains the following columns: \n",
    "       \n",
    "       Date - In the format of yy-mm-dd\n",
    "       Open - Price of the stock in USD at market open\n",
    "       High - Highest price reached in the day\n",
    "       Low - Lowest price reached in the day\n",
    "       Close - The price the stock had at the end of the day\n",
    "       Volume - Number of shares traded\n",
    "       Name - The stock's ticker name\n",
    "       \n",
    "   The user collected the data by using the python library, 'pandas_datareader,' to scrape Google Finance."
   ]
  },
  {
   "cell_type": "code",
   "execution_count": 1,
   "metadata": {},
   "outputs": [
    {
     "name": "stderr",
     "output_type": "stream",
     "text": [
      "C:\\Users\\maken\\Anaconda3\\lib\\site-packages\\statsmodels\\compat\\pandas.py:56: FutureWarning: The pandas.core.datetools module is deprecated and will be removed in a future version. Please use the pandas.tseries module instead.\n",
      "  from pandas.core import datetools\n"
     ]
    }
   ],
   "source": [
    "# Import the necessary modules\n",
    "import pandas as pd\n",
    "import numpy as np\n",
    "import scipy\n",
    "import matplotlib.pyplot as plt\n",
    "%matplotlib inline\n",
    "\n",
    "from sklearn import linear_model\n",
    "from sklearn import preprocessing\n",
    "import statsmodels.api as sm\n",
    "from sklearn.linear_model import LogisticRegression\n",
    "from sklearn.svm import SVR\n",
    "from sklearn.svm import SVC\n",
    "from sklearn import ensemble\n",
    "from sklearn import datasets\n",
    "from sklearn.utils import shuffle\n",
    "from sklearn.metrics import mean_squared_error\n",
    "from sklearn.metrics import r2_score\n",
    "from sklearn.metrics import confusion_matrix\n",
    "from sklearn.model_selection import cross_val_score"
   ]
  },
  {
   "cell_type": "code",
   "execution_count": 2,
   "metadata": {},
   "outputs": [],
   "source": [
    "# This project will use the historical prices of GOOGL\n",
    "\n",
    "# Read the Dataset, store the original\n",
    "# This is the filepath on my laptop:\n",
    "#original = pd.read_csv('C:\\\\Users\\\\mkennedy\\\\sandp500\\\\individual_stocks_5yr\\\\GOOGL_data.csv', encoding='utf-8-sig')\n",
    "# This is the filepath on my desktop:\n",
    "original = pd.read_csv('D:\\\\Data\\\\sandp500\\\\GOOGL_data.csv')"
   ]
  },
  {
   "cell_type": "code",
   "execution_count": 3,
   "metadata": {},
   "outputs": [
    {
     "data": {
      "text/html": [
       "<div>\n",
       "<style>\n",
       "    .dataframe thead tr:only-child th {\n",
       "        text-align: right;\n",
       "    }\n",
       "\n",
       "    .dataframe thead th {\n",
       "        text-align: left;\n",
       "    }\n",
       "\n",
       "    .dataframe tbody tr th {\n",
       "        vertical-align: top;\n",
       "    }\n",
       "</style>\n",
       "<table border=\"1\" class=\"dataframe\">\n",
       "  <thead>\n",
       "    <tr style=\"text-align: right;\">\n",
       "      <th></th>\n",
       "      <th>Date</th>\n",
       "      <th>Open</th>\n",
       "      <th>High</th>\n",
       "      <th>Low</th>\n",
       "      <th>Close</th>\n",
       "      <th>Volume</th>\n",
       "      <th>Name</th>\n",
       "    </tr>\n",
       "  </thead>\n",
       "  <tbody>\n",
       "    <tr>\n",
       "      <th>0</th>\n",
       "      <td>8/13/2012</td>\n",
       "      <td>324.03</td>\n",
       "      <td>330.41</td>\n",
       "      <td>323.66</td>\n",
       "      <td>330.34</td>\n",
       "      <td>3268073</td>\n",
       "      <td>GOOGL</td>\n",
       "    </tr>\n",
       "    <tr>\n",
       "      <th>1</th>\n",
       "      <td>8/14/2012</td>\n",
       "      <td>329.95</td>\n",
       "      <td>336.76</td>\n",
       "      <td>329.83</td>\n",
       "      <td>334.66</td>\n",
       "      <td>3662178</td>\n",
       "      <td>GOOGL</td>\n",
       "    </tr>\n",
       "    <tr>\n",
       "      <th>2</th>\n",
       "      <td>8/15/2012</td>\n",
       "      <td>335.48</td>\n",
       "      <td>337.46</td>\n",
       "      <td>332.38</td>\n",
       "      <td>334.10</td>\n",
       "      <td>2411100</td>\n",
       "      <td>GOOGL</td>\n",
       "    </tr>\n",
       "    <tr>\n",
       "      <th>3</th>\n",
       "      <td>8/16/2012</td>\n",
       "      <td>334.09</td>\n",
       "      <td>337.66</td>\n",
       "      <td>333.87</td>\n",
       "      <td>336.77</td>\n",
       "      <td>1717691</td>\n",
       "      <td>GOOGL</td>\n",
       "    </tr>\n",
       "    <tr>\n",
       "      <th>4</th>\n",
       "      <td>8/17/2012</td>\n",
       "      <td>337.40</td>\n",
       "      <td>338.96</td>\n",
       "      <td>336.19</td>\n",
       "      <td>338.91</td>\n",
       "      <td>2177896</td>\n",
       "      <td>GOOGL</td>\n",
       "    </tr>\n",
       "  </tbody>\n",
       "</table>\n",
       "</div>"
      ],
      "text/plain": [
       "        Date    Open    High     Low   Close   Volume   Name\n",
       "0  8/13/2012  324.03  330.41  323.66  330.34  3268073  GOOGL\n",
       "1  8/14/2012  329.95  336.76  329.83  334.66  3662178  GOOGL\n",
       "2  8/15/2012  335.48  337.46  332.38  334.10  2411100  GOOGL\n",
       "3  8/16/2012  334.09  337.66  333.87  336.77  1717691  GOOGL\n",
       "4  8/17/2012  337.40  338.96  336.19  338.91  2177896  GOOGL"
      ]
     },
     "execution_count": 3,
     "metadata": {},
     "output_type": "execute_result"
    }
   ],
   "source": [
    "# Copy a dataframe of the original data to manipulate\n",
    "data = original\n",
    "\n",
    "# Print the headers of the dataframe\n",
    "data.head()"
   ]
  },
  {
   "cell_type": "code",
   "execution_count": 4,
   "metadata": {},
   "outputs": [
    {
     "data": {
      "text/html": [
       "<div>\n",
       "<style>\n",
       "    .dataframe thead tr:only-child th {\n",
       "        text-align: right;\n",
       "    }\n",
       "\n",
       "    .dataframe thead th {\n",
       "        text-align: left;\n",
       "    }\n",
       "\n",
       "    .dataframe tbody tr th {\n",
       "        vertical-align: top;\n",
       "    }\n",
       "</style>\n",
       "<table border=\"1\" class=\"dataframe\">\n",
       "  <thead>\n",
       "    <tr style=\"text-align: right;\">\n",
       "      <th></th>\n",
       "      <th>Date</th>\n",
       "      <th>Open</th>\n",
       "      <th>High</th>\n",
       "      <th>Low</th>\n",
       "      <th>Close</th>\n",
       "      <th>Volume</th>\n",
       "      <th>Name</th>\n",
       "    </tr>\n",
       "  </thead>\n",
       "  <tbody>\n",
       "    <tr>\n",
       "      <th>1253</th>\n",
       "      <td>8/7/2017</td>\n",
       "      <td>947.52</td>\n",
       "      <td>948.96</td>\n",
       "      <td>943.50</td>\n",
       "      <td>945.75</td>\n",
       "      <td>1445754</td>\n",
       "      <td>GOOGL</td>\n",
       "    </tr>\n",
       "    <tr>\n",
       "      <th>1254</th>\n",
       "      <td>8/8/2017</td>\n",
       "      <td>944.29</td>\n",
       "      <td>952.49</td>\n",
       "      <td>942.48</td>\n",
       "      <td>944.19</td>\n",
       "      <td>1505064</td>\n",
       "      <td>GOOGL</td>\n",
       "    </tr>\n",
       "    <tr>\n",
       "      <th>1255</th>\n",
       "      <td>8/9/2017</td>\n",
       "      <td>938.45</td>\n",
       "      <td>943.76</td>\n",
       "      <td>933.92</td>\n",
       "      <td>940.08</td>\n",
       "      <td>1400852</td>\n",
       "      <td>GOOGL</td>\n",
       "    </tr>\n",
       "    <tr>\n",
       "      <th>1256</th>\n",
       "      <td>8/10/2017</td>\n",
       "      <td>935.00</td>\n",
       "      <td>936.30</td>\n",
       "      <td>921.78</td>\n",
       "      <td>923.59</td>\n",
       "      <td>2707393</td>\n",
       "      <td>GOOGL</td>\n",
       "    </tr>\n",
       "    <tr>\n",
       "      <th>1257</th>\n",
       "      <td>8/11/2017</td>\n",
       "      <td>923.71</td>\n",
       "      <td>933.36</td>\n",
       "      <td>921.22</td>\n",
       "      <td>930.09</td>\n",
       "      <td>1616708</td>\n",
       "      <td>GOOGL</td>\n",
       "    </tr>\n",
       "  </tbody>\n",
       "</table>\n",
       "</div>"
      ],
      "text/plain": [
       "           Date    Open    High     Low   Close   Volume   Name\n",
       "1253   8/7/2017  947.52  948.96  943.50  945.75  1445754  GOOGL\n",
       "1254   8/8/2017  944.29  952.49  942.48  944.19  1505064  GOOGL\n",
       "1255   8/9/2017  938.45  943.76  933.92  940.08  1400852  GOOGL\n",
       "1256  8/10/2017  935.00  936.30  921.78  923.59  2707393  GOOGL\n",
       "1257  8/11/2017  923.71  933.36  921.22  930.09  1616708  GOOGL"
      ]
     },
     "execution_count": 4,
     "metadata": {},
     "output_type": "execute_result"
    }
   ],
   "source": [
    "# Check the footer to make sure there are no rows of text\n",
    "data.tail()"
   ]
  },
  {
   "cell_type": "markdown",
   "metadata": {},
   "source": [
    "There are no footers that need to be excluded.\n",
    "There are 1257 rows of stock data. "
   ]
  },
  {
   "cell_type": "code",
   "execution_count": 5,
   "metadata": {},
   "outputs": [
    {
     "data": {
      "text/html": [
       "<div>\n",
       "<style>\n",
       "    .dataframe thead tr:only-child th {\n",
       "        text-align: right;\n",
       "    }\n",
       "\n",
       "    .dataframe thead th {\n",
       "        text-align: left;\n",
       "    }\n",
       "\n",
       "    .dataframe tbody tr th {\n",
       "        vertical-align: top;\n",
       "    }\n",
       "</style>\n",
       "<table border=\"1\" class=\"dataframe\">\n",
       "  <thead>\n",
       "    <tr style=\"text-align: right;\">\n",
       "      <th></th>\n",
       "      <th>Open</th>\n",
       "      <th>High</th>\n",
       "      <th>Low</th>\n",
       "      <th>Close</th>\n",
       "      <th>Volume</th>\n",
       "    </tr>\n",
       "  </thead>\n",
       "  <tbody>\n",
       "    <tr>\n",
       "      <th>count</th>\n",
       "      <td>1258.000000</td>\n",
       "      <td>1258.000000</td>\n",
       "      <td>1258.000000</td>\n",
       "      <td>1258.000000</td>\n",
       "      <td>1.258000e+03</td>\n",
       "    </tr>\n",
       "    <tr>\n",
       "      <th>mean</th>\n",
       "      <td>616.760469</td>\n",
       "      <td>621.377719</td>\n",
       "      <td>611.501638</td>\n",
       "      <td>616.599809</td>\n",
       "      <td>2.076615e+06</td>\n",
       "    </tr>\n",
       "    <tr>\n",
       "      <th>std</th>\n",
       "      <td>170.726853</td>\n",
       "      <td>171.626054</td>\n",
       "      <td>169.458607</td>\n",
       "      <td>170.631830</td>\n",
       "      <td>1.081167e+06</td>\n",
       "    </tr>\n",
       "    <tr>\n",
       "      <th>min</th>\n",
       "      <td>323.320000</td>\n",
       "      <td>326.830000</td>\n",
       "      <td>318.320000</td>\n",
       "      <td>323.910000</td>\n",
       "      <td>5.211410e+05</td>\n",
       "    </tr>\n",
       "    <tr>\n",
       "      <th>25%</th>\n",
       "      <td>510.217500</td>\n",
       "      <td>514.237500</td>\n",
       "      <td>504.365000</td>\n",
       "      <td>508.212500</td>\n",
       "      <td>1.453572e+06</td>\n",
       "    </tr>\n",
       "    <tr>\n",
       "      <th>50%</th>\n",
       "      <td>579.000000</td>\n",
       "      <td>583.625000</td>\n",
       "      <td>573.405000</td>\n",
       "      <td>579.170000</td>\n",
       "      <td>1.820138e+06</td>\n",
       "    </tr>\n",
       "    <tr>\n",
       "      <th>75%</th>\n",
       "      <td>758.737500</td>\n",
       "      <td>765.280000</td>\n",
       "      <td>754.065000</td>\n",
       "      <td>759.822500</td>\n",
       "      <td>2.343574e+06</td>\n",
       "    </tr>\n",
       "    <tr>\n",
       "      <th>max</th>\n",
       "      <td>1005.490000</td>\n",
       "      <td>1008.610000</td>\n",
       "      <td>996.620000</td>\n",
       "      <td>1004.280000</td>\n",
       "      <td>1.285814e+07</td>\n",
       "    </tr>\n",
       "  </tbody>\n",
       "</table>\n",
       "</div>"
      ],
      "text/plain": [
       "              Open         High          Low        Close        Volume\n",
       "count  1258.000000  1258.000000  1258.000000  1258.000000  1.258000e+03\n",
       "mean    616.760469   621.377719   611.501638   616.599809  2.076615e+06\n",
       "std     170.726853   171.626054   169.458607   170.631830  1.081167e+06\n",
       "min     323.320000   326.830000   318.320000   323.910000  5.211410e+05\n",
       "25%     510.217500   514.237500   504.365000   508.212500  1.453572e+06\n",
       "50%     579.000000   583.625000   573.405000   579.170000  1.820138e+06\n",
       "75%     758.737500   765.280000   754.065000   759.822500  2.343574e+06\n",
       "max    1005.490000  1008.610000   996.620000  1004.280000  1.285814e+07"
      ]
     },
     "execution_count": 5,
     "metadata": {},
     "output_type": "execute_result"
    }
   ],
   "source": [
    "# The describe method provides some additional information about the data\n",
    "data.describe()"
   ]
  },
  {
   "cell_type": "code",
   "execution_count": 6,
   "metadata": {},
   "outputs": [
    {
     "name": "stdout",
     "output_type": "stream",
     "text": [
      "Date       object\n",
      "Open      float64\n",
      "High      float64\n",
      "Low       float64\n",
      "Close     float64\n",
      "Volume      int64\n",
      "Name       object\n",
      "dtype: object\n"
     ]
    }
   ],
   "source": [
    "# The dtypes call will display the data types. \n",
    "# This is used to make sure all numerical values have the correct data type to work with in the models.\n",
    "print(data.dtypes)"
   ]
  },
  {
   "cell_type": "markdown",
   "metadata": {},
   "source": [
    "The dataset appears to be clean and easy to work with.\n",
    "\n",
    "Observe the correlations between columns by using seaborn's heatmap."
   ]
  },
  {
   "cell_type": "code",
   "execution_count": 7,
   "metadata": {},
   "outputs": [
    {
     "data": {
      "image/png": "iVBORw0KGgoAAAANSUhEUgAAAlwAAAIHCAYAAABKVYKEAAAABHNCSVQICAgIfAhkiAAAAAlwSFlz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\nCwCgyjRcAABVpuECAKiy/w9o5DA6ld290gAAAABJRU5ErkJggg==\n",
      "text/plain": [
<<<<<<< HEAD
       "<matplotlib.figure.Figure at 0x2c57f5bfef0>"
=======
       "<matplotlib.figure.Figure at 0x24aac2accf8>"
>>>>>>> c87489672007802cff7c1eb36ac87f817b4f4b4d
      ]
     },
     "metadata": {},
     "output_type": "display_data"
    }
   ],
   "source": [
    "# Create a heatmap to compare the correlation of the columns.\n",
    "import seaborn as sns\n",
    "\n",
    "corrmat = data.corr()\n",
    "\n",
    "# Set up the matplotlib figure.\n",
    "f, ax = plt.subplots(figsize=(12, 9))\n",
    "\n",
    "# Draw the heatmap using seaborn\n",
    "sns.heatmap(corrmat, vmax=.8, square=True)\n",
    "plt.show()"
   ]
  },
  {
   "cell_type": "markdown",
   "metadata": {},
   "source": [
    "As expected, the values are highly correlated. Creating prediction models based off of time-series data will not be helpful in reaching the goal of this project (to determine whether to buy or sell the at the next opening day). \n",
    "\n",
    "Features will need to be created to generate accurate predictions from the models. "
   ]
  },
  {
   "cell_type": "code",
   "execution_count": 8,
   "metadata": {},
   "outputs": [
    {
     "data": {
      "text/html": [
       "<div>\n",
       "<style>\n",
       "    .dataframe thead tr:only-child th {\n",
       "        text-align: right;\n",
       "    }\n",
       "\n",
       "    .dataframe thead th {\n",
       "        text-align: left;\n",
       "    }\n",
       "\n",
       "    .dataframe tbody tr th {\n",
       "        vertical-align: top;\n",
       "    }\n",
       "</style>\n",
       "<table border=\"1\" class=\"dataframe\">\n",
       "  <thead>\n",
       "    <tr style=\"text-align: right;\">\n",
       "      <th></th>\n",
       "      <th>Date</th>\n",
       "      <th>Open</th>\n",
       "      <th>High</th>\n",
       "      <th>Low</th>\n",
       "      <th>Close</th>\n",
       "      <th>Volume</th>\n",
       "      <th>Name</th>\n",
       "      <th>Momentum</th>\n",
       "    </tr>\n",
       "  </thead>\n",
       "  <tbody>\n",
       "    <tr>\n",
       "      <th>0</th>\n",
       "      <td>8/13/2012</td>\n",
       "      <td>324.03</td>\n",
       "      <td>330.41</td>\n",
       "      <td>323.66</td>\n",
       "      <td>330.34</td>\n",
       "      <td>3268073</td>\n",
       "      <td>GOOGL</td>\n",
       "      <td>0</td>\n",
       "    </tr>\n",
       "    <tr>\n",
       "      <th>1</th>\n",
       "      <td>8/14/2012</td>\n",
       "      <td>329.95</td>\n",
       "      <td>336.76</td>\n",
       "      <td>329.83</td>\n",
       "      <td>334.66</td>\n",
       "      <td>3662178</td>\n",
       "      <td>GOOGL</td>\n",
       "      <td>1</td>\n",
       "    </tr>\n",
       "    <tr>\n",
       "      <th>2</th>\n",
       "      <td>8/15/2012</td>\n",
       "      <td>335.48</td>\n",
       "      <td>337.46</td>\n",
       "      <td>332.38</td>\n",
       "      <td>334.10</td>\n",
       "      <td>2411100</td>\n",
       "      <td>GOOGL</td>\n",
       "      <td>-1</td>\n",
       "    </tr>\n",
       "    <tr>\n",
       "      <th>3</th>\n",
       "      <td>8/16/2012</td>\n",
       "      <td>334.09</td>\n",
       "      <td>337.66</td>\n",
       "      <td>333.87</td>\n",
       "      <td>336.77</td>\n",
       "      <td>1717691</td>\n",
       "      <td>GOOGL</td>\n",
       "      <td>1</td>\n",
       "    </tr>\n",
       "    <tr>\n",
       "      <th>4</th>\n",
       "      <td>8/17/2012</td>\n",
       "      <td>337.40</td>\n",
       "      <td>338.96</td>\n",
       "      <td>336.19</td>\n",
       "      <td>338.91</td>\n",
       "      <td>2177896</td>\n",
       "      <td>GOOGL</td>\n",
       "      <td>1</td>\n",
       "    </tr>\n",
       "  </tbody>\n",
       "</table>\n",
       "</div>"
      ],
      "text/plain": [
       "        Date    Open    High     Low   Close   Volume   Name  Momentum\n",
       "0  8/13/2012  324.03  330.41  323.66  330.34  3268073  GOOGL         0\n",
       "1  8/14/2012  329.95  336.76  329.83  334.66  3662178  GOOGL         1\n",
       "2  8/15/2012  335.48  337.46  332.38  334.10  2411100  GOOGL        -1\n",
       "3  8/16/2012  334.09  337.66  333.87  336.77  1717691  GOOGL         1\n",
       "4  8/17/2012  337.40  338.96  336.19  338.91  2177896  GOOGL         1"
      ]
     },
     "execution_count": 8,
     "metadata": {},
     "output_type": "execute_result"
    }
   ],
   "source": [
    "# The momentum will show how many days in a row the stock has moved up or down. \n",
    "\n",
    "# Create a list to store the momentum\n",
    "momentum = [0]\n",
    "i=1\n",
    "# Calculate the momentums and store them in the new column, 'Momentum'\n",
    "for row in data['Close']:\n",
    "    if i < len(data):\n",
    "        if data.Close[i] > data.Close[i-1]:\n",
    "            momentum.append(+1)\n",
    "            i = i+1\n",
    "        elif data.Close[i] < data.Close[i-1]:\n",
    "            momentum.append(-1)\n",
    "            i = i+1\n",
    "\n",
    "data['Momentum'] = momentum\n",
    "data.head()"
   ]
  },
  {
   "cell_type": "code",
   "execution_count": 9,
   "metadata": {},
   "outputs": [
    {
     "name": "stdout",
     "output_type": "stream",
     "text": [
      "61\n",
      "0.04848966613672496\n"
     ]
    }
   ],
   "source": [
    "# Print out the total momentum and the average momentum across all rows.\n",
    "total_mom = sum(data.Momentum)\n",
    "print(total_mom)\n",
    "ave_mom = data.Momentum.mean()\n",
    "print(ave_mom)"
   ]
  },
  {
   "cell_type": "code",
   "execution_count": 10,
   "metadata": {},
   "outputs": [
    {
     "data": {
      "text/html": [
       "<div>\n",
       "<style>\n",
       "    .dataframe thead tr:only-child th {\n",
       "        text-align: right;\n",
       "    }\n",
       "\n",
       "    .dataframe thead th {\n",
       "        text-align: left;\n",
       "    }\n",
       "\n",
       "    .dataframe tbody tr th {\n",
       "        vertical-align: top;\n",
       "    }\n",
       "</style>\n",
       "<table border=\"1\" class=\"dataframe\">\n",
       "  <thead>\n",
       "    <tr style=\"text-align: right;\">\n",
       "      <th></th>\n",
       "      <th>Date</th>\n",
       "      <th>Open</th>\n",
       "      <th>High</th>\n",
       "      <th>Low</th>\n",
       "      <th>Close</th>\n",
       "      <th>Volume</th>\n",
       "      <th>Name</th>\n",
       "      <th>Momentum</th>\n",
       "      <th>Streak</th>\n",
       "    </tr>\n",
       "  </thead>\n",
       "  <tbody>\n",
       "    <tr>\n",
       "      <th>0</th>\n",
       "      <td>8/13/2012</td>\n",
       "      <td>324.03</td>\n",
       "      <td>330.41</td>\n",
       "      <td>323.66</td>\n",
       "      <td>330.34</td>\n",
       "      <td>3268073</td>\n",
       "      <td>GOOGL</td>\n",
       "      <td>0</td>\n",
       "      <td>0</td>\n",
       "    </tr>\n",
       "    <tr>\n",
       "      <th>1</th>\n",
       "      <td>8/14/2012</td>\n",
       "      <td>329.95</td>\n",
       "      <td>336.76</td>\n",
       "      <td>329.83</td>\n",
       "      <td>334.66</td>\n",
       "      <td>3662178</td>\n",
       "      <td>GOOGL</td>\n",
       "      <td>1</td>\n",
       "      <td>1</td>\n",
       "    </tr>\n",
       "    <tr>\n",
       "      <th>2</th>\n",
       "      <td>8/15/2012</td>\n",
       "      <td>335.48</td>\n",
       "      <td>337.46</td>\n",
       "      <td>332.38</td>\n",
       "      <td>334.10</td>\n",
       "      <td>2411100</td>\n",
       "      <td>GOOGL</td>\n",
       "      <td>-1</td>\n",
       "      <td>0</td>\n",
       "    </tr>\n",
       "    <tr>\n",
       "      <th>3</th>\n",
       "      <td>8/16/2012</td>\n",
       "      <td>334.09</td>\n",
       "      <td>337.66</td>\n",
       "      <td>333.87</td>\n",
       "      <td>336.77</td>\n",
       "      <td>1717691</td>\n",
       "      <td>GOOGL</td>\n",
       "      <td>1</td>\n",
       "      <td>1</td>\n",
       "    </tr>\n",
       "    <tr>\n",
       "      <th>4</th>\n",
       "      <td>8/17/2012</td>\n",
       "      <td>337.40</td>\n",
       "      <td>338.96</td>\n",
       "      <td>336.19</td>\n",
       "      <td>338.91</td>\n",
       "      <td>2177896</td>\n",
       "      <td>GOOGL</td>\n",
       "      <td>1</td>\n",
       "      <td>2</td>\n",
       "    </tr>\n",
       "  </tbody>\n",
       "</table>\n",
       "</div>"
      ],
      "text/plain": [
       "        Date    Open    High     Low   Close   Volume   Name  Momentum  Streak\n",
       "0  8/13/2012  324.03  330.41  323.66  330.34  3268073  GOOGL         0       0\n",
       "1  8/14/2012  329.95  336.76  329.83  334.66  3662178  GOOGL         1       1\n",
       "2  8/15/2012  335.48  337.46  332.38  334.10  2411100  GOOGL        -1       0\n",
       "3  8/16/2012  334.09  337.66  333.87  336.77  1717691  GOOGL         1       1\n",
       "4  8/17/2012  337.40  338.96  336.19  338.91  2177896  GOOGL         1       2"
      ]
     },
     "execution_count": 10,
     "metadata": {},
     "output_type": "execute_result"
    }
   ],
   "source": [
    "streak = [0] * len(data)\n",
    "i=1\n",
    "# Calculate the streaks and store them in the new column, 'Streak'\n",
    "for row in data['Close']:\n",
    "    if i < len(data):\n",
    "        if data.Close[i] > data.Close[i-1]:\n",
    "            if streak[i-1] >= 0:\n",
    "                streak[i] = streak[i-1]+1\n",
    "                i = i+1\n",
    "            else:\n",
    "                streak[i]=0\n",
    "                i = i+1\n",
    "        elif data.Close[i] < data.Close[i-1]:\n",
    "            if streak[i-1] <= 0:\n",
    "                streak[i] = streak[i-1]-1\n",
    "                i = i+1\n",
    "            else:\n",
    "                streak[i]=0\n",
    "                i = i+1\n",
    "\n",
    "data['Streak'] = streak\n",
    "data.head()"
   ]
  },
  {
   "cell_type": "code",
   "execution_count": 11,
   "metadata": {},
   "outputs": [
    {
     "data": {
      "text/html": [
       "<div>\n",
       "<style>\n",
       "    .dataframe thead tr:only-child th {\n",
       "        text-align: right;\n",
       "    }\n",
       "\n",
       "    .dataframe thead th {\n",
       "        text-align: left;\n",
       "    }\n",
       "\n",
       "    .dataframe tbody tr th {\n",
       "        vertical-align: top;\n",
       "    }\n",
       "</style>\n",
       "<table border=\"1\" class=\"dataframe\">\n",
       "  <thead>\n",
       "    <tr style=\"text-align: right;\">\n",
       "      <th></th>\n",
       "      <th>Date</th>\n",
       "      <th>Open</th>\n",
       "      <th>High</th>\n",
       "      <th>Low</th>\n",
       "      <th>Close</th>\n",
       "      <th>Volume</th>\n",
       "      <th>Name</th>\n",
       "      <th>Momentum</th>\n",
       "      <th>Streak</th>\n",
       "      <th>Future Momentum</th>\n",
       "    </tr>\n",
       "  </thead>\n",
       "  <tbody>\n",
       "    <tr>\n",
       "      <th>0</th>\n",
       "      <td>8/13/2012</td>\n",
       "      <td>324.03</td>\n",
       "      <td>330.41</td>\n",
       "      <td>323.66</td>\n",
       "      <td>330.34</td>\n",
       "      <td>3268073</td>\n",
       "      <td>GOOGL</td>\n",
       "      <td>0</td>\n",
       "      <td>0</td>\n",
       "      <td>1.0</td>\n",
       "    </tr>\n",
       "    <tr>\n",
       "      <th>1</th>\n",
       "      <td>8/14/2012</td>\n",
       "      <td>329.95</td>\n",
       "      <td>336.76</td>\n",
       "      <td>329.83</td>\n",
       "      <td>334.66</td>\n",
       "      <td>3662178</td>\n",
       "      <td>GOOGL</td>\n",
       "      <td>1</td>\n",
       "      <td>1</td>\n",
       "      <td>-1.0</td>\n",
       "    </tr>\n",
       "    <tr>\n",
       "      <th>2</th>\n",
       "      <td>8/15/2012</td>\n",
       "      <td>335.48</td>\n",
       "      <td>337.46</td>\n",
       "      <td>332.38</td>\n",
       "      <td>334.10</td>\n",
       "      <td>2411100</td>\n",
       "      <td>GOOGL</td>\n",
       "      <td>-1</td>\n",
       "      <td>0</td>\n",
       "      <td>1.0</td>\n",
       "    </tr>\n",
       "    <tr>\n",
       "      <th>3</th>\n",
       "      <td>8/16/2012</td>\n",
       "      <td>334.09</td>\n",
       "      <td>337.66</td>\n",
       "      <td>333.87</td>\n",
       "      <td>336.77</td>\n",
       "      <td>1717691</td>\n",
       "      <td>GOOGL</td>\n",
       "      <td>1</td>\n",
       "      <td>1</td>\n",
       "      <td>1.0</td>\n",
       "    </tr>\n",
       "    <tr>\n",
       "      <th>4</th>\n",
       "      <td>8/17/2012</td>\n",
       "      <td>337.40</td>\n",
       "      <td>338.96</td>\n",
       "      <td>336.19</td>\n",
       "      <td>338.91</td>\n",
       "      <td>2177896</td>\n",
       "      <td>GOOGL</td>\n",
       "      <td>1</td>\n",
       "      <td>2</td>\n",
       "      <td>-1.0</td>\n",
       "    </tr>\n",
       "  </tbody>\n",
       "</table>\n",
       "</div>"
      ],
      "text/plain": [
       "        Date    Open    High     Low   Close   Volume   Name  Momentum  \\\n",
       "0  8/13/2012  324.03  330.41  323.66  330.34  3268073  GOOGL         0   \n",
       "1  8/14/2012  329.95  336.76  329.83  334.66  3662178  GOOGL         1   \n",
       "2  8/15/2012  335.48  337.46  332.38  334.10  2411100  GOOGL        -1   \n",
       "3  8/16/2012  334.09  337.66  333.87  336.77  1717691  GOOGL         1   \n",
       "4  8/17/2012  337.40  338.96  336.19  338.91  2177896  GOOGL         1   \n",
       "\n",
       "   Streak  Future Momentum  \n",
       "0       0              1.0  \n",
       "1       1             -1.0  \n",
       "2       0              1.0  \n",
       "3       1              1.0  \n",
       "4       2             -1.0  "
      ]
     },
     "execution_count": 11,
     "metadata": {},
     "output_type": "execute_result"
    }
   ],
   "source": [
    "# Create a 'Future Momentum' feature that the model will attempt to predict.\n",
    "data['Future Momentum'] = data.Momentum.shift(-1)\n",
    "data.head()"
   ]
  },
  {
   "cell_type": "code",
   "execution_count": 12,
   "metadata": {},
   "outputs": [
    {
     "data": {
      "text/html": [
       "<div>\n",
       "<style>\n",
       "    .dataframe thead tr:only-child th {\n",
       "        text-align: right;\n",
       "    }\n",
       "\n",
       "    .dataframe thead th {\n",
       "        text-align: left;\n",
       "    }\n",
       "\n",
       "    .dataframe tbody tr th {\n",
       "        vertical-align: top;\n",
       "    }\n",
       "</style>\n",
       "<table border=\"1\" class=\"dataframe\">\n",
       "  <thead>\n",
       "    <tr style=\"text-align: right;\">\n",
       "      <th></th>\n",
       "      <th>Date</th>\n",
       "      <th>Open</th>\n",
       "      <th>High</th>\n",
       "      <th>Low</th>\n",
       "      <th>Close</th>\n",
       "      <th>Volume</th>\n",
       "      <th>Name</th>\n",
       "      <th>Momentum</th>\n",
       "      <th>Streak</th>\n",
       "      <th>Future Momentum</th>\n",
       "    </tr>\n",
       "  </thead>\n",
       "  <tbody>\n",
       "    <tr>\n",
       "      <th>1253</th>\n",
       "      <td>8/7/2017</td>\n",
       "      <td>947.52</td>\n",
       "      <td>948.96</td>\n",
       "      <td>943.50</td>\n",
       "      <td>945.75</td>\n",
       "      <td>1445754</td>\n",
       "      <td>GOOGL</td>\n",
       "      <td>-1</td>\n",
       "      <td>0</td>\n",
       "      <td>-1.0</td>\n",
       "    </tr>\n",
       "    <tr>\n",
       "      <th>1254</th>\n",
       "      <td>8/8/2017</td>\n",
       "      <td>944.29</td>\n",
       "      <td>952.49</td>\n",
       "      <td>942.48</td>\n",
       "      <td>944.19</td>\n",
       "      <td>1505064</td>\n",
       "      <td>GOOGL</td>\n",
       "      <td>-1</td>\n",
       "      <td>-1</td>\n",
       "      <td>-1.0</td>\n",
       "    </tr>\n",
       "    <tr>\n",
       "      <th>1255</th>\n",
       "      <td>8/9/2017</td>\n",
       "      <td>938.45</td>\n",
       "      <td>943.76</td>\n",
       "      <td>933.92</td>\n",
       "      <td>940.08</td>\n",
       "      <td>1400852</td>\n",
       "      <td>GOOGL</td>\n",
       "      <td>-1</td>\n",
       "      <td>-2</td>\n",
       "      <td>-1.0</td>\n",
       "    </tr>\n",
       "    <tr>\n",
       "      <th>1256</th>\n",
       "      <td>8/10/2017</td>\n",
       "      <td>935.00</td>\n",
       "      <td>936.30</td>\n",
       "      <td>921.78</td>\n",
       "      <td>923.59</td>\n",
       "      <td>2707393</td>\n",
       "      <td>GOOGL</td>\n",
       "      <td>-1</td>\n",
       "      <td>-3</td>\n",
       "      <td>1.0</td>\n",
       "    </tr>\n",
       "    <tr>\n",
       "      <th>1257</th>\n",
       "      <td>8/11/2017</td>\n",
       "      <td>923.71</td>\n",
       "      <td>933.36</td>\n",
       "      <td>921.22</td>\n",
       "      <td>930.09</td>\n",
       "      <td>1616708</td>\n",
       "      <td>GOOGL</td>\n",
       "      <td>1</td>\n",
       "      <td>0</td>\n",
       "      <td>NaN</td>\n",
       "    </tr>\n",
       "  </tbody>\n",
       "</table>\n",
       "</div>"
      ],
      "text/plain": [
       "           Date    Open    High     Low   Close   Volume   Name  Momentum  \\\n",
       "1253   8/7/2017  947.52  948.96  943.50  945.75  1445754  GOOGL        -1   \n",
       "1254   8/8/2017  944.29  952.49  942.48  944.19  1505064  GOOGL        -1   \n",
       "1255   8/9/2017  938.45  943.76  933.92  940.08  1400852  GOOGL        -1   \n",
       "1256  8/10/2017  935.00  936.30  921.78  923.59  2707393  GOOGL        -1   \n",
       "1257  8/11/2017  923.71  933.36  921.22  930.09  1616708  GOOGL         1   \n",
       "\n",
       "      Streak  Future Momentum  \n",
       "1253       0             -1.0  \n",
       "1254      -1             -1.0  \n",
       "1255      -2             -1.0  \n",
       "1256      -3              1.0  \n",
       "1257       0              NaN  "
      ]
     },
     "execution_count": 12,
     "metadata": {},
     "output_type": "execute_result"
    }
   ],
   "source": [
    "data.tail()"
   ]
  },
  {
   "cell_type": "code",
   "execution_count": 13,
   "metadata": {
    "collapsed": true
   },
   "outputs": [],
   "source": [
    "# Drop the last row to get rid of the NaN values\n",
    "data = data.iloc[:len(data)-1,:]"
   ]
  },
  {
   "cell_type": "code",
   "execution_count": 14,
   "metadata": {},
   "outputs": [
    {
     "data": {
      "text/html": [
       "<div>\n",
       "<style>\n",
       "    .dataframe thead tr:only-child th {\n",
       "        text-align: right;\n",
       "    }\n",
       "\n",
       "    .dataframe thead th {\n",
       "        text-align: left;\n",
       "    }\n",
       "\n",
       "    .dataframe tbody tr th {\n",
       "        vertical-align: top;\n",
       "    }\n",
       "</style>\n",
       "<table border=\"1\" class=\"dataframe\">\n",
       "  <thead>\n",
       "    <tr style=\"text-align: right;\">\n",
       "      <th></th>\n",
       "      <th>Date</th>\n",
       "      <th>Open</th>\n",
       "      <th>High</th>\n",
       "      <th>Low</th>\n",
       "      <th>Close</th>\n",
       "      <th>Volume</th>\n",
       "      <th>Name</th>\n",
       "      <th>Momentum</th>\n",
       "      <th>Streak</th>\n",
       "      <th>Future Momentum</th>\n",
       "    </tr>\n",
       "  </thead>\n",
       "  <tbody>\n",
       "    <tr>\n",
       "      <th>1252</th>\n",
       "      <td>8/4/2017</td>\n",
       "      <td>943.95</td>\n",
       "      <td>947.54</td>\n",
       "      <td>939.80</td>\n",
       "      <td>945.79</td>\n",
       "      <td>1254574</td>\n",
       "      <td>GOOGL</td>\n",
       "      <td>1</td>\n",
       "      <td>1</td>\n",
       "      <td>-1.0</td>\n",
       "    </tr>\n",
       "    <tr>\n",
       "      <th>1253</th>\n",
       "      <td>8/7/2017</td>\n",
       "      <td>947.52</td>\n",
       "      <td>948.96</td>\n",
       "      <td>943.50</td>\n",
       "      <td>945.75</td>\n",
       "      <td>1445754</td>\n",
       "      <td>GOOGL</td>\n",
       "      <td>-1</td>\n",
       "      <td>0</td>\n",
       "      <td>-1.0</td>\n",
       "    </tr>\n",
       "    <tr>\n",
       "      <th>1254</th>\n",
       "      <td>8/8/2017</td>\n",
       "      <td>944.29</td>\n",
       "      <td>952.49</td>\n",
       "      <td>942.48</td>\n",
       "      <td>944.19</td>\n",
       "      <td>1505064</td>\n",
       "      <td>GOOGL</td>\n",
       "      <td>-1</td>\n",
       "      <td>-1</td>\n",
       "      <td>-1.0</td>\n",
       "    </tr>\n",
       "    <tr>\n",
       "      <th>1255</th>\n",
       "      <td>8/9/2017</td>\n",
       "      <td>938.45</td>\n",
       "      <td>943.76</td>\n",
       "      <td>933.92</td>\n",
       "      <td>940.08</td>\n",
       "      <td>1400852</td>\n",
       "      <td>GOOGL</td>\n",
       "      <td>-1</td>\n",
       "      <td>-2</td>\n",
       "      <td>-1.0</td>\n",
       "    </tr>\n",
       "    <tr>\n",
       "      <th>1256</th>\n",
       "      <td>8/10/2017</td>\n",
       "      <td>935.00</td>\n",
       "      <td>936.30</td>\n",
       "      <td>921.78</td>\n",
       "      <td>923.59</td>\n",
       "      <td>2707393</td>\n",
       "      <td>GOOGL</td>\n",
       "      <td>-1</td>\n",
       "      <td>-3</td>\n",
       "      <td>1.0</td>\n",
       "    </tr>\n",
       "  </tbody>\n",
       "</table>\n",
       "</div>"
      ],
      "text/plain": [
       "           Date    Open    High     Low   Close   Volume   Name  Momentum  \\\n",
       "1252   8/4/2017  943.95  947.54  939.80  945.79  1254574  GOOGL         1   \n",
       "1253   8/7/2017  947.52  948.96  943.50  945.75  1445754  GOOGL        -1   \n",
       "1254   8/8/2017  944.29  952.49  942.48  944.19  1505064  GOOGL        -1   \n",
       "1255   8/9/2017  938.45  943.76  933.92  940.08  1400852  GOOGL        -1   \n",
       "1256  8/10/2017  935.00  936.30  921.78  923.59  2707393  GOOGL        -1   \n",
       "\n",
       "      Streak  Future Momentum  \n",
       "1252       1             -1.0  \n",
       "1253       0             -1.0  \n",
       "1254      -1             -1.0  \n",
       "1255      -2             -1.0  \n",
       "1256      -3              1.0  "
      ]
     },
     "execution_count": 14,
     "metadata": {},
     "output_type": "execute_result"
    }
   ],
   "source": [
    "# Look at the tail to make sure the data looks good\n",
    "data.tail()"
   ]
  },
  {
   "cell_type": "code",
   "execution_count": 15,
   "metadata": {},
   "outputs": [
    {
<<<<<<< HEAD
     "data": {
      "image/png": "iVBORw0KGgoAAAANSUhEUgAAAlwAAAInCAYAAABN+YeyAAAABHNCSVQICAgIfAhkiAAAAAlwSFlz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\nFESEygAAAABJRU5ErkJggg==\n",
      "text/plain": [
       "<matplotlib.figure.Figure at 0x2c57fdf96d8>"
=======
     "name": "stderr",
     "output_type": "stream",
     "text": [
      "C:\\Users\\maken\\Anaconda3\\lib\\site-packages\\ipykernel_launcher.py:11: SettingWithCopyWarning: \n",
      "A value is trying to be set on a copy of a slice from a DataFrame.\n",
      "Try using .loc[row_indexer,col_indexer] = value instead\n",
      "\n",
      "See the caveats in the documentation: http://pandas.pydata.org/pandas-docs/stable/indexing.html#indexing-view-versus-copy\n",
      "  # This is added back by InteractiveShellApp.init_path()\n"
     ]
    },
    {
     "data": {
      "text/html": [
       "<div>\n",
       "<style>\n",
       "    .dataframe thead tr:only-child th {\n",
       "        text-align: right;\n",
       "    }\n",
       "\n",
       "    .dataframe thead th {\n",
       "        text-align: left;\n",
       "    }\n",
       "\n",
       "    .dataframe tbody tr th {\n",
       "        vertical-align: top;\n",
       "    }\n",
       "</style>\n",
       "<table border=\"1\" class=\"dataframe\">\n",
       "  <thead>\n",
       "    <tr style=\"text-align: right;\">\n",
       "      <th></th>\n",
       "      <th>Date</th>\n",
       "      <th>Open</th>\n",
       "      <th>High</th>\n",
       "      <th>Low</th>\n",
       "      <th>Close</th>\n",
       "      <th>Volume</th>\n",
       "      <th>Name</th>\n",
       "      <th>Momentum</th>\n",
       "      <th>Streak</th>\n",
       "      <th>Future Momentum</th>\n",
       "      <th>Ten Day Average</th>\n",
       "    </tr>\n",
       "  </thead>\n",
       "  <tbody>\n",
       "    <tr>\n",
       "      <th>0</th>\n",
       "      <td>8/13/2012</td>\n",
       "      <td>324.03</td>\n",
       "      <td>330.41</td>\n",
       "      <td>323.66</td>\n",
       "      <td>330.34</td>\n",
       "      <td>3268073</td>\n",
       "      <td>GOOGL</td>\n",
       "      <td>0</td>\n",
       "      <td>0</td>\n",
       "      <td>1.0</td>\n",
       "      <td>0.0</td>\n",
       "    </tr>\n",
       "    <tr>\n",
       "      <th>1</th>\n",
       "      <td>8/14/2012</td>\n",
       "      <td>329.95</td>\n",
       "      <td>336.76</td>\n",
       "      <td>329.83</td>\n",
       "      <td>334.66</td>\n",
       "      <td>3662178</td>\n",
       "      <td>GOOGL</td>\n",
       "      <td>1</td>\n",
       "      <td>1</td>\n",
       "      <td>-1.0</td>\n",
       "      <td>0.0</td>\n",
       "    </tr>\n",
       "    <tr>\n",
       "      <th>2</th>\n",
       "      <td>8/15/2012</td>\n",
       "      <td>335.48</td>\n",
       "      <td>337.46</td>\n",
       "      <td>332.38</td>\n",
       "      <td>334.10</td>\n",
       "      <td>2411100</td>\n",
       "      <td>GOOGL</td>\n",
       "      <td>-1</td>\n",
       "      <td>0</td>\n",
       "      <td>1.0</td>\n",
       "      <td>0.0</td>\n",
       "    </tr>\n",
       "    <tr>\n",
       "      <th>3</th>\n",
       "      <td>8/16/2012</td>\n",
       "      <td>334.09</td>\n",
       "      <td>337.66</td>\n",
       "      <td>333.87</td>\n",
       "      <td>336.77</td>\n",
       "      <td>1717691</td>\n",
       "      <td>GOOGL</td>\n",
       "      <td>1</td>\n",
       "      <td>1</td>\n",
       "      <td>1.0</td>\n",
       "      <td>0.0</td>\n",
       "    </tr>\n",
       "    <tr>\n",
       "      <th>4</th>\n",
       "      <td>8/17/2012</td>\n",
       "      <td>337.40</td>\n",
       "      <td>338.96</td>\n",
       "      <td>336.19</td>\n",
       "      <td>338.91</td>\n",
       "      <td>2177896</td>\n",
       "      <td>GOOGL</td>\n",
       "      <td>1</td>\n",
       "      <td>2</td>\n",
       "      <td>-1.0</td>\n",
       "      <td>0.0</td>\n",
       "    </tr>\n",
       "  </tbody>\n",
       "</table>\n",
       "</div>"
      ],
      "text/plain": [
       "        Date    Open    High     Low   Close   Volume   Name  Momentum  \\\n",
       "0  8/13/2012  324.03  330.41  323.66  330.34  3268073  GOOGL         0   \n",
       "1  8/14/2012  329.95  336.76  329.83  334.66  3662178  GOOGL         1   \n",
       "2  8/15/2012  335.48  337.46  332.38  334.10  2411100  GOOGL        -1   \n",
       "3  8/16/2012  334.09  337.66  333.87  336.77  1717691  GOOGL         1   \n",
       "4  8/17/2012  337.40  338.96  336.19  338.91  2177896  GOOGL         1   \n",
       "\n",
       "   Streak  Future Momentum  Ten Day Average  \n",
       "0       0              1.0              0.0  \n",
       "1       1             -1.0              0.0  \n",
       "2       0              1.0              0.0  \n",
       "3       1              1.0              0.0  \n",
       "4       2             -1.0              0.0  "
      ]
     },
     "execution_count": 15,
     "metadata": {},
     "output_type": "execute_result"
    }
   ],
   "source": [
    "# Make a new dataframe to store the extra feature\n",
    "new_data = data\n",
    "\n",
    "# Make a feature for the ten day average\n",
    "ten_ave = [0] * len(data)\n",
    "\n",
    "# Calculate the ten day averages and store them in the new column, 'Ten Day Average'\n",
    "for i in range(9,len(new_data)):\n",
    "    ten_ave[i] = new_data.Close[i-9:i].mean()\n",
    "\n",
    "new_data['Ten Day Average'] = ten_ave\n",
    "\n",
    "new_data.head()"
   ]
  },
  {
   "cell_type": "code",
   "execution_count": 16,
   "metadata": {},
   "outputs": [
    {
     "data": {
      "text/html": [
       "<div>\n",
       "<style>\n",
       "    .dataframe thead tr:only-child th {\n",
       "        text-align: right;\n",
       "    }\n",
       "\n",
       "    .dataframe thead th {\n",
       "        text-align: left;\n",
       "    }\n",
       "\n",
       "    .dataframe tbody tr th {\n",
       "        vertical-align: top;\n",
       "    }\n",
       "</style>\n",
       "<table border=\"1\" class=\"dataframe\">\n",
       "  <thead>\n",
       "    <tr style=\"text-align: right;\">\n",
       "      <th></th>\n",
       "      <th>Date</th>\n",
       "      <th>Open</th>\n",
       "      <th>High</th>\n",
       "      <th>Low</th>\n",
       "      <th>Close</th>\n",
       "      <th>Volume</th>\n",
       "      <th>Name</th>\n",
       "      <th>Momentum</th>\n",
       "      <th>Streak</th>\n",
       "      <th>Future Momentum</th>\n",
       "      <th>Ten Day Average</th>\n",
       "    </tr>\n",
       "  </thead>\n",
       "  <tbody>\n",
       "    <tr>\n",
       "      <th>9</th>\n",
       "      <td>8/24/2012</td>\n",
       "      <td>338.14</td>\n",
       "      <td>340.57</td>\n",
       "      <td>337.38</td>\n",
       "      <td>339.65</td>\n",
       "      <td>1429267</td>\n",
       "      <td>GOOGL</td>\n",
       "      <td>1</td>\n",
       "      <td>0</td>\n",
       "      <td>-1.0</td>\n",
       "      <td>336.183333</td>\n",
       "    </tr>\n",
       "    <tr>\n",
       "      <th>10</th>\n",
       "      <td>8/27/2012</td>\n",
       "      <td>331.83</td>\n",
       "      <td>336.34</td>\n",
       "      <td>329.95</td>\n",
       "      <td>334.94</td>\n",
       "      <td>2614131</td>\n",
       "      <td>GOOGL</td>\n",
       "      <td>-1</td>\n",
       "      <td>-1</td>\n",
       "      <td>1.0</td>\n",
       "      <td>337.217778</td>\n",
       "    </tr>\n",
       "    <tr>\n",
       "      <th>11</th>\n",
       "      <td>8/28/2012</td>\n",
       "      <td>332.83</td>\n",
       "      <td>339.15</td>\n",
       "      <td>332.70</td>\n",
       "      <td>338.96</td>\n",
       "      <td>2058938</td>\n",
       "      <td>GOOGL</td>\n",
       "      <td>1</td>\n",
       "      <td>0</td>\n",
       "      <td>1.0</td>\n",
       "      <td>337.248889</td>\n",
       "    </tr>\n",
       "    <tr>\n",
       "      <th>12</th>\n",
       "      <td>8/29/2012</td>\n",
       "      <td>339.02</td>\n",
       "      <td>344.84</td>\n",
       "      <td>338.41</td>\n",
       "      <td>344.35</td>\n",
       "      <td>2991037</td>\n",
       "      <td>GOOGL</td>\n",
       "      <td>1</td>\n",
       "      <td>1</td>\n",
       "      <td>-1.0</td>\n",
       "      <td>337.788889</td>\n",
       "    </tr>\n",
       "    <tr>\n",
       "      <th>13</th>\n",
       "      <td>8/30/2012</td>\n",
       "      <td>342.46</td>\n",
       "      <td>344.04</td>\n",
       "      <td>340.43</td>\n",
       "      <td>341.18</td>\n",
       "      <td>1627704</td>\n",
       "      <td>GOOGL</td>\n",
       "      <td>-1</td>\n",
       "      <td>0</td>\n",
       "      <td>1.0</td>\n",
       "      <td>338.631111</td>\n",
       "    </tr>\n",
       "  </tbody>\n",
       "</table>\n",
       "</div>"
      ],
      "text/plain": [
       "         Date    Open    High     Low   Close   Volume   Name  Momentum  \\\n",
       "9   8/24/2012  338.14  340.57  337.38  339.65  1429267  GOOGL         1   \n",
       "10  8/27/2012  331.83  336.34  329.95  334.94  2614131  GOOGL        -1   \n",
       "11  8/28/2012  332.83  339.15  332.70  338.96  2058938  GOOGL         1   \n",
       "12  8/29/2012  339.02  344.84  338.41  344.35  2991037  GOOGL         1   \n",
       "13  8/30/2012  342.46  344.04  340.43  341.18  1627704  GOOGL        -1   \n",
       "\n",
       "    Streak  Future Momentum  Ten Day Average  \n",
       "9        0             -1.0       336.183333  \n",
       "10      -1              1.0       337.217778  \n",
       "11       0              1.0       337.248889  \n",
       "12       1             -1.0       337.788889  \n",
       "13       0              1.0       338.631111  "
      ]
     },
     "execution_count": 16,
     "metadata": {},
     "output_type": "execute_result"
    }
   ],
   "source": [
    "# Drop the first nine rows to get rid of NaNs\n",
    "new_data = new_data.iloc[9:,:]\n",
    "new_data.head()"
   ]
  },
  {
   "cell_type": "code",
   "execution_count": 17,
   "metadata": {},
   "outputs": [
    {
     "data": {
      "image/png": "iVBORw0KGgoAAAANSUhEUgAAAqUAAAJQCAYAAAC3hx2YAAAABHNCSVQICAgIfAhkiAAAAAlwSFlz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\nIiISjkMpEREREQnHoZSIiIiIhPsPr5CZjIXx5mgAAAAASUVORK5CYII=\n",
      "text/plain": [
       "<matplotlib.figure.Figure at 0x24ab1d31390>"
>>>>>>> c87489672007802cff7c1eb36ac87f817b4f4b4d
      ]
     },
     "metadata": {},
     "output_type": "display_data"
    }
   ],
   "source": [
    "# Draw a heatmap to display correlation of data with new features.\n",
    "corrmat = data.corr()\n",
    "\n",
    "# Set up the matplotlib figure.\n",
    "f, ax = plt.subplots(figsize=(12, 9))\n",
    "\n",
    "# Draw the heatmap using seaborn\n",
    "sns.heatmap(corrmat, vmax=.8, square=True)\n",
    "plt.show()"
   ]
  },
  {
   "cell_type": "markdown",
   "metadata": {},
   "source": [
    "# Section 2: Creation and Comparison of Predictive Models"
   ]
  },
  {
   "cell_type": "markdown",
   "metadata": {},
   "source": [
    "Now that the data has been analyzed to ensure it can be manipulated, it is time to create some predictive models. For comparison, the scores from the models will be stored in a new table, titled \"Model Comparison.\""
   ]
  },
  {
   "cell_type": "code",
<<<<<<< HEAD
   "execution_count": 16,
   "metadata": {
    "collapsed": false
   },
=======
   "execution_count": 18,
   "metadata": {},
>>>>>>> c87489672007802cff7c1eb36ac87f817b4f4b4d
   "outputs": [
    {
     "data": {
      "text/html": [
       "<div>\n",
       "<style>\n",
       "    .dataframe thead tr:only-child th {\n",
       "        text-align: right;\n",
       "    }\n",
       "\n",
       "    .dataframe thead th {\n",
       "        text-align: left;\n",
       "    }\n",
       "\n",
       "    .dataframe tbody tr th {\n",
       "        vertical-align: top;\n",
       "    }\n",
       "</style>\n",
       "<table border=\"1\" class=\"dataframe\">\n",
       "  <thead>\n",
       "    <tr style=\"text-align: right;\">\n",
       "      <th></th>\n",
       "      <th>Model</th>\n",
       "      <th>Scoring Metric</th>\n",
       "      <th>Scoring Value</th>\n",
       "    </tr>\n",
       "  </thead>\n",
       "  <tbody>\n",
       "  </tbody>\n",
       "</table>\n",
       "</div>"
      ],
      "text/plain": [
       "Empty DataFrame\n",
       "Columns: [Model, Scoring Metric, Scoring Value]\n",
       "Index: []"
      ]
     },
     "execution_count": 16,
     "metadata": {},
     "output_type": "execute_result"
    }
   ],
   "source": [
    "# Create a table to store the scores for each model.\n",
    "# Title: Model Comparison\n",
    "# Columns: Model, R^2, Accuracy, AUROC\n",
    "# Model values: Linear Regression, Ridge Regression, Lasso Regression, Support Vector Regression, Gradient Boost Classification\n",
    "models = {'Model':[], 'Scoring Metric':[], 'Scoring Value':[]}\n",
    "columns = models.keys()\n",
    "model_comparison = pd.DataFrame(data=models, columns=columns)\n",
    "model_comparison"
   ]
  },
  {
   "cell_type": "code",
   "execution_count": 17,
   "metadata": {
    "collapsed": true
   },
   "outputs": [],
   "source": [
    "# Set the variables. \n",
    "# Use the closing value for Y\n",
    "# Use the new features for X\n",
    "Y = data['Future Momentum']\n",
    "X = data[['Close', 'Volume', 'Momentum', 'Streak']]"
   ]
  },
  {
   "cell_type": "markdown",
   "metadata": {},
   "source": [
    "# Logistic Regression"
   ]
  },
  {
   "cell_type": "code",
<<<<<<< HEAD
   "execution_count": 18,
   "metadata": {
    "collapsed": false
   },
=======
   "execution_count": 20,
   "metadata": {},
>>>>>>> c87489672007802cff7c1eb36ac87f817b4f4b4d
   "outputs": [
    {
     "name": "stdout",
     "output_type": "stream",
     "text": [
      "Confusion Matrix of the Model:\n",
      "[[  0 598]\n",
      " [  0 659]]\n",
      "Accuracy Score:\n",
      "[ 0.52380952  0.52380952  0.52380952  0.52380952  0.52380952  0.52380952\n",
      "  0.52380952  0.52380952  0.528       0.52419355]\n",
      "Average of the Accuracy Score:\n",
      "0.524266973886\n"
     ]
    }
   ],
   "source": [
    "# Declare a logistic regression classifier.\n",
    "# Larger C's lead to reduced regularization of parameters, but because there are\n",
    "#   few features, the value of C has a trivial effect (tested for many C's)\n",
    "lr = LogisticRegression(C=1e9)\n",
    "\n",
    "# Fit the model.\n",
    "lr.fit(X,Y)\n",
    "y_pred = lr.fit(X,Y).predict(X)\n",
    "\n",
    "\n",
    "print('Confusion Matrix of the Model:')\n",
    "conf_mat = confusion_matrix(Y, y_pred)\n",
    "print(conf_mat)\n",
    "\n",
    "# Use Accuracy for Logistic Regression Scoring Metric\n",
    "cv = cross_val_score(lr, X, Y, cv=10, scoring='accuracy') \n",
    "print('Accuracy Score:')\n",
    "print(cv)\n",
    "# Print the average of the R2 and store it in the table\n",
    "print('Average of the Accuracy Score:')\n",
    "print(cv.mean())\n",
    "\n",
    "# Store the data in the model_comparison table\n",
    "models = {'Model':['Logistic Regression'], 'Scoring Metric':'Accuracy', 'Scoring Value':[cv.mean()]}\n",
    "model_comparison = model_comparison.append(pd.DataFrame(data=models, columns=models.keys()), ignore_index=True)"
   ]
  },
  {
   "cell_type": "code",
<<<<<<< HEAD
   "execution_count": 19,
   "metadata": {
    "collapsed": false
   },
=======
   "execution_count": 21,
   "metadata": {},
>>>>>>> c87489672007802cff7c1eb36ac87f817b4f4b4d
   "outputs": [
    {
     "name": "stdout",
     "output_type": "stream",
     "text": [
      "[ 1.  1.  1. ...,  1.  1.  1.]\n",
      "1.0\n"
     ]
    }
   ],
   "source": [
    "print(y_pred)\n",
    "print(y_pred.mean())"
   ]
  },
  {
   "cell_type": "markdown",
   "metadata": {},
   "source": [
    "# Ridge Regression"
   ]
  },
  {
   "cell_type": "code",
<<<<<<< HEAD
   "execution_count": 40,
   "metadata": {
    "collapsed": false
   },
   "outputs": [
    {
     "data": {
      "text/plain": [
       "<matplotlib.collections.PathCollection at 0x2c5010af5f8>"
      ]
     },
     "execution_count": 40,
     "metadata": {},
     "output_type": "execute_result"
    },
    {
     "data": {
      "image/png": "iVBORw0KGgoAAAANSUhEUgAAAfIAAAFJCAYAAABgnK9mAAAABHNCSVQICAgIfAhkiAAAAAlwSFlz\nAAALEgAACxIB0t1+/AAAGDtJREFUeJzt3X9Mlffd//HXgQNoOQfLlJju646ttPyhxgoak29aXFpL\nXEx/bQwVN5tM0ltN7GanDurqxED8kU2TO51ttt22achUqEuWeCf7On9s5Vu1RtnQgNHlJoata7dB\nqy3XoXLA87n/uG/PenVQyilweHuej7/kXNf18XO9c9on5xLbgHPOCQAAmJSR6g0AAIDkEXIAAAwj\n5AAAGEbIAQAwjJADAGAYIQcAwLBgqjeQjK6unlFdLz//Ll2/3juqa1rGPPyYhx/z8GMefszDbzTn\nUVAQHvR1PpFLCgYzU72FCYV5+DEPP+bhxzz8mIffeMyDkAMAYBghBwDAMEIOAIBhhBwAAMMIOQAA\nhhFyAAAMI+QAABhGyAEAMIyQAwBgGCEHAMAwQg4AgGGEHAAAwwg5AACGEXIAAAwj5AAAGEbIAQAw\njJADAGAYIQcAwDBCDgCAYYQcAADDCDkAAIYRcgAADCPkAAAYRsgBADCMkAMAYBghBwDAMEIOAIBh\nhBwAAMMIOQAAhhFyAAAMI+QAABhGyAEAMIyQAwBgWFIhj8fj+tGPfqQVK1Zo9erV6uzs9B0/deqU\nysvLtWLFCjU1NfmOXbx4UatXr0583dnZqcrKSq1atUrbt29XPB5PZksAAKSlpEJ+4sQJxWIxNTY2\natOmTdq9e3fiWH9/v3bt2qVXX31VDQ0NamxsVHd3tyTpF7/4hV588UX19fUlzt+1a5c2btyogwcP\nyjmnkydPfsFbAgAgfSQV8paWFpWWlkqS5s+fr7a2tsSxjo4ORSIRTZkyRdnZ2VqwYIHOnz8vSYpE\nInrppZd8a7W3t2vRokWSpMWLF+vMmTNJ3QgAAOkomMxFnucpFAolvs7MzNTAwICCwaA8z1M4HE4c\ny83Nled5kqSlS5fqnXfe8a3lnFMgEEic29PTM+zvn59/l4LBzGS2PqSCgvDwJ6UR5uHHPPyYhx/z\n8GMefmM9j6RCHgqFFI1GE1/H43EFg8FBj0WjUV/YPy0jI8N3bl5e3rC///Xrvclse0gFBWF1dQ3/\nDUS6YB5+zMOPefgxDz/m4Tea8xjqG4KkHq2XlJSoublZktTa2qqioqLEscLCQnV2durGjRuKxWK6\ncOGCiouLh1xr9uzZOnfunCSpublZCxcuTGZLAACkpaQ+kZeVlen06dNauXKlnHPauXOnjh49qt7e\nXq1YsUI1NTWqqqqSc07l5eWaPn36kGtVV1dr27Zt2rdvn2bNmqWlS5cmfTMAAKSbgHPOpXoTIzXa\nj214FOTHPPyYhx/z8GMefszDb8I+WgcAABMDIQcAwDBCDgCAYYQcAADDCDkAAIYRcgAADCPkAAAY\nRsgBADCMkAMAYBghBwDAMEIOAIBhhBwAAMMIOQAAhhFyAAAMI+QAABhGyAEAMIyQAwBgGCEHAMAw\nQg4AgGGEHAAAwwg5AACGEXIAAAwj5AAAGEbIAQAwjJADAGAYIQcAwDBCDgCAYYQcAADDCDkAAIYR\ncgAADCPkAAAYRsgBADCMkAMAYBghBwDAMEIOAIBhhBwAAMMIOQAAhhFyAAAMI+QAABhGyAEAMIyQ\nAwBgGCEHAMAwQg4AgGGEHAAAwwg5AACGEXIAAAwj5AAAGEbIAQAwjJADAGAYIQcAwLBgMhfF43HV\n1tbq6tWrys7OVn19vWbOnJk4furUKe3fv1/BYFDl5eVavnz5kNdcvnxZa9eu1b333itJqqys1LJl\ny0bl5gAAuNMlFfITJ04oFoupsbFRra2t2r17t1555RVJUn9/v3bt2qUjR45o8uTJqqys1KOPPqo/\n/OEPg17T3t6u73znO1qzZs2o3hgAAOkgqZC3tLSotLRUkjR//ny1tbUljnV0dCgSiWjKlCmSpAUL\nFuj8+fNqbW0d9Jq2tjZdu3ZNJ0+e1MyZM7V161aFQqEvdFMAAKSLpELueZ4vtpmZmRoYGFAwGJTn\neQqHw4ljubm58jxvyGvmzZuniooKzZ07V6+88or279+v6urqz/z98/PvUjCYmczWh1RQEB7+pDTC\nPPyYhx/z8GMefszDb6znkVTIQ6GQotFo4ut4PK5gMDjosWg0qnA4POQ1ZWVlysvLkySVlZWprq5u\n2N//+vXeZLY9pIKCsLq6ekZ1TcuYhx/z8GMefszDj3n4jeY8hvqGIKmfWi8pKVFzc7MkqbW1VUVF\nRYljhYWF6uzs1I0bNxSLxXThwgUVFxcPeU1VVZUuXbokSTp79qzmzJmTzJYAAEhLSX0iLysr0+nT\np7Vy5Uo557Rz504dPXpUvb29WrFihWpqalRVVSXnnMrLyzV9+vRBr5Gk2tpa1dXVKSsrS9OmTftc\nn8gBAMD/CDjnXKo3MVKj/diGR0F+zMOPefgxDz/m4cc8/Cbso3UAADAxEHIAAAwj5AAAGEbIAQAw\njJADAGAYIQcAwDBCDgCAYYQcAADDCDkAAIYRcgAADCPkAAAYRsgBADCMkAMAYBghBwDAMEIOAIBh\nhBwAAMMIOQAAhhFyAAAMI+QAABhGyAEAMIyQAwBgGCEHAMAwQg4AgGGEHAAAwwg5AACGEXIAAAwj\n5AAAGEbIAQAwjJADAGAYIQcAwDBCDgCAYYQcAADDCDkAAIYRcgAADCPkAAAYRsgBADCMkAMAYBgh\nBwDAMEIOAIBhhBwAAMMIOQAAhhFyAAAMI+QAABhGyAEAMCyztra2NtWbGKne3tiorveBF9N//v8O\ndX/4sfLDk/7ntY9uKu6cPvT6FAxm6Fbc6YOPbvp+PdzxkZw7kdbKC09Sj9c34faVqrVGMg+r9ziS\nc3NysvReV8+orMU8bNzjSNYabh53wj2OZK288KRRa1Zubs6grwdHZXWjvJsxbfz3txR3n3z1qgIB\nyTkpIyDFnTQpO0NSQDdjtzQpO0POSX398SGPj+TcibjW5JxMxeNuwu0rVWt9nnlYv8cRrZUhxeNf\nbK2U38MEm8eEv8eRrDXEPFK+rxSsNTUvRw89+H/0xP+NKDNj7B6AB5xzbvjTJpaurp5RWefffvw7\nDdwyd/sAAEMeWzhDqx4r+sLrFBSEB309bf+M/L1uj4gDAMbcH//Urb7+W2O2ftqG/OJ/vZ/qLQAA\n0sD1npv60Osbs/XTNuQP3j811VsAAKSB/PAkTQkN/oNqoyGpH3aLx+Oqra3V1atXlZ2drfr6es2c\nOTNx/NSpU9q/f7+CwaDKy8u1fPnyIa/p7OxUTU2NAoGAHnjgAW3fvl0ZY/hDAbfdMy2kYGaAx+sA\ngDFVXDRNOVmZY7Z+UsU8ceKEYrGYGhsbtWnTJu3evTtxrL+/X7t27dKrr76qhoYGNTY2qru7e8hr\ndu3apY0bN+rgwYNyzunkyZOjc2efw77nHlJG4F9fD/zva7ePTcrO0KTsTAUkTcrOVE5WxmceH8m5\nE3GtyTkTc1+pWuvzzMP6PY5orYwvvlbK72GCzWPC3+NI1hpiHinfVwrWmpqXoydLZ2nFo/drLCX1\nibylpUWlpaWSpPnz56utrS1xrKOjQ5FIRFOmTJEkLViwQOfPn1dra+ug17S3t2vRokWSpMWLF+v0\n6dMqKytL/o5GIDQpW/9R/ahuxqX/91aHpt09SQ/eX6DsrEx96PVpck5QH/cNJB6JfOj1+X493PGR\nnDuR1iq8d6q6u70Jt69UrTWSeVi9x5GcO+PLd+udd2+MylrMw8Y9jmSt4eZxJ9zjSNaa8eW7R+1v\nWg0lqZB7nqdQKJT4OjMzUwMDAwoGg/I8T+HwP39EPjc3V57nDXmNc06B//0InJubq56e4W84P/8u\nBYOj+5ji2fL5vq9nDHLOjCSPW1xrxpfvnpD7StVaI53HeO0rVWtNKZo+qvtiHhP/Hkey1ueZRyr2\nlaq1hvprY6MlqZCHQiFFo9HE1/F4XMFgcNBj0WhU4XB4yGs++efh0WhUeXl5w/7+16/3JrPtIRUU\nhMf8OyZLmIcf8/BjHn7Mw495+I3mPEb175GXlJSoublZktTa2qqion/+RffCwkJ1dnbqxo0bisVi\nunDhgoqLi4e8Zvbs2Tp37pwkqbm5WQsXLkxmSwAApKWkPpGXlZXp9OnTWrlypZxz2rlzp44ePare\n3l6tWLFCNTU1qqqqknNO5eXlmj59+qDXSFJ1dbW2bdumffv2adasWVq6dOmo3iAAAHeytP5PtN7G\noyA/5uHHPPyYhx/z8GMefhP20ToAAJgYCDkAAIYRcgAADCPkAAAYRsgBADCMkAMAYBghBwDAMEIO\nAIBhhBwAAMMIOQAAhhFyAAAMI+QAABhGyAEAMIyQAwBgGCEHAMAwQg4AgGGEHAAAwwg5AACGEXIA\nAAwj5AAAGEbIAQAwjJADAGAYIQcAwDBCDgCAYYQcAADDCDkAAIYRcgAADCPkAAAYRsgBADCMkAMA\nYBghBwDAMEIOAIBhhBwAAMMIOQAAhhFyAAAMI+QAABhGyAEAMIyQAwBgGCEHAMAwQg4AgGGEHAAA\nwwg5AACGEXIAAAwj5AAAGEbIAQAwjJADAGAYIQcAwDBCDgCAYYQcAADDCDkAAIYFk7no5s2b2rJl\ni95//33l5uZqz549+tKXvuQ7p6mpSYcPH1YwGNT69ev1yCOPDHnd8ePHtWfPHt1zzz2SpOeee06L\nFi364ncHAMAdLqlP5IcOHVJRUZEOHjyop59+Wi+//LLveFdXlxoaGnT48GEdOHBA+/btUywWG/K6\ntrY2bdmyRQ0NDWpoaCDiAAB8TkmFvKWlRaWlpZKkxYsX6+zZs77jly5dUnFxsbKzsxUOhxWJRHTl\nypUhr2tvb9evfvUrrVq1Srt379bAwMAXuScAANLGsI/W33jjDb3++uu+16ZOnapwOCxJys3NVU9P\nj++453mJ47fP8TzP9/onr3vooYf02GOPacaMGdq+fbsOHz6sb3/720PuKT//LgWDmZ/zFj+fgoLw\n8CelEebhxzz8mIcf8/BjHn5jPY9hQ15RUaGKigrfaxs2bFA0GpUkRaNR5eXl+Y6HQqHE8dvnhMNh\n3+ufvK68vDzx6yVLlujYsWOfuafr13uH2/aIFBSE1dXVM/yJaYJ5+DEPP+bhxzz8mIffaM5jqG8I\nknq0XlJSojfffFOS1NzcrAULFviOz5s3Ty0tLerr61NPT486OjpUVFQ06HXOOT355JP629/+Jkk6\ne/as5syZk8y2AABIO0n91HplZaWqq6tVWVmprKws7d27V5L02muvKRKJaMmSJVq9erVWrVol55ye\nf/555eTkDHpdIBBQfX29NmzYoEmTJqmwsFDLly8f1ZsEAOBOFXDOuVRvYqRG+7ENj4L8mIcf8/Bj\nHn7Mw495+E3YR+sAAGBiIOQAABhGyAEAMIyQAwBgGCEHAMAwQg4AgGGEHAAAwwg5AACGEXIAAAwj\n5AAAGEbIAQAwjJADAGAYIQcAwDBCDgCAYYQcAADDCDkAAIYRcgAADCPkAAAYRsgBADCMkAMAYBgh\nBwDAMEIOAIBhhBwAAMMIOQAAhhFyAAAMI+QAABhGyAEAMIyQAwBgGCEHAMAwQg4AgGGEHAAAwwg5\nAACGEXIAAAwj5AAAGEbIAQAwjJADAGAYIQcAwDBCDgCAYYQcAADDCDkAAIYRcgAADCPkAAAYRsgB\nADCMkAMAYBghBwDAMEIOAIBhhBwAAMMIOQAAhhFyAAAMI+QAABiWVMhv3ryp5557TqtWrdKzzz6r\nDz744F/OaWpq0je+8Q0tX75cv/vd73zHjh8/rk2bNiW+bm1tVUVFhVauXKmf/vSnyWwJAIC0lFTI\nDx06pKKiIh08eFBPP/20Xn75Zd/xrq4uNTQ06PDhwzpw4ID27dunWCwmSaqvr9fevXsVj8cT52/f\nvl179+7VoUOHdPHiRV2+fPkL3BIAAOkjqZC3tLSotLRUkrR48WKdPXvWd/zSpUsqLi5Wdna2wuGw\nIpGIrly5IkkqKSlRbW1t4lzP8xSLxRSJRBQIBPTwww/rzJkzSd4OAADpJTjcCW+88YZef/1132tT\np05VOByWJOXm5qqnp8d33PO8xPHb53ieJ0latmyZzp075zs3FAr5zv3LX/7ymXvKz79LwWDmcFsf\nkYKC8PAnpRHm4cc8/JiHH/PwYx5+Yz2PYUNeUVGhiooK32sbNmxQNBqVJEWjUeXl5fmOh0KhxPHb\n53wy7MOd++n1Pu369d7htj0iBQVhdXX1DH9immAefszDj3n4MQ8/5uE3mvMY6huCpB6tl5SU6M03\n35QkNTc3a8GCBb7j8+bNU0tLi/r6+tTT06OOjg4VFRUNulYoFFJWVpb+/Oc/yzmnt956SwsXLkxm\nWwAApJ1hP5EPprKyUtXV1aqsrFRWVpb27t0rSXrttdcUiUS0ZMkSrV69WqtWrZJzTs8//7xycnKG\nXG/Hjh3avHmzbt26pYcfflgPPvhgcncDAECaCTjnXKo3MVKj/diGR0F+zMOPefgxDz/m4cc8/Cbs\no3UAADAxEHIAAAwj5AAAGEbIAQAwjJADAGAYIQcAwDBCDgCAYYQcAADDCDkAAIYRcgAADCPkAAAY\nRsgBADCMkAMAYBghBwDAMEIOAIBhhBwAAMMIOQAAhhFyAAAMI+QAABhGyAEAMIyQAwBgGCEHAMAw\nQg4AgGGEHAAAwwLOOZfqTQAAgOTwiRwAAMMIOQAAhhFyAAAMI+QAABhGyAEAMIyQAwBgWDDVG0il\neDyu2tpaXb16VdnZ2aqvr9fMmTNTva1x9/Wvf12hUEiSNGPGDK1bt041NTUKBAJ64IEHtH37dmVk\n3Pnf8128eFE/+clP1NDQoM7OzkFn0NTUpMOHDysYDGr9+vV65JFHUr3tMfPJeVy+fFlr167Vvffe\nK0mqrKzUsmXL0mIe/f392rp1q/76178qFotp/fr1uv/++9P2/THYPO655560fX/cunVLL774oq5d\nu6ZAIKAdO3YoJydnfN8fLo0dO3bMVVdXO+ec++Mf/+jWrVuX4h2Nv5s3b7qnnnrK99ratWvd22+/\n7Zxzbtu2be63v/1tKrY2rn7+85+7xx9/3FVUVDjnBp/BP/7xD/f444+7vr4+99FHHyV+fSf69Dya\nmprcgQMHfOekyzyOHDni6uvrnXPOXb9+3X31q19N6/fHYPNI5/fH8ePHXU1NjXPOubffftutW7du\n3N8fd/7HrM/Q0tKi0tJSSdL8+fPV1taW4h2NvytXrujjjz/WmjVr9Mwzz6i1tVXt7e1atGiRJGnx\n4sU6c+ZMinc59iKRiF566aXE14PN4NKlSyouLlZ2drbC4bAikYiuXLmSqi2PqU/Po62tTb///e/1\nrW99S1u3bpXneWkzj6997Wv63ve+J0lyzikzMzOt3x+DzSOd3x+PPfaY6urqJEnvvvuu8vLyxv39\nkdYh9zwv8UhZkjIzMzUwMJDCHY2/SZMmqaqqSgcOHNCOHTu0efNmOecUCAQkSbm5uerp6UnxLsfe\n0qVLFQz+80+aBpuB53kKh8OJc3Jzc+V53rjvdTx8eh7z5s3TD37wA/3yl7/UV77yFe3fvz9t5pGb\nm6tQKCTP8/Td735XGzduTOv3x2DzSOf3hyQFg0FVV1errq5OTzzxxLi/P9I65KFQSNFoNPF1PB73\n/csrHdx333168sknFQgEdN999+nuu+/W+++/nzgejUaVl5eXwh2mxid/JuD2DD79folGo75/MO9k\nZWVlmjt3buLXly9fTqt5vPfee3rmmWf01FNP6Yknnkj798en55Hu7w9J2rNnj44dO6Zt27apr68v\n8fp4vD/SOuQlJSVqbm6WJLW2tqqoqCjFOxp/R44c0e7duyVJf//73+V5nh566CGdO3dOktTc3KyF\nCxemcospMXv27H+Zwbx589TS0qK+vj719PSoo6Mjbd4zVVVVunTpkiTp7NmzmjNnTtrMo7u7W2vW\nrNGWLVv0zW9+U1J6vz8Gm0c6vz9+/etf62c/+5kkafLkyQoEApo7d+64vj/S+n+acvun1v/0pz/J\nOaedO3eqsLAw1dsaV7FYTC+88ILeffddBQIBbd68Wfn5+dq2bZv6+/s1a9Ys1dfXKzMzM9VbHXPv\nvPOOvv/976upqUnXrl0bdAZNTU1qbGyUc05r167V0qVLU73tMfPJebS3t6uurk5ZWVmaNm2a6urq\nFAqF0mIe9fX1+s1vfqNZs2YlXvvhD3+o+vr6tHx/DDaPjRs36sc//nFavj96e3v1wgsvqLu7WwMD\nA3r22WdVWFg4rv/+SOuQAwBgXVo/WgcAwDpCDgCAYYQcAADDCDkAAIYRcgAADCPkAAAYRsgBADCM\nkAMAYNh/A/Vhe9VAvGwvAAAAAElFTkSuQmCC\n",
      "text/plain": [
       "<matplotlib.figure.Figure at 0x2c50103bb70>"
      ]
     },
     "metadata": {},
     "output_type": "display_data"
    }
   ],
   "source": [
    "# Finding the optimal parameters for Ridge Regression\n",
    "ridge = pd.DataFrame(columns = ('alpha', 'r_squared'))\n",
    "\n",
    "ridge.alpha = np.concatenate((np.arange(.1,1,.2), np.arange(1,300,2)), axis=0)\n",
    "\n",
    "for alpha in ridge.alpha:\n",
    "    ridgeregr = linear_model.Ridge(alpha=alpha, fit_intercept=False)\n",
    "    ridgeregr.fit(X, Y)\n",
    "    ridge.loc[ridge.alpha==alpha,'r_squared'] = ridgeregr.score(X, Y)\n",
    "plt.scatter(ridge.alpha, ridge.r_squared)"
   ]
  },
  {
   "cell_type": "code",
   "execution_count": 21,
   "metadata": {
    "collapsed": false
   },
=======
   "execution_count": 22,
   "metadata": {},
>>>>>>> c87489672007802cff7c1eb36ac87f817b4f4b4d
   "outputs": [
    {
     "name": "stdout",
     "output_type": "stream",
     "text": [
      "R2 Score:\n",
      "[ -1.76650557e-03  -8.22193653e-03   9.58609575e-04  -3.54075289e-03\n",
      "  -8.63520489e-05  -3.15263337e-04  -1.85405358e-03  -1.19014702e-03\n",
      "  -5.36217513e-03  -5.70910153e-02]\n",
      "Average of the R2 Score:\n",
      "-0.00784695917995\n"
     ]
    }
   ],
   "source": [
    "# Fitting a ridge regression model. Alpha is the regularization\n",
    "# parameter (usually called lambda). As alpha gets larger, parameter\n",
    "# shrinkage grows more pronounced. Note that by convention, the\n",
    "# intercept is not regularized. Since we standardized the data\n",
    "# earlier, the intercept should be equal to zero and can be dropped.\n",
    "\n",
    "ridgeregr = linear_model.Ridge(alpha=10, fit_intercept=False) \n",
    "ridgeregr.fit(X, Y)\n",
    "\n",
    "y_pred = ridgeregr.fit(X,Y).predict(X)\n",
    "\n",
    "# Print the R2.\n",
    "cv = cross_val_score(ridgeregr, X, Y, cv=10, scoring='r2') \n",
    "print('R2 Score:')\n",
    "print(cv)\n",
    "# Print the average of the R2 and store it in the table\n",
    "print('Average of the R2 Score:')\n",
    "print(cv.mean())\n",
    "\n",
    "# Store the data in the model_comparison table\n",
    "models = {'Model':['Ridge Regression'], 'Scoring Metric':'R2', 'Scoring Value':[cv.mean()]}\n",
    "model_comparison = model_comparison.append(pd.DataFrame(data=models, columns=models.keys()), ignore_index=True)"
   ]
  },
  {
   "cell_type": "code",
<<<<<<< HEAD
   "execution_count": 22,
   "metadata": {
    "collapsed": false
   },
=======
   "execution_count": 23,
   "metadata": {},
>>>>>>> c87489672007802cff7c1eb36ac87f817b4f4b4d
   "outputs": [
    {
     "name": "stdout",
     "output_type": "stream",
     "text": [
      "[ 0.03578161  0.03574146  0.02117346 ...,  0.07192826  0.0845071\n",
      "  0.10206515]\n",
      "0.0477904672036\n"
     ]
    }
   ],
   "source": [
    "print(y_pred)\n",
    "print(y_pred.mean())"
   ]
  },
  {
   "cell_type": "markdown",
   "metadata": {},
   "source": [
    "# Lasso Regression"
   ]
  },
  {
   "cell_type": "code",
<<<<<<< HEAD
   "execution_count": 43,
   "metadata": {
    "collapsed": false
   },
   "outputs": [
    {
     "data": {
      "text/plain": [
       "<matplotlib.collections.PathCollection at 0x2c5020d16d8>"
      ]
     },
     "execution_count": 43,
     "metadata": {},
     "output_type": "execute_result"
    },
    {
     "data": {
      "image/png": "iVBORw0KGgoAAAANSUhEUgAAAfIAAAFJCAYAAABgnK9mAAAABHNCSVQICAgIfAhkiAAAAAlwSFlz\nAAALEgAACxIB0t1+/AAAGIVJREFUeJzt3WtsVPeZx/HfeMY24BkTB7xJumRIcGKtADnYINpVYqoU\nEBXKrXUN2CnRFisLSKQlBWpCQwHZy0UtqKuURG1Fosgq2A6VKuVFl3JrvAkEgRODbASsLOSGEKU2\ngcZnXDw2c/ZFxJRDbYwH4+Fhvp9X9pyL/+fJSb4zw5j4XNd1BQAATEpL9gIAAEDiCDkAAIYRcgAA\nDCPkAAAYRsgBADCMkAMAYFgg2QtIRHt755CeLydnlC5e7BrSc1rGPLyYhxfz8GIeXszDayjnkZsb\n6vNxXpFLCgT8yV7CHYV5eDEPL+bhxTy8mIfXcMyDkAMAYBghBwDAMEIOAIBhhBwAAMMIOQAAhhFy\nAAAMI+QAABhGyAEAMIyQAwBgGCEHAMAwQg4AgGGEHAAAwwg5AACGEXIAAAwj5AAAGEbIAQAwjJAD\nAGAYIQcAwDBCDgCAYYQcAADDCDkAAIYRcgAADCPkAAAYRsgBADCMkAMAYBghBwDAMEIOAIBhhBwA\nAMMSCnksFtPPfvYzzZ8/XwsXLlRbW5tn+4EDB1RSUqL58+ervr7es+348eNauHBh/Pu2tjaVlZWp\nvLxc69atUywWS2RJAACkpIRCvm/fPkWjUdXV1WnFihXavHlzfFtPT482bdqkN998UzU1Naqrq1NH\nR4ck6be//a1effVVdXd3x/fftGmTli9frp07d8p1Xe3fv/8WLwkAgNSRUMgbGxtVXFwsSZoyZYqa\nm5vj21pbWxUOhzV69GhlZGRo6tSpOnr0qCQpHA7rtdde85yrpaVF06dPlyTNmDFDhw4dSuhCAABI\nRYFEDnIcR8FgMP693+9Xb2+vAoGAHMdRKBSKb8vKypLjOJKkOXPm6Ny5c55zua4rn88X37ezs3PA\nn5+TM0qBgD+RpfcrNzc08E4phHl4MQ8v5uHFPLyYh9ftnkdCIQ8Gg4pEIvHvY7GYAoFAn9sikYgn\n7NdLS0vz7JudnT3gz794sSuRZfcrNzek9vaBn0CkCubhxTy8mIcX8/BiHl5DOY/+nhAk9NZ6UVGR\nGhoaJElNTU3Kz8+Pb8vLy1NbW5suXbqkaDSqY8eOqbCwsN9zTZw4UUeOHJEkNTQ0aNq0aYksCQCA\nlJTQK/LZs2frgw8+0IIFC+S6rjZu3Kh3331XXV1dmj9/vlavXq2Kigq5rquSkhLdd999/Z6rsrJS\na9eu1bZt2zRhwgTNmTMn4YsBACDV+FzXdZO9iMEa6rdteCvIi3l4MQ8v5uHFPLyYh9cd+9Y6AAC4\nMxByAAAMI+QAABhGyAEAMIyQAwBgGCEHAMAwQg4AgGGEHAAAwwg5AACGEXIAAAwj5AAAGEbIAQAw\njJADAGAYIQcAwDBCDgCAYYQcAADDCDkAAIYRcgAADCPkAAAYRsgBADCMkAMAYBghBwDAMEIOAIBh\nhBwAAMMIOQAAhhFyAAAMI+QAABhGyAEAMIyQAwBgGCEHAMAwQg4AgGGEHAAAwwg5AACGEXIAAAwj\n5AAAGEbIAQAwjJADAGAYIQcAwDBCDgCAYYQcAADDCDkAAIYRcgAADCPkAAAYRsgBADCMkAMAYBgh\nBwDAMEIOAIBhhBwAAMMIOQAAhgUSOSgWi2n9+vU6ffq0MjIyVF1drfHjx8e3HzhwQNu3b1cgEFBJ\nSYnmzZvX7zEnT57U4sWL9dBDD0mSysrKNHfu3CG5OAAA7nYJhXzfvn2KRqOqq6tTU1OTNm/erDfe\neEOS1NPTo02bNmn37t0aOXKkysrK9K1vfUsfffRRn8e0tLToBz/4gRYtWjSkFwYAQCpIKOSNjY0q\nLi6WJE2ZMkXNzc3xba2trQqHwxo9erQkaerUqTp69Kiampr6PKa5uVlnz57V/v37NX78eK1Zs0bB\nYPCWLgoAgFSRUMgdx/HE1u/3q7e3V4FAQI7jKBQKxbdlZWXJcZx+jykoKFBpaakmT56sN954Q9u3\nb1dlZeUNf35OzigFAv5Elt6v3NzQwDulEObhxTy8mIcX8/BiHl63ex4JhTwYDCoSicS/j8ViCgQC\nfW6LRCIKhUL9HjN79mxlZ2dLkmbPnq2qqqoBf/7Fi12JLLtfubkhtbd3Duk5LWMeXszDi3l4MQ8v\n5uE1lPPo7wlBQp9aLyoqUkNDgySpqalJ+fn58W15eXlqa2vTpUuXFI1GdezYMRUWFvZ7TEVFhU6c\nOCFJOnz4sCZNmpTIkgAASEkJvSKfPXu2PvjgAy1YsECu62rjxo1699131dXVpfnz52v16tWqqKiQ\n67oqKSnRfffd1+cxkrR+/XpVVVUpPT1dY8eOvalX5AAA4Cs+13XdZC9isIb6bRveCvJiHl7Mw4t5\neDEPL+bhdce+tQ4AAO4MhBwAAMMIOQAAhhFyAAAMI+QAABhGyAEAMIyQAwBgGCEHAMAwQg4AgGGE\nHAAAwwg5AACGEXIAAAwj5AAAGEbIAQAwjJADAGAYIQcAwDBCDgCAYYQcAADDCDkAAIYRcgAADCPk\nAAAYRsgBADCMkAMAYBghBwDAMEIOAIBhhBwAAMMIOQAAhhFyAAAMI+QAABhGyAEAMIyQAwBgGCEH\nAMAwQg4AgGGEHAAAwwg5AACGEXIAAAwj5AAAGEbIAQAwjJADAGAYIQcAwDBCDgCAYYQcAADDCDkA\nAIYRcgAADCPkAAAYRsgBADCMkAMAYBghBwDAsECyF3An+OTzTv3P+60ae88IPfZIrjLS/fqb063R\nwUxlpvuTvTwAAPqVUMhjsZjWr1+v06dPKyMjQ9XV1Ro/fnx8+4EDB7R9+3YFAgGVlJRo3rx5/R7T\n1tam1atXy+fz6dFHH9W6deuUljY8bxQ4l6Na/t/vK+Ze++hppaVJbky6NztThfm5mv+tR+QfpjUB\nADAYCdVp3759ikajqqur04oVK7R58+b4tp6eHm3atElvvvmmampqVFdXp46Ojn6P2bRpk5YvX66d\nO3fKdV3t379/aK7sJvz4tQ+ui/hXYjHJlXThy27tO3ZOO/eeGbY1AQAwGAmFvLGxUcXFxZKkKVOm\nqLm5Ob6ttbVV4XBYo0ePVkZGhqZOnaqjR4/2e0xLS4umT58uSZoxY4YOHTp0Sxd0sz7rcNR7pY+K\n9+G9pvOq+dNpXYnFbvOqAAAYnITeWnccR8FgMP693+9Xb2+vAoGAHMdRKBSKb8vKypLjOP0e47qu\nfD5ffN/Ozs4Bf35OzigFArf2Z9f/2/z5Te8bc6WDH32qtLQ0LSkp0IiMu/+jBbm5oYF3SiHMw4t5\neDEPL+bhdbvnkVCRgsGgIpFI/PtYLKZAINDntkgkolAo1O8x1/55eCQSUXZ29oA//+LFrkSW7fHI\n/VmDPmb/sU/UdOavKsgbo1nTHlRwZLr+3t2r0cFMSYp/QK6vr0dmBm6470Dbh/NceQ+NUUeHc8et\nK1nnGsw8rF7jYPYd97V7dO78pSE5F/OwcY2DOddA87gbrnEw5xr3tXvU3j7wC9Sb0d8TgoRCXlRU\npIMHD2ru3LlqampSfn5+fFteXp7a2tp06dIljRo1SseOHVNFRYV8Pl+fx0ycOFFHjhzR17/+dTU0\nNOgb3/hGIksatAfGBhXw+2767fWrLnzZrYMfn9fBj88rzffVq/URGWmSfLocvfJPX7uu1N0T63ff\ngbYn41wjM/2Kxdw7bl3JOtfNzMP6NQ7qXGlffY7kVs6V9Gu4w+Zxx1/jYM7VzzySvq4knGtMdqYe\nf+xf9fS/h2/rB6Z9rusOrmT6x6fWz5w5I9d1tXHjRp08eVJdXV2aP39+/FPrruuqpKREzz//fJ/H\n5OXl6ezZs1q7dq16eno0YcIEVVdXy++/8dvmQ/Xspu9PrQMAMHRmTRun8ln5A+84gP5ekScU8mQb\nqpBfdTkmz++R/+H9szr40adD+jMAAKlpTPYIVb/49Vv+e0mG9K31u82D94X03Iy8+Pflsx6VP82n\nj06364vO7iSuDABg3cXOy/qb061/yRl1W87P33LSB39amspn5eu//vMbenzy/cleDgDAsJzQiPiH\n4W4HXpHfQGa6X/8x9980ckRAH5/p0IUvLyd7SQAAYwrzx97Wv+6bPyPXV3/uMNA5u3uu6IsvL2tf\n4zkd/78OfdHZ/U+fXOyOXlFmxlf/sK5+7bp9f9r5Zrcn41wjbvAp7bvlGgdzrpuZh/VrHNS5rvtU\nciLnSvo13GHzuOOvcTDn6mceSV9XEs411J9a58NuN3AzIb9Wd88VM7/DmMi5+D1yfo+c3yPn98j5\nPXI7v0dOyDX4kN/tmIcX8/BiHl7Mw4t5eA3lPPoLOR92AwDAMEIOAIBhhBwAAMMIOQAAhhFyAAAM\nI+QAABhGyAEAMIyQAwBgGCEHAMAwQg4AgGGEHAAAwwg5AACGEXIAAAwj5AAAGEbIAQAwjJADAGAY\nIQcAwDBCDgCAYYQcAADDCDkAAIYRcgAADCPkAAAYRsgBADCMkAMAYBghBwDAMEIOAIBhhBwAAMMI\nOQAAhhFyAAAMI+QAABhGyAEAMIyQAwBgGCEHAMAwQg4AgGGEHAAAwwg5AACGEXIAAAwj5AAAGEbI\nAQAwjJADAGAYIQcAwDBCDgCAYYFEDrp8+bJWrVqlCxcuKCsrS1u2bNG9997r2ae+vl61tbUKBAJa\nunSpnnzyyX6P27t3r7Zs2aIHHnhAkvTSSy9p+vTpt351AADc5RJ6Rb5r1y7l5+dr586deu655/T6\n6697tre3t6umpka1tbXasWOHtm3bpmg02u9xzc3NWrVqlWpqalRTU0PEAQC4SQmFvLGxUcXFxZKk\nGTNm6PDhw57tJ06cUGFhoTIyMhQKhRQOh3Xq1Kl+j2tpadHvf/97lZeXa/Pmzert7b2VawIAIGUM\n+Nb6O++8o7ffftvz2JgxYxQKhSRJWVlZ6uzs9Gx3HCe+/eo+juN4Hr/2uMcff1yzZs3SuHHjtG7d\nOtXW1ur73//+rV0ZAAApYMCQl5aWqrS01PPYsmXLFIlEJEmRSETZ2dme7cFgML796j6hUMjz+LXH\nlZSUxL+eOXOm9uzZc8M15eSMUiDgH2jpg5KbGxp4pxTCPLyYhxfz8GIeXszD63bPI6EPuxUVFem9\n995TQUGBGhoaNHXqVM/2goIC/fKXv1R3d7ei0ahaW1uVn5/f53Gu6+qZZ55RbW2t7r//fh0+fFiT\nJk264c+/eLErkWX3Kzc3pPb2zoF3TBHMw4t5eDEPL+bhxTy8hnIe/T0hSCjkZWVlqqysVFlZmdLT\n07V161ZJ0ltvvaVwOKyZM2dq4cKFKi8vl+u6evnll5WZmdnncT6fT9XV1Vq2bJlGjBihvLw8zZs3\nL/ErBQAghfhc13WTvYjBGupnezyD9GIeXszDi3l4MQ8v5uE1HK/I+QthAAAwjJADAGAYIQcAwDBC\nDgCAYYQcAADDCDkAAIYRcgAADCPkAAAYRsgBADCMkAMAYBghBwDAMEIOAIBhhBwAAMMIOQAAhhFy\nAAAMI+QAABhGyAEAMIyQAwBgGCEHAMAwQg4AgGGEHAAAwwg5AACGEXIAAAwj5AAAGEbIAQAwjJAD\nAGAYIQcAwDBCDgCAYYQcAADDCDkAAIYRcgAADCPkAAAYRsgBADCMkAMAYBghBwDAMEIOAIBhhBwA\nAMMIOQAAhhFyAAAMI+QAABhGyAEAMIyQAwBgGCEHAMAwQg4AgGGEHAAAwwg5AACGEXIAAAwj5AAA\nGEbIAQAwLKGQX758WS+99JLKy8v14osv6osvvvinferr6/Xd735X8+bN08GDBz3b9u7dqxUrVsS/\nb2pqUmlpqRYsWKBf/epXiSwJAICUlFDId+3apfz8fO3cuVPPPfecXn/9dc/29vZ21dTUqLa2Vjt2\n7NC2bdsUjUYlSdXV1dq6datisVh8/3Xr1mnr1q3atWuXjh8/rpMnT97CJQEAkDoSCnljY6OKi4sl\nSTNmzNDhw4c920+cOKHCwkJlZGQoFAopHA7r1KlTkqSioiKtX78+vq/jOIpGowqHw/L5fHriiSd0\n6NChBC8HAIDUEhhoh3feeUdvv/2257ExY8YoFApJkrKystTZ2enZ7jhOfPvVfRzHkSTNnTtXR44c\n8ewbDAY9+37yySc3XFNOzigFAv6Blj4oubmhgXdKIczDi3l4MQ8v5uHFPLxu9zwGDHlpaalKS0s9\njy1btkyRSESSFIlElJ2d7dkeDAbj26/uc23YB9r3+vNd7+LFroGWPSi5uSG1t3cOvGOKYB5ezMOL\neXgxDy/m4TWU8+jvCUFCb60XFRXpvffekyQ1NDRo6tSpnu0FBQVqbGxUd3e3Ojs71draqvz8/D7P\nFQwGlZ6err/85S9yXVfvv/++pk2blsiyAABIOQO+Iu9LWVmZKisrVVZWpvT0dG3dulWS9NZbbykc\nDmvmzJlauHChysvL5bquXn75ZWVmZvZ7vg0bNmjlypW6cuWKnnjiCT322GOJXQ0AACnG57qum+xF\nDNZQv23DW0FezMOLeXgxDy/m4cU8vO7Yt9YBAMCdgZADAGAYIQcAwDBCDgCAYYQcAADDCDkAAIYR\ncgAADCPkAAAYRsgBADCMkAMAYBghBwDAMEIOAIBhhBwAAMMIOQAAhhFyAAAMI+QAABhGyAEAMIyQ\nAwBgGCEHAMAwQg4AgGGEHAAAwwg5AACGEXIAAAwj5AAAGEbIAQAwjJADAGAYIQcAwDBCDgCAYYQc\nAADDCDkAAIYRcgAADCPkAAAYRsgBADCMkAMAYJjPdV032YsAAACJ4RU5AACGEXIAAAwj5AAAGEbI\nAQAwjJADAGAYIQcAwLBAsheQTLFYTOvXr9fp06eVkZGh6upqjR8/PtnLGnbf+c53FAwGJUnjxo3T\nkiVLtHr1avl8Pj366KNat26d0tLu/ud8x48f1y9+8QvV1NSora2tzxnU19ertrZWgUBAS5cu1ZNP\nPpnsZd82187j5MmTWrx4sR566CFJUllZmebOnZsS8+jp6dGaNWv06aefKhqNaunSpXrkkUdS9v7o\nax4PPPBAyt4fV65c0auvvqqzZ8/K5/Npw4YNyszMHN77w01he/bscSsrK13Xdd2PP/7YXbJkSZJX\nNPwuX77sPvvss57HFi9e7H744Yeu67ru2rVr3T/96U/JWNqw+s1vfuM+9dRTbmlpqeu6fc/gr3/9\nq/vUU0+53d3d7pdffhn/+m50/Tzq6+vdHTt2ePZJlXns3r3bra6udl3XdS9evOh+85vfTOn7o695\npPL9sXfvXnf16tWu67ruhx9+6C5ZsmTY74+7/2XWDTQ2Nqq4uFiSNGXKFDU3Nyd5RcPv1KlT+vvf\n/65FixbphRdeUFNTk1paWjR9+nRJ0owZM3To0KEkr/L2C4fDeu211+Lf9zWDEydOqLCwUBkZGQqF\nQgqHwzp16lSylnxbXT+P5uZm/fnPf9bzzz+vNWvWyHGclJnHt7/9bf3oRz+SJLmuK7/fn9L3R1/z\nSOX7Y9asWaqqqpIknT9/XtnZ2cN+f6R0yB3Hib+lLEl+v1+9vb1JXNHwGzFihCoqKrRjxw5t2LBB\nK1eulOu68vl8kqSsrCx1dnYmeZW335w5cxQI/ONPmvqageM4CoVC8X2ysrLkOM6wr3U4XD+PgoIC\n/eQnP9Hvfvc7Pfjgg9q+fXvKzCMrK0vBYFCO4+iHP/yhli9fntL3R1/zSOX7Q5ICgYAqKytVVVWl\np59+etjvj5QOeTAYVCQSiX8fi8U8//FKBQ8//LCeeeYZ+Xw+Pfzww7rnnnt04cKF+PZIJKLs7Owk\nrjA5rv1MwNUZXH+/RCIRz7+Yd7PZs2dr8uTJ8a9PnjyZUvP47LPP9MILL+jZZ5/V008/nfL3x/Xz\nSPX7Q5K2bNmiPXv2aO3ateru7o4/Phz3R0qHvKioSA0NDZKkpqYm5efnJ3lFw2/37t3avHmzJOnz\nzz+X4zh6/PHHdeTIEUlSQ0ODpk2blswlJsXEiRP/aQYFBQVqbGxUd3e3Ojs71dramjL3TEVFhU6c\nOCFJOnz4sCZNmpQy8+jo6NCiRYu0atUqfe9735OU2vdHX/NI5fvjD3/4g379619LkkaOHCmfz6fJ\nkycP6/2R0v/TlKufWj9z5oxc19XGjRuVl5eX7GUNq2g0qldeeUXnz5+Xz+fTypUrlZOTo7Vr16qn\np0cTJkxQdXW1/H5/spd62507d04//vGPVV9fr7Nnz/Y5g/r6etXV1cl1XS1evFhz5sxJ9rJvm2vn\n0dLSoqqqKqWnp2vs2LGqqqpSMBhMiXlUV1frj3/8oyZMmBB/7Kc//amqq6tT8v7oax7Lly/Xz3/+\n85S8P7q6uvTKK6+oo6NDvb29evHFF5WXlzes//1I6ZADAGBdSr+1DgCAdYQcAADDCDkAAIYRcgAA\nDCPkAAAYRsgBADCMkAMAYBghBwDAsP8Hq4YFYnwOqhQAAAAASUVORK5CYII=\n",
      "text/plain": [
       "<matplotlib.figure.Figure at 0x2c50205dd68>"
      ]
     },
     "metadata": {},
     "output_type": "display_data"
    }
   ],
   "source": [
    "# Finding the optimal parameters for Lasso Regression\n",
    "lasso = pd.DataFrame(columns = ('alpha', 'r_squared'))\n",
    "\n",
    "lasso.alpha = np.concatenate((np.arange(.1,1,.2), np.arange(1,300,2)), axis=0)\n",
    "\n",
    "for alpha in lasso.alpha:\n",
    "    lassoregr = linear_model.Lasso(alpha=alpha, fit_intercept=False)\n",
    "    lassoregr.fit(X, Y)\n",
    "    lasso.loc[lasso.alpha==alpha,'r_squared'] = lassoregr.score(X, Y)\n",
    "plt.scatter(lasso.alpha, lasso.r_squared)"
   ]
  },
  {
   "cell_type": "code",
   "execution_count": 23,
   "metadata": {
    "collapsed": false
   },
=======
   "execution_count": 24,
   "metadata": {},
>>>>>>> c87489672007802cff7c1eb36ac87f817b4f4b4d
   "outputs": [
    {
     "name": "stdout",
     "output_type": "stream",
     "text": [
      "R-Squared of the model:\n",
      "3.58369809751e-05\n",
      "R2 Score:\n",
      "[ -3.63098054e-03  -6.03070649e-03  -1.25221729e-05  -5.38314891e-03\n",
      "  -2.24001692e-03  -2.23524985e-03  -7.03649947e-04  -1.52310077e-03\n",
      "  -2.92184541e-03  -1.81842409e-02]\n",
      "Average of the R2 Score:\n",
      "-0.00428654619254\n"
     ]
    }
   ],
   "source": [
    "lasso = linear_model.Lasso(alpha=.35)\n",
    "lasso.fit(X, Y)\n",
    "\n",
    "y_pred = lasso.fit(X,Y).predict(X)\n",
    "\n",
    "# Print the R-Squared value and store it in the table\n",
    "print('R-Squared of the model:') \n",
    "score = r2_score(Y, y_pred)\n",
    "print(score)\n",
    "\n",
    "# Print the R2.\n",
    "cv = cross_val_score(lasso, X, Y, cv=10, scoring='r2') \n",
    "print('R2 Score:')\n",
    "print(cv)\n",
    "# Print the average of the AUROC and store it in the table\n",
    "print('Average of the R2 Score:')\n",
    "print(cv.mean())\n",
    "\n",
    "# Store the data in the model_comparison table\n",
    "models = {'Model':['Lasso Regression'], 'Scoring Metric':'R2', 'Scoring Value':[cv.mean()]}\n",
    "model_comparison = model_comparison.append(pd.DataFrame(data=models, columns=models.keys()), ignore_index=True)"
   ]
  },
  {
   "cell_type": "code",
<<<<<<< HEAD
   "execution_count": 24,
   "metadata": {
    "collapsed": false
   },
=======
   "execution_count": 25,
   "metadata": {},
>>>>>>> c87489672007802cff7c1eb36ac87f817b4f4b4d
   "outputs": [
    {
     "name": "stdout",
     "output_type": "stream",
     "text": [
      "[ 0.04302036  0.04367439  0.04192738 ...,  0.05594064  0.05569343\n",
      "  0.05709057]\n",
      "0.0485282418457\n"
     ]
    }
   ],
   "source": [
    "print(y_pred)\n",
    "print(y_pred.mean())"
   ]
  },
  {
   "cell_type": "markdown",
   "metadata": {},
   "source": [
    "# Support Vector Regression"
   ]
  },
  {
   "cell_type": "code",
<<<<<<< HEAD
   "execution_count": 45,
   "metadata": {
    "collapsed": false
   },
   "outputs": [
    {
     "ename": "ValueError",
     "evalue": "x and y must be the same size",
     "output_type": "error",
     "traceback": [
      "\u001b[0;31m---------------------------------------------------------------------------\u001b[0m",
      "\u001b[0;31mValueError\u001b[0m                                Traceback (most recent call last)",
      "\u001b[0;32m<ipython-input-45-a03e9137f01f>\u001b[0m in \u001b[0;36m<module>\u001b[0;34m()\u001b[0m\n\u001b[1;32m      8\u001b[0m     \u001b[0msvregr\u001b[0m\u001b[1;33m.\u001b[0m\u001b[0mfit\u001b[0m\u001b[1;33m(\u001b[0m\u001b[0mX\u001b[0m\u001b[1;33m,\u001b[0m \u001b[0mY\u001b[0m\u001b[1;33m)\u001b[0m\u001b[1;33m\u001b[0m\u001b[0m\n\u001b[1;32m      9\u001b[0m     \u001b[0msvr\u001b[0m\u001b[1;33m.\u001b[0m\u001b[0mloc\u001b[0m\u001b[1;33m[\u001b[0m\u001b[0msvr\u001b[0m\u001b[1;33m.\u001b[0m\u001b[0mepsilon\u001b[0m\u001b[1;33m==\u001b[0m\u001b[0mepsilon\u001b[0m\u001b[1;33m,\u001b[0m\u001b[1;34m'r_squared'\u001b[0m\u001b[1;33m]\u001b[0m \u001b[1;33m=\u001b[0m \u001b[0msvregr\u001b[0m\u001b[1;33m.\u001b[0m\u001b[0mscore\u001b[0m\u001b[1;33m(\u001b[0m\u001b[0mX\u001b[0m\u001b[1;33m,\u001b[0m \u001b[0mY\u001b[0m\u001b[1;33m)\u001b[0m\u001b[1;33m\u001b[0m\u001b[0m\n\u001b[0;32m---> 10\u001b[0;31m \u001b[0mplt\u001b[0m\u001b[1;33m.\u001b[0m\u001b[0mscatter\u001b[0m\u001b[1;33m(\u001b[0m\u001b[0msvr\u001b[0m\u001b[1;33m.\u001b[0m\u001b[0mepsilon\u001b[0m\u001b[1;33m,\u001b[0m \u001b[0msvr\u001b[0m\u001b[1;33m.\u001b[0m\u001b[0mr_squared\u001b[0m\u001b[1;33m)\u001b[0m\u001b[1;33m\u001b[0m\u001b[0m\n\u001b[0m",
      "\u001b[0;32mC:\\Users\\mkennedy\\AppData\\Local\\Continuum\\Anaconda3\\lib\\site-packages\\matplotlib\\pyplot.py\u001b[0m in \u001b[0;36mscatter\u001b[0;34m(x, y, s, c, marker, cmap, norm, vmin, vmax, alpha, linewidths, verts, edgecolors, hold, data, **kwargs)\u001b[0m\n\u001b[1;32m   3433\u001b[0m                          \u001b[0mvmin\u001b[0m\u001b[1;33m=\u001b[0m\u001b[0mvmin\u001b[0m\u001b[1;33m,\u001b[0m \u001b[0mvmax\u001b[0m\u001b[1;33m=\u001b[0m\u001b[0mvmax\u001b[0m\u001b[1;33m,\u001b[0m \u001b[0malpha\u001b[0m\u001b[1;33m=\u001b[0m\u001b[0malpha\u001b[0m\u001b[1;33m,\u001b[0m\u001b[1;33m\u001b[0m\u001b[0m\n\u001b[1;32m   3434\u001b[0m                          \u001b[0mlinewidths\u001b[0m\u001b[1;33m=\u001b[0m\u001b[0mlinewidths\u001b[0m\u001b[1;33m,\u001b[0m \u001b[0mverts\u001b[0m\u001b[1;33m=\u001b[0m\u001b[0mverts\u001b[0m\u001b[1;33m,\u001b[0m\u001b[1;33m\u001b[0m\u001b[0m\n\u001b[0;32m-> 3435\u001b[0;31m                          edgecolors=edgecolors, data=data, **kwargs)\n\u001b[0m\u001b[1;32m   3436\u001b[0m     \u001b[1;32mfinally\u001b[0m\u001b[1;33m:\u001b[0m\u001b[1;33m\u001b[0m\u001b[0m\n\u001b[1;32m   3437\u001b[0m         \u001b[0max\u001b[0m\u001b[1;33m.\u001b[0m\u001b[0m_hold\u001b[0m \u001b[1;33m=\u001b[0m \u001b[0mwashold\u001b[0m\u001b[1;33m\u001b[0m\u001b[0m\n",
      "\u001b[0;32mC:\\Users\\mkennedy\\AppData\\Local\\Continuum\\Anaconda3\\lib\\site-packages\\matplotlib\\__init__.py\u001b[0m in \u001b[0;36minner\u001b[0;34m(ax, *args, **kwargs)\u001b[0m\n\u001b[1;32m   1889\u001b[0m                     warnings.warn(msg % (label_namer, func.__name__),\n\u001b[1;32m   1890\u001b[0m                                   RuntimeWarning, stacklevel=2)\n\u001b[0;32m-> 1891\u001b[0;31m             \u001b[1;32mreturn\u001b[0m \u001b[0mfunc\u001b[0m\u001b[1;33m(\u001b[0m\u001b[0max\u001b[0m\u001b[1;33m,\u001b[0m \u001b[1;33m*\u001b[0m\u001b[0margs\u001b[0m\u001b[1;33m,\u001b[0m \u001b[1;33m**\u001b[0m\u001b[0mkwargs\u001b[0m\u001b[1;33m)\u001b[0m\u001b[1;33m\u001b[0m\u001b[0m\n\u001b[0m\u001b[1;32m   1892\u001b[0m         \u001b[0mpre_doc\u001b[0m \u001b[1;33m=\u001b[0m \u001b[0minner\u001b[0m\u001b[1;33m.\u001b[0m\u001b[0m__doc__\u001b[0m\u001b[1;33m\u001b[0m\u001b[0m\n\u001b[1;32m   1893\u001b[0m         \u001b[1;32mif\u001b[0m \u001b[0mpre_doc\u001b[0m \u001b[1;32mis\u001b[0m \u001b[1;32mNone\u001b[0m\u001b[1;33m:\u001b[0m\u001b[1;33m\u001b[0m\u001b[0m\n",
      "\u001b[0;32mC:\\Users\\mkennedy\\AppData\\Local\\Continuum\\Anaconda3\\lib\\site-packages\\matplotlib\\axes\\_axes.py\u001b[0m in \u001b[0;36mscatter\u001b[0;34m(self, x, y, s, c, marker, cmap, norm, vmin, vmax, alpha, linewidths, verts, edgecolors, **kwargs)\u001b[0m\n\u001b[1;32m   3956\u001b[0m         \u001b[0my\u001b[0m \u001b[1;33m=\u001b[0m \u001b[0mnp\u001b[0m\u001b[1;33m.\u001b[0m\u001b[0mma\u001b[0m\u001b[1;33m.\u001b[0m\u001b[0mravel\u001b[0m\u001b[1;33m(\u001b[0m\u001b[0my\u001b[0m\u001b[1;33m)\u001b[0m\u001b[1;33m\u001b[0m\u001b[0m\n\u001b[1;32m   3957\u001b[0m         \u001b[1;32mif\u001b[0m \u001b[0mx\u001b[0m\u001b[1;33m.\u001b[0m\u001b[0msize\u001b[0m \u001b[1;33m!=\u001b[0m \u001b[0my\u001b[0m\u001b[1;33m.\u001b[0m\u001b[0msize\u001b[0m\u001b[1;33m:\u001b[0m\u001b[1;33m\u001b[0m\u001b[0m\n\u001b[0;32m-> 3958\u001b[0;31m             \u001b[1;32mraise\u001b[0m \u001b[0mValueError\u001b[0m\u001b[1;33m(\u001b[0m\u001b[1;34m\"x and y must be the same size\"\u001b[0m\u001b[1;33m)\u001b[0m\u001b[1;33m\u001b[0m\u001b[0m\n\u001b[0m\u001b[1;32m   3959\u001b[0m \u001b[1;33m\u001b[0m\u001b[0m\n\u001b[1;32m   3960\u001b[0m         \u001b[1;32mif\u001b[0m \u001b[0ms\u001b[0m \u001b[1;32mis\u001b[0m \u001b[1;32mNone\u001b[0m\u001b[1;33m:\u001b[0m\u001b[1;33m\u001b[0m\u001b[0m\n",
      "\u001b[0;31mValueError\u001b[0m: x and y must be the same size"
     ]
    },
    {
     "data": {
      "image/png": "iVBORw0KGgoAAAANSUhEUgAAAegAAAFMCAYAAAAA3S/0AAAABHNCSVQICAgIfAhkiAAAAAlwSFlz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\n",
      "text/plain": [
       "<matplotlib.figure.Figure at 0x2c5024de198>"
      ]
     },
     "metadata": {},
     "output_type": "display_data"
    }
   ],
   "source": [
    "# Finding the optimal parameters for Support Vector Regression\n",
    "svr = pd.DataFrame(columns = ('alpha', 'r_squared'))\n",
    "\n",
    "svr.epsilon = np.concatenate((np.arange(.1,1,.2), np.arange(1,300,2)), axis=0)\n",
    "\n",
    "for alpha in svr.alpha:\n",
    "    svregr = linear_model.SVR(epsilon=epsilon, fit_intercept=False)\n",
    "    svregr.fit(X, Y)\n",
    "    svr.loc[svr.epsilon==epsilon,'r_squared'] = svregr.score(X, Y)\n",
    "plt.scatter(svr.epsilon, svr.r_squared)"
   ]
  },
  {
   "cell_type": "code",
   "execution_count": 25,
   "metadata": {
    "collapsed": false
   },
=======
   "execution_count": 26,
   "metadata": {},
>>>>>>> c87489672007802cff7c1eb36ac87f817b4f4b4d
   "outputs": [
    {
     "name": "stdout",
     "output_type": "stream",
     "text": [
      "R2 Score:\n",
      "[ -3.24882390e-03  -1.91231150e-03  -5.44323850e-04  -1.91231150e-03\n",
      "  -1.04272341e-04  -3.24882390e-03  -1.61141748e-03  -2.41664551e-03\n",
      "  -2.62064570e-06  -1.38435358e-02]\n",
      "Average of the R2 Score:\n",
      "-0.00288450863917\n"
     ]
    }
   ],
   "source": [
    "# TODO: Look up the epsilon value for SVR\n",
    "# Changing value for epsilon may reduce the overfitting\n",
    "\n",
    "# Make a model using SVR here\n",
    "svr = SVR(epsilon=.5)\n",
    "svr.fit(X,Y)\n",
    "y_pred = lasso.fit(X,Y).predict(X)\n",
    "\n",
    "# Use Accuracy for the Scoring Metric\n",
    "cv = cross_val_score(svr, X, Y, cv=10, scoring='r2') \n",
    "print('R2 Score:')\n",
    "print(cv)\n",
    "# Print the average of the AUROC and store it in the table\n",
    "print('Average of the R2 Score:')\n",
    "print(cv.mean())\n",
    "\n",
    "# Store the data in the model_comparison table\n",
    "models = {'Model':['Support Vector Regression'], 'Scoring Metric':'R2', 'Scoring Value':[cv.mean()]}\n",
    "model_comparison = model_comparison.append(pd.DataFrame(data=models, columns=models.keys()), ignore_index=True)"
   ]
  },
  {
   "cell_type": "code",
<<<<<<< HEAD
   "execution_count": 26,
   "metadata": {
    "collapsed": false
   },
=======
   "execution_count": 27,
   "metadata": {},
>>>>>>> c87489672007802cff7c1eb36ac87f817b4f4b4d
   "outputs": [
    {
     "name": "stdout",
     "output_type": "stream",
     "text": [
      "[ 0.04302036  0.04367439  0.04192738 ...,  0.05594064  0.05569343\n",
      "  0.05709057]\n",
      "0.0485282418457\n"
     ]
    }
   ],
   "source": [
    "print(y_pred)\n",
    "print(y_pred.mean())"
   ]
  },
  {
   "cell_type": "markdown",
   "metadata": {},
   "source": [
    "# Support Vector Classifier"
   ]
  },
  {
   "cell_type": "code",
<<<<<<< HEAD
   "execution_count": 47,
   "metadata": {
    "collapsed": false
   },
   "outputs": [
    {
     "ename": "NameError",
     "evalue": "name 'C' is not defined",
     "output_type": "error",
     "traceback": [
      "\u001b[0;31m---------------------------------------------------------------------------\u001b[0m",
      "\u001b[0;31mNameError\u001b[0m                                 Traceback (most recent call last)",
      "\u001b[0;32m<ipython-input-47-1ff67eefa000>\u001b[0m in \u001b[0;36m<module>\u001b[0;34m()\u001b[0m\n\u001b[1;32m      5\u001b[0m \u001b[1;33m\u001b[0m\u001b[0m\n\u001b[1;32m      6\u001b[0m \u001b[1;32mfor\u001b[0m \u001b[0mc\u001b[0m \u001b[1;32min\u001b[0m \u001b[0msvc\u001b[0m\u001b[1;33m.\u001b[0m\u001b[0mc\u001b[0m\u001b[1;33m:\u001b[0m\u001b[1;33m\u001b[0m\u001b[0m\n\u001b[0;32m----> 7\u001b[0;31m     \u001b[0mscvregr\u001b[0m \u001b[1;33m=\u001b[0m \u001b[0mSVC\u001b[0m\u001b[1;33m(\u001b[0m\u001b[0mC\u001b[0m\u001b[1;33m=\u001b[0m\u001b[0mC\u001b[0m\u001b[1;33m,\u001b[0m \u001b[0mfit_intercept\u001b[0m\u001b[1;33m=\u001b[0m\u001b[1;32mFalse\u001b[0m\u001b[1;33m)\u001b[0m\u001b[1;33m\u001b[0m\u001b[0m\n\u001b[0m\u001b[1;32m      8\u001b[0m     \u001b[0msvcregr\u001b[0m\u001b[1;33m.\u001b[0m\u001b[0mfit\u001b[0m\u001b[1;33m(\u001b[0m\u001b[0mX\u001b[0m\u001b[1;33m,\u001b[0m \u001b[0mY\u001b[0m\u001b[1;33m)\u001b[0m\u001b[1;33m\u001b[0m\u001b[0m\n\u001b[1;32m      9\u001b[0m     \u001b[0msvc\u001b[0m\u001b[1;33m.\u001b[0m\u001b[0mloc\u001b[0m\u001b[1;33m[\u001b[0m\u001b[0msvc\u001b[0m\u001b[1;33m.\u001b[0m\u001b[0mC\u001b[0m\u001b[1;33m==\u001b[0m\u001b[0mC\u001b[0m\u001b[1;33m,\u001b[0m\u001b[1;34m'r_squared'\u001b[0m\u001b[1;33m]\u001b[0m \u001b[1;33m=\u001b[0m \u001b[0msvcregr\u001b[0m\u001b[1;33m.\u001b[0m\u001b[0mscore\u001b[0m\u001b[1;33m(\u001b[0m\u001b[0mX\u001b[0m\u001b[1;33m,\u001b[0m \u001b[0mY\u001b[0m\u001b[1;33m)\u001b[0m\u001b[1;33m\u001b[0m\u001b[0m\n",
      "\u001b[0;31mNameError\u001b[0m: name 'C' is not defined"
     ]
    }
   ],
   "source": [
    "# Finding the optimal parameters for Support Vector Classification\n",
    "svc = pd.DataFrame(columns = ('C', 'r_squared'))\n",
    "\n",
    "svc.c = np.concatenate((np.arange(.1,1,.2), np.arange(1,300,2)), axis=0)\n",
    "\n",
    "for c in svc.c:\n",
    "    scvregr = SVC(C=C, fit_intercept=False)\n",
    "    svcregr.fit(X, Y)\n",
    "    svc.loc[svc.C==C,'r_squared'] = svcregr.score(X, Y)\n",
    "plt.scatter(svc.C, svc.r_squared)"
   ]
  },
  {
   "cell_type": "code",
   "execution_count": 48,
   "metadata": {
    "collapsed": false
   },
=======
   "execution_count": 28,
   "metadata": {},
>>>>>>> c87489672007802cff7c1eb36ac87f817b4f4b4d
   "outputs": [
    {
     "name": "stdout",
     "output_type": "stream",
     "text": [
      "Confusion Matrix of the model:\n",
      "[[598   0]\n",
      " [  0 659]]\n",
      "Accuracy Score:\n",
      "[ 0.52380952  0.52380952  0.52380952  0.52380952  0.52380952  0.52380952\n",
      "  0.52380952  0.52380952  0.528       0.52419355]\n",
      "Average of the Accuracy Score:\n",
      "0.524266973886\n"
     ]
    }
   ],
   "source": [
<<<<<<< HEAD
    "# Make a model using SVC here\n",
=======
    "# Play with C value. Look at the challenge to find the best values for ridge/lasso\n",
    "# for example functions. \n",
    "\n",
    "# Make a model using SVR here\n",
>>>>>>> c87489672007802cff7c1eb36ac87f817b4f4b4d
    "svc = SVC()\n",
    "svc.fit(X,Y)\n",
    "y_pred = svc.fit(X,Y).predict(X)\n",
    "\n",
    "print('Confusion Matrix of the model:')\n",
    "conf_mat = confusion_matrix(Y, y_pred)\n",
    "print(conf_mat)\n",
    "\n",
    "# Print the Accuracy.\n",
    "cv = cross_val_score(svc, X, Y, cv=10, scoring='accuracy') \n",
    "print('Accuracy Score:')\n",
    "print(cv)\n",
    "# Print the average of the AUROC and store it in the table\n",
    "print('Average of the Accuracy Score:')\n",
    "print(cv.mean())\n",
    "\n",
    "\n",
    "# Store the data in the model_comparison table\n",
    "models = {'Model':['Support Vector Classifier'], 'Scoring Metric':'Accuracy', 'Scoring Value':[cv.mean()]}\n",
    "model_comparison = model_comparison.append(pd.DataFrame(data=models, columns=models.keys()), ignore_index=True)"
   ]
  },
  {
   "cell_type": "code",
<<<<<<< HEAD
   "execution_count": 28,
   "metadata": {
    "collapsed": false
   },
=======
   "execution_count": 29,
   "metadata": {},
>>>>>>> c87489672007802cff7c1eb36ac87f817b4f4b4d
   "outputs": [
    {
     "name": "stdout",
     "output_type": "stream",
     "text": [
      "[ 1. -1.  1. ..., -1. -1.  1.]\n",
      "0.0485282418457\n"
     ]
    }
   ],
   "source": [
    "print(y_pred)\n",
    "print(y_pred.mean())"
   ]
  },
  {
   "cell_type": "markdown",
   "metadata": {},
   "source": [
    "# Gradient Boosting Classifier"
   ]
  },
  {
   "cell_type": "code",
<<<<<<< HEAD
   "execution_count": 29,
   "metadata": {
    "collapsed": false
   },
=======
   "execution_count": 30,
   "metadata": {},
>>>>>>> c87489672007802cff7c1eb36ac87f817b4f4b4d
   "outputs": [
    {
     "name": "stdout",
     "output_type": "stream",
     "text": [
      "Confusion Matrix of the model:\n",
      "[[598   0]\n",
      " [  0 659]]\n",
      "Accuracy Score:\n",
<<<<<<< HEAD
      "[ 0.55555556  0.42063492  0.6031746   0.5         0.50793651  0.4047619\n",
      "  0.49206349  0.53174603  0.44        0.54032258]\n",
      "Average of the Accuracy Score:\n",
      "0.499619559652\n"
=======
      "[ 0.55555556  0.42857143  0.61111111  0.50793651  0.52380952  0.41269841\n",
      "  0.50793651  0.53968254  0.44        0.53225806]\n",
      "Average of the Accuracy Score:\n",
      "0.505955965182\n"
>>>>>>> c87489672007802cff7c1eb36ac87f817b4f4b4d
     ]
    }
   ],
   "source": [
    "# 500 iterations, using 5-deep trees, and loss function 'deviance.'\n",
    "# Play around with number of iterations\n",
    "# Look into learning rate\n",
    "params = {'n_estimators': 500,\n",
    "          'max_depth': 5,\n",
    "          'loss': 'deviance'}\n",
    "\n",
    "# Initialize and fit the model.\n",
    "clf = ensemble.GradientBoostingClassifier(**params)\n",
    "clf.fit(X,Y)\n",
    "y_pred = clf.fit(X,Y).predict(X)\n",
    "\n",
    "print('Confusion Matrix of the model:')\n",
    "conf_mat = confusion_matrix(Y, y_pred)\n",
    "print(conf_mat)\n",
    "\n",
    "# Print the AUROC.\n",
    "cv = cross_val_score(clf, X, Y, cv=10, scoring='accuracy') \n",
    "print('Accuracy Score:')\n",
    "print(cv)\n",
    "# Print the average of the AUROC and store it in the table\n",
    "print('Average of the Accuracy Score:')\n",
    "print(cv.mean())\n",
    "\n",
    "# Store the data in the model_comparison table\n",
    "models = {'Model':['Gradient Boosting Classifier'], 'Scoring Metric':'Accuracy', 'Scoring Value':[cv.mean()]}\n",
    "model_comparison = model_comparison.append(pd.DataFrame(data=models, columns=models.keys()), ignore_index=True)"
   ]
  },
  {
   "cell_type": "code",
<<<<<<< HEAD
   "execution_count": 30,
   "metadata": {
    "collapsed": false
   },
=======
   "execution_count": 31,
   "metadata": {},
>>>>>>> c87489672007802cff7c1eb36ac87f817b4f4b4d
   "outputs": [
    {
     "name": "stdout",
     "output_type": "stream",
     "text": [
      "[ 1. -1.  1. ..., -1. -1.  1.]\n",
      "0.0485282418457\n"
     ]
    }
   ],
   "source": [
    "print(y_pred)\n",
    "print(y_pred.mean())"
   ]
  },
  {
   "cell_type": "markdown",
   "metadata": {},
   "source": [
    "# Section 3: Selection and Analysis of the Best Performing Model"
   ]
  },
  {
   "cell_type": "markdown",
   "metadata": {},
   "source": [
    "Display the model comparison table here. Write up an analysis. "
   ]
  },
  {
   "cell_type": "code",
<<<<<<< HEAD
   "execution_count": 31,
   "metadata": {
    "collapsed": false
   },
=======
   "execution_count": 32,
   "metadata": {},
>>>>>>> c87489672007802cff7c1eb36ac87f817b4f4b4d
   "outputs": [
    {
     "data": {
      "text/html": [
       "<div>\n",
       "<style>\n",
       "    .dataframe thead tr:only-child th {\n",
       "        text-align: right;\n",
       "    }\n",
       "\n",
       "    .dataframe thead th {\n",
       "        text-align: left;\n",
       "    }\n",
       "\n",
       "    .dataframe tbody tr th {\n",
       "        vertical-align: top;\n",
       "    }\n",
       "</style>\n",
       "<table border=\"1\" class=\"dataframe\">\n",
       "  <thead>\n",
       "    <tr style=\"text-align: right;\">\n",
       "      <th></th>\n",
       "      <th>Model</th>\n",
       "      <th>Scoring Metric</th>\n",
       "      <th>Scoring Value</th>\n",
       "    </tr>\n",
       "  </thead>\n",
       "  <tbody>\n",
       "    <tr>\n",
       "      <th>0</th>\n",
       "      <td>Logistic Regression</td>\n",
       "      <td>Accuracy</td>\n",
       "      <td>0.524267</td>\n",
       "    </tr>\n",
       "    <tr>\n",
       "      <th>1</th>\n",
       "      <td>Ridge Regression</td>\n",
       "      <td>R2</td>\n",
       "      <td>-0.007847</td>\n",
       "    </tr>\n",
       "    <tr>\n",
       "      <th>2</th>\n",
       "      <td>Lasso Regression</td>\n",
       "      <td>R2</td>\n",
       "      <td>-0.004287</td>\n",
       "    </tr>\n",
       "    <tr>\n",
       "      <th>3</th>\n",
       "      <td>Support Vector Regression</td>\n",
       "      <td>R2</td>\n",
       "      <td>-0.002885</td>\n",
       "    </tr>\n",
       "    <tr>\n",
       "      <th>4</th>\n",
       "      <td>Support Vector Classifier</td>\n",
       "      <td>Accuracy</td>\n",
       "      <td>0.524267</td>\n",
       "    </tr>\n",
       "    <tr>\n",
       "      <th>5</th>\n",
       "      <td>Gradient Boosting Classifier</td>\n",
       "      <td>Accuracy</td>\n",
<<<<<<< HEAD
       "      <td>0.499620</td>\n",
=======
       "      <td>0.505956</td>\n",
>>>>>>> c87489672007802cff7c1eb36ac87f817b4f4b4d
       "    </tr>\n",
       "  </tbody>\n",
       "</table>\n",
       "</div>"
      ],
      "text/plain": [
       "                          Model Scoring Metric  Scoring Value\n",
       "0           Logistic Regression       Accuracy       0.524267\n",
       "1              Ridge Regression             R2      -0.007847\n",
       "2              Lasso Regression             R2      -0.004287\n",
       "3     Support Vector Regression             R2      -0.002885\n",
       "4     Support Vector Classifier       Accuracy       0.524267\n",
<<<<<<< HEAD
       "5  Gradient Boosting Classifier       Accuracy       0.499620"
      ]
     },
     "execution_count": 31,
=======
       "5  Gradient Boosting Classifier       Accuracy       0.505956"
      ]
     },
     "execution_count": 32,
>>>>>>> c87489672007802cff7c1eb36ac87f817b4f4b4d
     "metadata": {},
     "output_type": "execute_result"
    }
   ],
   "source": [
    "model_comparison"
   ]
  },
  {
   "cell_type": "markdown",
   "metadata": {},
   "source": [
    "Analysis of table goes here. "
   ]
  },
  {
   "cell_type": "markdown",
   "metadata": {},
   "source": [
    "# Starting with \\$10k in cash, how will the top three models perform compared to one another as well as to a 401(k) approach?"
   ]
  },
  {
   "cell_type": "code",
<<<<<<< HEAD
   "execution_count": 32,
   "metadata": {
    "collapsed": false
   },
=======
   "execution_count": 33,
   "metadata": {},
>>>>>>> c87489672007802cff7c1eb36ac87f817b4f4b4d
   "outputs": [
    {
     "data": {
      "text/html": [
       "<div>\n",
<<<<<<< HEAD
=======
       "<style>\n",
       "    .dataframe thead tr:only-child th {\n",
       "        text-align: right;\n",
       "    }\n",
       "\n",
       "    .dataframe thead th {\n",
       "        text-align: left;\n",
       "    }\n",
       "\n",
       "    .dataframe tbody tr th {\n",
       "        vertical-align: top;\n",
       "    }\n",
       "</style>\n",
>>>>>>> c87489672007802cff7c1eb36ac87f817b4f4b4d
       "<table border=\"1\" class=\"dataframe\">\n",
       "  <thead>\n",
       "    <tr style=\"text-align: right;\">\n",
       "      <th></th>\n",
       "      <th>Stocks</th>\n",
       "      <th>Cash</th>\n",
       "    </tr>\n",
       "  </thead>\n",
       "  <tbody>\n",
       "  </tbody>\n",
       "</table>\n",
       "</div>"
      ],
      "text/plain": [
       "Empty DataFrame\n",
       "Columns: [Stocks, Cash]\n",
       "Index: []"
      ]
     },
<<<<<<< HEAD
     "execution_count": 32,
=======
     "execution_count": 33,
>>>>>>> c87489672007802cff7c1eb36ac87f817b4f4b4d
     "metadata": {},
     "output_type": "execute_result"
    }
   ],
   "source": [
    "# Create a cash_available list that stores how much cash is available \n",
    "# to buy the stocks. It will be $1000 every ten business days.\n",
    "cash_available = [1000]\n",
    "\n",
    "# Create a list for stocks and cash\n",
    "\n",
    "# Start out with 0 stocks_owned\n",
    "stocks_owned = [0]\n",
    "\n",
    "# Create DataFrame for values\n",
    "new_values = {'Stocks':[],'Cash':[]}\n",
    "columns = new_values.keys()\n",
    "values = pd.DataFrame(data=new_values, columns=columns)\n",
    "values"
   ]
  },
  {
   "cell_type": "code",
<<<<<<< HEAD
   "execution_count": 33,
   "metadata": {
    "collapsed": true
   },
=======
   "execution_count": 34,
   "metadata": {},
>>>>>>> c87489672007802cff7c1eb36ac87f817b4f4b4d
   "outputs": [],
   "source": [
    "# Create a pred_return function to calculate the returns of the prediction models\n",
    "def pred_return(y_pred, data, cash_available, stocks_owned):\n",
    "    for i in range(len(y_pred)):\n",
    "        # For every tenth iteration of i, add 1000 to cash_available\n",
    "        if i%10 == 0:\n",
    "            cash_available = cash_available+1000\n",
    "        # If the predicted value is greater than zero, buy more stock\n",
    "        if y_pred[i] > 0:\n",
    "            [stocks_owned,cash_available] = buy_stock(cash_available, \n",
    "                                                      stocks_owned, y_pred, \n",
    "                                                      data.Close[i])\n",
    "        # If the predicted value is less than zero, sell stock\n",
    "        elif y_pred[i] < 0:\n",
    "            [stocks_owned,cash_available] = sell_stock(cash_available, \n",
    "                                                      stocks_owned, y_pred, \n",
    "                                                      data.Close[i])\n",
    "        stocks_owned = [stocks_owned,cash_available][0]\n",
    "        cash_available = [stocks_owned,cash_available][1]\n",
    "        new_values = {'Stocks':[stocks_owned], 'Cash':[cash_available]}\n",
    "        values.append(pd.DataFrame(data=new_values, columns=\n",
    "                                            new_values.keys()), \n",
    "                                            ignore_index=True)\n",
    "    print(values)"
   ]
  },
  {
   "cell_type": "code",
<<<<<<< HEAD
   "execution_count": 34,
=======
   "execution_count": 35,
>>>>>>> c87489672007802cff7c1eb36ac87f817b4f4b4d
   "metadata": {
    "collapsed": true
   },
   "outputs": [],
   "source": [
    "# Create a buy_stock function that buys as many stocks as can be afforded\n",
    "def buy_stock(cash_available, stocks_owned, y_pred, value):\n",
    "    # Set number of stocks to buy\n",
    "    num_stocks_buy = int(cash_available/value)\n",
    "    # Subtract from cash_available, store it in a list\n",
    "    cash_available = cash_available-num_stocks_buy*value\n",
    "    stocks_owned = stocks_owned+num_stocks_buy\n",
    "    return(stocks_owned, cash_available)"
   ]
  },
  {
   "cell_type": "code",
<<<<<<< HEAD
   "execution_count": 35,
=======
   "execution_count": 36,
>>>>>>> c87489672007802cff7c1eb36ac87f817b4f4b4d
   "metadata": {
    "collapsed": true
   },
   "outputs": [],
   "source": [
    "# Create a sell_stock function that sells all stocks\n",
    "def sell_stock(cash_available, stocks_owned, y_pred, value):\n",
    "    sell_value = stocks_owned*value\n",
    "    cash_available = cash_available + sell_value\n",
    "    stocks_owned = 0\n",
    "    return(stocks_owned, cash_available)"
   ]
  },
  {
   "cell_type": "code",
<<<<<<< HEAD
   "execution_count": 36,
=======
   "execution_count": 37,
>>>>>>> c87489672007802cff7c1eb36ac87f817b4f4b4d
   "metadata": {
    "collapsed": true
   },
   "outputs": [],
   "source": [
    "# Create the 401k approach simulator, safe_invest, \n",
    "# That buys as much stock as is available every two weeks / ten business days.\n",
    "def safe_invest(data, cash_available, stocks_owned):\n",
    "    for i in range(data):\n",
    "        num_stocks_buy = cash_available/data.Close\n",
    "        stocks_owned = num_stocks_buy + stocks_owned\n",
    "        # Store the values in a table\n",
    "        new_values = {'Stocks':[stocks_owned], 'Cash':[cash_available]}\n",
    "        values = values.append(pd.DataFrame(data=new_values, columns=\n",
    "                                            new_values.keys()), \n",
    "                                            ignore_index=True)\n",
    "        # For every tenth iteration of i, add 1000 to cash_available\n",
    "        if i%10 == 0:\n",
    "            cash_available = cash_available+1000\n",
    "    print(values)"
   ]
  },
  {
   "cell_type": "code",
<<<<<<< HEAD
   "execution_count": 37,
   "metadata": {
    "collapsed": false
   },
=======
   "execution_count": 38,
   "metadata": {},
>>>>>>> c87489672007802cff7c1eb36ac87f817b4f4b4d
   "outputs": [
    {
     "name": "stdout",
     "output_type": "stream",
     "text": [
      "Empty DataFrame\n",
      "Columns: [Stocks, Cash]\n",
      "Index: []\n"
     ]
    }
   ],
   "source": [
    "# Run the pred_return function for lr\n",
    "y_pred = lr.fit(X,Y).predict(X)\n",
    "cash_available = 0\n",
    "stocks_owned = 0\n",
    "pred_return(y_pred, data, cash_available, stocks_owned)"
   ]
  }
 ],
 "metadata": {
  "kernelspec": {
   "display_name": "Python 3",
   "language": "python",
   "name": "python3"
  },
  "language_info": {
   "codemirror_mode": {
    "name": "ipython",
    "version": 3
   },
   "file_extension": ".py",
   "mimetype": "text/x-python",
   "name": "python",
   "nbconvert_exporter": "python",
   "pygments_lexer": "ipython3",
   "version": "3.6.1"
  }
 },
 "nbformat": 4,
 "nbformat_minor": 2
}
