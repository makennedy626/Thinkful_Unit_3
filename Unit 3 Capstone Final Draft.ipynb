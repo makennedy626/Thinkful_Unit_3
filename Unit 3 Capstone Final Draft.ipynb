{
 "cells": [
  {
   "cell_type": "markdown",
   "metadata": {},
   "source": [
    "# Timing the Market vs Time in the Market\n",
    "   ## Comparison of Supervised Learning Models to a Simulated 401(k) Approach\n",
    "  \n",
    "  ### Unit 3 Capstone Project\n",
    "  ### Matthew Kennedy, August 2017\n",
    "\n",
    "   ## Section 1: Overview of Dataset and Analysis of Data\n",
    "   \n",
    "   The dataset used in this project comes from Kaggle user \"CNuge.\" The dataset contains historical stock prices over the last five years for all companies in the S&P 500 index and can be found at https://www.kaggle.com/camnugent/sandp500. This project will use the files that have the historical prices for individual stocks.   \n",
    "       \n",
    "   The dataset contains the following columns: \n",
    "       \n",
    "       Date - In the format of yy-mm-dd\n",
    "       Open - Price of the stock in USD at market open\n",
    "       High - Highest price reached in the day\n",
    "       Low - Lowest price reached in the day\n",
    "       Close - The price the stock had at the end of the day\n",
    "       Volume - Number of shares traded\n",
    "       Name - The stock's ticker name\n",
    "       \n",
    "   The user collected the data by using the python library, 'pandas_datareader,' to scrape Google Finance."
   ]
  },
  {
   "cell_type": "code",
   "execution_count": 1,
   "metadata": {},
   "outputs": [
    {
     "name": "stderr",
     "output_type": "stream",
     "text": [
      "C:\\Users\\maken\\Anaconda3\\lib\\site-packages\\statsmodels\\compat\\pandas.py:56: FutureWarning: The pandas.core.datetools module is deprecated and will be removed in a future version. Please use the pandas.tseries module instead.\n",
      "  from pandas.core import datetools\n"
     ]
    }
   ],
   "source": [
    "# Import the necessary modules\n",
    "import pandas as pd\n",
    "import numpy as np\n",
    "import scipy\n",
    "import matplotlib.pyplot as plt\n",
    "%matplotlib inline\n",
    "\n",
    "from sklearn import linear_model\n",
    "from sklearn import preprocessing\n",
    "import statsmodels.api as sm\n",
    "from sklearn.linear_model import LogisticRegression\n",
    "from sklearn.svm import SVR\n",
    "from sklearn.svm import SVC\n",
    "from sklearn import ensemble\n",
    "from sklearn import datasets\n",
    "from sklearn.utils import shuffle\n",
    "from sklearn.metrics import mean_squared_error\n",
    "from sklearn.metrics import r2_score\n",
    "from sklearn.metrics import confusion_matrix\n",
    "from sklearn.model_selection import cross_val_score"
   ]
  },
  {
   "cell_type": "code",
   "execution_count": 2,
   "metadata": {},
   "outputs": [],
   "source": [
    "# This project will use the historical prices of GOOGL\n",
    "\n",
    "# Read the Dataset, store the original\n",
    "# This is the filepath on my laptop:\n",
    "#original = pd.read_csv('C:\\\\Users\\\\mkennedy\\\\sandp500\\\\individual_stocks_5yr\\\\GOOGL_data.csv', encoding='utf-8-sig')\n",
    "# This is the filepath on my desktop:\n",
    "original = pd.read_csv('D:\\\\Data\\\\sandp500\\\\GOOGL_data.csv')"
   ]
  },
  {
   "cell_type": "code",
   "execution_count": 3,
   "metadata": {},
   "outputs": [
    {
     "data": {
      "text/html": [
       "<div>\n",
       "<style>\n",
       "    .dataframe thead tr:only-child th {\n",
       "        text-align: right;\n",
       "    }\n",
       "\n",
       "    .dataframe thead th {\n",
       "        text-align: left;\n",
       "    }\n",
       "\n",
       "    .dataframe tbody tr th {\n",
       "        vertical-align: top;\n",
       "    }\n",
       "</style>\n",
       "<table border=\"1\" class=\"dataframe\">\n",
       "  <thead>\n",
       "    <tr style=\"text-align: right;\">\n",
       "      <th></th>\n",
       "      <th>Date</th>\n",
       "      <th>Open</th>\n",
       "      <th>High</th>\n",
       "      <th>Low</th>\n",
       "      <th>Close</th>\n",
       "      <th>Volume</th>\n",
       "      <th>Name</th>\n",
       "    </tr>\n",
       "  </thead>\n",
       "  <tbody>\n",
       "    <tr>\n",
       "      <th>0</th>\n",
       "      <td>8/13/2012</td>\n",
       "      <td>324.03</td>\n",
       "      <td>330.41</td>\n",
       "      <td>323.66</td>\n",
       "      <td>330.34</td>\n",
       "      <td>3268073</td>\n",
       "      <td>GOOGL</td>\n",
       "    </tr>\n",
       "    <tr>\n",
       "      <th>1</th>\n",
       "      <td>8/14/2012</td>\n",
       "      <td>329.95</td>\n",
       "      <td>336.76</td>\n",
       "      <td>329.83</td>\n",
       "      <td>334.66</td>\n",
       "      <td>3662178</td>\n",
       "      <td>GOOGL</td>\n",
       "    </tr>\n",
       "    <tr>\n",
       "      <th>2</th>\n",
       "      <td>8/15/2012</td>\n",
       "      <td>335.48</td>\n",
       "      <td>337.46</td>\n",
       "      <td>332.38</td>\n",
       "      <td>334.10</td>\n",
       "      <td>2411100</td>\n",
       "      <td>GOOGL</td>\n",
       "    </tr>\n",
       "    <tr>\n",
       "      <th>3</th>\n",
       "      <td>8/16/2012</td>\n",
       "      <td>334.09</td>\n",
       "      <td>337.66</td>\n",
       "      <td>333.87</td>\n",
       "      <td>336.77</td>\n",
       "      <td>1717691</td>\n",
       "      <td>GOOGL</td>\n",
       "    </tr>\n",
       "    <tr>\n",
       "      <th>4</th>\n",
       "      <td>8/17/2012</td>\n",
       "      <td>337.40</td>\n",
       "      <td>338.96</td>\n",
       "      <td>336.19</td>\n",
       "      <td>338.91</td>\n",
       "      <td>2177896</td>\n",
       "      <td>GOOGL</td>\n",
       "    </tr>\n",
       "  </tbody>\n",
       "</table>\n",
       "</div>"
      ],
      "text/plain": [
       "        Date    Open    High     Low   Close   Volume   Name\n",
       "0  8/13/2012  324.03  330.41  323.66  330.34  3268073  GOOGL\n",
       "1  8/14/2012  329.95  336.76  329.83  334.66  3662178  GOOGL\n",
       "2  8/15/2012  335.48  337.46  332.38  334.10  2411100  GOOGL\n",
       "3  8/16/2012  334.09  337.66  333.87  336.77  1717691  GOOGL\n",
       "4  8/17/2012  337.40  338.96  336.19  338.91  2177896  GOOGL"
      ]
     },
     "execution_count": 3,
     "metadata": {},
     "output_type": "execute_result"
    }
   ],
   "source": [
    "# Copy a dataframe of the original data to manipulate\n",
    "data = original\n",
    "\n",
    "# Print the headers of the dataframe\n",
    "data.head()"
   ]
  },
  {
   "cell_type": "code",
   "execution_count": 4,
   "metadata": {},
   "outputs": [
    {
     "data": {
      "text/html": [
       "<div>\n",
       "<style>\n",
       "    .dataframe thead tr:only-child th {\n",
       "        text-align: right;\n",
       "    }\n",
       "\n",
       "    .dataframe thead th {\n",
       "        text-align: left;\n",
       "    }\n",
       "\n",
       "    .dataframe tbody tr th {\n",
       "        vertical-align: top;\n",
       "    }\n",
       "</style>\n",
       "<table border=\"1\" class=\"dataframe\">\n",
       "  <thead>\n",
       "    <tr style=\"text-align: right;\">\n",
       "      <th></th>\n",
       "      <th>Date</th>\n",
       "      <th>Open</th>\n",
       "      <th>High</th>\n",
       "      <th>Low</th>\n",
       "      <th>Close</th>\n",
       "      <th>Volume</th>\n",
       "      <th>Name</th>\n",
       "    </tr>\n",
       "  </thead>\n",
       "  <tbody>\n",
       "    <tr>\n",
       "      <th>1253</th>\n",
       "      <td>8/7/2017</td>\n",
       "      <td>947.52</td>\n",
       "      <td>948.96</td>\n",
       "      <td>943.50</td>\n",
       "      <td>945.75</td>\n",
       "      <td>1445754</td>\n",
       "      <td>GOOGL</td>\n",
       "    </tr>\n",
       "    <tr>\n",
       "      <th>1254</th>\n",
       "      <td>8/8/2017</td>\n",
       "      <td>944.29</td>\n",
       "      <td>952.49</td>\n",
       "      <td>942.48</td>\n",
       "      <td>944.19</td>\n",
       "      <td>1505064</td>\n",
       "      <td>GOOGL</td>\n",
       "    </tr>\n",
       "    <tr>\n",
       "      <th>1255</th>\n",
       "      <td>8/9/2017</td>\n",
       "      <td>938.45</td>\n",
       "      <td>943.76</td>\n",
       "      <td>933.92</td>\n",
       "      <td>940.08</td>\n",
       "      <td>1400852</td>\n",
       "      <td>GOOGL</td>\n",
       "    </tr>\n",
       "    <tr>\n",
       "      <th>1256</th>\n",
       "      <td>8/10/2017</td>\n",
       "      <td>935.00</td>\n",
       "      <td>936.30</td>\n",
       "      <td>921.78</td>\n",
       "      <td>923.59</td>\n",
       "      <td>2707393</td>\n",
       "      <td>GOOGL</td>\n",
       "    </tr>\n",
       "    <tr>\n",
       "      <th>1257</th>\n",
       "      <td>8/11/2017</td>\n",
       "      <td>923.71</td>\n",
       "      <td>933.36</td>\n",
       "      <td>921.22</td>\n",
       "      <td>930.09</td>\n",
       "      <td>1616708</td>\n",
       "      <td>GOOGL</td>\n",
       "    </tr>\n",
       "  </tbody>\n",
       "</table>\n",
       "</div>"
      ],
      "text/plain": [
       "           Date    Open    High     Low   Close   Volume   Name\n",
       "1253   8/7/2017  947.52  948.96  943.50  945.75  1445754  GOOGL\n",
       "1254   8/8/2017  944.29  952.49  942.48  944.19  1505064  GOOGL\n",
       "1255   8/9/2017  938.45  943.76  933.92  940.08  1400852  GOOGL\n",
       "1256  8/10/2017  935.00  936.30  921.78  923.59  2707393  GOOGL\n",
       "1257  8/11/2017  923.71  933.36  921.22  930.09  1616708  GOOGL"
      ]
     },
     "execution_count": 4,
     "metadata": {},
     "output_type": "execute_result"
    }
   ],
   "source": [
    "# Check the footer to make sure there are no rows of text\n",
    "data.tail()"
   ]
  },
  {
   "cell_type": "markdown",
   "metadata": {},
   "source": [
    "There are no footers that need to be excluded.\n",
    "There are 1257 rows of stock data. "
   ]
  },
  {
   "cell_type": "code",
   "execution_count": 5,
   "metadata": {},
   "outputs": [
    {
     "data": {
      "text/html": [
       "<div>\n",
       "<style>\n",
       "    .dataframe thead tr:only-child th {\n",
       "        text-align: right;\n",
       "    }\n",
       "\n",
       "    .dataframe thead th {\n",
       "        text-align: left;\n",
       "    }\n",
       "\n",
       "    .dataframe tbody tr th {\n",
       "        vertical-align: top;\n",
       "    }\n",
       "</style>\n",
       "<table border=\"1\" class=\"dataframe\">\n",
       "  <thead>\n",
       "    <tr style=\"text-align: right;\">\n",
       "      <th></th>\n",
       "      <th>Open</th>\n",
       "      <th>High</th>\n",
       "      <th>Low</th>\n",
       "      <th>Close</th>\n",
       "      <th>Volume</th>\n",
       "    </tr>\n",
       "  </thead>\n",
       "  <tbody>\n",
       "    <tr>\n",
       "      <th>count</th>\n",
       "      <td>1258.000000</td>\n",
       "      <td>1258.000000</td>\n",
       "      <td>1258.000000</td>\n",
       "      <td>1258.000000</td>\n",
       "      <td>1.258000e+03</td>\n",
       "    </tr>\n",
       "    <tr>\n",
       "      <th>mean</th>\n",
       "      <td>616.760469</td>\n",
       "      <td>621.377719</td>\n",
       "      <td>611.501638</td>\n",
       "      <td>616.599809</td>\n",
       "      <td>2.076615e+06</td>\n",
       "    </tr>\n",
       "    <tr>\n",
       "      <th>std</th>\n",
       "      <td>170.726853</td>\n",
       "      <td>171.626054</td>\n",
       "      <td>169.458607</td>\n",
       "      <td>170.631830</td>\n",
       "      <td>1.081167e+06</td>\n",
       "    </tr>\n",
       "    <tr>\n",
       "      <th>min</th>\n",
       "      <td>323.320000</td>\n",
       "      <td>326.830000</td>\n",
       "      <td>318.320000</td>\n",
       "      <td>323.910000</td>\n",
       "      <td>5.211410e+05</td>\n",
       "    </tr>\n",
       "    <tr>\n",
       "      <th>25%</th>\n",
       "      <td>510.217500</td>\n",
       "      <td>514.237500</td>\n",
       "      <td>504.365000</td>\n",
       "      <td>508.212500</td>\n",
       "      <td>1.453572e+06</td>\n",
       "    </tr>\n",
       "    <tr>\n",
       "      <th>50%</th>\n",
       "      <td>579.000000</td>\n",
       "      <td>583.625000</td>\n",
       "      <td>573.405000</td>\n",
       "      <td>579.170000</td>\n",
       "      <td>1.820138e+06</td>\n",
       "    </tr>\n",
       "    <tr>\n",
       "      <th>75%</th>\n",
       "      <td>758.737500</td>\n",
       "      <td>765.280000</td>\n",
       "      <td>754.065000</td>\n",
       "      <td>759.822500</td>\n",
       "      <td>2.343574e+06</td>\n",
       "    </tr>\n",
       "    <tr>\n",
       "      <th>max</th>\n",
       "      <td>1005.490000</td>\n",
       "      <td>1008.610000</td>\n",
       "      <td>996.620000</td>\n",
       "      <td>1004.280000</td>\n",
       "      <td>1.285814e+07</td>\n",
       "    </tr>\n",
       "  </tbody>\n",
       "</table>\n",
       "</div>"
      ],
      "text/plain": [
       "              Open         High          Low        Close        Volume\n",
       "count  1258.000000  1258.000000  1258.000000  1258.000000  1.258000e+03\n",
       "mean    616.760469   621.377719   611.501638   616.599809  2.076615e+06\n",
       "std     170.726853   171.626054   169.458607   170.631830  1.081167e+06\n",
       "min     323.320000   326.830000   318.320000   323.910000  5.211410e+05\n",
       "25%     510.217500   514.237500   504.365000   508.212500  1.453572e+06\n",
       "50%     579.000000   583.625000   573.405000   579.170000  1.820138e+06\n",
       "75%     758.737500   765.280000   754.065000   759.822500  2.343574e+06\n",
       "max    1005.490000  1008.610000   996.620000  1004.280000  1.285814e+07"
      ]
     },
     "execution_count": 5,
     "metadata": {},
     "output_type": "execute_result"
    }
   ],
   "source": [
    "# The describe method provides some additional information about the data\n",
    "data.describe()"
   ]
  },
  {
   "cell_type": "code",
   "execution_count": 6,
   "metadata": {},
   "outputs": [
    {
     "name": "stdout",
     "output_type": "stream",
     "text": [
      "Date       object\n",
      "Open      float64\n",
      "High      float64\n",
      "Low       float64\n",
      "Close     float64\n",
      "Volume      int64\n",
      "Name       object\n",
      "dtype: object\n"
     ]
    }
   ],
   "source": [
    "# The dtypes call will display the data types. \n",
    "# This is used to make sure all numerical values have the correct data type to work with in the models.\n",
    "print(data.dtypes)"
   ]
  },
  {
   "cell_type": "markdown",
   "metadata": {},
   "source": [
    "The dataset appears to be clean and easy to work with.\n",
    "\n",
    "Observe the correlations between columns by using seaborn's heatmap."
   ]
  },
  {
   "cell_type": "code",
   "execution_count": 7,
   "metadata": {},
   "outputs": [
    {
     "data": {
      "image/png": "[encoded data removed]",
      "text/plain": [
       "<matplotlib.figure.Figure at 0x1d0aa92ddd8>"
      ]
     },
     "metadata": {},
     "output_type": "display_data"
    }
   ],
   "source": [
    "# Create a heatmap to compare the correlation of the columns.\n",
    "import seaborn as sns\n",
    "\n",
    "corrmat = data.corr()\n",
    "\n",
    "# Set up the matplotlib figure.\n",
    "f, ax = plt.subplots(figsize=(12, 9))\n",
    "\n",
    "# Draw the heatmap using seaborn\n",
    "sns.heatmap(corrmat, vmax=.8, square=True)\n",
    "plt.show()"
   ]
  },
  {
   "cell_type": "markdown",
   "metadata": {},
   "source": [
    "As expected, the values are highly correlated. Creating prediction models based off of time-series data will not be helpful in reaching the goal of this project (to determine whether to buy or sell the at the next opening day). \n",
    "\n",
    "Features will need to be created to generate accurate predictions from the models. "
   ]
  },
  {
   "cell_type": "code",
   "execution_count": 8,
   "metadata": {},
   "outputs": [
    {
     "data": {
      "text/html": [
       "<div>\n",
       "<style>\n",
       "    .dataframe thead tr:only-child th {\n",
       "        text-align: right;\n",
       "    }\n",
       "\n",
       "    .dataframe thead th {\n",
       "        text-align: left;\n",
       "    }\n",
       "\n",
       "    .dataframe tbody tr th {\n",
       "        vertical-align: top;\n",
       "    }\n",
       "</style>\n",
       "<table border=\"1\" class=\"dataframe\">\n",
       "  <thead>\n",
       "    <tr style=\"text-align: right;\">\n",
       "      <th></th>\n",
       "      <th>Date</th>\n",
       "      <th>Open</th>\n",
       "      <th>High</th>\n",
       "      <th>Low</th>\n",
       "      <th>Close</th>\n",
       "      <th>Volume</th>\n",
       "      <th>Name</th>\n",
       "      <th>Momentum</th>\n",
       "    </tr>\n",
       "  </thead>\n",
       "  <tbody>\n",
       "    <tr>\n",
       "      <th>0</th>\n",
       "      <td>8/13/2012</td>\n",
       "      <td>324.03</td>\n",
       "      <td>330.41</td>\n",
       "      <td>323.66</td>\n",
       "      <td>330.34</td>\n",
       "      <td>3268073</td>\n",
       "      <td>GOOGL</td>\n",
       "      <td>0</td>\n",
       "    </tr>\n",
       "    <tr>\n",
       "      <th>1</th>\n",
       "      <td>8/14/2012</td>\n",
       "      <td>329.95</td>\n",
       "      <td>336.76</td>\n",
       "      <td>329.83</td>\n",
       "      <td>334.66</td>\n",
       "      <td>3662178</td>\n",
       "      <td>GOOGL</td>\n",
       "      <td>1</td>\n",
       "    </tr>\n",
       "    <tr>\n",
       "      <th>2</th>\n",
       "      <td>8/15/2012</td>\n",
       "      <td>335.48</td>\n",
       "      <td>337.46</td>\n",
       "      <td>332.38</td>\n",
       "      <td>334.10</td>\n",
       "      <td>2411100</td>\n",
       "      <td>GOOGL</td>\n",
       "      <td>-1</td>\n",
       "    </tr>\n",
       "    <tr>\n",
       "      <th>3</th>\n",
       "      <td>8/16/2012</td>\n",
       "      <td>334.09</td>\n",
       "      <td>337.66</td>\n",
       "      <td>333.87</td>\n",
       "      <td>336.77</td>\n",
       "      <td>1717691</td>\n",
       "      <td>GOOGL</td>\n",
       "      <td>1</td>\n",
       "    </tr>\n",
       "    <tr>\n",
       "      <th>4</th>\n",
       "      <td>8/17/2012</td>\n",
       "      <td>337.40</td>\n",
       "      <td>338.96</td>\n",
       "      <td>336.19</td>\n",
       "      <td>338.91</td>\n",
       "      <td>2177896</td>\n",
       "      <td>GOOGL</td>\n",
       "      <td>1</td>\n",
       "    </tr>\n",
       "  </tbody>\n",
       "</table>\n",
       "</div>"
      ],
      "text/plain": [
       "        Date    Open    High     Low   Close   Volume   Name  Momentum\n",
       "0  8/13/2012  324.03  330.41  323.66  330.34  3268073  GOOGL         0\n",
       "1  8/14/2012  329.95  336.76  329.83  334.66  3662178  GOOGL         1\n",
       "2  8/15/2012  335.48  337.46  332.38  334.10  2411100  GOOGL        -1\n",
       "3  8/16/2012  334.09  337.66  333.87  336.77  1717691  GOOGL         1\n",
       "4  8/17/2012  337.40  338.96  336.19  338.91  2177896  GOOGL         1"
      ]
     },
     "execution_count": 8,
     "metadata": {},
     "output_type": "execute_result"
    }
   ],
   "source": [
    "# The momentum will show how many days in a row the stock has moved up or down. \n",
    "\n",
    "# Create a list to store the momentum\n",
    "momentum = [0]\n",
    "i=1\n",
    "# Calculate the momentums and store them in the new column, 'Momentum'\n",
    "for row in data['Close']:\n",
    "    if i < len(data):\n",
    "        if data.Close[i] > data.Close[i-1]:\n",
    "            momentum.append(+1)\n",
    "            i = i+1\n",
    "        elif data.Close[i] < data.Close[i-1]:\n",
    "            momentum.append(-1)\n",
    "            i = i+1\n",
    "\n",
    "data['Momentum'] = momentum\n",
    "data.head()"
   ]
  },
  {
   "cell_type": "code",
   "execution_count": 9,
   "metadata": {},
   "outputs": [
    {
     "name": "stdout",
     "output_type": "stream",
     "text": [
      "61\n",
      "0.04848966613672496\n"
     ]
    }
   ],
   "source": [
    "# Print out the total momentum and the average momentum across all rows.\n",
    "total_mom = sum(data.Momentum)\n",
    "print(total_mom)\n",
    "ave_mom = data.Momentum.mean()\n",
    "print(ave_mom)"
   ]
  },
  {
   "cell_type": "code",
   "execution_count": 10,
   "metadata": {},
   "outputs": [
    {
     "data": {
      "text/html": [
       "<div>\n",
       "<style>\n",
       "    .dataframe thead tr:only-child th {\n",
       "        text-align: right;\n",
       "    }\n",
       "\n",
       "    .dataframe thead th {\n",
       "        text-align: left;\n",
       "    }\n",
       "\n",
       "    .dataframe tbody tr th {\n",
       "        vertical-align: top;\n",
       "    }\n",
       "</style>\n",
       "<table border=\"1\" class=\"dataframe\">\n",
       "  <thead>\n",
       "    <tr style=\"text-align: right;\">\n",
       "      <th></th>\n",
       "      <th>Date</th>\n",
       "      <th>Open</th>\n",
       "      <th>High</th>\n",
       "      <th>Low</th>\n",
       "      <th>Close</th>\n",
       "      <th>Volume</th>\n",
       "      <th>Name</th>\n",
       "      <th>Momentum</th>\n",
       "      <th>Streak</th>\n",
       "    </tr>\n",
       "  </thead>\n",
       "  <tbody>\n",
       "    <tr>\n",
       "      <th>0</th>\n",
       "      <td>8/13/2012</td>\n",
       "      <td>324.03</td>\n",
       "      <td>330.41</td>\n",
       "      <td>323.66</td>\n",
       "      <td>330.34</td>\n",
       "      <td>3268073</td>\n",
       "      <td>GOOGL</td>\n",
       "      <td>0</td>\n",
       "      <td>0</td>\n",
       "    </tr>\n",
       "    <tr>\n",
       "      <th>1</th>\n",
       "      <td>8/14/2012</td>\n",
       "      <td>329.95</td>\n",
       "      <td>336.76</td>\n",
       "      <td>329.83</td>\n",
       "      <td>334.66</td>\n",
       "      <td>3662178</td>\n",
       "      <td>GOOGL</td>\n",
       "      <td>1</td>\n",
       "      <td>1</td>\n",
       "    </tr>\n",
       "    <tr>\n",
       "      <th>2</th>\n",
       "      <td>8/15/2012</td>\n",
       "      <td>335.48</td>\n",
       "      <td>337.46</td>\n",
       "      <td>332.38</td>\n",
       "      <td>334.10</td>\n",
       "      <td>2411100</td>\n",
       "      <td>GOOGL</td>\n",
       "      <td>-1</td>\n",
       "      <td>0</td>\n",
       "    </tr>\n",
       "    <tr>\n",
       "      <th>3</th>\n",
       "      <td>8/16/2012</td>\n",
       "      <td>334.09</td>\n",
       "      <td>337.66</td>\n",
       "      <td>333.87</td>\n",
       "      <td>336.77</td>\n",
       "      <td>1717691</td>\n",
       "      <td>GOOGL</td>\n",
       "      <td>1</td>\n",
       "      <td>1</td>\n",
       "    </tr>\n",
       "    <tr>\n",
       "      <th>4</th>\n",
       "      <td>8/17/2012</td>\n",
       "      <td>337.40</td>\n",
       "      <td>338.96</td>\n",
       "      <td>336.19</td>\n",
       "      <td>338.91</td>\n",
       "      <td>2177896</td>\n",
       "      <td>GOOGL</td>\n",
       "      <td>1</td>\n",
       "      <td>2</td>\n",
       "    </tr>\n",
       "  </tbody>\n",
       "</table>\n",
       "</div>"
      ],
      "text/plain": [
       "        Date    Open    High     Low   Close   Volume   Name  Momentum  Streak\n",
       "0  8/13/2012  324.03  330.41  323.66  330.34  3268073  GOOGL         0       0\n",
       "1  8/14/2012  329.95  336.76  329.83  334.66  3662178  GOOGL         1       1\n",
       "2  8/15/2012  335.48  337.46  332.38  334.10  2411100  GOOGL        -1       0\n",
       "3  8/16/2012  334.09  337.66  333.87  336.77  1717691  GOOGL         1       1\n",
       "4  8/17/2012  337.40  338.96  336.19  338.91  2177896  GOOGL         1       2"
      ]
     },
     "execution_count": 10,
     "metadata": {},
     "output_type": "execute_result"
    }
   ],
   "source": [
    "streak = [0] * len(data)\n",
    "i=1\n",
    "# Calculate the streaks and store them in the new column, 'Streak'\n",
    "for row in data['Close']:\n",
    "    if i < len(data):\n",
    "        if data.Close[i] > data.Close[i-1]:\n",
    "            if streak[i-1] >= 0:\n",
    "                streak[i] = streak[i-1]+1\n",
    "                i = i+1\n",
    "            else:\n",
    "                streak[i]=0\n",
    "                i = i+1\n",
    "        elif data.Close[i] < data.Close[i-1]:\n",
    "            if streak[i-1] <= 0:\n",
    "                streak[i] = streak[i-1]-1\n",
    "                i = i+1\n",
    "            else:\n",
    "                streak[i]=0\n",
    "                i = i+1\n",
    "\n",
    "data['Streak'] = streak\n",
    "data.head()"
   ]
  },
  {
   "cell_type": "code",
   "execution_count": 11,
   "metadata": {},
   "outputs": [
    {
     "data": {
      "text/html": [
       "<div>\n",
       "<style>\n",
       "    .dataframe thead tr:only-child th {\n",
       "        text-align: right;\n",
       "    }\n",
       "\n",
       "    .dataframe thead th {\n",
       "        text-align: left;\n",
       "    }\n",
       "\n",
       "    .dataframe tbody tr th {\n",
       "        vertical-align: top;\n",
       "    }\n",
       "</style>\n",
       "<table border=\"1\" class=\"dataframe\">\n",
       "  <thead>\n",
       "    <tr style=\"text-align: right;\">\n",
       "      <th></th>\n",
       "      <th>Date</th>\n",
       "      <th>Open</th>\n",
       "      <th>High</th>\n",
       "      <th>Low</th>\n",
       "      <th>Close</th>\n",
       "      <th>Volume</th>\n",
       "      <th>Name</th>\n",
       "      <th>Momentum</th>\n",
       "      <th>Streak</th>\n",
       "      <th>Future Momentum</th>\n",
       "    </tr>\n",
       "  </thead>\n",
       "  <tbody>\n",
       "    <tr>\n",
       "      <th>0</th>\n",
       "      <td>8/13/2012</td>\n",
       "      <td>324.03</td>\n",
       "      <td>330.41</td>\n",
       "      <td>323.66</td>\n",
       "      <td>330.34</td>\n",
       "      <td>3268073</td>\n",
       "      <td>GOOGL</td>\n",
       "      <td>0</td>\n",
       "      <td>0</td>\n",
       "      <td>1.0</td>\n",
       "    </tr>\n",
       "    <tr>\n",
       "      <th>1</th>\n",
       "      <td>8/14/2012</td>\n",
       "      <td>329.95</td>\n",
       "      <td>336.76</td>\n",
       "      <td>329.83</td>\n",
       "      <td>334.66</td>\n",
       "      <td>3662178</td>\n",
       "      <td>GOOGL</td>\n",
       "      <td>1</td>\n",
       "      <td>1</td>\n",
       "      <td>-1.0</td>\n",
       "    </tr>\n",
       "    <tr>\n",
       "      <th>2</th>\n",
       "      <td>8/15/2012</td>\n",
       "      <td>335.48</td>\n",
       "      <td>337.46</td>\n",
       "      <td>332.38</td>\n",
       "      <td>334.10</td>\n",
       "      <td>2411100</td>\n",
       "      <td>GOOGL</td>\n",
       "      <td>-1</td>\n",
       "      <td>0</td>\n",
       "      <td>1.0</td>\n",
       "    </tr>\n",
       "    <tr>\n",
       "      <th>3</th>\n",
       "      <td>8/16/2012</td>\n",
       "      <td>334.09</td>\n",
       "      <td>337.66</td>\n",
       "      <td>333.87</td>\n",
       "      <td>336.77</td>\n",
       "      <td>1717691</td>\n",
       "      <td>GOOGL</td>\n",
       "      <td>1</td>\n",
       "      <td>1</td>\n",
       "      <td>1.0</td>\n",
       "    </tr>\n",
       "    <tr>\n",
       "      <th>4</th>\n",
       "      <td>8/17/2012</td>\n",
       "      <td>337.40</td>\n",
       "      <td>338.96</td>\n",
       "      <td>336.19</td>\n",
       "      <td>338.91</td>\n",
       "      <td>2177896</td>\n",
       "      <td>GOOGL</td>\n",
       "      <td>1</td>\n",
       "      <td>2</td>\n",
       "      <td>-1.0</td>\n",
       "    </tr>\n",
       "  </tbody>\n",
       "</table>\n",
       "</div>"
      ],
      "text/plain": [
       "        Date    Open    High     Low   Close   Volume   Name  Momentum  \\\n",
       "0  8/13/2012  324.03  330.41  323.66  330.34  3268073  GOOGL         0   \n",
       "1  8/14/2012  329.95  336.76  329.83  334.66  3662178  GOOGL         1   \n",
       "2  8/15/2012  335.48  337.46  332.38  334.10  2411100  GOOGL        -1   \n",
       "3  8/16/2012  334.09  337.66  333.87  336.77  1717691  GOOGL         1   \n",
       "4  8/17/2012  337.40  338.96  336.19  338.91  2177896  GOOGL         1   \n",
       "\n",
       "   Streak  Future Momentum  \n",
       "0       0              1.0  \n",
       "1       1             -1.0  \n",
       "2       0              1.0  \n",
       "3       1              1.0  \n",
       "4       2             -1.0  "
      ]
     },
     "execution_count": 11,
     "metadata": {},
     "output_type": "execute_result"
    }
   ],
   "source": [
    "# Create a 'Future Momentum' feature that the model will attempt to predict.\n",
    "data['Future Momentum'] = data.Momentum.shift(-1)\n",
    "data.head()"
   ]
  },
  {
   "cell_type": "code",
   "execution_count": 12,
   "metadata": {},
   "outputs": [
    {
     "data": {
      "text/html": [
       "<div>\n",
       "<style>\n",
       "    .dataframe thead tr:only-child th {\n",
       "        text-align: right;\n",
       "    }\n",
       "\n",
       "    .dataframe thead th {\n",
       "        text-align: left;\n",
       "    }\n",
       "\n",
       "    .dataframe tbody tr th {\n",
       "        vertical-align: top;\n",
       "    }\n",
       "</style>\n",
       "<table border=\"1\" class=\"dataframe\">\n",
       "  <thead>\n",
       "    <tr style=\"text-align: right;\">\n",
       "      <th></th>\n",
       "      <th>Date</th>\n",
       "      <th>Open</th>\n",
       "      <th>High</th>\n",
       "      <th>Low</th>\n",
       "      <th>Close</th>\n",
       "      <th>Volume</th>\n",
       "      <th>Name</th>\n",
       "      <th>Momentum</th>\n",
       "      <th>Streak</th>\n",
       "      <th>Future Momentum</th>\n",
       "    </tr>\n",
       "  </thead>\n",
       "  <tbody>\n",
       "    <tr>\n",
       "      <th>1253</th>\n",
       "      <td>8/7/2017</td>\n",
       "      <td>947.52</td>\n",
       "      <td>948.96</td>\n",
       "      <td>943.50</td>\n",
       "      <td>945.75</td>\n",
       "      <td>1445754</td>\n",
       "      <td>GOOGL</td>\n",
       "      <td>-1</td>\n",
       "      <td>0</td>\n",
       "      <td>-1.0</td>\n",
       "    </tr>\n",
       "    <tr>\n",
       "      <th>1254</th>\n",
       "      <td>8/8/2017</td>\n",
       "      <td>944.29</td>\n",
       "      <td>952.49</td>\n",
       "      <td>942.48</td>\n",
       "      <td>944.19</td>\n",
       "      <td>1505064</td>\n",
       "      <td>GOOGL</td>\n",
       "      <td>-1</td>\n",
       "      <td>-1</td>\n",
       "      <td>-1.0</td>\n",
       "    </tr>\n",
       "    <tr>\n",
       "      <th>1255</th>\n",
       "      <td>8/9/2017</td>\n",
       "      <td>938.45</td>\n",
       "      <td>943.76</td>\n",
       "      <td>933.92</td>\n",
       "      <td>940.08</td>\n",
       "      <td>1400852</td>\n",
       "      <td>GOOGL</td>\n",
       "      <td>-1</td>\n",
       "      <td>-2</td>\n",
       "      <td>-1.0</td>\n",
       "    </tr>\n",
       "    <tr>\n",
       "      <th>1256</th>\n",
       "      <td>8/10/2017</td>\n",
       "      <td>935.00</td>\n",
       "      <td>936.30</td>\n",
       "      <td>921.78</td>\n",
       "      <td>923.59</td>\n",
       "      <td>2707393</td>\n",
       "      <td>GOOGL</td>\n",
       "      <td>-1</td>\n",
       "      <td>-3</td>\n",
       "      <td>1.0</td>\n",
       "    </tr>\n",
       "    <tr>\n",
       "      <th>1257</th>\n",
       "      <td>8/11/2017</td>\n",
       "      <td>923.71</td>\n",
       "      <td>933.36</td>\n",
       "      <td>921.22</td>\n",
       "      <td>930.09</td>\n",
       "      <td>1616708</td>\n",
       "      <td>GOOGL</td>\n",
       "      <td>1</td>\n",
       "      <td>0</td>\n",
       "      <td>NaN</td>\n",
       "    </tr>\n",
       "  </tbody>\n",
       "</table>\n",
       "</div>"
      ],
      "text/plain": [
       "           Date    Open    High     Low   Close   Volume   Name  Momentum  \\\n",
       "1253   8/7/2017  947.52  948.96  943.50  945.75  1445754  GOOGL        -1   \n",
       "1254   8/8/2017  944.29  952.49  942.48  944.19  1505064  GOOGL        -1   \n",
       "1255   8/9/2017  938.45  943.76  933.92  940.08  1400852  GOOGL        -1   \n",
       "1256  8/10/2017  935.00  936.30  921.78  923.59  2707393  GOOGL        -1   \n",
       "1257  8/11/2017  923.71  933.36  921.22  930.09  1616708  GOOGL         1   \n",
       "\n",
       "      Streak  Future Momentum  \n",
       "1253       0             -1.0  \n",
       "1254      -1             -1.0  \n",
       "1255      -2             -1.0  \n",
       "1256      -3              1.0  \n",
       "1257       0              NaN  "
      ]
     },
     "execution_count": 12,
     "metadata": {},
     "output_type": "execute_result"
    }
   ],
   "source": [
    "data.tail()"
   ]
  },
  {
   "cell_type": "code",
   "execution_count": 13,
   "metadata": {
    "collapsed": true
   },
   "outputs": [],
   "source": [
    "# Drop the last row to get rid of the NaN values\n",
    "data = data.iloc[:len(data)-1,:]"
   ]
  },
  {
   "cell_type": "code",
   "execution_count": 14,
   "metadata": {},
   "outputs": [
    {
     "data": {
      "text/html": [
       "<div>\n",
       "<style>\n",
       "    .dataframe thead tr:only-child th {\n",
       "        text-align: right;\n",
       "    }\n",
       "\n",
       "    .dataframe thead th {\n",
       "        text-align: left;\n",
       "    }\n",
       "\n",
       "    .dataframe tbody tr th {\n",
       "        vertical-align: top;\n",
       "    }\n",
       "</style>\n",
       "<table border=\"1\" class=\"dataframe\">\n",
       "  <thead>\n",
       "    <tr style=\"text-align: right;\">\n",
       "      <th></th>\n",
       "      <th>Date</th>\n",
       "      <th>Open</th>\n",
       "      <th>High</th>\n",
       "      <th>Low</th>\n",
       "      <th>Close</th>\n",
       "      <th>Volume</th>\n",
       "      <th>Name</th>\n",
       "      <th>Momentum</th>\n",
       "      <th>Streak</th>\n",
       "      <th>Future Momentum</th>\n",
       "    </tr>\n",
       "  </thead>\n",
       "  <tbody>\n",
       "    <tr>\n",
       "      <th>1252</th>\n",
       "      <td>8/4/2017</td>\n",
       "      <td>943.95</td>\n",
       "      <td>947.54</td>\n",
       "      <td>939.80</td>\n",
       "      <td>945.79</td>\n",
       "      <td>1254574</td>\n",
       "      <td>GOOGL</td>\n",
       "      <td>1</td>\n",
       "      <td>1</td>\n",
       "      <td>-1.0</td>\n",
       "    </tr>\n",
       "    <tr>\n",
       "      <th>1253</th>\n",
       "      <td>8/7/2017</td>\n",
       "      <td>947.52</td>\n",
       "      <td>948.96</td>\n",
       "      <td>943.50</td>\n",
       "      <td>945.75</td>\n",
       "      <td>1445754</td>\n",
       "      <td>GOOGL</td>\n",
       "      <td>-1</td>\n",
       "      <td>0</td>\n",
       "      <td>-1.0</td>\n",
       "    </tr>\n",
       "    <tr>\n",
       "      <th>1254</th>\n",
       "      <td>8/8/2017</td>\n",
       "      <td>944.29</td>\n",
       "      <td>952.49</td>\n",
       "      <td>942.48</td>\n",
       "      <td>944.19</td>\n",
       "      <td>1505064</td>\n",
       "      <td>GOOGL</td>\n",
       "      <td>-1</td>\n",
       "      <td>-1</td>\n",
       "      <td>-1.0</td>\n",
       "    </tr>\n",
       "    <tr>\n",
       "      <th>1255</th>\n",
       "      <td>8/9/2017</td>\n",
       "      <td>938.45</td>\n",
       "      <td>943.76</td>\n",
       "      <td>933.92</td>\n",
       "      <td>940.08</td>\n",
       "      <td>1400852</td>\n",
       "      <td>GOOGL</td>\n",
       "      <td>-1</td>\n",
       "      <td>-2</td>\n",
       "      <td>-1.0</td>\n",
       "    </tr>\n",
       "    <tr>\n",
       "      <th>1256</th>\n",
       "      <td>8/10/2017</td>\n",
       "      <td>935.00</td>\n",
       "      <td>936.30</td>\n",
       "      <td>921.78</td>\n",
       "      <td>923.59</td>\n",
       "      <td>2707393</td>\n",
       "      <td>GOOGL</td>\n",
       "      <td>-1</td>\n",
       "      <td>-3</td>\n",
       "      <td>1.0</td>\n",
       "    </tr>\n",
       "  </tbody>\n",
       "</table>\n",
       "</div>"
      ],
      "text/plain": [
       "           Date    Open    High     Low   Close   Volume   Name  Momentum  \\\n",
       "1252   8/4/2017  943.95  947.54  939.80  945.79  1254574  GOOGL         1   \n",
       "1253   8/7/2017  947.52  948.96  943.50  945.75  1445754  GOOGL        -1   \n",
       "1254   8/8/2017  944.29  952.49  942.48  944.19  1505064  GOOGL        -1   \n",
       "1255   8/9/2017  938.45  943.76  933.92  940.08  1400852  GOOGL        -1   \n",
       "1256  8/10/2017  935.00  936.30  921.78  923.59  2707393  GOOGL        -1   \n",
       "\n",
       "      Streak  Future Momentum  \n",
       "1252       1             -1.0  \n",
       "1253       0             -1.0  \n",
       "1254      -1             -1.0  \n",
       "1255      -2             -1.0  \n",
       "1256      -3              1.0  "
      ]
     },
     "execution_count": 14,
     "metadata": {},
     "output_type": "execute_result"
    }
   ],
   "source": [
    "# Look at the tail to make sure the data looks good\n",
    "data.tail()"
   ]
  },
  {
   "cell_type": "code",
   "execution_count": 60,
   "metadata": {},
   "outputs": [
    {
     "data": {
      "image/png": "[encoded data removed]",
      "text/plain": [
       "<matplotlib.figure.Figure at 0x1d0b049ac18>"
      ]
     },
     "metadata": {},
     "output_type": "display_data"
    }
   ],
   "source": [
    "# Create a heatmap to compare the correlation of the columns.\n",
    "import seaborn as sns\n",
    "\n",
    "corrmat = data.corr()\n",
    "\n",
    "# Set up the matplotlib figure.\n",
    "f, ax = plt.subplots(figsize=(12, 9))\n",
    "\n",
    "# Draw the heatmap using seaborn\n",
    "sns.heatmap(corrmat, vmax=.8, square=True)\n",
    "plt.show()"
   ]
  },
  {
   "cell_type": "markdown",
   "metadata": {},
   "source": [
    "# Section 2: Creation and Comparison of Predictive Models"
   ]
  },
  {
   "cell_type": "markdown",
   "metadata": {},
   "source": [
    "Now that the data has been analyzed to ensure it can be manipulated, it is time to create some predictive models. For comparison, the scores from the models will be stored in a new table, titled \"Model Comparison.\""
   ]
  },
  {
   "cell_type": "code",
   "execution_count": 15,
   "metadata": {},
   "outputs": [
    {
     "data": {
      "text/html": [
       "<div>\n",
       "<style>\n",
       "    .dataframe thead tr:only-child th {\n",
       "        text-align: right;\n",
       "    }\n",
       "\n",
       "    .dataframe thead th {\n",
       "        text-align: left;\n",
       "    }\n",
       "\n",
       "    .dataframe tbody tr th {\n",
       "        vertical-align: top;\n",
       "    }\n",
       "</style>\n",
       "<table border=\"1\" class=\"dataframe\">\n",
       "  <thead>\n",
       "    <tr style=\"text-align: right;\">\n",
       "      <th></th>\n",
       "      <th>Model</th>\n",
       "      <th>Scoring Metric</th>\n",
       "      <th>Scoring Value</th>\n",
       "    </tr>\n",
       "  </thead>\n",
       "  <tbody>\n",
       "  </tbody>\n",
       "</table>\n",
       "</div>"
      ],
      "text/plain": [
       "Empty DataFrame\n",
       "Columns: [Model, Scoring Metric, Scoring Value]\n",
       "Index: []"
      ]
     },
     "execution_count": 15,
     "metadata": {},
     "output_type": "execute_result"
    }
   ],
   "source": [
    "# Create a table to store the scores for each model.\n",
    "# Title: Model Comparison\n",
    "# Columns: Model, R^2, Accuracy, AUROC\n",
    "# Model values: Linear Regression, Ridge Regression, Lasso Regression, Support Vector Regression, Gradient Boost Classification\n",
    "models = {'Model':[], 'Scoring Metric':[], 'Scoring Value':[]}\n",
    "columns = models.keys()\n",
    "model_comparison = pd.DataFrame(data=models, columns=columns)\n",
    "model_comparison"
   ]
  },
  {
   "cell_type": "code",
   "execution_count": 16,
   "metadata": {
    "collapsed": true
   },
   "outputs": [],
   "source": [
    "# Set the variables. \n",
    "# Use the closing value for Y\n",
    "# Use the new features for X\n",
    "Y = data['Future Momentum']\n",
    "X = data[['Close', 'Volume', 'Momentum', 'Streak']]\n",
    "\n",
    "# Create training and test sets.\n",
    "offset = int(X.shape[0] * 0.8)\n",
    "\n",
    "# Put 90% of the data in the training set.\n",
    "X_train, Y_train = X[:offset], Y[:offset]\n",
    "\n",
    "# And put 10% in the test set.\n",
    "X_test, Y_test = X[offset:], Y[offset:]"
   ]
  },
  {
   "cell_type": "code",
   "execution_count": 59,
   "metadata": {},
   "outputs": [
    {
     "name": "stdout",
     "output_type": "stream",
     "text": [
      "0.07142857142857142\n"
     ]
    }
   ],
   "source": [
    "# Print the average momentum for the test set to use in later analysis:\n",
    "print(Y_test.mean())"
   ]
  },
  {
   "cell_type": "markdown",
   "metadata": {},
   "source": [
    "# Logistic Regression"
   ]
  },
  {
   "cell_type": "code",
   "execution_count": 17,
   "metadata": {},
   "outputs": [
    {
     "name": "stdout",
     "output_type": "stream",
     "text": [
      "Confusion Matrix of the Model:\n",
      "[[  0 117]\n",
      " [  0 135]]\n",
      "Accuracy Score:\n",
      "[ 0.52380952  0.52380952  0.52380952  0.52380952  0.52380952  0.52380952\n",
      "  0.52380952  0.52380952  0.528       0.52419355]\n",
      "Average of the Accuracy Score:\n",
      "0.524266973886\n"
     ]
    }
   ],
   "source": [
    "# Declare a logistic regression classifier.\n",
    "# Larger C's lead to reduced regularization of parameters, but because there are\n",
    "#   few features, the value of C has a trivial effect (tested for many C's)\n",
    "lr = LogisticRegression(C=1e9)\n",
    "\n",
    "# Fit the model.\n",
    "lr.fit(X_train,Y_train)\n",
    "y_pred = lr.fit(X_train,Y_train).predict(X_test)\n",
    "\n",
    "\n",
    "print('Confusion Matrix of the Model:')\n",
    "conf_mat = confusion_matrix(Y_test, y_pred)\n",
    "print(conf_mat)\n",
    "\n",
    "# Use Accuracy for Logistic Regression Scoring Metric\n",
    "cv = cross_val_score(lr, X, Y, cv=10, scoring='accuracy') \n",
    "print('Accuracy Score:')\n",
    "print(cv)\n",
    "# Print the average of the R2 and store it in the table\n",
    "print('Average of the Accuracy Score:')\n",
    "print(cv.mean())\n",
    "\n",
    "# Store the data in the model_comparison table\n",
    "models = {'Model':['Logistic Regression'], 'Scoring Metric':'Accuracy', 'Scoring Value':[cv.mean()]}\n",
    "model_comparison = model_comparison.append(pd.DataFrame(data=models, columns=models.keys()), ignore_index=True)"
   ]
  },
  {
   "cell_type": "code",
   "execution_count": 18,
   "metadata": {},
   "outputs": [
    {
     "name": "stdout",
     "output_type": "stream",
     "text": [
      "[ 1.  1.  1.  1.  1.  1.  1.  1.  1.  1.  1.  1.  1.  1.  1.  1.  1.  1.\n",
      "  1.  1.  1.  1.  1.  1.  1.  1.  1.  1.  1.  1.  1.  1.  1.  1.  1.  1.\n",
      "  1.  1.  1.  1.  1.  1.  1.  1.  1.  1.  1.  1.  1.  1.  1.  1.  1.  1.\n",
      "  1.  1.  1.  1.  1.  1.  1.  1.  1.  1.  1.  1.  1.  1.  1.  1.  1.  1.\n",
      "  1.  1.  1.  1.  1.  1.  1.  1.  1.  1.  1.  1.  1.  1.  1.  1.  1.  1.\n",
      "  1.  1.  1.  1.  1.  1.  1.  1.  1.  1.  1.  1.  1.  1.  1.  1.  1.  1.\n",
      "  1.  1.  1.  1.  1.  1.  1.  1.  1.  1.  1.  1.  1.  1.  1.  1.  1.  1.\n",
      "  1.  1.  1.  1.  1.  1.  1.  1.  1.  1.  1.  1.  1.  1.  1.  1.  1.  1.\n",
      "  1.  1.  1.  1.  1.  1.  1.  1.  1.  1.  1.  1.  1.  1.  1.  1.  1.  1.\n",
      "  1.  1.  1.  1.  1.  1.  1.  1.  1.  1.  1.  1.  1.  1.  1.  1.  1.  1.\n",
      "  1.  1.  1.  1.  1.  1.  1.  1.  1.  1.  1.  1.  1.  1.  1.  1.  1.  1.\n",
      "  1.  1.  1.  1.  1.  1.  1.  1.  1.  1.  1.  1.  1.  1.  1.  1.  1.  1.\n",
      "  1.  1.  1.  1.  1.  1.  1.  1.  1.  1.  1.  1.  1.  1.  1.  1.  1.  1.\n",
      "  1.  1.  1.  1.  1.  1.  1.  1.  1.  1.  1.  1.  1.  1.  1.  1.  1.  1.]\n",
      "1.0\n"
     ]
    }
   ],
   "source": [
    "print(y_pred)\n",
    "print(y_pred.mean())"
   ]
  },
  {
   "cell_type": "markdown",
   "metadata": {},
   "source": [
    "# Ridge Regression"
   ]
  },
  {
   "cell_type": "code",
   "execution_count": 19,
   "metadata": {},
   "outputs": [
    {
     "name": "stdout",
     "output_type": "stream",
     "text": [
      "R2 Score:\n",
      "[ -1.76650557e-03  -8.22193653e-03   9.58609575e-04  -3.54075289e-03\n",
      "  -8.63520489e-05  -3.15263337e-04  -1.85405358e-03  -1.19014702e-03\n",
      "  -5.36217513e-03  -5.70910153e-02]\n",
      "Average of the R2 Score:\n",
      "-0.00784695917995\n"
     ]
    }
   ],
   "source": [
    "# Fitting a ridge regression model. Alpha is the regularization\n",
    "# parameter (usually called lambda). As alpha gets larger, parameter\n",
    "# shrinkage grows more pronounced. Note that by convention, the\n",
    "# intercept is not regularized. Since we standardized the data\n",
    "# earlier, the intercept should be equal to zero and can be dropped.\n",
    "\n",
    "ridgeregr = linear_model.Ridge(alpha=10, fit_intercept=False) \n",
    "ridgeregr.fit(X_train, Y_train)\n",
    "\n",
    "y_pred = ridgeregr.fit(X_train,Y_train).predict(X_test)\n",
    "\n",
    "# Print the R2.\n",
    "cv = cross_val_score(ridgeregr, X, Y, cv=10, scoring='r2') \n",
    "print('R2 Score:')\n",
    "print(cv)\n",
    "# Print the average of the R2 and store it in the table\n",
    "print('Average of the R2 Score:')\n",
    "print(cv.mean())\n",
    "\n",
    "# Store the data in the model_comparison table\n",
    "models = {'Model':['Ridge Regression'], 'Scoring Metric':'R2', 'Scoring Value':[cv.mean()]}\n",
    "model_comparison = model_comparison.append(pd.DataFrame(data=models, columns=models.keys()), ignore_index=True)"
   ]
  },
  {
   "cell_type": "code",
   "execution_count": 20,
   "metadata": {},
   "outputs": [
    {
     "name": "stdout",
     "output_type": "stream",
     "text": [
      "[ -6.11610631e-03   3.45111633e-02   8.37872952e-02   1.35004433e-01\n",
      "   6.62328123e-02   3.38155344e-02   8.76897298e-02   1.30740222e-01\n",
      "   1.80670674e-01   2.36850091e-01   2.83746358e-01   6.99301741e-02\n",
      "   1.15069255e-02  -8.60988998e-03   3.79933194e-02   7.10470293e-02\n",
      "   2.33898569e-02  -1.18423211e-02  -8.94430193e-03   4.02851857e-02\n",
      "   1.03484941e-01   8.26981284e-02   5.32546929e-02   7.12566929e-02\n",
      "   2.79542572e-02   1.13714133e-02   3.96495922e-02   6.58607893e-02\n",
      "   2.34709688e-02  -1.65520896e-02  -3.38924521e-03   4.63920667e-02\n",
      "   7.25057801e-02   4.63941366e-02   9.24559047e-02   7.85221218e-02\n",
      "   4.67170328e-02   7.02017875e-02   4.10222495e-02   6.69166251e-02\n",
      "   3.99851361e-02   7.51974828e-02   5.15926585e-02   6.30033364e-02\n",
      "   4.42545297e-02   6.71763892e-02   1.74369739e-02  -5.54167030e-03\n",
      "  -7.04423497e-02  -3.71022945e-03   2.91407588e-02  -2.28629109e-02\n",
      "   6.62414775e-03   5.31992150e-02   1.26168825e-01   1.34414804e-01\n",
      "   6.23822970e-02   1.13299449e-01   1.61676232e-01   2.06603509e-01\n",
      "   2.50965181e-01   8.53879637e-02   3.22271422e-02   3.14628804e-02\n",
      "   1.38079695e-01   1.38660750e-01   1.89113428e-01   1.04889492e-01\n",
      "   3.26053516e-02  -2.14348076e-02   4.50114366e-03   2.91718083e-02\n",
      "  -2.43309471e-02  -5.68862242e-03   8.08056184e-03   1.27707186e-04\n",
      "  -6.94306504e-02   1.42876479e-02   7.49829086e-02   7.94538004e-02\n",
      "   3.03180518e-02   3.00876536e-03   3.74702981e-02  -1.97382704e-02\n",
      "  -6.21983305e-02   1.05103225e-03   3.96856139e-02  -1.57026904e-02\n",
      "   4.02752373e-03   6.97552360e-02   7.03719298e-02   2.19579354e-02\n",
      "  -2.41621382e-03   3.93912138e-02   8.03943606e-02   6.43996552e-02\n",
      "   4.10654374e-02   8.64009252e-02   1.48976913e-01   8.47363534e-02\n",
      "   4.73105691e-02   7.19686488e-02   3.74558490e-02  -2.37248946e-02\n",
      "  -7.74522578e-03   2.31701736e-02  -4.55567731e-03   2.24489556e-02\n",
      "  -2.69500186e-03   1.70016304e-02  -1.03856750e-02   2.27604413e-02\n",
      "  -1.89806533e-03  -6.63857880e-02  -1.15470217e-01   4.00007235e-02\n",
      "   9.38872375e-02   1.37464827e-01   1.55059947e-01   2.08408898e-01\n",
      "   7.92232270e-02   2.72968843e-02  -2.49661962e-02  -6.69811705e-02\n",
      "  -1.23124607e-01  -1.73963846e-01  -2.17962192e-01  -2.69010086e-01\n",
      "  -3.16207417e-01  -4.35778020e-03   1.66272525e-02  -2.25044357e-02\n",
      "  -7.52333758e-02  -1.24572389e-01  -3.64965922e-03   4.40944821e-02\n",
      "   6.53944831e-02   4.48384313e-02   8.21782270e-02   4.21372511e-02\n",
      "   8.56791122e-02   1.35125426e-01   6.59921722e-02   1.72213715e-02\n",
      "  -2.47737590e-02  -7.35835081e-02  -1.25684666e-01  -1.76452072e-01\n",
      "  -2.19425573e-01  -2.72747950e-01  -3.05524860e-01  -3.09750381e-04\n",
      "   6.87821160e-02   9.31393805e-02   1.81436760e-01   2.05541595e-01\n",
      "   8.44606628e-02   2.72589431e-02  -2.25607337e-02  -1.27126172e-02\n",
      "   4.60567047e-02   8.52984840e-02   4.41761331e-02   1.03243404e-01\n",
      "   1.45164184e-01   1.85013099e-01   2.32261619e-01   2.79365935e-01\n",
      "   6.79327049e-02   3.83983015e-02   6.62364359e-02   3.56514491e-02\n",
      "   6.68923680e-02   2.05589029e-02  -8.01904637e-03   3.12018606e-02\n",
      "  -1.02622416e-02  -7.36608131e-02  -1.01155247e-01  -1.18399693e-01\n",
      "  -1.98371035e-01  -2.58879517e-01  -3.05882802e-01  -3.52093638e-01\n",
      "   1.79587801e-03   3.55009308e-02   3.34033557e-03   4.07128142e-02\n",
      "   6.65815101e-02   4.21408677e-02   7.29522083e-02   1.94969702e-02\n",
      "   1.89924087e-02   3.38646207e-02  -2.38226964e-02  -7.17997924e-02\n",
      "  -1.17087365e-01  -1.73983181e-01  -2.05684633e-01  -2.60857020e-01\n",
      "  -3.11919978e-01   4.30532184e-03   2.39061510e-02  -1.57607122e-02\n",
      "  -7.16914339e-02   8.13542546e-04   2.54026865e-02  -1.66867372e-02\n",
      "   4.40078089e-02   1.04027143e-01   8.68537232e-02   4.82484378e-02\n",
      "   1.15887621e-01   1.67205168e-01   7.57809846e-02   4.39461026e-02\n",
      "   6.94450942e-02   3.80425726e-02   7.78281231e-02   4.85353244e-02\n",
      "   1.16131874e-01   1.02109069e-01   8.32497787e-02   1.12772536e-01\n",
      "   1.49032268e-01   8.84172406e-02   5.85059150e-02   7.95612513e-02\n",
      "   2.66434919e-02  -2.17409738e-02  -6.73292536e-02  -1.17531097e-01\n",
      "  -1.75289840e-01   2.90875780e-03   2.61105722e-02  -2.24776089e-02\n",
      "  -1.98676957e-03   2.71944658e-02   3.08123738e-02   9.13168586e-02\n",
      "   6.30544313e-02   1.42542413e-01   8.28014667e-02   6.43987736e-02\n",
      "   7.27534579e-02   3.87907565e-02  -8.45236012e-03   2.25306443e-02\n",
      "  -1.75129475e-03   4.80704517e-02   9.44889771e-02   1.70023001e-01]\n",
      "0.0248827351445\n"
     ]
    }
   ],
   "source": [
    "print(y_pred)\n",
    "print(y_pred.mean())"
   ]
  },
  {
   "cell_type": "markdown",
   "metadata": {},
   "source": [
    "# Lasso Regression"
   ]
  },
  {
   "cell_type": "code",
   "execution_count": 21,
   "metadata": {},
   "outputs": [
    {
     "name": "stdout",
     "output_type": "stream",
     "text": [
      "R-Squared of the model:\n",
      "-0.00506509809597\n",
      "R2 Score:\n",
      "[ -3.63098054e-03  -6.03070649e-03  -1.25221729e-05  -5.38314891e-03\n",
      "  -2.24001692e-03  -2.23524985e-03  -7.03649947e-04  -1.52310077e-03\n",
      "  -2.92184541e-03  -1.81842409e-02]\n",
      "Average of the R2 Score:\n",
      "-0.00428654619254\n"
     ]
    }
   ],
   "source": [
    "lasso = linear_model.Lasso(alpha=.35)\n",
    "lasso.fit(X_train, Y_train)\n",
    "\n",
    "y_pred = lasso.fit(X_train,Y_train).predict(X_test)\n",
    "\n",
    "# Print the R-Squared value and store it in the table\n",
    "print('R-Squared of the model:') \n",
    "score = r2_score(Y_test, y_pred)\n",
    "print(score)\n",
    "\n",
    "# Print the R2.\n",
    "cv = cross_val_score(lasso, X, Y, cv=10, scoring='r2') \n",
    "print('R2 Score:')\n",
    "print(cv)\n",
    "# Print the average of the AUROC and store it in the table\n",
    "print('Average of the R2 Score:')\n",
    "print(cv.mean())\n",
    "\n",
    "# Store the data in the model_comparison table\n",
    "models = {'Model':['Lasso Regression'], 'Scoring Metric':'R2', 'Scoring Value':[cv.mean()]}\n",
    "model_comparison = model_comparison.append(pd.DataFrame(data=models, columns=models.keys()), ignore_index=True)"
   ]
  },
  {
   "cell_type": "code",
   "execution_count": 22,
   "metadata": {},
   "outputs": [
    {
     "name": "stdout",
     "output_type": "stream",
     "text": [
      "[ 0.01819434  0.01190747  0.01248952  0.01477884  0.01474742  0.01154773\n",
      "  0.01587317  0.01158112  0.01265028  0.01880232  0.01754783  0.01823242\n",
      "  0.01031514  0.01694348  0.01544584  0.01920144  0.01970914  0.02983377\n",
      "  0.01595673  0.01668389  0.02892383  0.02812542  0.02762186  0.0194102\n",
      "  0.02313997  0.03254737  0.01651319  0.01470491  0.01940745  0.02573599\n",
      "  0.02005754  0.0215444   0.0194931   0.02121356  0.01952579  0.02457242\n",
      "  0.02190444  0.01801882  0.01734174  0.01539571  0.01654107  0.02147733\n",
      "  0.02536582  0.01189664  0.01978194  0.01553389  0.01453216  0.0342353\n",
      "  0.02103702  0.01950323  0.02305828  0.019834    0.0274035   0.02608003\n",
      "  0.04565101  0.06828425  0.03392349  0.03595877  0.03654285  0.03390032\n",
      "  0.03057777  0.03011849  0.02605247  0.04816834  0.09539446  0.05762205\n",
      "  0.0599214   0.04681831  0.0277888   0.02319329  0.02807601  0.02484454\n",
      "  0.02094433  0.01984418  0.00829238  0.04034154  0.02353018  0.03585553\n",
      "  0.04597953  0.0270895   0.02605049  0.02688088  0.03113849  0.02413693\n",
      "  0.02837849  0.02390217  0.03182754  0.0263238   0.02591928  0.03978406\n",
      "  0.01771831  0.017749    0.02095446  0.01566671  0.00971123  0.01308859\n",
      "  0.01722618  0.01470427  0.02627228  0.02933246  0.02204442  0.01896359\n",
      "  0.0296131   0.01953323  0.01610085  0.01805434  0.01847704  0.01743287\n",
      "  0.02004825  0.01319106  0.01407658  0.01780463  0.03610087  0.02325312\n",
      "  0.02247205  0.05264588  0.05737821  0.05433505  0.02986062  0.03385176\n",
      "  0.02449231  0.02176964  0.01879648  0.02369095  0.0176725   0.01588937\n",
      "  0.01933456  0.01720932  0.0182798   0.01828473  0.01230357  0.01963377\n",
      "  0.01623529  0.01555841  0.01823352  0.01769262  0.01209586  0.01841292\n",
      "  0.02511304  0.01604604  0.01205779  0.01280736  0.01250432  0.01226095\n",
      "  0.01732419  0.01700185  0.01408152  0.01230387  0.01666695  0.01284679\n",
      "  0.02531611  0.02012836  0.03720265  0.01795275  0.0499441   0.03068075\n",
      "  0.02774489  0.02081966  0.01944007  0.01110111  0.01925207  0.02759212\n",
      "  0.01754391  0.02602043  0.02088062  0.01405835  0.01299848  0.01188776\n",
      "  0.01448089  0.0135093   0.01251981  0.01070724  0.01297904  0.01462369\n",
      "  0.01440528  0.02223383  0.02746277  0.01569574  0.03236519  0.05579725\n",
      "  0.03050403  0.02085508  0.02161802  0.02323895  0.01810537  0.02207066\n",
      "  0.01904394  0.01020342  0.00827288  0.01132456  0.01318505  0.00908972\n",
      "  0.03213209  0.02113808  0.01373596  0.01381224  0.01615729  0.00925345\n",
      "  0.02204418  0.01676314  0.01468022  0.01844749  0.01153034  0.01828053\n",
      "  0.01211206  0.01524293  0.01212258  0.01717865  0.05075297  0.06019456\n",
      "  0.02372381  0.0156032   0.03107372  0.03329878  0.01471462  0.01213739\n",
      "  0.00952948  0.00710461  0.01585336  0.01564447  0.03181026  0.03627016\n",
      "  0.04476316  0.02996728  0.02061733  0.02668187  0.02555844  0.01926206\n",
      "  0.01537838  0.01544016  0.01720304  0.01588102  0.00824671  0.01783731\n",
      "  0.0133419   0.0130942   0.01321952  0.01389391  0.05518506  0.0883894\n",
      "  0.02748427  0.05259538  0.02105032  0.02944124  0.01359519  0.02518027\n",
      "  0.01041084  0.01234446  0.01549037  0.016527    0.01497416  0.03710937]\n",
      "0.0228357109921\n"
     ]
    }
   ],
   "source": [
    "print(y_pred)\n",
    "print(y_pred.mean())"
   ]
  },
  {
   "cell_type": "markdown",
   "metadata": {},
   "source": [
    "# Support Vector Regression"
   ]
  },
  {
   "cell_type": "code",
   "execution_count": 23,
   "metadata": {},
   "outputs": [
    {
     "name": "stdout",
     "output_type": "stream",
     "text": [
      "R2 Score:\n",
      "[ -3.24882390e-03  -1.91231150e-03  -5.44323850e-04  -1.91231150e-03\n",
      "  -1.04272341e-04  -3.24882390e-03  -1.61141748e-03  -2.41664551e-03\n",
      "  -2.62064570e-06  -1.38435358e-02]\n",
      "Average of the R2 Score:\n",
      "-0.00288450863917\n"
     ]
    }
   ],
   "source": [
    "# TODO: Look up the epsilon value for SVR\n",
    "# Changing value for epsilon may reduce the overfitting\n",
    "\n",
    "# Make a model using SVR here\n",
    "svr = SVR(epsilon=.5)\n",
    "svr.fit(X_train,Y_train)\n",
    "y_pred = svr.fit(X_train,Y_train).predict(X_test)\n",
    "\n",
    "# Use Accuracy for the Scoring Metric\n",
    "cv = cross_val_score(svr, X, Y, cv=10, scoring='r2') \n",
    "print('R2 Score:')\n",
    "print(cv)\n",
    "# Print the average of the AUROC and store it in the table\n",
    "print('Average of the R2 Score:')\n",
    "print(cv.mean())\n",
    "\n",
    "# Store the data in the model_comparison table\n",
    "models = {'Model':['Support Vector Regression'], 'Scoring Metric':'R2', 'Scoring Value':[cv.mean()]}\n",
    "model_comparison = model_comparison.append(pd.DataFrame(data=models, columns=models.keys()), ignore_index=True)"
   ]
  },
  {
   "cell_type": "code",
   "execution_count": 24,
   "metadata": {},
   "outputs": [
    {
     "name": "stdout",
     "output_type": "stream",
     "text": [
      "[ 0.02139303  0.02139303  0.02139303  0.02139303  0.02139303  0.02139303\n",
      "  0.02139303  0.02139303  0.02139303  0.02139303  0.02139303  0.02139303\n",
      "  0.02139303  0.02139303  0.02139303  0.02139303  0.02139303  0.02139303\n",
      "  0.02139303  0.02139303  0.02139303  0.02139303  0.02139303  0.02139303\n",
      "  0.02139303  0.02139303  0.02139303  0.02139303  0.02139303  0.02139303\n",
      "  0.02139303  0.02139303  0.02139303  0.02139303  0.02139303  0.02139303\n",
      "  0.02139303  0.02139303  0.02139303  0.02139303  0.02139303  0.02139303\n",
      "  0.02139303  0.02139303  0.02139303  0.02139303  0.02139303  0.02139303\n",
      "  0.02139303  0.02139303  0.02139303  0.02139303  0.02139303  0.02139303\n",
      "  0.02139303  0.02139303  0.02139303  0.02139303  0.02139303  0.02139303\n",
      "  0.02139303  0.02139303  0.02139303  0.02139303  0.02139303  0.02139303\n",
      "  0.02139303  0.02139303  0.02139303  0.02139303  0.02139303  0.02139303\n",
      "  0.02139303  0.02139303  0.02139303  0.02139303  0.02139303  0.02139303\n",
      "  0.02139303  0.02139303  0.02139303  0.02139303  0.02139303  0.02139303\n",
      "  0.02139303  0.02139303  0.02139303  0.02139303  0.02139303  0.02139303\n",
      "  0.02139303  0.02139303  0.02139303  0.02139303  0.02139303  0.02139303\n",
      "  0.02139303  0.02139303  0.02139303  0.02139303  0.02139303  0.02139303\n",
      "  0.02139303  0.02139303  0.02139303  0.02139303  0.02139303  0.02139303\n",
      "  0.02139303  0.02139303  0.02139303  0.02139303  0.02139303  0.02139303\n",
      "  0.02139303  0.02139303  0.02139303  0.02139303  0.02139303  0.02139303\n",
      "  0.02139303  0.02139303  0.02139303  0.02139303  0.02139303  0.02139303\n",
      "  0.02139303  0.02139303  0.02139303  0.02139303  0.02139303  0.02139303\n",
      "  0.02139303  0.02139303  0.02139303  0.02139303  0.02139303  0.02139303\n",
      "  0.02139303  0.02139303  0.02139303  0.02139303  0.02139303  0.02139303\n",
      "  0.02139303  0.02139303  0.02139303  0.02139303  0.02139303  0.02139303\n",
      "  0.02139303  0.02139303  0.02139303  0.02139303  0.02139303  0.02139303\n",
      "  0.02139303  0.02139303  0.02139303  0.02139303  0.02139303  0.02139303\n",
      "  0.02139303  0.02139303  0.02139303  0.02139303  0.02139303  0.02139303\n",
      "  0.02139303  0.02139303  0.02139303  0.02139303  0.02139303  0.02139303\n",
      "  0.02139303  0.02139303  0.02139303  0.02139303  0.02139303  0.02139303\n",
      "  0.02139303  0.02139303  0.02139303  0.02139303  0.02139303  0.02139303\n",
      "  0.02139303  0.02139303  0.02139303  0.02139303  0.02139303  0.02139303\n",
      "  0.02139303  0.02139303  0.02139303  0.02139303  0.02139303  0.02139303\n",
      "  0.02139303  0.02139303  0.02139303  0.02139303  0.02139303  0.02139303\n",
      "  0.02139303  0.02139303  0.02139303  0.02139303  0.02139303  0.02139303\n",
      "  0.02139303  0.02139303  0.02139303  0.02139303  0.02139303  0.02139303\n",
      "  0.02139303  0.02139303  0.02139303  0.02139303  0.02139303  0.02139303\n",
      "  0.02139303  0.02139303  0.02139303  0.02139303  0.02139303  0.02139303\n",
      "  0.02139303  0.02139303  0.02139303  0.02139303  0.02139303  0.02139303\n",
      "  0.02139303  0.02139303  0.02139303  0.02139303  0.02139303  0.02139303\n",
      "  0.02139303  0.02139303  0.02139303  0.02139303  0.02139303  0.02139303\n",
      "  0.02139303  0.02139303  0.02139303  0.02139303  0.02139303  0.02139303]\n",
      "0.0213930348259\n"
     ]
    }
   ],
   "source": [
    "print(y_pred)\n",
    "print(y_pred.mean())"
   ]
  },
  {
   "cell_type": "markdown",
   "metadata": {},
   "source": [
    "# Support Vector Classifier"
   ]
  },
  {
   "cell_type": "code",
   "execution_count": 25,
   "metadata": {},
   "outputs": [
    {
     "name": "stdout",
     "output_type": "stream",
     "text": [
      "Confusion Matrix of the model:\n",
      "[[  0 117]\n",
      " [  0 135]]\n",
      "Accuracy Score:\n",
      "[ 0.52380952  0.52380952  0.52380952  0.52380952  0.52380952  0.52380952\n",
      "  0.52380952  0.52380952  0.528       0.52419355]\n",
      "Average of the Accuracy Score:\n",
      "0.524266973886\n"
     ]
    }
   ],
   "source": [
    "# Change the parameters C, gamma, and Kernel type to see if the model can be improved.\n",
    "# Write definitions of the parameters here.\n",
    "# C options: 0.01-1.0, default is 1.0\n",
    "# Kernel types: ‘linear’, ‘poly’, ‘rbf’, ‘sigmoid’, ‘precomputed’, default is 'rbf'\n",
    "# Gamma types: float, default is 1/n\n",
    "# Make a model using SVR here\n",
    "svc = SVC(gamma = .9)\n",
    "svc.fit(X_train,Y_train)\n",
    "y_pred = svc.fit(X_train,Y_train).predict(X_test)\n",
    "\n",
    "print('Confusion Matrix of the model:')\n",
    "conf_mat = confusion_matrix(Y_test, y_pred)\n",
    "print(conf_mat)\n",
    "\n",
    "# Print the Accuracy.\n",
    "cv = cross_val_score(svc, X, Y, cv=10, scoring='accuracy') \n",
    "print('Accuracy Score:')\n",
    "print(cv)\n",
    "# Print the average of the AUROC and store it in the table\n",
    "print('Average of the Accuracy Score:')\n",
    "print(cv.mean())\n",
    "\n",
    "\n",
    "# Store the data in the model_comparison table\n",
    "models = {'Model':['Support Vector Classifier'], 'Scoring Metric':'Accuracy', 'Scoring Value':[cv.mean()]}\n",
    "model_comparison = model_comparison.append(pd.DataFrame(data=models, columns=models.keys()), ignore_index=True)"
   ]
  },
  {
   "cell_type": "markdown",
   "metadata": {},
   "source": [
    "### Testing for many combinations of C, gamma, and kernel.\n",
    "\n",
    "All params default: Average Accuracy (AA) = 0.524266973886\n",
    "\n",
    "C = .25, other params default: AA = 0.524266973886\n",
    "\n",
    "C = .75, other params default: AA = 0.524266973886\n",
    "\n",
    "Kernel = 'linear,' other params default: AA = Would not run\n",
    "\n",
    "Kernel = 'poly,' 'sigmoid,' or 'precomputed,' other params default: ----> 9 svc.fit(X_train,Y_train) TypeError: must be real number, not str\n",
    "\n",
    "Gamma = .1, other params default: AA = 0.524266973886\n",
    "\n",
    "Gamma = .9, other params default: AA = 0.524266973886"
   ]
  },
  {
   "cell_type": "code",
   "execution_count": 26,
   "metadata": {},
   "outputs": [
    {
     "name": "stdout",
     "output_type": "stream",
     "text": [
      "[ 1.  1.  1.  1.  1.  1.  1.  1.  1.  1.  1.  1.  1.  1.  1.  1.  1.  1.\n",
      "  1.  1.  1.  1.  1.  1.  1.  1.  1.  1.  1.  1.  1.  1.  1.  1.  1.  1.\n",
      "  1.  1.  1.  1.  1.  1.  1.  1.  1.  1.  1.  1.  1.  1.  1.  1.  1.  1.\n",
      "  1.  1.  1.  1.  1.  1.  1.  1.  1.  1.  1.  1.  1.  1.  1.  1.  1.  1.\n",
      "  1.  1.  1.  1.  1.  1.  1.  1.  1.  1.  1.  1.  1.  1.  1.  1.  1.  1.\n",
      "  1.  1.  1.  1.  1.  1.  1.  1.  1.  1.  1.  1.  1.  1.  1.  1.  1.  1.\n",
      "  1.  1.  1.  1.  1.  1.  1.  1.  1.  1.  1.  1.  1.  1.  1.  1.  1.  1.\n",
      "  1.  1.  1.  1.  1.  1.  1.  1.  1.  1.  1.  1.  1.  1.  1.  1.  1.  1.\n",
      "  1.  1.  1.  1.  1.  1.  1.  1.  1.  1.  1.  1.  1.  1.  1.  1.  1.  1.\n",
      "  1.  1.  1.  1.  1.  1.  1.  1.  1.  1.  1.  1.  1.  1.  1.  1.  1.  1.\n",
      "  1.  1.  1.  1.  1.  1.  1.  1.  1.  1.  1.  1.  1.  1.  1.  1.  1.  1.\n",
      "  1.  1.  1.  1.  1.  1.  1.  1.  1.  1.  1.  1.  1.  1.  1.  1.  1.  1.\n",
      "  1.  1.  1.  1.  1.  1.  1.  1.  1.  1.  1.  1.  1.  1.  1.  1.  1.  1.\n",
      "  1.  1.  1.  1.  1.  1.  1.  1.  1.  1.  1.  1.  1.  1.  1.  1.  1.  1.]\n",
      "1.0\n"
     ]
    }
   ],
   "source": [
    "print(y_pred)\n",
    "print(y_pred.mean())"
   ]
  },
  {
   "cell_type": "markdown",
   "metadata": {},
   "source": [
    "# Gradient Boosting Classifier"
   ]
  },
  {
   "cell_type": "code",
   "execution_count": 27,
   "metadata": {},
   "outputs": [
    {
     "name": "stdout",
     "output_type": "stream",
     "text": [
      "Confusion Matrix of the model:\n",
      "[[71 46]\n",
      " [76 59]]\n",
      "Accuracy Score:\n",
      "[ 0.55555556  0.46031746  0.53968254  0.50793651  0.51587302  0.41269841\n",
      "  0.49206349  0.54761905  0.44        0.53225806]\n",
      "Average of the Accuracy Score:\n",
      "0.500400409626\n"
     ]
    }
   ],
   "source": [
    "# 500 iterations, using 5-deep trees, and loss function 'deviance.'\n",
    "# Play around with number of iterations\n",
    "# Look into learning rate\n",
    "\n",
    "### Document results of different numbers of n_estimators and max_depth. \n",
    "\n",
    "params = {'n_estimators': 500,\n",
    "          'max_depth': 5,\n",
    "          'loss': 'deviance'}\n",
    "\n",
    "# Initialize and fit the model.\n",
    "clf = ensemble.GradientBoostingClassifier(**params)\n",
    "clf.fit(X_train,Y_train)\n",
    "y_pred = clf.fit(X_train,Y_train).predict(X_test)\n",
    "\n",
    "print('Confusion Matrix of the model:')\n",
    "conf_mat = confusion_matrix(Y_test, y_pred)\n",
    "print(conf_mat)\n",
    "\n",
    "# Print the AUROC.\n",
    "cv = cross_val_score(clf, X, Y, cv=10, scoring='accuracy') \n",
    "print('Accuracy Score:')\n",
    "print(cv)\n",
    "# Print the average of the AUROC and store it in the table\n",
    "print('Average of the Accuracy Score:')\n",
    "print(cv.mean())\n",
    "\n",
    "# Store the data in the model_comparison table\n",
    "models = {'Model':['Gradient Boosting Classifier'], 'Scoring Metric':'Accuracy', 'Scoring Value':[cv.mean()]}\n",
    "model_comparison = model_comparison.append(pd.DataFrame(data=models, columns=models.keys()), ignore_index=True)"
   ]
  },
  {
   "cell_type": "code",
   "execution_count": 28,
   "metadata": {},
   "outputs": [
    {
     "name": "stdout",
     "output_type": "stream",
     "text": [
      "[-1.  1.  1.  1. -1.  1.  1.  1.  1.  1.  1.  1. -1.  1.  1.  1.  1. -1.\n",
      "  1.  1. -1. -1. -1.  1. -1. -1.  1. -1.  1. -1. -1. -1. -1.  1. -1. -1.\n",
      " -1. -1.  1. -1.  1. -1.  1. -1. -1. -1. -1. -1.  1.  1.  1. -1. -1. -1.\n",
      " -1.  1. -1. -1. -1.  1. -1. -1. -1. -1. -1.  1.  1. -1. -1.  1. -1. -1.\n",
      " -1.  1. -1. -1.  1. -1.  1.  1. -1. -1. -1.  1. -1. -1. -1. -1.  1. -1.\n",
      " -1. -1. -1.  1.  1. -1.  1.  1. -1. -1. -1.  1. -1. -1.  1.  1.  1.  1.\n",
      " -1. -1.  1.  1. -1. -1. -1.  1.  1.  1. -1. -1. -1. -1.  1. -1.  1.  1.\n",
      "  1.  1.  1.  1. -1. -1. -1.  1.  1.  1. -1.  1. -1. -1.  1.  1. -1. -1.\n",
      "  1.  1.  1. -1.  1. -1. -1.  1. -1.  1. -1.  1. -1.  1. -1.  1. -1. -1.\n",
      "  1. -1.  1.  1.  1.  1.  1.  1. -1.  1. -1.  1. -1. -1. -1.  1. -1. -1.\n",
      " -1. -1. -1. -1.  1. -1. -1.  1. -1.  1.  1. -1. -1. -1.  1. -1.  1.  1.\n",
      " -1. -1.  1. -1.  1. -1. -1.  1. -1. -1.  1.  1. -1. -1. -1. -1.  1. -1.\n",
      " -1.  1.  1. -1. -1. -1. -1. -1. -1. -1. -1. -1. -1. -1.  1.  1. -1. -1.\n",
      " -1. -1. -1. -1. -1.  1. -1.  1. -1. -1.  1. -1. -1.  1. -1. -1.  1. -1.]\n",
      "-0.166666666667\n"
     ]
    }
   ],
   "source": [
    "print(y_pred)\n",
    "print(y_pred.mean())"
   ]
  },
  {
   "cell_type": "markdown",
   "metadata": {},
   "source": [
    "# Section 3: Selection and Analysis of the Best Performing Model"
   ]
  },
  {
   "cell_type": "code",
   "execution_count": 29,
   "metadata": {},
   "outputs": [
    {
     "data": {
      "text/html": [
       "<div>\n",
       "<style>\n",
       "    .dataframe thead tr:only-child th {\n",
       "        text-align: right;\n",
       "    }\n",
       "\n",
       "    .dataframe thead th {\n",
       "        text-align: left;\n",
       "    }\n",
       "\n",
       "    .dataframe tbody tr th {\n",
       "        vertical-align: top;\n",
       "    }\n",
       "</style>\n",
       "<table border=\"1\" class=\"dataframe\">\n",
       "  <thead>\n",
       "    <tr style=\"text-align: right;\">\n",
       "      <th></th>\n",
       "      <th>Model</th>\n",
       "      <th>Scoring Metric</th>\n",
       "      <th>Scoring Value</th>\n",
       "    </tr>\n",
       "  </thead>\n",
       "  <tbody>\n",
       "    <tr>\n",
       "      <th>0</th>\n",
       "      <td>Logistic Regression</td>\n",
       "      <td>Accuracy</td>\n",
       "      <td>0.524267</td>\n",
       "    </tr>\n",
       "    <tr>\n",
       "      <th>1</th>\n",
       "      <td>Ridge Regression</td>\n",
       "      <td>R2</td>\n",
       "      <td>-0.007847</td>\n",
       "    </tr>\n",
       "    <tr>\n",
       "      <th>2</th>\n",
       "      <td>Lasso Regression</td>\n",
       "      <td>R2</td>\n",
       "      <td>-0.004287</td>\n",
       "    </tr>\n",
       "    <tr>\n",
       "      <th>3</th>\n",
       "      <td>Support Vector Regression</td>\n",
       "      <td>R2</td>\n",
       "      <td>-0.002885</td>\n",
       "    </tr>\n",
       "    <tr>\n",
       "      <th>4</th>\n",
       "      <td>Support Vector Classifier</td>\n",
       "      <td>Accuracy</td>\n",
       "      <td>0.524267</td>\n",
       "    </tr>\n",
       "    <tr>\n",
       "      <th>5</th>\n",
       "      <td>Gradient Boosting Classifier</td>\n",
       "      <td>Accuracy</td>\n",
       "      <td>0.500400</td>\n",
       "    </tr>\n",
       "  </tbody>\n",
       "</table>\n",
       "</div>"
      ],
      "text/plain": [
       "                          Model Scoring Metric  Scoring Value\n",
       "0           Logistic Regression       Accuracy       0.524267\n",
       "1              Ridge Regression             R2      -0.007847\n",
       "2              Lasso Regression             R2      -0.004287\n",
       "3     Support Vector Regression             R2      -0.002885\n",
       "4     Support Vector Classifier       Accuracy       0.524267\n",
       "5  Gradient Boosting Classifier       Accuracy       0.500400"
      ]
     },
     "execution_count": 29,
     "metadata": {},
     "output_type": "execute_result"
    }
   ],
   "source": [
    "model_comparison"
   ]
  },
  {
   "cell_type": "markdown",
   "metadata": {},
   "source": [
    "# Being provided one thousand dollars cash every ten business days, how will the top three models perform compared to one another as well as to a 401(k) approach?"
   ]
  },
  {
   "cell_type": "code",
   "execution_count": 30,
   "metadata": {},
   "outputs": [],
   "source": [
    "# Create a cash_available list that stores how much cash is available \n",
    "# to buy the stocks. It will be $1000 every ten business days.\n",
    "cash_available = [0]\n",
    "\n",
    "# Start out with 0 stocks_owned\n",
    "stocks_owned = [0]\n",
    "\n",
    "# Create DataFrame for profits\n",
    "profits = {'Model':[],'Profit':[]}\n",
    "columns = profits.keys()\n",
    "model_profits = pd.DataFrame(data=profits, columns=columns)"
   ]
  },
  {
   "cell_type": "code",
   "execution_count": 31,
   "metadata": {
    "collapsed": true
   },
   "outputs": [],
   "source": [
    "# Create a pred_return function to calculate the returns of the prediction models\n",
    "def pred_return(y_pred, data, cash_available, stocks_owned):\n",
    "    # Create DataFrame for values\n",
    "    new_values = {'Stocks':[],'Cash':[]}\n",
    "    columns = new_values.keys()\n",
    "    values = pd.DataFrame(data=new_values, columns=columns)\n",
    "    for i in range(len(y_pred)):\n",
    "        # For every tenth iteration of i, add 1000 to cash_available\n",
    "        if i%10 == 0:\n",
    "            cash_available = cash_available+1000\n",
    "        # If the predicted value is greater than zero, buy more stock\n",
    "        if y_pred[i] > 0:\n",
    "            [stocks_owned,cash_available] = buy_stock(cash_available, \n",
    "                                                      stocks_owned, y_pred, \n",
    "                                                      data.Close[i])\n",
    "        # If the predicted value is less than zero, sell stock\n",
    "        elif y_pred[i] < 0:\n",
    "            [stocks_owned,cash_available] = sell_stock(cash_available, \n",
    "                                                      stocks_owned, y_pred, \n",
    "                                                      data.Close[i])\n",
    "        stocks_owned = [stocks_owned,cash_available][0]\n",
    "        cash_available = [stocks_owned,cash_available][1]\n",
    "        new_values = {'Stocks':[stocks_owned], 'Cash':[cash_available]}\n",
    "        values = values.append(pd.DataFrame(data=new_values, columns=\n",
    "                                            new_values.keys()), \n",
    "                                            ignore_index=True)\n",
    "    #print(values,y_pred)\n",
    "    return(values)"
   ]
  },
  {
   "cell_type": "code",
   "execution_count": 32,
   "metadata": {
    "collapsed": true
   },
   "outputs": [],
   "source": [
    "# Create a buy_stock function that buys as many stocks as can be afforded\n",
    "def buy_stock(cash_available, stocks_owned, y_pred, value):\n",
    "    # Set number of stocks to buy\n",
    "    num_stocks_buy = int(cash_available/value)\n",
    "    # Subtract from cash_available, store it in a list\n",
    "    cash_available = cash_available-num_stocks_buy*value\n",
    "    stocks_owned = stocks_owned+num_stocks_buy\n",
    "    return(stocks_owned, cash_available)"
   ]
  },
  {
   "cell_type": "code",
   "execution_count": 33,
   "metadata": {
    "collapsed": true
   },
   "outputs": [],
   "source": [
    "# Create a sell_stock function that sells all stocks\n",
    "def sell_stock(cash_available, stocks_owned, y_pred, value):\n",
    "    sell_value = stocks_owned*value\n",
    "    cash_available = cash_available + sell_value\n",
    "    stocks_owned = 0\n",
    "    return(stocks_owned, cash_available)"
   ]
  },
  {
   "cell_type": "code",
   "execution_count": 34,
   "metadata": {
    "collapsed": true
   },
   "outputs": [],
   "source": [
    "# Create the 401k approach simulator, safe_invest, \n",
    "# That buys as much stock as is available every two weeks / ten business days.\n",
    "def safe_invest(data, cash_available, stocks_owned):\n",
    "    # Create DataFrame for values\n",
    "    new_values = {'Stocks':[],'Cash':[]}\n",
    "    columns = new_values.keys()\n",
    "    values = pd.DataFrame(data=new_values, columns=columns)\n",
    "    for i in range(len(data.loc[offset:,:])):\n",
    "        # For every tenth iteration of i, add 1000 to cash_available\n",
    "        if i%10 == 0:\n",
    "            cash_available = cash_available+1000\n",
    "        num_stocks_buy = int(cash_available/data.Close[i])\n",
    "        stocks_owned = num_stocks_buy + stocks_owned\n",
    "        cash_available = cash_available-num_stocks_buy*data.Close[i]\n",
    "        # Store the values in a table\n",
    "        new_values = {'Stocks':[stocks_owned], 'Cash':[cash_available]}\n",
    "        values = values.append(pd.DataFrame(data=new_values, columns=\n",
    "                                            new_values.keys()), \n",
    "                                            ignore_index=True)\n",
    "\n",
    "    #print(values)\n",
    "    return(values)"
   ]
  },
  {
   "cell_type": "code",
   "execution_count": 35,
   "metadata": {},
   "outputs": [],
   "source": [
    "# Run the pred_return function for lr\n",
    "y_pred = lr.fit(X_train,Y_train).predict(X_test)\n",
    "cash_available = 0\n",
    "stocks_owned = 0\n",
    "values = pred_return(y_pred, data, cash_available, stocks_owned)"
   ]
  },
  {
   "cell_type": "code",
   "execution_count": 36,
   "metadata": {},
   "outputs": [
    {
     "name": "stdout",
     "output_type": "stream",
     "text": [
      "29297.44\n"
     ]
    }
   ],
   "source": [
    "# Calculate the ending returns from the lr model\n",
    "lr_returns = values.loc[len(values)-1,'Stocks']*data.loc[len(y_pred)-1,'Close'] + values.loc[len(values)-1, 'Cash']\n",
    "print(lr_returns)"
   ]
  },
  {
   "cell_type": "code",
   "execution_count": 37,
   "metadata": {},
   "outputs": [
    {
     "name": "stdout",
     "output_type": "stream",
     "text": [
      "21737.44\n"
     ]
    }
   ],
   "source": [
    "# 252 trading days in a year, 2017-2012 is 6 years, \n",
    "# $1000 granted every 10 days = 151,200 dollars granted.\n",
    "# Since we are predicting the last 20% of the data, divide by 20\n",
    "# Get total profit by subrtracting returns by dollars granted. \n",
    "lr_profit = lr_returns - 7560\n",
    "print(lr_profit)\n",
    "\n",
    "# Store the profit in the model_profits table\n",
    "profits = {'Model':['Logistic Regression'], 'Profit':lr_profit}\n",
    "model_profits = model_profits.append(pd.DataFrame(data=profits, columns=profits.keys()), ignore_index=True)"
   ]
  },
  {
   "cell_type": "code",
   "execution_count": 38,
   "metadata": {
    "collapsed": true
   },
   "outputs": [],
   "source": [
    "# Run the pred_return function for ridge\n",
    "y_pred = ridgeregr.fit(X_train,Y_train).predict(X_test)\n",
    "cash_available = 0\n",
    "stocks_owned = 0\n",
    "values = pred_return(y_pred, data, cash_available, stocks_owned)"
   ]
  },
  {
   "cell_type": "code",
   "execution_count": 39,
   "metadata": {},
   "outputs": [
    {
     "name": "stdout",
     "output_type": "stream",
     "text": [
      "29931.19\n"
     ]
    }
   ],
   "source": [
    "# Calculate the ending returns from the lr model\n",
    "ridgeregr_returns = values.loc[len(values)-1,'Stocks']*data.loc[len(y_pred)-1,'Close'] + values.loc[len(values)-1, 'Cash']\n",
    "print(ridgeregr_returns)"
   ]
  },
  {
   "cell_type": "code",
   "execution_count": 40,
   "metadata": {},
   "outputs": [
    {
     "name": "stdout",
     "output_type": "stream",
     "text": [
      "22371.19\n"
     ]
    }
   ],
   "source": [
    "# 252 trading days in a year, 2017-2012 is 6 years, \n",
    "# $1000 granted every 10 days = 151,200 dollars granted.\n",
    "# Since we are predicting the last 20% of the data, divide by 20\n",
    "# Get total profit by subrtracting returns by dollars granted. \n",
    "ridgeregr_profit = ridgeregr_returns - 7560\n",
    "print(ridgeregr_profit)\n",
    "\n",
    "# Store the profit in the model_profits table\n",
    "profits = {'Model':['Ridge Regression'], 'Profit':ridgeregr_profit}\n",
    "model_profits = model_profits.append(pd.DataFrame(data=profits, columns=profits.keys()), ignore_index=True)"
   ]
  },
  {
   "cell_type": "code",
   "execution_count": 41,
   "metadata": {
    "collapsed": true
   },
   "outputs": [],
   "source": [
    "# Run the pred_return function for lasso\n",
    "y_pred = lasso.fit(X_train,Y_train).predict(X_test)\n",
    "cash_available = 0\n",
    "stocks_owned = 0\n",
    "values = pred_return(y_pred, data, cash_available, stocks_owned)"
   ]
  },
  {
   "cell_type": "code",
   "execution_count": 42,
   "metadata": {},
   "outputs": [
    {
     "name": "stdout",
     "output_type": "stream",
     "text": [
      "29297.44\n"
     ]
    }
   ],
   "source": [
    "# Calculate the ending returns from the lr model\n",
    "lasso_returns = values.loc[len(values)-1,'Stocks']*data.loc[len(y_pred)-1,'Close'] + values.loc[len(values)-1, 'Cash']\n",
    "print(lasso_returns)"
   ]
  },
  {
   "cell_type": "code",
   "execution_count": 43,
   "metadata": {},
   "outputs": [
    {
     "name": "stdout",
     "output_type": "stream",
     "text": [
      "21737.44\n"
     ]
    }
   ],
   "source": [
    "# 252 trading days in a year, 2017-2012 is 6 years, \n",
    "# $1000 granted every 10 days = 151,200 dollars granted.\n",
    "# Since we are predicting the last 20% of the data, divide by 20\n",
    "# Get total profit by subrtracting returns by dollars granted. \n",
    "lasso_profit = lasso_returns - 7560\n",
    "print(lasso_profit)\n",
    "\n",
    "# Store the profit in the model_profits table\n",
    "profits = {'Model':['Lasso Regression'], 'Profit':lasso_profit}\n",
    "model_profits = model_profits.append(pd.DataFrame(data=profits, columns=profits.keys()), ignore_index=True)"
   ]
  },
  {
   "cell_type": "code",
   "execution_count": 44,
   "metadata": {},
   "outputs": [],
   "source": [
    "# Run the pred_return function for svr\n",
    "y_pred = svr.fit(X_train,Y_train).predict(X_test)\n",
    "cash_available = 0\n",
    "stocks_owned = 0\n",
    "values = pred_return(y_pred, data, cash_available, stocks_owned)"
   ]
  },
  {
   "cell_type": "code",
   "execution_count": 45,
   "metadata": {},
   "outputs": [
    {
     "name": "stdout",
     "output_type": "stream",
     "text": [
      "29297.44\n"
     ]
    }
   ],
   "source": [
    "# Calculate the ending returns from the svr model\n",
    "svr_returns = values.loc[len(values)-1,'Stocks']*data.loc[len(y_pred)-1,'Close'] + values.loc[len(values)-1, 'Cash']\n",
    "print(svr_returns)"
   ]
  },
  {
   "cell_type": "code",
   "execution_count": 46,
   "metadata": {},
   "outputs": [
    {
     "name": "stdout",
     "output_type": "stream",
     "text": [
      "21737.44\n"
     ]
    }
   ],
   "source": [
    "# 252 trading days in a year, 2017-2012 is 6 years, \n",
    "# $1000 granted every 10 days = 151,200 dollars granted.\n",
    "# Since we are predicting the last 20% of the data, divide by 20\n",
    "# Get total profit by subrtracting returns by dollars granted. \n",
    "# Get total profit by subrtracting returns by dollars granted. \n",
    "svr_profit = svr_returns - 7560\n",
    "print(svr_profit)\n",
    "\n",
    "# Store the profit in the model_profits table\n",
    "profits = {'Model':['Support Vector Regression'], 'Profit':svr_profit}\n",
    "model_profits = model_profits.append(pd.DataFrame(data=profits, columns=profits.keys()), ignore_index=True)"
   ]
  },
  {
   "cell_type": "code",
   "execution_count": 47,
   "metadata": {},
   "outputs": [],
   "source": [
    "# Run the pred_return function for svc\n",
    "y_pred = svc.fit(X_train,Y_train).predict(X_test)\n",
    "cash_available = 0\n",
    "stocks_owned = 0\n",
    "values = pred_return(y_pred, data, cash_available, stocks_owned)"
   ]
  },
  {
   "cell_type": "code",
   "execution_count": 48,
   "metadata": {},
   "outputs": [
    {
     "name": "stdout",
     "output_type": "stream",
     "text": [
      "29297.44\n"
     ]
    }
   ],
   "source": [
    "# Calculate the ending returns from the svc model\n",
    "svc_returns = values.loc[len(values)-1,'Stocks']*data.loc[len(y_pred)-1,'Close'] + values.loc[len(values)-1, 'Cash']\n",
    "print(svc_returns)"
   ]
  },
  {
   "cell_type": "code",
   "execution_count": 49,
   "metadata": {},
   "outputs": [
    {
     "name": "stdout",
     "output_type": "stream",
     "text": [
      "21737.44\n"
     ]
    }
   ],
   "source": [
    "# 252 trading days in a year, 2017-2012 is 6 years, \n",
    "# $1000 granted every 10 days = 151,200 dollars granted.\n",
    "# Since we are predicting the last 20% of the data, divide by 20\n",
    "# Get total profit by subrtracting returns by dollars granted. \n",
    "# Get total profit by subrtracting returns by dollars granted. \n",
    "svc_profit = svc_returns - 7560\n",
    "print(svc_profit)\n",
    "\n",
    "# Store the profit in the model_profits table\n",
    "profits = {'Model':['Support Vector Classifier'], 'Profit':svc_profit}\n",
    "model_profits = model_profits.append(pd.DataFrame(data=profits, columns=profits.keys()), ignore_index=True)"
   ]
  },
  {
   "cell_type": "code",
   "execution_count": 50,
   "metadata": {},
   "outputs": [],
   "source": [
    "# Run the pred_return function for gradient boosting classifier\n",
    "y_pred = clf.fit(X_train,Y_train).predict(X_test)\n",
    "cash_available = 0\n",
    "stocks_owned = 0\n",
    "values = pred_return(y_pred, data, cash_available, stocks_owned)"
   ]
  },
  {
   "cell_type": "code",
   "execution_count": 51,
   "metadata": {},
   "outputs": [
    {
     "name": "stdout",
     "output_type": "stream",
     "text": [
      "27429.68\n"
     ]
    }
   ],
   "source": [
    "# Calculate the ending returns from the clf model\n",
    "clf_returns = values.loc[len(values)-1,'Stocks']*data.loc[len(y_pred)-1,'Close'] + values.loc[len(values)-1, 'Cash']\n",
    "print(clf_returns)"
   ]
  },
  {
   "cell_type": "code",
   "execution_count": 52,
   "metadata": {},
   "outputs": [
    {
     "name": "stdout",
     "output_type": "stream",
     "text": [
      "19869.68\n"
     ]
    }
   ],
   "source": [
    "# 252 trading days in a year, 2017-2012 is 6 years, \n",
    "# $1000 granted every 10 days = 151,200 dollars granted.\n",
    "# Since we are predicting the last 20% of the data, divide by 20\n",
    "# Get total profit by subrtracting returns by dollars granted. \n",
    "# Get total profit by subrtracting returns by dollars granted. \n",
    "clf_profit = clf_returns - 7560\n",
    "print(clf_profit)\n",
    "\n",
    "# Store the profit in the model_profits table\n",
    "profits = {'Model':['Gradient Boosting Classifier'], 'Profit':clf_profit}\n",
    "model_profits = model_profits.append(pd.DataFrame(data=profits, columns=profits.keys()), ignore_index=True)"
   ]
  },
  {
   "cell_type": "code",
   "execution_count": 53,
   "metadata": {},
   "outputs": [],
   "source": [
    "# Run the safe_invest function\n",
    "cash_available = 0\n",
    "stocks_owned = 0\n",
    "values = safe_invest(data, cash_available, stocks_owned)"
   ]
  },
  {
   "cell_type": "code",
   "execution_count": 54,
   "metadata": {},
   "outputs": [
    {
     "name": "stdout",
     "output_type": "stream",
     "text": [
      "29297.44\n"
     ]
    }
   ],
   "source": [
    "# Calculate the ending returns from the safe_invest function\n",
    "safe_returns = values.loc[len(values)-1,'Stocks']*data.loc[len(data.loc[offset:,:])-1,'Close'] + values.loc[len(values)-1, 'Cash']\n",
    "print(safe_returns)"
   ]
  },
  {
   "cell_type": "code",
   "execution_count": 55,
   "metadata": {},
   "outputs": [
    {
     "name": "stdout",
     "output_type": "stream",
     "text": [
      "21737.44\n"
     ]
    }
   ],
   "source": [
    "# 252 trading days in a year, 2017-2012 is 6 years, \n",
    "# $1000 granted every 10 days = 151,200 dollars granted.\n",
    "# Since we are predicting the last 20% of the data, divide by 20\n",
    "# Get total profit by subrtracting returns by dollars granted. \n",
    "# Get total profit by subrtracting returns by dollars granted. \n",
    "safe_profit = safe_returns - 7560\n",
    "print(safe_profit)\n",
    "\n",
    "# Store the profit in the model_profits table\n",
    "profits = {'Model':['401k Simulator'], 'Profit':safe_profit}\n",
    "model_profits = model_profits.append(pd.DataFrame(data=profits, columns=profits.keys()), ignore_index=True)"
   ]
  },
  {
   "cell_type": "code",
   "execution_count": 56,
   "metadata": {},
   "outputs": [
    {
     "data": {
      "text/html": [
       "<div>\n",
       "<style>\n",
       "    .dataframe thead tr:only-child th {\n",
       "        text-align: right;\n",
       "    }\n",
       "\n",
       "    .dataframe thead th {\n",
       "        text-align: left;\n",
       "    }\n",
       "\n",
       "    .dataframe tbody tr th {\n",
       "        vertical-align: top;\n",
       "    }\n",
       "</style>\n",
       "<table border=\"1\" class=\"dataframe\">\n",
       "  <thead>\n",
       "    <tr style=\"text-align: right;\">\n",
       "      <th></th>\n",
       "      <th>Model</th>\n",
       "      <th>Profit</th>\n",
       "    </tr>\n",
       "  </thead>\n",
       "  <tbody>\n",
       "    <tr>\n",
       "      <th>0</th>\n",
       "      <td>Logistic Regression</td>\n",
       "      <td>21737.44</td>\n",
       "    </tr>\n",
       "    <tr>\n",
       "      <th>1</th>\n",
       "      <td>Ridge Regression</td>\n",
       "      <td>22371.19</td>\n",
       "    </tr>\n",
       "    <tr>\n",
       "      <th>2</th>\n",
       "      <td>Lasso Regression</td>\n",
       "      <td>21737.44</td>\n",
       "    </tr>\n",
       "    <tr>\n",
       "      <th>3</th>\n",
       "      <td>Support Vector Regression</td>\n",
       "      <td>21737.44</td>\n",
       "    </tr>\n",
       "    <tr>\n",
       "      <th>4</th>\n",
       "      <td>Support Vector Classifier</td>\n",
       "      <td>21737.44</td>\n",
       "    </tr>\n",
       "    <tr>\n",
       "      <th>5</th>\n",
       "      <td>Gradient Boosting Classifier</td>\n",
       "      <td>19869.68</td>\n",
       "    </tr>\n",
       "    <tr>\n",
       "      <th>6</th>\n",
       "      <td>401k Simulator</td>\n",
       "      <td>21737.44</td>\n",
       "    </tr>\n",
       "  </tbody>\n",
       "</table>\n",
       "</div>"
      ],
      "text/plain": [
       "                          Model    Profit\n",
       "0           Logistic Regression  21737.44\n",
       "1              Ridge Regression  22371.19\n",
       "2              Lasso Regression  21737.44\n",
       "3     Support Vector Regression  21737.44\n",
       "4     Support Vector Classifier  21737.44\n",
       "5  Gradient Boosting Classifier  19869.68\n",
       "6                401k Simulator  21737.44"
      ]
     },
     "execution_count": 56,
     "metadata": {},
     "output_type": "execute_result"
    }
   ],
   "source": [
    "model_profits"
   ]
  },
  {
   "cell_type": "markdown",
   "metadata": {},
   "source": [
    "# Analysis:\n",
    "\n",
    "The test data had an average momentum of 0.07142857142857142, which correlates to the overall growth of the stock over the test data. This average will be compared to the average predicted momentums (average of y_pred) for each model. \n",
    "\n",
    "Logistic Regression and Support Vector Classifier had an average y_pred of 1.0, meaning that the model predicted an upward movement for every point, and therefore acted in the same manner as the 401(k) simulator. \n",
    "\n",
    "The Gradient Boosting Classifier predicted rises and falls in the stock value, with an overall average of -0.166666666667. This shows that the model behaved appropriately in that it predicted rises and falls, but it did not perform as well as the 401(k) simulator. The results make sense, since the Gradient Boosting Classifier had an average accuracy of .50, whereas the Logistic Regression and Support Vector Classifiers had average accuries of .52.\n",
    "\n",
    "Lasso Regression and Support Vector Regression had average y_pred values of 0.0228357109921 and 0.0213930348259, respectively. This shows that these two models behaved appropriately in that they predicted rises and falls, and they actually generated a profit that was equal to the 401(k) simulator. \n",
    "\n",
    "# What happened with Ridge Regression?\n",
    "\n",
    "Ridge Regression had an average y_pred of 0.0248827351445. This shows that the model performed appropriately in that it predicted the rises and fals of the stock. The model returned a higher profit than the 401(k) simulator. "
   ]
  }
 ],
 "metadata": {
  "kernelspec": {
   "display_name": "Python 3",
   "language": "python",
   "name": "python3"
  },
  "language_info": {
   "codemirror_mode": {
    "name": "ipython",
    "version": 3
   },
   "file_extension": ".py",
   "mimetype": "text/x-python",
   "name": "python",
   "nbconvert_exporter": "python",
   "pygments_lexer": "ipython3",
   "version": "3.6.1"
  }
 },
 "nbformat": 4,
 "nbformat_minor": 2
}
