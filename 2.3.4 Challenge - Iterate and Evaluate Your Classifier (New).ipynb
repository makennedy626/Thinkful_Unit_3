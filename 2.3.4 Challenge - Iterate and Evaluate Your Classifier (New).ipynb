{
 "cells": [
  {
   "cell_type": "markdown",
   "metadata": {},
   "source": [
    "# The beginning of this report is copied over from the previous exercise. Scroll further down to see the beginning of 2.3.4."
   ]
  },
  {
   "cell_type": "markdown",
   "metadata": {},
   "source": [
    "Pick one of the company data files and build your own classifier. When you're satisfied with its performance (at this point just using the accuracy measure shown in the example), test it on one of the other datasets to see how well these kinds of classifiers translate from one context to another.\n",
    "\n",
    "Include your model and a brief writeup of your feature engineering and selection process to submit and review with your mentor."
   ]
  },
  {
   "cell_type": "code",
   "execution_count": 1,
   "metadata": {
    "collapsed": false
   },
   "outputs": [
    {
     "data": {
      "text/html": [
       "<div>\n",
       "<table border=\"1\" class=\"dataframe\">\n",
       "  <thead>\n",
       "    <tr style=\"text-align: right;\">\n",
       "      <th></th>\n",
       "      <th>review</th>\n",
       "      <th>positive</th>\n",
       "    </tr>\n",
       "  </thead>\n",
       "  <tbody>\n",
       "    <tr>\n",
       "      <th>0</th>\n",
       "      <td>So there is no way for me to plug it in here i...</td>\n",
       "      <td>0</td>\n",
       "    </tr>\n",
       "    <tr>\n",
       "      <th>1</th>\n",
       "      <td>Good case, Excellent value.</td>\n",
       "      <td>1</td>\n",
       "    </tr>\n",
       "    <tr>\n",
       "      <th>2</th>\n",
       "      <td>Great for the jawbone.</td>\n",
       "      <td>1</td>\n",
       "    </tr>\n",
       "    <tr>\n",
       "      <th>3</th>\n",
       "      <td>Tied to charger for conversations lasting more...</td>\n",
       "      <td>0</td>\n",
       "    </tr>\n",
       "    <tr>\n",
       "      <th>4</th>\n",
       "      <td>The mic is great.</td>\n",
       "      <td>1</td>\n",
       "    </tr>\n",
       "  </tbody>\n",
       "</table>\n",
       "</div>"
      ],
      "text/plain": [
       "                                              review  positive\n",
       "0  So there is no way for me to plug it in here i...         0\n",
       "1                        Good case, Excellent value.         1\n",
       "2                             Great for the jawbone.         1\n",
       "3  Tied to charger for conversations lasting more...         0\n",
       "4                                  The mic is great.         1"
      ]
     },
     "execution_count": 1,
     "metadata": {},
     "output_type": "execute_result"
    }
   ],
   "source": [
    "# Import the necessary features for this exercise\n",
    "import pandas as pd\n",
    "import numpy as np\n",
    "import matplotlib.pyplot as plt\n",
    "import seaborn as sns\n",
    "import scipy.stats as stats\n",
    "import sklearn\n",
    "from sklearn.preprocessing import normalize\n",
    "from sklearn.naive_bayes import BernoulliNB\n",
    "\n",
    "# Import the data\n",
    "df = pd.read_table('C:\\\\Users\\\\maken\\\\sentiment_labelled_sentences\\\\sentiment_labelled_sentences\\\\amazon_cells_labelled.txt', header = None, names = ['review', 'positive'])\n",
    "\n",
    "df.describe()\n",
    "df.head()"
   ]
  },
  {
   "cell_type": "code",
   "execution_count": 2,
   "metadata": {
    "collapsed": false
   },
   "outputs": [
    {
     "data": {
      "text/html": [
       "<div>\n",
       "<table border=\"1\" class=\"dataframe\">\n",
       "  <thead>\n",
       "    <tr style=\"text-align: right;\">\n",
       "      <th></th>\n",
       "      <th>review</th>\n",
       "      <th>positive</th>\n",
       "      <th>good</th>\n",
       "      <th>excellent</th>\n",
       "      <th>great</th>\n",
       "      <th>well</th>\n",
       "    </tr>\n",
       "  </thead>\n",
       "  <tbody>\n",
       "    <tr>\n",
       "      <th>0</th>\n",
       "      <td>So there is no way for me to plug it in here i...</td>\n",
       "      <td>0</td>\n",
       "      <td>False</td>\n",
       "      <td>False</td>\n",
       "      <td>False</td>\n",
       "      <td>False</td>\n",
       "    </tr>\n",
       "    <tr>\n",
       "      <th>1</th>\n",
       "      <td>Good case, Excellent value.</td>\n",
       "      <td>1</td>\n",
       "      <td>True</td>\n",
       "      <td>True</td>\n",
       "      <td>False</td>\n",
       "      <td>False</td>\n",
       "    </tr>\n",
       "    <tr>\n",
       "      <th>2</th>\n",
       "      <td>Great for the jawbone.</td>\n",
       "      <td>1</td>\n",
       "      <td>False</td>\n",
       "      <td>False</td>\n",
       "      <td>True</td>\n",
       "      <td>False</td>\n",
       "    </tr>\n",
       "    <tr>\n",
       "      <th>3</th>\n",
       "      <td>Tied to charger for conversations lasting more...</td>\n",
       "      <td>0</td>\n",
       "      <td>False</td>\n",
       "      <td>False</td>\n",
       "      <td>False</td>\n",
       "      <td>False</td>\n",
       "    </tr>\n",
       "    <tr>\n",
       "      <th>4</th>\n",
       "      <td>The mic is great.</td>\n",
       "      <td>1</td>\n",
       "      <td>False</td>\n",
       "      <td>False</td>\n",
       "      <td>True</td>\n",
       "      <td>False</td>\n",
       "    </tr>\n",
       "  </tbody>\n",
       "</table>\n",
       "</div>"
      ],
      "text/plain": [
       "                                              review  positive   good  \\\n",
       "0  So there is no way for me to plug it in here i...         0  False   \n",
       "1                        Good case, Excellent value.         1   True   \n",
       "2                             Great for the jawbone.         1  False   \n",
       "3  Tied to charger for conversations lasting more...         0  False   \n",
       "4                                  The mic is great.         1  False   \n",
       "\n",
       "  excellent  great   well  \n",
       "0     False  False  False  \n",
       "1      True  False  False  \n",
       "2     False   True  False  \n",
       "3     False  False  False  \n",
       "4     False   True  False  "
      ]
     },
     "execution_count": 2,
     "metadata": {},
     "output_type": "execute_result"
    }
   ],
   "source": [
    "keywords = ['good', 'excellent', 'great', 'well']\n",
    "\n",
    "for key in keywords:\n",
    "    df[str(key)] = df.review.str.contains(\n",
    "        str(key),\n",
    "        case=False\n",
    "    )\n",
    "\n",
    "# Print the headers to check how the previous method is working. \n",
    "df.head()"
   ]
  },
  {
   "cell_type": "code",
   "execution_count": 3,
   "metadata": {
    "collapsed": false
   },
   "outputs": [
    {
     "data": {
      "text/html": [
       "<div>\n",
       "<table border=\"1\" class=\"dataframe\">\n",
       "  <thead>\n",
       "    <tr style=\"text-align: right;\">\n",
       "      <th></th>\n",
       "      <th>review</th>\n",
       "      <th>positive</th>\n",
       "      <th>good</th>\n",
       "      <th>excellent</th>\n",
       "      <th>great</th>\n",
       "      <th>well</th>\n",
       "    </tr>\n",
       "  </thead>\n",
       "  <tbody>\n",
       "    <tr>\n",
       "      <th>0</th>\n",
       "      <td>So there is no way for me to plug it in here i...</td>\n",
       "      <td>False</td>\n",
       "      <td>False</td>\n",
       "      <td>False</td>\n",
       "      <td>False</td>\n",
       "      <td>False</td>\n",
       "    </tr>\n",
       "    <tr>\n",
       "      <th>1</th>\n",
       "      <td>Good case, Excellent value.</td>\n",
       "      <td>True</td>\n",
       "      <td>True</td>\n",
       "      <td>True</td>\n",
       "      <td>False</td>\n",
       "      <td>False</td>\n",
       "    </tr>\n",
       "    <tr>\n",
       "      <th>2</th>\n",
       "      <td>Great for the jawbone.</td>\n",
       "      <td>True</td>\n",
       "      <td>False</td>\n",
       "      <td>False</td>\n",
       "      <td>True</td>\n",
       "      <td>False</td>\n",
       "    </tr>\n",
       "    <tr>\n",
       "      <th>3</th>\n",
       "      <td>Tied to charger for conversations lasting more...</td>\n",
       "      <td>False</td>\n",
       "      <td>False</td>\n",
       "      <td>False</td>\n",
       "      <td>False</td>\n",
       "      <td>False</td>\n",
       "    </tr>\n",
       "    <tr>\n",
       "      <th>4</th>\n",
       "      <td>The mic is great.</td>\n",
       "      <td>True</td>\n",
       "      <td>False</td>\n",
       "      <td>False</td>\n",
       "      <td>True</td>\n",
       "      <td>False</td>\n",
       "    </tr>\n",
       "  </tbody>\n",
       "</table>\n",
       "</div>"
      ],
      "text/plain": [
       "                                              review positive   good  \\\n",
       "0  So there is no way for me to plug it in here i...    False  False   \n",
       "1                        Good case, Excellent value.     True   True   \n",
       "2                             Great for the jawbone.     True  False   \n",
       "3  Tied to charger for conversations lasting more...    False  False   \n",
       "4                                  The mic is great.     True  False   \n",
       "\n",
       "  excellent  great   well  \n",
       "0     False  False  False  \n",
       "1      True  False  False  \n",
       "2     False   True  False  \n",
       "3     False  False  False  \n",
       "4     False   True  False  "
      ]
     },
     "execution_count": 3,
     "metadata": {},
     "output_type": "execute_result"
    }
   ],
   "source": [
    "# Convert the int column of positive into a boolean\n",
    "df['positive'] = (df['positive'] == 1)\n",
    "df.head()"
   ]
  },
  {
   "cell_type": "code",
   "execution_count": 4,
   "metadata": {
    "collapsed": false
   },
   "outputs": [
    {
     "name": "stdout",
     "output_type": "stream",
     "text": [
      "Number of mislabeled points out of a total 1000 points : 325\n"
     ]
    }
   ],
   "source": [
    "data = df[keywords]\n",
    "target = df['positive']\n",
    "\n",
    "bnb = BernoulliNB()\n",
    "\n",
    "bnb.fit(data, target)\n",
    "\n",
    "y_pred = bnb.predict(data)\n",
    "\n",
    "print(\"Number of mislabeled points out of a total {} points : {}\".format(\n",
    "    data.shape[0],\n",
    "    (target != y_pred).sum()\n",
    "))"
   ]
  },
  {
   "cell_type": "code",
   "execution_count": 5,
   "metadata": {
    "collapsed": false
   },
   "outputs": [
    {
     "name": "stdout",
     "output_type": "stream",
     "text": [
      "OrderedDict([('the', 237), ('and', 188), ('i', 153), ('is', 141), ('it', 124), ('a', 104), ('this', 103), ('to', 86), ('great', 82), ('phone', 80), ('my', 72), ('very', 69), ('for', 65), ('with', 64), ('good', 61), ('of', 49), ('works', 45), ('on', 44), ('have', 38), ('was', 36), ('in', 34), ('product', 33), ('that', 32), ('well', 31), ('quality', 30), ('headset', 30), ('sound', 26), ('so', 26), ('excellent', 24), ('has', 24), ('one', 23), ('are', 22), ('battery', 22), ('use', 21), ('had', 21), ('nice', 21), ('price', 21), ('but', 21), ('you', 20), ('best', 20), ('as', 20), ('love', 20), ('recommend', 19), (\"i've\", 19), ('all', 19), ('than', 19), ('like', 18), ('would', 17), ('case', 16), ('from', 16), (\"it's\", 16), ('ear', 16), ('any', 15), ('not', 15), ('really', 15), ('-', 14), ('comfortable', 14), ('easy', 14), ('your', 14), ('happy', 13), ('these', 13), ('new', 12), ('up', 12), ('fine', 12), ('just', 12), ('been', 12), ('no', 12), ('better', 12), ('am', 12), ('can', 11), ('car', 11), ('even', 11), ('time', 11), ('be', 11), ('clear', 10), ('bluetooth', 10), ('device', 10), ('worked', 10), ('also', 10), ('cell', 10), ('fits', 10), (\"i'm\", 10), ('an', 10), ('far', 9), ('camera', 9), ('they', 9), ('because', 9), ('work', 9), ('item', 9), ('reception', 9), ('got', 9), ('working', 9), ('highly', 8), ('great!', 8), ('bought', 8), ('now', 8), ('me', 8), ('made', 8), ('pretty', 8), ('more', 8), ('or', 8), ('2', 8), ('its', 8), ('used', 8), ('get', 8), ('at', 8), ('when', 7), ('without', 7), ('charger', 7), ('does', 7), ('everything', 7), ('about', 7), ('purchase', 7), ('years', 7), ('wear', 7), ('lot', 7), ('jabra', 7), ('service', 7), ('life', 7), ('long', 7), ('much', 7), ('two', 6), ('people', 6), ('problems', 6), ('cool', 6), ('', 6), ('them', 6), ('found', 6), ('other', 6), ('both', 6), ('using', 6), ('motorola', 6), ('fit', 6), ('light', 6), ('after', 6), ('did', 6), ('which', 6), ('again', 6), ('value', 5), ('if', 5), ('impressed', 5), ('say', 5), ('out', 5), ('priced', 5), ('right', 5), ('too', 5), ('sturdy', 5), ('gets', 5), ('little', 5), ('tried', 5), ('definitely', 5), (\"couldn't\", 5), ('pleased', 5), ('only', 5), ('few', 5), ('small', 5), (\"don't\", 5), ('there', 5), ('while', 5), ('voice', 5), ('screen', 5), ('awesome', 5), ('phone!', 5), ('buy', 5), ('range', 5), ('ever', 5), ('cases', 5), ('makes', 5), ('original', 4), ('ears', 4), ('make', 4), ('seems', 4), ('keyboard', 4), ('into', 4), ('still', 4), ('their', 4), ('looks', 4), ('think', 4), ('several', 4), ('most', 4), ('headsets', 4), ('verizon', 4), ('order', 4), ('free', 4), ('pictures', 4), ('call', 4), ('leather', 4), ('fast', 4), ('comfortably', 4), ('job', 4), ('&', 4), ('problem', 4), ('phones', 4), ('look', 4), ('charm', 4), ('being', 4), ('simple', 4), ('hands', 4), ('family', 4), ('seller', 4), ('quickly', 4), ('do', 4), ('low', 4), ('came', 4), ('data', 4), ('satisfied', 4), ('especially', 4), ('perfectly', 4), ('clarity', 4), ('amazon', 4), ('price!', 4), ('need', 4), ('quite', 4), ('samsung', 4), ('jawbone', 3), ('razr', 3), ('must', 3), ('blue', 3), ('absolutely', 3), ('it!', 3), ('days', 3), ('pc', 3), ('months', 3), ('sure', 3), ('features', 3), ('instead', 3), ('end', 3), ('since', 3), ('find', 3), ('feels', 3), ('beautiful', 3), ('holds', 3), ('packaged', 3), ('arrived', 3), ('will', 3), ('shipping', 3), ('display', 3), ('rocks', 3), ('software', 3), ('glad', 3), ('cheap', 3), ('fantastic', 3), ('sharp', 3), ('helpful', 3), ('part', 3), ('reasonably', 3), ('decent', 3), ('able', 3), ('around', 3), ('lightweight', 3), ('market', 3), ('comfort', 3), ('every', 3), ('tool', 3), ('plantronics', 3), ('received', 3), ('enough', 3), ('charge', 3), ('over', 3), ('ago', 3), ('easier', 3), ('design', 3), ('cable', 3), ('looking', 3), ('happier', 3), ('year', 3), ('many', 3), ('what', 3), ('deal', 3), ('overall', 3), ('go', 3), ('internet', 3), ('high', 3), ('expensive', 3), ('others', 3), ('those', 3), ('noise', 3), ('volume', 3), ('purchased', 3), ('own', 3), ('less', 3), ('ringtones', 3), ('belt', 3), ('day', 3), ('could', 3), ('mic', 2), ('he', 2), ('going', 2), ('extended', 2), ('though', 2), ('who', 2), ('fire', 2), ('yet', 2), ('run', 2), ('three', 2), ('charging', 2), ('pocket', 2), ('owned', 2), ('mobile', 2), ('never', 2), ('thats', 2), ('protection', 2), ('actually', 2), ('pda', 2), ('dropped', 2), ('510', 2), ('headphones', 2), ('last', 2), ('glasses', 2), ('way', 2), ('docking', 2), ('station', 2), ('home', 2), ('handy', 2), ('loves', 2), ('ease', 2), ('bargain', 2), ('black', 2), ('piece', 2), ('wife', 2), ('ask', 2), ('slim', 2), ('sex', 2), ('down', 2), ('sleek', 2), ('different', 2), ('earpieces', 2), ('first', 2), ('done', 2), ('weeks', 2), ('getting', 2), ('recognition', 2), ('blackberry', 2), ('know', 2), ('sounds', 2), ('some', 2), ('perfectly!', 2), ('superb', 2), ('same', 2), ('graphics', 2), ('igo', 2), ('tips', 2), ('functionality', 2), ('how', 2), ('color', 2), ('thought', 2), ('audio', 2), ('certainly', 2), ('usually', 2), (\"doesn't\", 2), ('mess', 2), ('excited', 2), ('worth', 2), ('probably', 2), ('important', 2), ('strong', 2), ('secure', 2), ('appears', 2), ('form', 2), ('flawlessly', 2), ('real', 2), ('plug', 2), ('feature', 2), ('whole', 2), ('bluetooth!', 2), ('adorable', 2), ('charged', 2), ('scratched', 2), ('decision', 2), ('great!!', 2), ('here', 2), ('we', 2), ('driving', 2), ('dialing', 2), ('excellent!', 2), ('couple', 2), ('ipod', 2), ('buttons', 2), ('skype', 2), ('calls', 2), ('take', 2), ('handsfree', 2), ('finally', 2), ('shipped', 2), ('exactly', 2), ('wanted', 2), ('expect', 2), ('too!', 2), ('fall', 2), ('thing', 2), ('she', 2), ('before', 2), ('performance', 2), ('big', 2), ('hard', 2), ('under', 2), ('worthwhile', 2), ('batteries', 2), (\"won't\", 2), ('described', 2), ('im', 2), ('amazed', 2), ('nokia', 2), ('keep', 2), ('setup', 2), ('eargels', 2), ('wireless', 2), ('then', 2), ('said', 2), ('speaker', 2), ('holding', 2), ('feel', 2), ('lg', 2), ('paired', 2), ('treo', 2), ('usb', 2), ('needed', 2), ('connection', 2), ('reviews', 2), ('download', 2), ('replace', 2), ('crisp', 2), ('video', 2), ('hour', 2), ('another', 2), ('hand', 2), ('always', 2), ('cut', 2), ('hold', 2), ('sony', 2), ('plus', 2), ('hear', 2), ('through', 2), ('laptop', 2), ('iphone', 2), ('inside', 2), ('pairing', 2), ('minutes', 2), ('owneryou', 1), ('this!', 1), ('tooth', 1), ('good!', 1), ('kindle', 1), ('loved', 1), ('below', 1), ('bars', 1), (\"that's\", 1), ('/', 1), ('combination', 1), ('7', 1), ('ideal', 1), ('whose', 1), ('sensitive', 1), ('ac', 1), ('included', 1), ('juicehighy', 1), ('recommended', 1), ('kept', 1), ('680', 1), ('2mp', 1), ('pics', 1), ('picture', 1), ('want', 1), ('bulky', 1), ('usable', 1), ('turns', 1), ('real-world', 1), ('useful', 1), ('machine', 1), ('neat', 1), ('gadget', 1), ('large', 1), ('thing!', 1), ('reasonable', 1), ('ie', 1), ('stream', 1), ('submerged', 1), ('15', 1), ('seconds', 1), ('complaints', 1), ('regarding', 1), ('faceplates', 1), ('elegant', 1), ('were', 1), ('perhaps', 1), ('seriously', 1), ('sometimes', 1), ('ipods', 1), ('situations:1)', 1), ('choice!', 1), ('everyday', 1), ('intended', 1), ('everyone', 1), ('boy', 1), ('cheaper!', 1), ('loads', 1), ('super!', 1), ('again!', 1), ('bluetooths', 1), ('(for', 1), ('listener)', 1), ('integrated', 1), ('seamlessly', 1), ('pros:-good', 1), ('styles', 1), ('white', 1), ('350', 1), ('jabra350', 1), ('!2', 1), ('geeky', 1), ('toast', 1), ('oozes', 1), ('embedded', 1), ('stylish', 1), ('shipping!', 1), ('compromise', 1), ('between', 1), ('full', 1), ('qwerty', 1), ('basic', 1), ('number', 1), ('keypad', 1), ('winner', 1), ('us', 1), (')setup', 1), ('simpler', 1), ('iam', 1), ('audio!', 1), ('realize', 1), ('accompanied', 1), ('almost', 1), ('brilliant', 1), ('nicely', 1), ('avoid', 1), ('damage', 1), ('!i', 1), ('definitly', 1), ('recommend!!', 1), ('stuff', 1), ('peachy-keen', 1), ('tremendous!', 1), ('reccomendation', 1), ('relative', 1), ('linking', 1), ('8530', 1), ('curve!', 1), ('funny', 1), ('seemed', 1), ('sketchy', 1), ('technology', 1), (\"wouldn't\", 1), ('wellwell', 1), ('sending', 1), ('kind', 1), ('messages', 1), ('web', 1), ('browsing', 1), ('significantly', 1), ('faster', 1), ('previous', 1), ('build', 1), ('unlike', 1), ('s***', 1), ('colors!', 1), ('w810i', 1), ('charm;', 1), ('service!!!!!!!!', 1), ('chargers', 1), ('file', 1), ('browser', 1), ('offers', 1), ('options', 1), ('needshandsfree', 1), ('network', 1), ('connected', 1), (\"wife's\", 1), ('bluetooth(motorola', 1), ('hs850)', 1), ('whether', 1), ('incredible!', 1), ('ring', 1), ('toneoverall', 1), ('lately', 1), ('extremely', 1), ('weight', 1), ('hardly', 1), ('notice', 1), (\"you'll\", 1), ('thin', 1), ('prettier', 1), ('incredibly', 1), ('investment', 1), ('electronics', 1), ('available', 1), ('fm', 1), ('transmitters', 1), ('h500', 1), ('\"12\"', 1), ('mega', 1), ('pixel', 1), ('good7', 1), ('nearly', 1), ('transmit', 1), ('also!', 1), ('roam', 1), ('house', 1), ('living', 1), ('room', 1), ('reception/sound', 1), ('issues', 1), ('infatuated', 1), ('headbands', 1), ('hair', 1), ('favorite', 1), ('purchases', 1), ('authentic', 1), ('shine', 1), ('!!', 1), ('cute', 1), ('penny', 1), ('wallet', 1), ('type', 1), ('aspect', 1), ('glove', 1), ('durable', 1), ('o', 1), ('gosh', 1), ('attractive', 1), ('factor', 1), ('earpiece', 1), ('stereo', 1), ('incredible', 1), ('month', 1), ('headset!', 1), ('gave', 1), ('5', 1), ('stars', 1), ('reversible', 1), ('rotating', 1), ('our', 1), ('installed', 1), ('let', 1), ('overnite', 1), ('thru', 1), ('handset', 1), ('cat', 1), ('attacked', 1), ('protective', 1), ('strip', 1), ('destroying', 1), ('wise', 1), ('someone', 1), ('shouldve', 1), ('invented', 1), ('sooner', 1), ('trythe', 1), ('engineered', 1), ('clever', 1), ('construction', 1), ('alarm', 1), ('clock', 1), ('removing', 1), ('gotten', 1), ('compliments', 1), ('state', 1), ('allow', 1), ('usage', 1), ('replacement', 1), ('either', 1), ('loud', 1), ('lasts', 1), ('times', 1), ('concrete', 1), ('(knock', 1), ('wood!)', 1), ('transformed', 1), ('organizational', 1), ('capability', 1), ('advertised', 1), ('microphone', 1), ('(according', 1), ('called)', 1), ('applifies', 1), ('transmission', 1), ('s11', 1), ('ordered', 1), ('finished', 1), ('protects', 1), ('sides', 1), ('self', 1), ('portraits', 1), ('outside', 1), ('(exterior)', 1), ('trying', 1), ('gadgets', 1), ('magical', 1), ('help', 1), (':)', 1), ('company', 1), ('promptly', 1), ('encourage', 1), ('give', 1), ('try', 1), (\"you'd\", 1), ('effective', 1), ('!', 1), ('prompt', 1), ('excelent', 1), ('everyone!', 1), ('era', 1), ('2000!', 1), ('iriver', 1), ('spinn', 1), ('(with', 1), ('case)', 1), ('psyched', 1), ('appointments', 1), ('contacts', 1), ('sanyo', 1), ('survived', 1), ('dozens', 1), ('drops', 1), ('blacktop', 1), ('ill', 1), ('effect', 1), ('earphones', 1), ('finds', 1), ('away', 1), ('enter', 1), ('modest', 1), ('cellular', 1), ('awsome', 1), ('restored', 1), ('purchasing', 1), ('jx-10', 1), ('series', 1), ('moto', 1), ('q', 1), ('figure', 1), ('searched', 1), ('size', 1), ('key', 1), ('pad', 1), ('lit', 1), (\"wasn't\", 1), ('portable', 1), ('colleague', 1), ('receptiona', 1), ('timely', 1), ('shipment', 1), ('solid', 1), ('surefire', 1), ('gx2', 1), ('strong\"', 1), ('tmobile', 1), ('3', 1), ('motorolas', 1), ('delivery', 1), ('long-wearing', 1), ('conditions', 1), ('tremendous', 1), ('usefulness', 1), ('overnight', 1), ('regret', 1), ('super', 1), ('hybrid', 1), ('palmtop/camera/cellphone', 1), ('excels', 1), ('roles', 1), ('bt250v', 1), ('liked', 1), ('bose', 1), ('cancelling', 1), ('amazing', 1), ('nyc', 1), ('commuter', 1), ('bargain!', 1), ('greatno', 1), ('all!', 1), ('frog', 1), ('eye', 1), ('catching', 1), ('talk', 1), ('aluminum', 1), ('palm', 1), ('vx', 1), ('well--it', 1), ('protected', 1), ('handheld', 1), ('tools', 1), ('sturdiness', 1), ('orders', 1), ('within', 1), ('timeframe', 1), ('source', 1), ('waterproof', 1), ('thanks', 1), ('having', 1), ('things', 1), ('ended', 1), ('sliding', 1), ('edge', 1), ('pants', 1), ('back', 1), ('pockets', 1), ('store', 1), ('shield', 1), ('incrediable', 1), ('amazon!!', 1), ('left', 1), ('trunk', 1), ('carried', 1), ('conversation', 1), ('hitch', 1), ('impressive', 1), ('practical', 1), ('ample', 1), ('storage', 1), ('place', 1), ('channel', 1), ('directly', 1), ('seem', 1), ('increase', 1), ('shifting', 1), ('bubbling', 1), ('peeling', 1), ('scratch', 1), ('nothing!i', 1), ('droid', 1), ('earset', 1), ('outgoing', 1), ('thank', 1), ('such', 1), ('total', 1), ('package', 1), ('understanding', 1), ('patient', 1), ('friends', 1), ('enjoy', 1), ('virgin', 1), ('expected!!!!', 1), ('fixes', 1), ('trouble', 1), ('accessing', 1), ('downloading', 1), ('performing', 1), ('functions', 1), ('description', 1), ('cannot', 1), ('adapters', 1), ('plays', 1), ('louder', 1), ('size;', 1), ('lacking', 1), ('however', 1), ('expected', 1), ('linked', 1), ('effort', 1), ('cool!', 1), ('research', 1), ('development', 1), ('division', 1), ('obviously', 1), ('knows', 1), (\"they're\", 1), ('doing', 1), ('walkman', 1), ('clipping', 1), ('deffinitely', 1), ('50', 1), (\"cent's\", 1), ('up-and-coming', 1), ('behing', 1), ('5020', 1), ('comfortible', 1), ('24', 1), ('hours', 1), ('pain', 1), ('quick', 1), ('arrival', 1), ('fraction', 1), ('700w', 1), ('(using', 1), ('transceiver)', 1), ('beats', 1), ('fingers!', 1), ('normally', 1), ('apart', 1), ('haul', 1), ('anyone', 1), ('brand', 1), ('phones/mp3', 1), ('players', 1), ('posted', 1), ('detailed', 1), ('comments', 1), ('grey', 1), ('red', 1), ('color!', 1), ('existing', 1), ('cds', 1), ('surprised', 1), (\"there's\", 1), ('fabulous!', 1), ('bitpim', 1), ('(a', 1), ('program', 1), ('internet)to', 1), ('transfer', 1), ('phonethe', 1), ('wind-resistant', 1), ('forever', 1), ('overly', 1), ('replaceeasy', 1), ('operate', 1), ('bar', 1), ('set', 1), ('loop', 1), ('tiny', 1), ('tries', 1), ('address', 1), ('book', 1), ('rebootsoverall', 1), ('rate', 1), ('purchase-', 1), ('flipphones', 1), ('well-designed', 1), ('--', 1), ('should', 1), ('went', 1), ('smoothly', 1), ('access', 1), ('detachable', 1), ('clip', 1), ('325', 1), ('cellphone', 1), ('worn-out', 1), ('ringer', 1), ('(you', 1), ('choices', 1), ('loud)', 1), ('upbeat!', 1), ('pair', 1), ('smallest', 1), ('provided', 1), ('stays', 1), ('clips', 1), ('occupied', 1), ('background', 1), ('distracting', 1), ('least', 1), ('entire', 1), (\"can't\", 1), ('beat', 1), ('*', 1), ('comes', 1), ('shots', 1), ('flash', 1), ('sos', 1), ('signals', 1), ('(seriously!', 1), ('allows', 1), ('connect', 1), ('mini-usb', 1), ('open', 1), ('allowing', 1), ('outperform', 1), ('china', 1), ('v325i', 1), ('gels', 1), ('\"r\"', 1), ('best!', 1), ('quit', 1), (\"i'd\", 1), ('18', 1), ('power', 1), ('via', 1), ('wall', 1), ('outlet', 1), ('slide', 1), ('grip', 1), ('prevents', 1), ('slipping', 1), ('simply', 1), ('quality!', 1), ('span', 1), ('exclaim', 1), ('\"whoa', 1), ('tv?!?', 1), ('corded', 1), ('freedom', 1), ('passed', 1), ('mark', 1), ('shows', 1), ('signs', 1), ('100%', 1), ('functional', 1), ('soft;', 1), ('tight;', 1), ('face', 1), ('shape', 1), ('copier', 1), ('waiting', 1), ('something', 1), ('t-mobile', 1), ('customer', 1), ('anywhere', 1), ('sold', 1), ('provides', 1), ('classy', 1), ('krussel', 1), ('tracfonewebsite', 1), ('user', 1), ('friendly', 1), ('toactivate', 1), ('etc', 1), ('good4', 1), ('whatever', 1), ('next', 1), ('blueant', 1), ('supertooth', 1), ('hands-free', 1), ('metro', 1), ('pcs', 1), ('sch-r450', 1), ('slider', 1), ('premium', 1), ('plugs', 1), ('plenty', 1), ('capacity', 1), ('confortable', 1), ('somewhat', 1), ('periods', 1), ('ant', 1), ('hey', 1), ('pleasantly', 1), ('suprised', 1), ('given', 1), ('cost', 1), ('convenient', 1), ('ride', 1), ('smoother', 1), ('carries', 1), ('highest', 1), ('anti-glare', 1), ('protector', 1), ('date', 1), ('generally', 1), ('inconspicuous', 1), ('boot!', 1), ('entertainment', 1), ('communication', 1), ('managementoh', 1), ('activesync', 1), ('42', 1), ('optimal', 1), ('synchronization', 1), ('results!', 1), ('coupon', 1), ('perfect', 1), ('ps3', 1), ('five', 1), ('star', 1), ('cheapy', 1), ('lots', 1), ('sounded', 1), ('awful', 1), ('yes', 1), ('shiny', 1), ('front', 1), ('side', 1), ('thumbs', 1), ('together', 1), ('exceeds', 1), ('20', 1), ('feet', 1), ('line', 1), ('sight', 1), ('#1', 1), ('#2', 1), ('charge-life', 1), ('signal', 1), ('plan', 1), ('ordering', 1), ('nice;', 1), ('effects', 1), ('play', 1), ('(this', 1), ('third', 1), ('numerous', 1), ('palms', 1), ('too)', 1), ('quick!', 1), ('case!', 1), (\"phone's\", 1), ('auto-answer', 1), ('read', 1), (\"other's\", 1), (\"haven't\", 1), ('(it', 1), ('works!)', 1), ('ir', 1), ('send', 1), ('choice', 1), ('yearsgreat', 1), ('sound;', 1), ('volume;', 1), ('cancellation', 1), ('bt', 1), ('see', 1), ('travled', 1), ('swivel', 1), ('holster', 1), ('flip', 1), ('sister', 1), ('dual-purpose', 1), ('completely', 1), ('keeping', 1), ('ever!!!', 1), ('loudglad', 1), ('maintains', 1), ('flawless', 1), ('static', 1), ('during', 1), ('normal', 1), ('sizes', 1), ('earbud', 1), ('devices', 1), ('barely', 1), ('took', 1), ('started', 1), ('making', 1), ('cutouts', 1), ('placed', 1), ('by', 1), ('land-line', 1), ('despite', 1), ('flaws', 1), ('exceptional', 1), ('additional', 1), ('costs', 1), ('owning', 1), ('official', 1), ('oem', 1), ('put', 1), ('loudest', 1), ('setting', 1), ('cheaper', 1), ('competitors', 1), ('show', 1), ('10', 1), ('saved', 1), ('alot', 1), ('money', 1), ('leopard', 1), ('print', 1), ('wonderfully', 1), ('wild!', 1), ('plastic', 1), ('far!', 1), ('extra', 1), ('carry', 1), ('off\"', 1), ('fulfills', 1), ('requirements', 1), ('logitech', 1), ('10!', 1), ('fact', 1), ('rests', 1), ('lightly', 1), ('against', 1), ('rather', 1), ('websites', 1), ('rating', 1), ('cables', 1), ('computer', 1), ('turn', 1), ('off', 1), ('controls', 1), ('accessable', 1), ('mine', 1), ('christmas', 1), ('rest', 1), ('otherwise', 1), ('install', 1), ('joy', 1), ('satisifed', 1), ('2005', 1), ('s710a', 1), ('wow!', 1), ('reading', 1), ('specs', 1), ('alone', 1), ('wow', 1), ('armband', 1), ('allot', 1), ('clearer', 1), ('exchanged', 1), ('ericson', 1), ('z500a', 1), ('motor', 1), ('control', 1), ('center', 1), ('where', 1), ('voltage', 1), ('humming', 1), ('equipment', 1), ('styling', 1), ('seen', 1), ('sweetest', 1), ('phone!!!', 1), (':-)oh', 1), ('securely', 1), ('hook', 1), ('directed', 1), ('canal', 1)])\n"
     ]
    }
   ],
   "source": [
    "# 32.5% mislabeled. Maybe we should improve the prediction model by using better keywords. \n",
    "\n",
    "# Let's find a way to extract the most common words used in positive reviews and then we will update our keyword list. \n",
    "\n",
    "# Create a feature for positive reviews.\n",
    "positive = np.where(df['positive'] == True)\n",
    "#print(positive[0])\n",
    "\n",
    "\n",
    "\n",
    "\n",
    "# Read through the strings, count the occurrence of words.\n",
    "word_count = {}\n",
    "for rowindex in positive[0]:\n",
    "    for review in df.loc[rowindex, ['review']].str.lower().str.replace(',','').str.replace('.','').str.split(' '):\n",
    "        for word in review:\n",
    "            if word in word_count:\n",
    "                word_count[word] += 1\n",
    "            else:\n",
    "                word_count[word] = 1\n",
    "\n",
    "from collections import OrderedDict\n",
    "od = OrderedDict(sorted(word_count.items(), key = lambda x:x[1], reverse=True))\n",
    "print(od)"
   ]
  },
  {
   "cell_type": "code",
   "execution_count": 6,
   "metadata": {
    "collapsed": false
   },
   "outputs": [
    {
     "data": {
      "text/html": [
       "<div>\n",
       "<table border=\"1\" class=\"dataframe\">\n",
       "  <thead>\n",
       "    <tr style=\"text-align: right;\">\n",
       "      <th></th>\n",
       "      <th>review</th>\n",
       "      <th>positive</th>\n",
       "      <th>good</th>\n",
       "      <th>excellent</th>\n",
       "      <th>great</th>\n",
       "      <th>well</th>\n",
       "      <th>very</th>\n",
       "      <th>works</th>\n",
       "      <th>recommend</th>\n",
       "      <th>happy</th>\n",
       "      <th>better</th>\n",
       "      <th>comfortable</th>\n",
       "      <th>worked</th>\n",
       "    </tr>\n",
       "  </thead>\n",
       "  <tbody>\n",
       "    <tr>\n",
       "      <th>0</th>\n",
       "      <td>So there is no way for me to plug it in here i...</td>\n",
       "      <td>False</td>\n",
       "      <td>False</td>\n",
       "      <td>False</td>\n",
       "      <td>False</td>\n",
       "      <td>False</td>\n",
       "      <td>False</td>\n",
       "      <td>False</td>\n",
       "      <td>False</td>\n",
       "      <td>False</td>\n",
       "      <td>False</td>\n",
       "      <td>False</td>\n",
       "      <td>False</td>\n",
       "    </tr>\n",
       "    <tr>\n",
       "      <th>1</th>\n",
       "      <td>Good case, Excellent value.</td>\n",
       "      <td>True</td>\n",
       "      <td>True</td>\n",
       "      <td>True</td>\n",
       "      <td>False</td>\n",
       "      <td>False</td>\n",
       "      <td>False</td>\n",
       "      <td>False</td>\n",
       "      <td>False</td>\n",
       "      <td>False</td>\n",
       "      <td>False</td>\n",
       "      <td>False</td>\n",
       "      <td>False</td>\n",
       "    </tr>\n",
       "    <tr>\n",
       "      <th>2</th>\n",
       "      <td>Great for the jawbone.</td>\n",
       "      <td>True</td>\n",
       "      <td>False</td>\n",
       "      <td>False</td>\n",
       "      <td>True</td>\n",
       "      <td>False</td>\n",
       "      <td>False</td>\n",
       "      <td>False</td>\n",
       "      <td>False</td>\n",
       "      <td>False</td>\n",
       "      <td>False</td>\n",
       "      <td>False</td>\n",
       "      <td>False</td>\n",
       "    </tr>\n",
       "    <tr>\n",
       "      <th>3</th>\n",
       "      <td>Tied to charger for conversations lasting more...</td>\n",
       "      <td>False</td>\n",
       "      <td>False</td>\n",
       "      <td>False</td>\n",
       "      <td>False</td>\n",
       "      <td>False</td>\n",
       "      <td>False</td>\n",
       "      <td>False</td>\n",
       "      <td>False</td>\n",
       "      <td>False</td>\n",
       "      <td>False</td>\n",
       "      <td>False</td>\n",
       "      <td>False</td>\n",
       "    </tr>\n",
       "    <tr>\n",
       "      <th>4</th>\n",
       "      <td>The mic is great.</td>\n",
       "      <td>True</td>\n",
       "      <td>False</td>\n",
       "      <td>False</td>\n",
       "      <td>True</td>\n",
       "      <td>False</td>\n",
       "      <td>False</td>\n",
       "      <td>False</td>\n",
       "      <td>False</td>\n",
       "      <td>False</td>\n",
       "      <td>False</td>\n",
       "      <td>False</td>\n",
       "      <td>False</td>\n",
       "    </tr>\n",
       "  </tbody>\n",
       "</table>\n",
       "</div>"
      ],
      "text/plain": [
       "                                              review positive   good  \\\n",
       "0  So there is no way for me to plug it in here i...    False  False   \n",
       "1                        Good case, Excellent value.     True   True   \n",
       "2                             Great for the jawbone.     True  False   \n",
       "3  Tied to charger for conversations lasting more...    False  False   \n",
       "4                                  The mic is great.     True  False   \n",
       "\n",
       "  excellent  great   well   very  works recommend  happy better comfortable  \\\n",
       "0     False  False  False  False  False     False  False  False       False   \n",
       "1      True  False  False  False  False     False  False  False       False   \n",
       "2     False   True  False  False  False     False  False  False       False   \n",
       "3     False  False  False  False  False     False  False  False       False   \n",
       "4     False   True  False  False  False     False  False  False       False   \n",
       "\n",
       "  worked  \n",
       "0  False  \n",
       "1  False  \n",
       "2  False  \n",
       "3  False  \n",
       "4  False  "
      ]
     },
     "execution_count": 6,
     "metadata": {},
     "output_type": "execute_result"
    }
   ],
   "source": [
    "# Select your keywords from this list. \n",
    "\n",
    "new_keywords = ['great', 'very', 'good', 'works', 'excellent', 'recommend', 'happy', 'better', 'comfortable', 'worked']\n",
    "\n",
    "for key in new_keywords:\n",
    "    df[str(key)] = df.review.str.contains(\n",
    "        str(key),\n",
    "        case=False\n",
    "    )\n",
    "\n",
    "# Print the headers to check how the previous method is working. \n",
    "df.head()"
   ]
  },
  {
   "cell_type": "code",
   "execution_count": 20,
   "metadata": {
    "collapsed": false
   },
   "outputs": [
    {
     "name": "stdout",
     "output_type": "stream",
     "text": [
      "Number of mislabeled points out of a total 1000 points : 289\n"
     ]
    }
   ],
   "source": [
    "data = df[new_keywords]\n",
    "amazon_target = df['positive']\n",
    "\n",
    "amazon_bnb = BernoulliNB()\n",
    "\n",
    "amazon_bnb.fit(data, amazon_target)\n",
    "\n",
    "amazon_pos_pred = amazon_bnb.predict(data)\n",
    "\n",
    "print(\"Number of mislabeled points out of a total {} points : {}\".format(\n",
    "    data.shape[0],\n",
    "    (amazon_target != amazon_pos_pred).sum()\n",
    "))"
   ]
  },
  {
   "cell_type": "code",
   "execution_count": 8,
   "metadata": {
    "collapsed": true
   },
   "outputs": [],
   "source": [
    "# By increasing the number of keywords and using keywords that are most common, we improved the inaccuracy from 32.5% to 28.9%\n",
    "\n",
    "# Now see how the model performs on another dataset. "
   ]
  },
  {
   "cell_type": "code",
   "execution_count": 9,
   "metadata": {
    "collapsed": false
   },
   "outputs": [
    {
     "data": {
      "text/html": [
       "<div>\n",
       "<table border=\"1\" class=\"dataframe\">\n",
       "  <thead>\n",
       "    <tr style=\"text-align: right;\">\n",
       "      <th></th>\n",
       "      <th>review</th>\n",
       "      <th>positive</th>\n",
       "    </tr>\n",
       "  </thead>\n",
       "  <tbody>\n",
       "    <tr>\n",
       "      <th>0</th>\n",
       "      <td>A very, very, very slow-moving, aimless movie ...</td>\n",
       "      <td>False</td>\n",
       "    </tr>\n",
       "    <tr>\n",
       "      <th>1</th>\n",
       "      <td>Not sure who was more lost - the flat characte...</td>\n",
       "      <td>False</td>\n",
       "    </tr>\n",
       "    <tr>\n",
       "      <th>2</th>\n",
       "      <td>Attempting artiness with black &amp; white and cle...</td>\n",
       "      <td>False</td>\n",
       "    </tr>\n",
       "    <tr>\n",
       "      <th>3</th>\n",
       "      <td>Very little music or anything to speak of.</td>\n",
       "      <td>False</td>\n",
       "    </tr>\n",
       "    <tr>\n",
       "      <th>4</th>\n",
       "      <td>The best scene in the movie was when Gerardo i...</td>\n",
       "      <td>True</td>\n",
       "    </tr>\n",
       "  </tbody>\n",
       "</table>\n",
       "</div>"
      ],
      "text/plain": [
       "                                              review positive\n",
       "0  A very, very, very slow-moving, aimless movie ...    False\n",
       "1  Not sure who was more lost - the flat characte...    False\n",
       "2  Attempting artiness with black & white and cle...    False\n",
       "3       Very little music or anything to speak of.      False\n",
       "4  The best scene in the movie was when Gerardo i...     True"
      ]
     },
     "execution_count": 9,
     "metadata": {},
     "output_type": "execute_result"
    }
   ],
   "source": [
    "imdb = pd.read_table('C:\\\\Users\\\\maken\\\\sentiment_labelled_sentences\\\\sentiment_labelled_sentences\\\\imdb_labelled.txt', header = None, names = ['review', 'positive'])\n",
    "# Convert the int column of positive into a boolean\n",
    "imdb['positive'] = (imdb['positive'] == 1)\n",
    "imdb.head()"
   ]
  },
  {
   "cell_type": "code",
   "execution_count": 10,
   "metadata": {
    "collapsed": false
   },
   "outputs": [
    {
     "data": {
      "text/html": [
       "<div>\n",
       "<table border=\"1\" class=\"dataframe\">\n",
       "  <thead>\n",
       "    <tr style=\"text-align: right;\">\n",
       "      <th></th>\n",
       "      <th>review</th>\n",
       "      <th>positive</th>\n",
       "      <th>good</th>\n",
       "      <th>excellent</th>\n",
       "      <th>great</th>\n",
       "      <th>well</th>\n",
       "    </tr>\n",
       "  </thead>\n",
       "  <tbody>\n",
       "    <tr>\n",
       "      <th>0</th>\n",
       "      <td>A very, very, very slow-moving, aimless movie ...</td>\n",
       "      <td>False</td>\n",
       "      <td>False</td>\n",
       "      <td>False</td>\n",
       "      <td>False</td>\n",
       "      <td>False</td>\n",
       "    </tr>\n",
       "    <tr>\n",
       "      <th>1</th>\n",
       "      <td>Not sure who was more lost - the flat characte...</td>\n",
       "      <td>False</td>\n",
       "      <td>False</td>\n",
       "      <td>False</td>\n",
       "      <td>False</td>\n",
       "      <td>False</td>\n",
       "    </tr>\n",
       "    <tr>\n",
       "      <th>2</th>\n",
       "      <td>Attempting artiness with black &amp; white and cle...</td>\n",
       "      <td>False</td>\n",
       "      <td>False</td>\n",
       "      <td>False</td>\n",
       "      <td>False</td>\n",
       "      <td>False</td>\n",
       "    </tr>\n",
       "    <tr>\n",
       "      <th>3</th>\n",
       "      <td>Very little music or anything to speak of.</td>\n",
       "      <td>False</td>\n",
       "      <td>False</td>\n",
       "      <td>False</td>\n",
       "      <td>False</td>\n",
       "      <td>False</td>\n",
       "    </tr>\n",
       "    <tr>\n",
       "      <th>4</th>\n",
       "      <td>The best scene in the movie was when Gerardo i...</td>\n",
       "      <td>True</td>\n",
       "      <td>False</td>\n",
       "      <td>False</td>\n",
       "      <td>False</td>\n",
       "      <td>False</td>\n",
       "    </tr>\n",
       "  </tbody>\n",
       "</table>\n",
       "</div>"
      ],
      "text/plain": [
       "                                              review positive   good  \\\n",
       "0  A very, very, very slow-moving, aimless movie ...    False  False   \n",
       "1  Not sure who was more lost - the flat characte...    False  False   \n",
       "2  Attempting artiness with black & white and cle...    False  False   \n",
       "3       Very little music or anything to speak of.      False  False   \n",
       "4  The best scene in the movie was when Gerardo i...     True  False   \n",
       "\n",
       "  excellent  great   well  \n",
       "0     False  False  False  \n",
       "1     False  False  False  \n",
       "2     False  False  False  \n",
       "3     False  False  False  \n",
       "4     False  False  False  "
      ]
     },
     "execution_count": 10,
     "metadata": {},
     "output_type": "execute_result"
    }
   ],
   "source": [
    "# Test the first model\n",
    "\n",
    "keywords = ['good', 'excellent', 'great', 'well']\n",
    "\n",
    "for key in keywords:\n",
    "    imdb[str(key)] = imdb.review.str.contains(\n",
    "        str(key),\n",
    "        case=False\n",
    "    )\n",
    "\n",
    "# Print the headers to check how the previous method is working. \n",
    "imdb.head()"
   ]
  },
  {
   "cell_type": "code",
   "execution_count": 11,
   "metadata": {
    "collapsed": false
   },
   "outputs": [
    {
     "name": "stdout",
     "output_type": "stream",
     "text": [
      "Number of mislabeled points out of a total 748 points : 330\n"
     ]
    }
   ],
   "source": [
    "imdb_data = imdb[keywords]\n",
    "imdb_positive_target = imdb['positive']\n",
    "\n",
    "imdb_bnb = BernoulliNB()\n",
    "\n",
    "imdb_bnb.fit(data, target)\n",
    "\n",
    "imdb_pos_pred = bnb.predict(data)\n",
    "\n",
    "print(\"Number of mislabeled points out of a total {} points : {}\".format(\n",
    "    data.shape[0],\n",
    "    (target != y_pred).sum()\n",
    "))"
   ]
  },
  {
   "cell_type": "code",
   "execution_count": 12,
   "metadata": {
    "collapsed": false
   },
   "outputs": [
    {
     "data": {
      "text/html": [
       "<div>\n",
       "<table border=\"1\" class=\"dataframe\">\n",
       "  <thead>\n",
       "    <tr style=\"text-align: right;\">\n",
       "      <th></th>\n",
       "      <th>review</th>\n",
       "      <th>positive</th>\n",
       "      <th>good</th>\n",
       "      <th>excellent</th>\n",
       "      <th>great</th>\n",
       "      <th>well</th>\n",
       "      <th>very</th>\n",
       "      <th>works</th>\n",
       "      <th>recommend</th>\n",
       "      <th>happy</th>\n",
       "      <th>better</th>\n",
       "      <th>comfortable</th>\n",
       "      <th>worked</th>\n",
       "    </tr>\n",
       "  </thead>\n",
       "  <tbody>\n",
       "    <tr>\n",
       "      <th>0</th>\n",
       "      <td>A very, very, very slow-moving, aimless movie ...</td>\n",
       "      <td>False</td>\n",
       "      <td>False</td>\n",
       "      <td>False</td>\n",
       "      <td>False</td>\n",
       "      <td>False</td>\n",
       "      <td>True</td>\n",
       "      <td>False</td>\n",
       "      <td>False</td>\n",
       "      <td>False</td>\n",
       "      <td>False</td>\n",
       "      <td>False</td>\n",
       "      <td>False</td>\n",
       "    </tr>\n",
       "    <tr>\n",
       "      <th>1</th>\n",
       "      <td>Not sure who was more lost - the flat characte...</td>\n",
       "      <td>False</td>\n",
       "      <td>False</td>\n",
       "      <td>False</td>\n",
       "      <td>False</td>\n",
       "      <td>False</td>\n",
       "      <td>False</td>\n",
       "      <td>False</td>\n",
       "      <td>False</td>\n",
       "      <td>False</td>\n",
       "      <td>False</td>\n",
       "      <td>False</td>\n",
       "      <td>False</td>\n",
       "    </tr>\n",
       "    <tr>\n",
       "      <th>2</th>\n",
       "      <td>Attempting artiness with black &amp; white and cle...</td>\n",
       "      <td>False</td>\n",
       "      <td>False</td>\n",
       "      <td>False</td>\n",
       "      <td>False</td>\n",
       "      <td>False</td>\n",
       "      <td>False</td>\n",
       "      <td>False</td>\n",
       "      <td>False</td>\n",
       "      <td>False</td>\n",
       "      <td>False</td>\n",
       "      <td>False</td>\n",
       "      <td>False</td>\n",
       "    </tr>\n",
       "    <tr>\n",
       "      <th>3</th>\n",
       "      <td>Very little music or anything to speak of.</td>\n",
       "      <td>False</td>\n",
       "      <td>False</td>\n",
       "      <td>False</td>\n",
       "      <td>False</td>\n",
       "      <td>False</td>\n",
       "      <td>True</td>\n",
       "      <td>False</td>\n",
       "      <td>False</td>\n",
       "      <td>False</td>\n",
       "      <td>False</td>\n",
       "      <td>False</td>\n",
       "      <td>False</td>\n",
       "    </tr>\n",
       "    <tr>\n",
       "      <th>4</th>\n",
       "      <td>The best scene in the movie was when Gerardo i...</td>\n",
       "      <td>True</td>\n",
       "      <td>False</td>\n",
       "      <td>False</td>\n",
       "      <td>False</td>\n",
       "      <td>False</td>\n",
       "      <td>False</td>\n",
       "      <td>False</td>\n",
       "      <td>False</td>\n",
       "      <td>False</td>\n",
       "      <td>False</td>\n",
       "      <td>False</td>\n",
       "      <td>False</td>\n",
       "    </tr>\n",
       "  </tbody>\n",
       "</table>\n",
       "</div>"
      ],
      "text/plain": [
       "                                              review positive   good  \\\n",
       "0  A very, very, very slow-moving, aimless movie ...    False  False   \n",
       "1  Not sure who was more lost - the flat characte...    False  False   \n",
       "2  Attempting artiness with black & white and cle...    False  False   \n",
       "3       Very little music or anything to speak of.      False  False   \n",
       "4  The best scene in the movie was when Gerardo i...     True  False   \n",
       "\n",
       "  excellent  great   well   very  works recommend  happy better comfortable  \\\n",
       "0     False  False  False   True  False     False  False  False       False   \n",
       "1     False  False  False  False  False     False  False  False       False   \n",
       "2     False  False  False  False  False     False  False  False       False   \n",
       "3     False  False  False   True  False     False  False  False       False   \n",
       "4     False  False  False  False  False     False  False  False       False   \n",
       "\n",
       "  worked  \n",
       "0  False  \n",
       "1  False  \n",
       "2  False  \n",
       "3  False  \n",
       "4  False  "
      ]
     },
     "execution_count": 12,
     "metadata": {},
     "output_type": "execute_result"
    }
   ],
   "source": [
    "# 33.0% inaccuracy. Let's test our new model.\n",
    "\n",
    "for key in new_keywords:\n",
    "    imdb[str(key)] = imdb.review.str.contains(\n",
    "        str(key),\n",
    "        case=False\n",
    "    )\n",
    "\n",
    "# Print the headers to check how the previous method is working. \n",
    "imdb.head()"
   ]
  },
  {
   "cell_type": "code",
   "execution_count": 13,
   "metadata": {
    "collapsed": false
   },
   "outputs": [
    {
     "name": "stdout",
     "output_type": "stream",
     "text": [
      "Number of mislabeled points out of a total 748 points : 334\n"
     ]
    }
   ],
   "source": [
    "data = imdb[new_keywords]\n",
    "target = imdb['positive']\n",
    "\n",
    "bnb = BernoulliNB()\n",
    "\n",
    "bnb.fit(data, target)\n",
    "\n",
    "y_pred = bnb.predict(data)\n",
    "\n",
    "print(\"Number of mislabeled points out of a total {} points : {}\".format(\n",
    "    data.shape[0],\n",
    "    (target != y_pred).sum()\n",
    "))"
   ]
  },
  {
   "cell_type": "code",
   "execution_count": 16,
   "metadata": {
    "collapsed": true
   },
   "outputs": [],
   "source": [
    "# 44.65% inaccuracy\n",
    "# So, the new model is more accurate for predicting sentiment with amazon reviews, \n",
    "# but significantly worse at predicting the sentiment of imdb reviews.  "
   ]
  },
  {
   "cell_type": "markdown",
   "metadata": {},
   "source": [
    "# 2.3.4 Starts Here"
   ]
  },
  {
   "cell_type": "markdown",
   "metadata": {},
   "source": [
    "It's time to revisit your classifier from the previous assignment. Using the evaluation techniques we've covered here, look at your classifier's performance in more detail. Then go back and iterate. Repeat this process until you have five different versions of your classifier. Once you've iterated, answer these questions to compare the performance of each:\n",
    "\n",
    "Do any of your classifiers seem to overfit?\n",
    "\n",
    "Which seem to perform the best? Why?\n",
    "\n",
    "What features seemed to be most impactful to performance?\n",
    "\n",
    "Write up your iterations and answers to the above questions in a few pages. Submit a link below and go over it with your mentor to see if they have any other ideas on how you could improve your classifier's performance."
   ]
  },
  {
   "cell_type": "code",
   "execution_count": 71,
   "metadata": {
    "collapsed": true
   },
   "outputs": [],
   "source": [
    "# accuracy_results will take the necessary data and print the results. \n",
    "def accuracy_results(dataframe, fraction):\n",
    "    \n",
    "    amazon_training_set = dataframe.sample(frac=fraction)\n",
    "    \n",
    "    # create a testing set that is all of the data minus the training set\n",
    "    amazon_testing_set = dataframe[~dataframe.index.isin(amazon_training_set.index)]\n",
    "    \n",
    "    amazon_data = amazon_training_set[new_keywords]\n",
    "    \n",
    "    amazon_target = amazon_training_set['positive']\n",
    "\n",
    "    amazon_training_set_bnb = BernoulliNB()\n",
    "\n",
    "    amazon_training_set_bnb.fit(amazon_data, amazon_target)\n",
    "\n",
    "    amazon_pos_pred = amazon_training_set_bnb.predict(amazon_testing_set[new_keywords])\n",
    "\n",
    "    print(\"Number of mislabeled points out of a total {} points: {}\".format(\n",
    "        amazon_testing_set[new_keywords].shape[0],\n",
    "        (amazon_pos_pred != amazon_testing_set['positive']).sum()\n",
    "    ))\n",
    "    \n",
    "    amazon_conf_matrix = confusion_matrix(amazon_testing_set['positive'], amazon_pos_pred)\n",
    "    print(amazon_conf_matrix)\n",
    "    \n",
    "    false_positives = amazon_conf_matrix[0,1]\n",
    "    print(\"Number of false positives: {}\".format(false_positives))\n",
    "    \n",
    "    false_negatives = amazon_conf_matrix[1,0]\n",
    "    print(\"Number of false negatives: {}\".format(false_negatives))\n",
    "    \n",
    "    true_positives = amazon_conf_matrix[1,1]\n",
    "    print(\"Number of true positives: {}\".format(true_positives))\n",
    "    \n",
    "    true_negatives = amazon_conf_matrix[0,0]\n",
    "    print(\"Number of true negatives: {}\".format(true_negatives))\n",
    "    \n",
    "    sensitivity = true_positives / (true_positives + false_negatives)\n",
    "    print(\"Sensitivity: {}\".format(sensitivity))\n",
    "    \n",
    "    specificity = true_negatives / (true_negatives + false_positives)\n",
    "    print(\"Specificity: {}\".format(specificity))"
   ]
  },
  {
   "cell_type": "code",
   "execution_count": 72,
   "metadata": {
    "collapsed": false
   },
   "outputs": [
    {
     "name": "stdout",
     "output_type": "stream",
     "text": [
      "Number of mislabeled points out of a total 700 points: 195\n",
      "[[317  39]\n",
      " [156 188]]\n",
      "Number of false positives: 39\n",
      "Number of false negatives: 156\n",
      "Number of true positives: 188\n",
      "Number of true negatives: 317\n",
      "Sensitivity: 0.5465116279069767\n",
      "Specificity: 0.8904494382022472\n"
     ]
    }
   ],
   "source": [
    "# Now pass the credentials you want for the first testing and training set. If you run it twice, it will grab different data.\n",
    "accuracy_results(df, .3)"
   ]
  },
  {
   "cell_type": "code",
   "execution_count": 69,
   "metadata": {
    "collapsed": true
   },
   "outputs": [],
   "source": [
    "# The low sensitivity shows that the model is not as good at predicting positive values. \n",
    "# The high specificity shows that the model is good at predicting the negative values."
   ]
  },
  {
   "cell_type": "code",
   "execution_count": 73,
   "metadata": {
    "collapsed": false
   },
   "outputs": [
    {
     "name": "stdout",
     "output_type": "stream",
     "text": [
      "Number of mislabeled points out of a total 600 points: 178\n",
      "[[260  39]\n",
      " [139 162]]\n",
      "Number of false positives: 39\n",
      "Number of false negatives: 139\n",
      "Number of true positives: 162\n",
      "Number of true negatives: 260\n",
      "Sensitivity: 0.5382059800664452\n",
      "Specificity: 0.8695652173913043\n"
     ]
    }
   ],
   "source": [
    "accuracy_results(df, .4)"
   ]
  },
  {
   "cell_type": "code",
   "execution_count": 74,
   "metadata": {
    "collapsed": false
   },
   "outputs": [
    {
     "name": "stdout",
     "output_type": "stream",
     "text": [
      "Number of mislabeled points out of a total 300 points: 91\n",
      "[[128  24]\n",
      " [ 67  81]]\n",
      "Number of false positives: 24\n",
      "Number of false negatives: 67\n",
      "Number of true positives: 81\n",
      "Number of true negatives: 128\n",
      "Sensitivity: 0.5472972972972973\n",
      "Specificity: 0.8421052631578947\n"
     ]
    }
   ],
   "source": [
    "accuracy_results(df, .7)"
   ]
  },
  {
   "cell_type": "code",
   "execution_count": 75,
   "metadata": {
    "collapsed": true
   },
   "outputs": [],
   "source": [
    "# The model appears to be consistent since the sensitivity and specificity are similar across different sample sizes. "
   ]
  },
  {
   "cell_type": "code",
   "execution_count": 108,
   "metadata": {
    "collapsed": false
   },
   "outputs": [],
   "source": [
    "# Make a folds function with sklearn's KFold\n",
    "from sklearn.model_selection import KFold\n",
    "\n",
    "def kfolds(dataframe, num_splits):\n",
    "    kfold_data = dataframe\n",
    "    kf = KFold(n_splits=num_splits)\n",
    "    splits = kf.split(kfold_data)  \n",
    "\n",
    "   \n",
    "    training_sets = []\n",
    "    testing_sets = [] \n",
    "    for training, testing in splits:\n",
    "        training_sets.append(dataframe.loc[training])\n",
    "        testing_sets.append(dataframe.loc[testing])\n",
    "    \n",
    "    # Need to make arrays for sensitivites and specificities so that we can calculate the mean.\n",
    "    sensitivities = np.array([])\n",
    "    specificities = np.array([])\n",
    "    for training in training_sets[:-1]:\n",
    "        testing = testing_sets[-1]\n",
    " \n",
    "        training_data = training[new_keywords]\n",
    "    \n",
    "        training_target = training['positive']\n",
    "        \n",
    "        model_bnb = BernoulliNB()\n",
    "\n",
    "        model_bnb.fit(training_data, training_target)\n",
    "\n",
    "        pos_pred = model_bnb.predict(testing[new_keywords])\n",
    "    \n",
    "        print(\"Number of mislabeled points out of a total {} points: {}\".format(\n",
    "            testing[new_keywords].shape[0],\n",
    "            (pos_pred != testing['positive']).sum()\n",
    "        ))\n",
    "    \n",
    "        amazon_conf_matrix = confusion_matrix(testing['positive'], pos_pred)\n",
    "        print(amazon_conf_matrix)\n",
    "\n",
    "        false_positives = amazon_conf_matrix[0,1]\n",
    "    \n",
    "        false_negatives = amazon_conf_matrix[1,0]\n",
    "    \n",
    "        true_positives = amazon_conf_matrix[1,1]\n",
    "    \n",
    "        true_negatives = amazon_conf_matrix[0,0]\n",
    "\n",
    "        \n",
    "        sensitivity = true_positives / (true_positives + false_negatives)\n",
    "        sensitivities = np.append(sensitivities, [sensitivity])\n",
    "        #sensitivities.append(sensitivity)\n",
    "\n",
    "        specificity = true_negatives / (true_negatives + false_positives)\n",
    "        specificities = np.append(specificities, [specificity])\n",
    "        #specificities.append(specificity)\n",
    "    \n",
    "    #print('Sensitivity: {}'.format(sensitivities.mean()))\n",
    "    #print('Specificity: {}'.format(specificities.mean()))\n",
    "    #print(sensitivities.mean())\n",
    "    #print(specificities.mean())\n",
    "    \n",
    "    return sensitivities.mean(), specificities.mean()"
   ]
  },
  {
   "cell_type": "code",
   "execution_count": null,
   "metadata": {
    "collapsed": true
   },
   "outputs": [],
   "source": [
    "# Create a dataframe to store the results for any different kfolds calls\n",
    "stats_data = np.array(number_of_splits, sensitivity, specificity)"
   ]
  },
  {
   "cell_type": "code",
   "execution_count": 109,
   "metadata": {
    "collapsed": false
   },
   "outputs": [
    {
     "name": "stdout",
     "output_type": "stream",
     "text": [
      "Number of mislabeled points out of a total 333 points: 98\n",
      "[[153  23]\n",
      " [ 75  82]]\n",
      "Number of mislabeled points out of a total 333 points: 101\n",
      "[[153  23]\n",
      " [ 78  79]]\n"
     ]
    },
    {
     "data": {
      "text/plain": [
       "(0.51273885350318471, 0.86931818181818177)"
      ]
     },
     "execution_count": 109,
     "metadata": {},
     "output_type": "execute_result"
    }
   ],
   "source": [
    "# Call the kfolds function and set the num_splits to 3 (the default)\n",
    "kfolds(df, 3)"
   ]
  },
  {
   "cell_type": "code",
   "execution_count": 105,
   "metadata": {
    "collapsed": false
   },
   "outputs": [
    {
     "name": "stdout",
     "output_type": "stream",
     "text": [
      "Number of mislabeled points out of a total 100 points: 35\n",
      "[[51  7]\n",
      " [28 14]]\n",
      "Number of mislabeled points out of a total 100 points: 35\n",
      "[[51  7]\n",
      " [28 14]]\n",
      "Number of mislabeled points out of a total 100 points: 35\n",
      "[[51  7]\n",
      " [28 14]]\n",
      "Number of mislabeled points out of a total 100 points: 33\n",
      "[[51  7]\n",
      " [26 16]]\n",
      "Number of mislabeled points out of a total 100 points: 35\n",
      "[[51  7]\n",
      " [28 14]]\n",
      "Number of mislabeled points out of a total 100 points: 35\n",
      "[[51  7]\n",
      " [28 14]]\n",
      "Number of mislabeled points out of a total 100 points: 35\n",
      "[[51  7]\n",
      " [28 14]]\n",
      "Number of mislabeled points out of a total 100 points: 35\n",
      "[[51  7]\n",
      " [28 14]]\n",
      "Number of mislabeled points out of a total 100 points: 35\n",
      "[[51  7]\n",
      " [28 14]]\n",
      "Sensitivity: 0.33862433862433866\n",
      "Specificity: 0.8793103448275862\n"
     ]
    }
   ],
   "source": [
    "kfolds(df, 10)"
   ]
  },
  {
   "cell_type": "code",
   "execution_count": 104,
   "metadata": {
    "collapsed": false
   },
   "outputs": [
    {
     "name": "stdout",
     "output_type": "stream",
     "text": [
      "Number of mislabeled points out of a total 50 points: 15\n",
      "[[29  4]\n",
      " [11  6]]\n",
      "Number of mislabeled points out of a total 50 points: 15\n",
      "[[29  4]\n",
      " [11  6]]\n",
      "Number of mislabeled points out of a total 50 points: 15\n",
      "[[29  4]\n",
      " [11  6]]\n",
      "Number of mislabeled points out of a total 50 points: 15\n",
      "[[29  4]\n",
      " [11  6]]\n",
      "Number of mislabeled points out of a total 50 points: 15\n",
      "[[29  4]\n",
      " [11  6]]\n",
      "Number of mislabeled points out of a total 50 points: 15\n",
      "[[29  4]\n",
      " [11  6]]\n",
      "Number of mislabeled points out of a total 50 points: 14\n",
      "[[29  4]\n",
      " [10  7]]\n",
      "Number of mislabeled points out of a total 50 points: 15\n",
      "[[29  4]\n",
      " [11  6]]\n",
      "Number of mislabeled points out of a total 50 points: 15\n",
      "[[29  4]\n",
      " [11  6]]\n",
      "Number of mislabeled points out of a total 50 points: 15\n",
      "[[29  4]\n",
      " [11  6]]\n",
      "Number of mislabeled points out of a total 50 points: 15\n",
      "[[29  4]\n",
      " [11  6]]\n",
      "Number of mislabeled points out of a total 50 points: 15\n",
      "[[29  4]\n",
      " [11  6]]\n",
      "Number of mislabeled points out of a total 50 points: 15\n",
      "[[29  4]\n",
      " [11  6]]\n",
      "Number of mislabeled points out of a total 50 points: 15\n",
      "[[29  4]\n",
      " [11  6]]\n",
      "Number of mislabeled points out of a total 50 points: 15\n",
      "[[29  4]\n",
      " [11  6]]\n",
      "Number of mislabeled points out of a total 50 points: 15\n",
      "[[29  4]\n",
      " [11  6]]\n",
      "Number of mislabeled points out of a total 50 points: 15\n",
      "[[29  4]\n",
      " [11  6]]\n",
      "Number of mislabeled points out of a total 50 points: 15\n",
      "[[29  4]\n",
      " [11  6]]\n",
      "Number of mislabeled points out of a total 50 points: 15\n",
      "[[29  4]\n",
      " [11  6]]\n",
      "Sensitivity: 0.3560371517027864\n",
      "Specificity: 0.8787878787878787\n"
     ]
    }
   ],
   "source": [
    "kfolds(df, 20)"
   ]
  },
  {
   "cell_type": "markdown",
   "metadata": {
    "collapsed": true
   },
   "source": [
    "Do any of your classifiers seem to overfit?\n",
    "    \n",
    "    No.\n",
    "    \n",
    "Which seem to perform the best? Why?\n",
    "    \n",
    "    The first model (using accuracy_results) function, appears to perform the best due to its accuracy in predicting values as well as the consistency of both the sensitivity and the specificity across varying sample sizes. \n",
    "    \n",
    "What features seemed to be most impactful to performance?\n",
    "    \n",
    "    A large k-folds value has an impact on performance. "
   ]
  }
 ],
 "metadata": {
  "kernelspec": {
   "display_name": "Python 3",
   "language": "python",
   "name": "python3"
  },
  "language_info": {
   "codemirror_mode": {
    "name": "ipython",
    "version": 3
   },
   "file_extension": ".py",
   "mimetype": "text/x-python",
   "name": "python",
   "nbconvert_exporter": "python",
   "pygments_lexer": "ipython3",
   "version": "3.6.0"
  }
 },
 "nbformat": 4,
 "nbformat_minor": 2
}
