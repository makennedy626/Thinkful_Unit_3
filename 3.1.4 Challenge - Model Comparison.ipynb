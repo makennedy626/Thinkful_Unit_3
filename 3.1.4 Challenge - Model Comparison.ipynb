{
 "cells": [
  {
   "cell_type": "code",
   "execution_count": 77,
   "metadata": {
    "collapsed": false
   },
   "outputs": [],
   "source": [
    "'''\n",
    "PROMPT:\n",
    "Find a data set and build a KNN Regression and an OLS regression. \n",
    "Compare the two. \n",
    "How similar are they? \n",
    "Do they miss in different ways?\n",
    "'''\n",
    "\n",
    "\n",
    "import numpy as np\n",
    "import pandas as pd\n",
    "import matplotlib.pyplot as plt\n",
    "import scipy\n",
    "from sklearn import neighbors\n",
    "from sklearn import linear_model\n",
    "%matplotlib inline\n",
    "\n",
    "# Hit capcoin's api to read the 30 day history of Bitcoin (BTC)\n",
    "# BTC = pd.read_json('http://socket.coincap.io/history/30day/BTC')\n",
    "#BTC = BTC.to_csv('C:\\\\Users\\\\maken\\\\BTC\\\\BTC.csv')\n",
    "BTC = pd.read_csv('C:\\\\Users\\\\maken\\\\BTC\\\\BTC.csv')"
   ]
  },
  {
   "cell_type": "code",
   "execution_count": 78,
   "metadata": {
    "collapsed": false
   },
   "outputs": [
    {
     "data": {
      "text/html": [
       "<div>\n",
       "<table border=\"1\" class=\"dataframe\">\n",
       "  <thead>\n",
       "    <tr style=\"text-align: right;\">\n",
       "      <th></th>\n",
       "      <th>market_cap</th>\n",
       "      <th>price</th>\n",
       "      <th>volume</th>\n",
       "    </tr>\n",
       "  </thead>\n",
       "  <tbody>\n",
       "    <tr>\n",
       "      <th>0</th>\n",
       "      <td>[1495921749000, 32618541566]</td>\n",
       "      <td>[1495921749000, 1994.35]</td>\n",
       "      <td>[1495921749000, 1747740000]</td>\n",
       "    </tr>\n",
       "    <tr>\n",
       "      <th>1</th>\n",
       "      <td>[1495925350000, 33498722140]</td>\n",
       "      <td>[1495925350000, 2048.15]</td>\n",
       "      <td>[1495925350000, 1734500000]</td>\n",
       "    </tr>\n",
       "    <tr>\n",
       "      <th>2</th>\n",
       "      <td>[1495928949000, 33203215899]</td>\n",
       "      <td>[1495928949000, 2030.07]</td>\n",
       "      <td>[1495928949000, 1689320000]</td>\n",
       "    </tr>\n",
       "    <tr>\n",
       "      <th>3</th>\n",
       "      <td>[1495932551000, 34259238161]</td>\n",
       "      <td>[1495932551000, 2094.62]</td>\n",
       "      <td>[1495932551000, 1762320000]</td>\n",
       "    </tr>\n",
       "    <tr>\n",
       "      <th>4</th>\n",
       "      <td>[1495936150000, 34510536391]</td>\n",
       "      <td>[1495936150000, 2109.97]</td>\n",
       "      <td>[1495936150000, 1782030000]</td>\n",
       "    </tr>\n",
       "  </tbody>\n",
       "</table>\n",
       "</div>"
      ],
      "text/plain": [
       "                     market_cap                     price  \\\n",
       "0  [1495921749000, 32618541566]  [1495921749000, 1994.35]   \n",
       "1  [1495925350000, 33498722140]  [1495925350000, 2048.15]   \n",
       "2  [1495928949000, 33203215899]  [1495928949000, 2030.07]   \n",
       "3  [1495932551000, 34259238161]  [1495932551000, 2094.62]   \n",
       "4  [1495936150000, 34510536391]  [1495936150000, 2109.97]   \n",
       "\n",
       "                        volume  \n",
       "0  [1495921749000, 1747740000]  \n",
       "1  [1495925350000, 1734500000]  \n",
       "2  [1495928949000, 1689320000]  \n",
       "3  [1495932551000, 1762320000]  \n",
       "4  [1495936150000, 1782030000]  "
      ]
     },
     "execution_count": 78,
     "metadata": {},
     "output_type": "execute_result"
    }
   ],
   "source": [
    "# Print the headers to make sure the data looks ok\n",
    "BTC.head()"
   ]
  },
  {
   "cell_type": "code",
   "execution_count": 182,
   "metadata": {
    "collapsed": false
   },
   "outputs": [],
   "source": [
    "def valuation_formula(variable, row, n):\n",
    "    value = row[variable]\n",
    "    value = value.strip('[').strip(']').split(', ')\n",
    "    return float(value[n])\n",
    "\n",
    "#df['price'] = df.apply(lambda row: valuation_formula(row['x'], row['y']), axis=1)\n",
    "                                 \n",
    "BTC['market_cap_high'] = BTC.apply(lambda row: valuation_formula('market_cap', row, 1), axis=1).dropna()\n",
    "BTC['market_cap_low'] = BTC.apply(lambda row: valuation_formula('market_cap', row, 0), axis=1).dropna()\n",
    "BTC['price_high'] = BTC.apply(lambda row: valuation_formula('price', row, 1), axis=1).dropna()\n",
    "BTC['price_low'] = BTC.apply(lambda row: valuation_formula('price', row, 0), axis=1).dropna()"
   ]
  },
  {
   "cell_type": "code",
   "execution_count": 123,
   "metadata": {
    "collapsed": false
   },
   "outputs": [
    {
     "data": {
      "text/html": [
       "<div>\n",
       "<table border=\"1\" class=\"dataframe\">\n",
       "  <thead>\n",
       "    <tr style=\"text-align: right;\">\n",
       "      <th></th>\n",
       "      <th>market_cap</th>\n",
       "      <th>price</th>\n",
       "      <th>volume</th>\n",
       "      <th>market_cap_high</th>\n",
       "      <th>market_cap_low</th>\n",
       "      <th>price_high</th>\n",
       "      <th>price_low</th>\n",
       "      <th>volume_high</th>\n",
       "      <th>volume_low</th>\n",
       "      <th>markte_cap_low</th>\n",
       "    </tr>\n",
       "  </thead>\n",
       "  <tbody>\n",
       "    <tr>\n",
       "      <th>0</th>\n",
       "      <td>[1495921749000, 32618541566]</td>\n",
       "      <td>[1495921749000, 1994.35]</td>\n",
       "      <td>[1495921749000, 1747740000]</td>\n",
       "      <td>3.261854e+10</td>\n",
       "      <td>1.495922e+12</td>\n",
       "      <td>1994.35</td>\n",
       "      <td>1.495922e+12</td>\n",
       "      <td>1</td>\n",
       "      <td>0</td>\n",
       "      <td>1495921749000</td>\n",
       "    </tr>\n",
       "    <tr>\n",
       "      <th>1</th>\n",
       "      <td>[1495925350000, 33498722140]</td>\n",
       "      <td>[1495925350000, 2048.15]</td>\n",
       "      <td>[1495925350000, 1734500000]</td>\n",
       "      <td>3.349872e+10</td>\n",
       "      <td>1.495925e+12</td>\n",
       "      <td>2048.15</td>\n",
       "      <td>1.495925e+12</td>\n",
       "      <td>1</td>\n",
       "      <td>0</td>\n",
       "      <td>1495925350000</td>\n",
       "    </tr>\n",
       "    <tr>\n",
       "      <th>2</th>\n",
       "      <td>[1495928949000, 33203215899]</td>\n",
       "      <td>[1495928949000, 2030.07]</td>\n",
       "      <td>[1495928949000, 1689320000]</td>\n",
       "      <td>3.320322e+10</td>\n",
       "      <td>1.495929e+12</td>\n",
       "      <td>2030.07</td>\n",
       "      <td>1.495929e+12</td>\n",
       "      <td>1</td>\n",
       "      <td>0</td>\n",
       "      <td>1495928949000</td>\n",
       "    </tr>\n",
       "    <tr>\n",
       "      <th>3</th>\n",
       "      <td>[1495932551000, 34259238161]</td>\n",
       "      <td>[1495932551000, 2094.62]</td>\n",
       "      <td>[1495932551000, 1762320000]</td>\n",
       "      <td>3.425924e+10</td>\n",
       "      <td>1.495933e+12</td>\n",
       "      <td>2094.62</td>\n",
       "      <td>1.495933e+12</td>\n",
       "      <td>1</td>\n",
       "      <td>0</td>\n",
       "      <td>1495932551000</td>\n",
       "    </tr>\n",
       "    <tr>\n",
       "      <th>4</th>\n",
       "      <td>[1495936150000, 34510536391]</td>\n",
       "      <td>[1495936150000, 2109.97]</td>\n",
       "      <td>[1495936150000, 1782030000]</td>\n",
       "      <td>3.451054e+10</td>\n",
       "      <td>1.495936e+12</td>\n",
       "      <td>2109.97</td>\n",
       "      <td>1.495936e+12</td>\n",
       "      <td>1</td>\n",
       "      <td>0</td>\n",
       "      <td>1495936150000</td>\n",
       "    </tr>\n",
       "  </tbody>\n",
       "</table>\n",
       "</div>"
      ],
      "text/plain": [
       "                     market_cap                     price  \\\n",
       "0  [1495921749000, 32618541566]  [1495921749000, 1994.35]   \n",
       "1  [1495925350000, 33498722140]  [1495925350000, 2048.15]   \n",
       "2  [1495928949000, 33203215899]  [1495928949000, 2030.07]   \n",
       "3  [1495932551000, 34259238161]  [1495932551000, 2094.62]   \n",
       "4  [1495936150000, 34510536391]  [1495936150000, 2109.97]   \n",
       "\n",
       "                        volume  market_cap_high  market_cap_low  price_high  \\\n",
       "0  [1495921749000, 1747740000]     3.261854e+10    1.495922e+12     1994.35   \n",
       "1  [1495925350000, 1734500000]     3.349872e+10    1.495925e+12     2048.15   \n",
       "2  [1495928949000, 1689320000]     3.320322e+10    1.495929e+12     2030.07   \n",
       "3  [1495932551000, 1762320000]     3.425924e+10    1.495933e+12     2094.62   \n",
       "4  [1495936150000, 1782030000]     3.451054e+10    1.495936e+12     2109.97   \n",
       "\n",
       "      price_low  volume_high  volume_low  markte_cap_low  \n",
       "0  1.495922e+12            1           0   1495921749000  \n",
       "1  1.495925e+12            1           0   1495925350000  \n",
       "2  1.495929e+12            1           0   1495928949000  \n",
       "3  1.495933e+12            1           0   1495932551000  \n",
       "4  1.495936e+12            1           0   1495936150000  "
      ]
     },
     "execution_count": 123,
     "metadata": {},
     "output_type": "execute_result"
    }
   ],
   "source": [
    "BTC.head()"
   ]
  },
  {
   "cell_type": "code",
   "execution_count": 193,
   "metadata": {
    "collapsed": false
   },
   "outputs": [],
   "source": [
    "# accuracy_results will take the necessary data and print the results. \n",
    "btc_training_set = BTC.sample(frac=.5)\n",
    "    \n",
    "# create a testing set that is all of the data minus the training set\n",
    "btc_testing_set = BTC[~BTC.index.isin(btc_training_set.index)]"
   ]
  },
  {
   "cell_type": "code",
   "execution_count": 125,
   "metadata": {
    "collapsed": false
   },
   "outputs": [
    {
     "data": {
      "text/html": [
       "<div>\n",
       "<table border=\"1\" class=\"dataframe\">\n",
       "  <thead>\n",
       "    <tr style=\"text-align: right;\">\n",
       "      <th></th>\n",
       "      <th>market_cap</th>\n",
       "      <th>price</th>\n",
       "      <th>volume</th>\n",
       "      <th>market_cap_high</th>\n",
       "      <th>market_cap_low</th>\n",
       "      <th>price_high</th>\n",
       "      <th>price_low</th>\n",
       "      <th>volume_high</th>\n",
       "      <th>volume_low</th>\n",
       "      <th>markte_cap_low</th>\n",
       "    </tr>\n",
       "  </thead>\n",
       "  <tbody>\n",
       "    <tr>\n",
       "      <th>307</th>\n",
       "      <td>[1497029653000, 46573207216]</td>\n",
       "      <td>[1497029653000, 2843]</td>\n",
       "      <td>[1497029653000, 1329920000]</td>\n",
       "      <td>4.657321e+10</td>\n",
       "      <td>1.497030e+12</td>\n",
       "      <td>2843.00</td>\n",
       "      <td>1.497030e+12</td>\n",
       "      <td>1</td>\n",
       "      <td>0</td>\n",
       "      <td>1497029653000</td>\n",
       "    </tr>\n",
       "    <tr>\n",
       "      <th>389</th>\n",
       "      <td>[1497325162000, 43584869280]</td>\n",
       "      <td>[1497325162000, 2659.56]</td>\n",
       "      <td>[1497325162000, 2649410000]</td>\n",
       "      <td>4.358487e+10</td>\n",
       "      <td>1.497325e+12</td>\n",
       "      <td>2659.56</td>\n",
       "      <td>1.497325e+12</td>\n",
       "      <td>1</td>\n",
       "      <td>0</td>\n",
       "      <td>1497325162000</td>\n",
       "    </tr>\n",
       "    <tr>\n",
       "      <th>110</th>\n",
       "      <td>[1496317749000, 39645102342]</td>\n",
       "      <td>[1496317749000, 2422.56]</td>\n",
       "      <td>[1496317749000, 1683310000]</td>\n",
       "      <td>3.964510e+10</td>\n",
       "      <td>1.496318e+12</td>\n",
       "      <td>2422.56</td>\n",
       "      <td>1.496318e+12</td>\n",
       "      <td>1</td>\n",
       "      <td>0</td>\n",
       "      <td>1496317749000</td>\n",
       "    </tr>\n",
       "    <tr>\n",
       "      <th>130</th>\n",
       "      <td>[1496389755000, 39989903779]</td>\n",
       "      <td>[1496389755000, 2443.37]</td>\n",
       "      <td>[1496389755000, 1520210000]</td>\n",
       "      <td>3.998990e+10</td>\n",
       "      <td>1.496390e+12</td>\n",
       "      <td>2443.37</td>\n",
       "      <td>1.496390e+12</td>\n",
       "      <td>1</td>\n",
       "      <td>0</td>\n",
       "      <td>1496389755000</td>\n",
       "    </tr>\n",
       "    <tr>\n",
       "      <th>547</th>\n",
       "      <td>[1497893960000, 42592047456]</td>\n",
       "      <td>[1497893960000, 2597.09]</td>\n",
       "      <td>[1497893960000, 1350230000]</td>\n",
       "      <td>4.259205e+10</td>\n",
       "      <td>1.497894e+12</td>\n",
       "      <td>2597.09</td>\n",
       "      <td>1.497894e+12</td>\n",
       "      <td>1</td>\n",
       "      <td>0</td>\n",
       "      <td>1497893960000</td>\n",
       "    </tr>\n",
       "  </tbody>\n",
       "</table>\n",
       "</div>"
      ],
      "text/plain": [
       "                       market_cap                     price  \\\n",
       "307  [1497029653000, 46573207216]     [1497029653000, 2843]   \n",
       "389  [1497325162000, 43584869280]  [1497325162000, 2659.56]   \n",
       "110  [1496317749000, 39645102342]  [1496317749000, 2422.56]   \n",
       "130  [1496389755000, 39989903779]  [1496389755000, 2443.37]   \n",
       "547  [1497893960000, 42592047456]  [1497893960000, 2597.09]   \n",
       "\n",
       "                          volume  market_cap_high  market_cap_low  price_high  \\\n",
       "307  [1497029653000, 1329920000]     4.657321e+10    1.497030e+12     2843.00   \n",
       "389  [1497325162000, 2649410000]     4.358487e+10    1.497325e+12     2659.56   \n",
       "110  [1496317749000, 1683310000]     3.964510e+10    1.496318e+12     2422.56   \n",
       "130  [1496389755000, 1520210000]     3.998990e+10    1.496390e+12     2443.37   \n",
       "547  [1497893960000, 1350230000]     4.259205e+10    1.497894e+12     2597.09   \n",
       "\n",
       "        price_low  volume_high  volume_low  markte_cap_low  \n",
       "307  1.497030e+12            1           0   1497029653000  \n",
       "389  1.497325e+12            1           0   1497325162000  \n",
       "110  1.496318e+12            1           0   1496317749000  \n",
       "130  1.496390e+12            1           0   1496389755000  \n",
       "547  1.497894e+12            1           0   1497893960000  "
      ]
     },
     "execution_count": 125,
     "metadata": {},
     "output_type": "execute_result"
    }
   ],
   "source": [
    "btc_training_set.head()"
   ]
  },
  {
   "cell_type": "code",
   "execution_count": 126,
   "metadata": {
    "collapsed": false
   },
   "outputs": [
    {
     "data": {
      "text/html": [
       "<div>\n",
       "<table border=\"1\" class=\"dataframe\">\n",
       "  <thead>\n",
       "    <tr style=\"text-align: right;\">\n",
       "      <th></th>\n",
       "      <th>market_cap</th>\n",
       "      <th>price</th>\n",
       "      <th>volume</th>\n",
       "      <th>market_cap_high</th>\n",
       "      <th>market_cap_low</th>\n",
       "      <th>price_high</th>\n",
       "      <th>price_low</th>\n",
       "      <th>volume_high</th>\n",
       "      <th>volume_low</th>\n",
       "      <th>markte_cap_low</th>\n",
       "    </tr>\n",
       "  </thead>\n",
       "  <tbody>\n",
       "    <tr>\n",
       "      <th>4</th>\n",
       "      <td>[1495936150000, 34510536391]</td>\n",
       "      <td>[1495936150000, 2109.97]</td>\n",
       "      <td>[1495936150000, 1782030000]</td>\n",
       "      <td>3.451054e+10</td>\n",
       "      <td>1.495936e+12</td>\n",
       "      <td>2109.97</td>\n",
       "      <td>1.495936e+12</td>\n",
       "      <td>1</td>\n",
       "      <td>0</td>\n",
       "      <td>1495936150000</td>\n",
       "    </tr>\n",
       "    <tr>\n",
       "      <th>5</th>\n",
       "      <td>[1495939749000, 34963894080]</td>\n",
       "      <td>[1495939749000, 2137.68]</td>\n",
       "      <td>[1495939749000, 1817600000]</td>\n",
       "      <td>3.496389e+10</td>\n",
       "      <td>1.495940e+12</td>\n",
       "      <td>2137.68</td>\n",
       "      <td>1.495940e+12</td>\n",
       "      <td>1</td>\n",
       "      <td>0</td>\n",
       "      <td>1495939749000</td>\n",
       "    </tr>\n",
       "    <tr>\n",
       "      <th>7</th>\n",
       "      <td>[1495946950000, 35453044872]</td>\n",
       "      <td>[1495946950000, 2167.56]</td>\n",
       "      <td>[1495946950000, 1793800000]</td>\n",
       "      <td>3.545304e+10</td>\n",
       "      <td>1.495947e+12</td>\n",
       "      <td>2167.56</td>\n",
       "      <td>1.495947e+12</td>\n",
       "      <td>1</td>\n",
       "      <td>0</td>\n",
       "      <td>1495946950000</td>\n",
       "    </tr>\n",
       "    <tr>\n",
       "      <th>8</th>\n",
       "      <td>[1495950550000, 35269526470]</td>\n",
       "      <td>[1495950550000, 2156.33]</td>\n",
       "      <td>[1495950550000, 1718910000]</td>\n",
       "      <td>3.526953e+10</td>\n",
       "      <td>1.495951e+12</td>\n",
       "      <td>2156.33</td>\n",
       "      <td>1.495951e+12</td>\n",
       "      <td>1</td>\n",
       "      <td>0</td>\n",
       "      <td>1495950550000</td>\n",
       "    </tr>\n",
       "    <tr>\n",
       "      <th>11</th>\n",
       "      <td>[1495961349000, 36370228903]</td>\n",
       "      <td>[1495961349000, 2223.6]</td>\n",
       "      <td>[1495961349000, 1591310000]</td>\n",
       "      <td>3.637023e+10</td>\n",
       "      <td>1.495961e+12</td>\n",
       "      <td>2223.60</td>\n",
       "      <td>1.495961e+12</td>\n",
       "      <td>1</td>\n",
       "      <td>0</td>\n",
       "      <td>1495961349000</td>\n",
       "    </tr>\n",
       "  </tbody>\n",
       "</table>\n",
       "</div>"
      ],
      "text/plain": [
       "                      market_cap                     price  \\\n",
       "4   [1495936150000, 34510536391]  [1495936150000, 2109.97]   \n",
       "5   [1495939749000, 34963894080]  [1495939749000, 2137.68]   \n",
       "7   [1495946950000, 35453044872]  [1495946950000, 2167.56]   \n",
       "8   [1495950550000, 35269526470]  [1495950550000, 2156.33]   \n",
       "11  [1495961349000, 36370228903]   [1495961349000, 2223.6]   \n",
       "\n",
       "                         volume  market_cap_high  market_cap_low  price_high  \\\n",
       "4   [1495936150000, 1782030000]     3.451054e+10    1.495936e+12     2109.97   \n",
       "5   [1495939749000, 1817600000]     3.496389e+10    1.495940e+12     2137.68   \n",
       "7   [1495946950000, 1793800000]     3.545304e+10    1.495947e+12     2167.56   \n",
       "8   [1495950550000, 1718910000]     3.526953e+10    1.495951e+12     2156.33   \n",
       "11  [1495961349000, 1591310000]     3.637023e+10    1.495961e+12     2223.60   \n",
       "\n",
       "       price_low  volume_high  volume_low  markte_cap_low  \n",
       "4   1.495936e+12            1           0   1495936150000  \n",
       "5   1.495940e+12            1           0   1495939749000  \n",
       "7   1.495947e+12            1           0   1495946950000  \n",
       "8   1.495951e+12            1           0   1495950550000  \n",
       "11  1.495961e+12            1           0   1495961349000  "
      ]
     },
     "execution_count": 126,
     "metadata": {},
     "output_type": "execute_result"
    }
   ],
   "source": [
    "btc_testing_set.head()"
   ]
  },
  {
   "cell_type": "code",
   "execution_count": 165,
   "metadata": {
    "collapsed": false
   },
   "outputs": [
    {
     "data": {
      "image/png": "[encoded data removed]",
      "text/plain": [
       "<matplotlib.figure.Figure at 0x22167ce05c0>"
      ]
     },
     "metadata": {},
     "output_type": "display_data"
    },
    {
     "data": {
      "text/plain": [
       "NormaltestResult(statistic=539.65150143674691, pvalue=6.5488551946189311e-118)"
      ]
     },
     "execution_count": 165,
     "metadata": {},
     "output_type": "execute_result"
    }
   ],
   "source": [
    "import scipy.stats as stats\n",
    "\n",
    "# Build the KNN Model\n",
    "knn = neighbors.KNeighborsRegressor(n_neighbors=100)\n",
    "price_low = pd.DataFrame(btc_training_set.price_low)\n",
    "price_high = pd.DataFrame(btc_training_set.price_high)\n",
    "prediction = knn.fit(price_low, price_high)\n",
    "\n",
    "\n",
    "T = btc_testing_set[['price_low']]\n",
    "\n",
    "# Trailing underscores are a common convention for a prediction.\n",
    "Y_ = knn.predict(T).ravel()\n",
    "\n",
    "plt.scatter(price_low, price_high, c='k', label='data')\n",
    "plt.plot(T, Y_, c='g', label='prediction')\n",
    "plt.legend()\n",
    "plt.title('Predictions Using price_low and price_high for BTC')\n",
    "plt.show()\n",
    "\n",
    "\n",
    "residual = btc_testing_set.price_low - Y_\n",
    "stats.normaltest(residual)"
   ]
  },
  {
   "cell_type": "code",
   "execution_count": 192,
   "metadata": {
    "collapsed": false
   },
   "outputs": [
    {
     "name": "stdout",
     "output_type": "stream",
     "text": [
      "Coefficients: \n",
      " [[  1.32379021e-07]]\n",
      "Intercept: \n",
      " [-195591.20890199]\n"
     ]
    },
    {
     "name": "stderr",
     "output_type": "stream",
     "text": [
      "C:\\Users\\maken\\lib\\site-packages\\ipykernel\\__main__.py:8: FutureWarning: reshape is deprecated and will raise in a subsequent release. Please use .values.reshape(...) instead\n"
     ]
    },
    {
     "data": {
      "image/png": "[encoded data removed]",
      "text/plain": [
       "<matplotlib.figure.Figure at 0x22164ecbdd8>"
      ]
     },
     "metadata": {},
     "output_type": "display_data"
    },
    {
     "data": {
      "text/plain": [
       "NormaltestResult(statistic=539.65074616542279, pvalue=6.5513287429065528e-118)"
      ]
     },
     "execution_count": 192,
     "metadata": {},
     "output_type": "execute_result"
    }
   ],
   "source": [
    "# Build the Linear Regression Model\n",
    "# Instantiate our model.\n",
    "ols = linear_model.LinearRegression()\n",
    "\n",
    "# Fit our model to our data.\n",
    "ols.fit(price_low, price_high)\n",
    "\n",
    "prediction = ols.predict(btc_testing_set.price_low.reshape(-1,1)).ravel()\n",
    "\n",
    "# Display the attributes we calculated.\n",
    "print('Coefficients: \\n', ols.coef_)\n",
    "print('Intercept: \\n', ols.intercept_)\n",
    "\n",
    "# Plot outputs\n",
    "plt.scatter(price_low, price_high, color='black')\n",
    "plt.plot(btc_testing_set.price_low, prediction, color='blue', linewidth=3)\n",
    "plt.show()\n",
    "\n",
    "residual = btc_testing_set.price_low - prediction\n",
    "stats.normaltest(residual)"
   ]
  },
  {
   "cell_type": "markdown",
   "metadata": {},
   "source": [
    "### Comparison of the statistics of the two models:\n",
    "\n",
    "KNN Regression Statistics:\n",
    "NormaltestResult(statistic=539.65150143674691, pvalue=6.5488551946189311e-118)\n",
    "\n",
    "Linear Regression Statistics:\n",
    "NormaltestResult(statistic=539.65074616542279, pvalue=6.5513287429065528e-118)\n",
    "\n",
    "### Both models did well, but the KNN Regression performed better, as is shown by the higher statistic score and the lower pvalue. "
   ]
  }
 ],
 "metadata": {
  "kernelspec": {
   "display_name": "Python 3",
   "language": "python",
   "name": "python3"
  },
  "language_info": {
   "codemirror_mode": {
    "name": "ipython",
    "version": 3
   },
   "file_extension": ".py",
   "mimetype": "text/x-python",
   "name": "python",
   "nbconvert_exporter": "python",
   "pygments_lexer": "ipython3",
   "version": "3.6.0"
  }
 },
 "nbformat": 4,
 "nbformat_minor": 2
}
