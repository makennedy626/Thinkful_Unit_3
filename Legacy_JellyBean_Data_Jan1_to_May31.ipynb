{
 "cells": [
  {
   "cell_type": "code",
   "execution_count": 20,
   "metadata": {
    "collapsed": false
   },
   "outputs": [],
   "source": [
    "import numpy as np\n",
    "import pandas as pd\n",
    "import matplotlib.pyplot as plt\n",
    "import scipy\n",
    "from sklearn import neighbors\n",
    "from sklearn import linear_model\n",
    "%matplotlib inline\n",
    "\n",
    "master_source = pd.read_csv('C:\\\\Users\\\\maken\\\\Legacy_2017_JellyBean_Data_Jan_1_to_May_31.csv', sep = ',', nrows = 1183)\n",
    "product_breakdown = pd.read_csv('C:\\\\Users\\\\maken\\\\Product_Breakdown_Legacy_2017_JellyBean_Data_Jan_1_to_May_31.csv', sep = ',', usecols = [0,1,2,3,4,5,6,7,8,9,10], nrows = 31)"
   ]
  },
  {
   "cell_type": "code",
   "execution_count": null,
   "metadata": {
    "collapsed": true
   },
   "outputs": [],
   "source": []
  }
 ],
 "metadata": {
  "kernelspec": {
   "display_name": "Python 3",
   "language": "python",
   "name": "python3"
  },
  "language_info": {
   "codemirror_mode": {
    "name": "ipython",
    "version": 3
   },
   "file_extension": ".py",
   "mimetype": "text/x-python",
   "name": "python",
   "nbconvert_exporter": "python",
   "pygments_lexer": "ipython3",
   "version": "3.6.0"
  }
 },
 "nbformat": 4,
 "nbformat_minor": 2
}
