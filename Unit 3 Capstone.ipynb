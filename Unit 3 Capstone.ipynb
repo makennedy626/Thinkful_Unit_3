{
 "cells": [
  {
   "cell_type": "markdown",
   "metadata": {},
   "source": [
    "# Scoring parameters - R^2 for Regression, Accuracy for Classification. "
   ]
  },
  {
   "cell_type": "markdown",
   "metadata": {},
   "source": [
    "# Unit 3 Capstone Project\n",
    "  ## Matthew Kennedy, August 2017\n",
    "\n",
    "   ## Section 1: Overview of Dataset and Analysis of Data\n",
    "   \n",
    "   The dataset used in this project comes from Kaggle user \"CNuge.\" The dataset contains historical stock prices over the last five years for all companies in the S&P 500 index and can be found at https://www.kaggle.com/camnugent/sandp500. This project will use the files that have the historical prices for individual stocks.   \n",
    "       \n",
    "   The dataset contains the following columns: \n",
    "       \n",
    "       Date - In the format of yy-mm-dd\n",
    "       Open - Price of the stock in USD at market open\n",
    "       High - Highest price reached in the day\n",
    "       Low - Lowest price reached in the day\n",
    "       Close - The price the stock had at the end of the day\n",
    "       Volume - Number of shares traded\n",
    "       Name - The stock's ticker name\n",
    "       \n",
    "   The user collected the data by using the python library, 'pandas_datareader,' to scrape Google Finance."
   ]
  },
  {
   "cell_type": "code",
   "execution_count": 1,
   "metadata": {
    "collapsed": false
   },
   "outputs": [],
   "source": [
    "# Import the necessary modules\n",
    "import pandas as pd\n",
    "import numpy as np\n",
    "import scipy\n",
    "import matplotlib.pyplot as plt\n",
    "%matplotlib inline\n",
    "\n",
    "from sklearn import linear_model\n",
    "from sklearn import preprocessing\n",
    "import statsmodels.api as sm\n",
    "from sklearn.linear_model import LogisticRegression\n",
    "from sklearn.svm import SVR\n",
    "from sklearn.svm import SVC\n",
    "from sklearn import ensemble\n",
    "from sklearn import datasets\n",
    "from sklearn.utils import shuffle\n",
    "from sklearn.metrics import mean_squared_error\n",
    "from sklearn.metrics import r2_score\n",
    "from sklearn.metrics import confusion_matrix\n",
    "from sklearn.model_selection import cross_val_score"
   ]
  },
  {
   "cell_type": "code",
   "execution_count": 2,
<<<<<<< HEAD
   "metadata": {},
=======
   "metadata": {
    "collapsed": false
   },
>>>>>>> 0c290bb27845d05b00ba61cdabcc4b80e898ff54
   "outputs": [],
   "source": [
    "# This project will use the historical prices of GOOGL\n",
    "\n",
    "# Read the Dataset, store the original\n",
    "# This is the filepath on my laptop:\n",
    "original = pd.read_csv('C:\\\\Users\\\\mkennedy\\\\sandp500\\\\individual_stocks_5yr\\\\GOOGL_data.csv', encoding='utf-8-sig')\n",
    "# This is the filepath on my desktop:\n",
    "#original = pd.read_csv('D:\\\\Data\\\\sandp500\\\\GOOGL_data.csv')"
   ]
  },
  {
   "cell_type": "code",
   "execution_count": 3,
   "metadata": {
    "collapsed": false
   },
   "outputs": [
    {
     "data": {
      "text/html": [
       "<div>\n",
       "<table border=\"1\" class=\"dataframe\">\n",
       "  <thead>\n",
       "    <tr style=\"text-align: right;\">\n",
       "      <th></th>\n",
       "      <th>Date</th>\n",
       "      <th>Open</th>\n",
       "      <th>High</th>\n",
       "      <th>Low</th>\n",
       "      <th>Close</th>\n",
       "      <th>Volume</th>\n",
       "      <th>Name</th>\n",
       "    </tr>\n",
       "  </thead>\n",
       "  <tbody>\n",
       "    <tr>\n",
       "      <th>0</th>\n",
       "      <td>2012-08-13</td>\n",
       "      <td>324.03</td>\n",
       "      <td>330.41</td>\n",
       "      <td>323.66</td>\n",
       "      <td>330.34</td>\n",
       "      <td>3268073</td>\n",
       "      <td>GOOGL</td>\n",
       "    </tr>\n",
       "    <tr>\n",
       "      <th>1</th>\n",
       "      <td>2012-08-14</td>\n",
       "      <td>329.95</td>\n",
       "      <td>336.76</td>\n",
       "      <td>329.83</td>\n",
       "      <td>334.66</td>\n",
       "      <td>3662178</td>\n",
       "      <td>GOOGL</td>\n",
       "    </tr>\n",
       "    <tr>\n",
       "      <th>2</th>\n",
       "      <td>2012-08-15</td>\n",
       "      <td>335.48</td>\n",
       "      <td>337.46</td>\n",
       "      <td>332.38</td>\n",
       "      <td>334.10</td>\n",
       "      <td>2411100</td>\n",
       "      <td>GOOGL</td>\n",
       "    </tr>\n",
       "    <tr>\n",
       "      <th>3</th>\n",
       "      <td>2012-08-16</td>\n",
       "      <td>334.09</td>\n",
       "      <td>337.66</td>\n",
       "      <td>333.87</td>\n",
       "      <td>336.77</td>\n",
       "      <td>1717691</td>\n",
       "      <td>GOOGL</td>\n",
       "    </tr>\n",
       "    <tr>\n",
       "      <th>4</th>\n",
       "      <td>2012-08-17</td>\n",
       "      <td>337.40</td>\n",
       "      <td>338.96</td>\n",
       "      <td>336.19</td>\n",
       "      <td>338.91</td>\n",
       "      <td>2177896</td>\n",
       "      <td>GOOGL</td>\n",
       "    </tr>\n",
       "  </tbody>\n",
       "</table>\n",
       "</div>"
      ],
      "text/plain": [
       "         Date    Open    High     Low   Close   Volume   Name\n",
       "0  2012-08-13  324.03  330.41  323.66  330.34  3268073  GOOGL\n",
       "1  2012-08-14  329.95  336.76  329.83  334.66  3662178  GOOGL\n",
       "2  2012-08-15  335.48  337.46  332.38  334.10  2411100  GOOGL\n",
       "3  2012-08-16  334.09  337.66  333.87  336.77  1717691  GOOGL\n",
       "4  2012-08-17  337.40  338.96  336.19  338.91  2177896  GOOGL"
      ]
     },
     "execution_count": 3,
     "metadata": {},
     "output_type": "execute_result"
    }
   ],
   "source": [
    "# Copy a dataframe of the original data to manipulate\n",
    "data = original\n",
    "\n",
    "# Print the headers of the dataframe\n",
    "data.head()"
   ]
  },
  {
   "cell_type": "code",
   "execution_count": 4,
   "metadata": {
    "collapsed": false
   },
   "outputs": [
    {
     "data": {
      "text/html": [
       "<div>\n",
       "<table border=\"1\" class=\"dataframe\">\n",
       "  <thead>\n",
       "    <tr style=\"text-align: right;\">\n",
       "      <th></th>\n",
       "      <th>Date</th>\n",
       "      <th>Open</th>\n",
       "      <th>High</th>\n",
       "      <th>Low</th>\n",
       "      <th>Close</th>\n",
       "      <th>Volume</th>\n",
       "      <th>Name</th>\n",
       "    </tr>\n",
       "  </thead>\n",
       "  <tbody>\n",
       "    <tr>\n",
       "      <th>1253</th>\n",
       "      <td>2017-08-07</td>\n",
       "      <td>947.52</td>\n",
       "      <td>948.96</td>\n",
       "      <td>943.50</td>\n",
       "      <td>945.75</td>\n",
       "      <td>1445754</td>\n",
       "      <td>GOOGL</td>\n",
       "    </tr>\n",
       "    <tr>\n",
       "      <th>1254</th>\n",
       "      <td>2017-08-08</td>\n",
       "      <td>944.29</td>\n",
       "      <td>952.49</td>\n",
       "      <td>942.48</td>\n",
       "      <td>944.19</td>\n",
       "      <td>1505064</td>\n",
       "      <td>GOOGL</td>\n",
       "    </tr>\n",
       "    <tr>\n",
       "      <th>1255</th>\n",
       "      <td>2017-08-09</td>\n",
       "      <td>938.45</td>\n",
       "      <td>943.76</td>\n",
       "      <td>933.92</td>\n",
       "      <td>940.08</td>\n",
       "      <td>1400852</td>\n",
       "      <td>GOOGL</td>\n",
       "    </tr>\n",
       "    <tr>\n",
       "      <th>1256</th>\n",
       "      <td>2017-08-10</td>\n",
       "      <td>935.00</td>\n",
       "      <td>936.30</td>\n",
       "      <td>921.78</td>\n",
       "      <td>923.59</td>\n",
       "      <td>2707393</td>\n",
       "      <td>GOOGL</td>\n",
       "    </tr>\n",
       "    <tr>\n",
       "      <th>1257</th>\n",
       "      <td>2017-08-11</td>\n",
       "      <td>923.71</td>\n",
       "      <td>933.36</td>\n",
       "      <td>921.22</td>\n",
       "      <td>930.09</td>\n",
       "      <td>1616708</td>\n",
       "      <td>GOOGL</td>\n",
       "    </tr>\n",
       "  </tbody>\n",
       "</table>\n",
       "</div>"
      ],
      "text/plain": [
       "            Date    Open    High     Low   Close   Volume   Name\n",
       "1253  2017-08-07  947.52  948.96  943.50  945.75  1445754  GOOGL\n",
       "1254  2017-08-08  944.29  952.49  942.48  944.19  1505064  GOOGL\n",
       "1255  2017-08-09  938.45  943.76  933.92  940.08  1400852  GOOGL\n",
       "1256  2017-08-10  935.00  936.30  921.78  923.59  2707393  GOOGL\n",
       "1257  2017-08-11  923.71  933.36  921.22  930.09  1616708  GOOGL"
      ]
     },
     "execution_count": 4,
     "metadata": {},
     "output_type": "execute_result"
    }
   ],
   "source": [
    "# Check the footer to make sure there are no rows of text\n",
    "data.tail()"
   ]
  },
  {
   "cell_type": "markdown",
   "metadata": {},
   "source": [
    "There are no footers that need to be excluded.\n",
    "There are 1257 rows of stock data. "
   ]
  },
  {
   "cell_type": "code",
   "execution_count": 5,
   "metadata": {
    "collapsed": false
   },
   "outputs": [
    {
     "data": {
      "text/html": [
       "<div>\n",
       "<table border=\"1\" class=\"dataframe\">\n",
       "  <thead>\n",
       "    <tr style=\"text-align: right;\">\n",
       "      <th></th>\n",
       "      <th>Open</th>\n",
       "      <th>High</th>\n",
       "      <th>Low</th>\n",
       "      <th>Close</th>\n",
       "      <th>Volume</th>\n",
       "    </tr>\n",
       "  </thead>\n",
       "  <tbody>\n",
       "    <tr>\n",
       "      <th>count</th>\n",
       "      <td>1258.000000</td>\n",
       "      <td>1258.000000</td>\n",
       "      <td>1258.000000</td>\n",
       "      <td>1258.000000</td>\n",
       "      <td>1.258000e+03</td>\n",
       "    </tr>\n",
       "    <tr>\n",
       "      <th>mean</th>\n",
       "      <td>616.760469</td>\n",
       "      <td>621.377719</td>\n",
       "      <td>611.501638</td>\n",
       "      <td>616.599809</td>\n",
       "      <td>2.076615e+06</td>\n",
       "    </tr>\n",
       "    <tr>\n",
       "      <th>std</th>\n",
       "      <td>170.726853</td>\n",
       "      <td>171.626054</td>\n",
       "      <td>169.458607</td>\n",
       "      <td>170.631830</td>\n",
       "      <td>1.081167e+06</td>\n",
       "    </tr>\n",
       "    <tr>\n",
       "      <th>min</th>\n",
       "      <td>323.320000</td>\n",
       "      <td>326.830000</td>\n",
       "      <td>318.320000</td>\n",
       "      <td>323.910000</td>\n",
       "      <td>5.211410e+05</td>\n",
       "    </tr>\n",
       "    <tr>\n",
       "      <th>25%</th>\n",
       "      <td>510.217500</td>\n",
       "      <td>514.237500</td>\n",
       "      <td>504.365000</td>\n",
       "      <td>508.212500</td>\n",
       "      <td>1.453572e+06</td>\n",
       "    </tr>\n",
       "    <tr>\n",
       "      <th>50%</th>\n",
       "      <td>579.000000</td>\n",
       "      <td>583.625000</td>\n",
       "      <td>573.405000</td>\n",
       "      <td>579.170000</td>\n",
       "      <td>1.820138e+06</td>\n",
       "    </tr>\n",
       "    <tr>\n",
       "      <th>75%</th>\n",
       "      <td>758.737500</td>\n",
       "      <td>765.280000</td>\n",
       "      <td>754.065000</td>\n",
       "      <td>759.822500</td>\n",
       "      <td>2.343574e+06</td>\n",
       "    </tr>\n",
       "    <tr>\n",
       "      <th>max</th>\n",
       "      <td>1005.490000</td>\n",
       "      <td>1008.610000</td>\n",
       "      <td>996.620000</td>\n",
       "      <td>1004.280000</td>\n",
       "      <td>1.285814e+07</td>\n",
       "    </tr>\n",
       "  </tbody>\n",
       "</table>\n",
       "</div>"
      ],
      "text/plain": [
       "              Open         High          Low        Close        Volume\n",
       "count  1258.000000  1258.000000  1258.000000  1258.000000  1.258000e+03\n",
       "mean    616.760469   621.377719   611.501638   616.599809  2.076615e+06\n",
       "std     170.726853   171.626054   169.458607   170.631830  1.081167e+06\n",
       "min     323.320000   326.830000   318.320000   323.910000  5.211410e+05\n",
       "25%     510.217500   514.237500   504.365000   508.212500  1.453572e+06\n",
       "50%     579.000000   583.625000   573.405000   579.170000  1.820138e+06\n",
       "75%     758.737500   765.280000   754.065000   759.822500  2.343574e+06\n",
       "max    1005.490000  1008.610000   996.620000  1004.280000  1.285814e+07"
      ]
     },
     "execution_count": 5,
     "metadata": {},
     "output_type": "execute_result"
    }
   ],
   "source": [
    "# The describe method provides some additional information about the data\n",
    "data.describe()"
   ]
  },
  {
   "cell_type": "code",
   "execution_count": 6,
   "metadata": {
    "collapsed": false
   },
   "outputs": [
    {
     "name": "stdout",
     "output_type": "stream",
     "text": [
      "Date       object\n",
      "Open      float64\n",
      "High      float64\n",
      "Low       float64\n",
      "Close     float64\n",
      "Volume      int64\n",
      "Name       object\n",
      "dtype: object\n"
     ]
    }
   ],
   "source": [
    "# The dtypes call will display the data types. \n",
    "# This is used to make sure all numerical values have the correct data type to work with in the models.\n",
    "print(data.dtypes)"
   ]
  },
  {
   "cell_type": "markdown",
   "metadata": {},
   "source": [
    "The dataset appears to be clean and easy to work with.\n",
    "\n",
    "Observe the correlations between columns by using seaborn's heatmap."
   ]
  },
  {
   "cell_type": "code",
   "execution_count": 7,
   "metadata": {
    "collapsed": false
   },
   "outputs": [
    {
     "data": {
      "image/png": "iVBORw0KGgoAAAANSUhEUgAAAlwAAAIHCAYAAABKVYKEAAAABHNCSVQICAgIfAhkiAAAAAlwSFlz\nAAALEgAACxIB0t1+/AAAIABJREFUeJzt3X2UVXW9P/D3mWEGiWfKKHEQNSF1afisy7BM7JJZakaA\ngrXyIfPqr5QMn69XjYcU7aap1zIFVES6Xu6t7HaVvJLgA5oP1VJMIwW9SgamDALCnN8f5iSZMM49\nZzbOeb3WOkvO2TN7fzazwA/v/dnfXSqXy+UAAFA1dUUXAADQ2Wm4AACqTMMFAFBlGi4AgCrTcAEA\nVJmGCwCgyrpUc+cnlgZVc/cAvAuduPThoksgydABfYouIUn1e4Wry3+o6v7bSsIFAFBlVU24AAA2\npr5UdAUdQ8IFAFBlEi4AoDD1pdqIuCRcAABVJuECAApjhgsAgIqQcAEAhTHDBQBARUi4AIDCmOEC\nAKAiJFwAQGFqZYZLwwUAFMYlRQAAKkLCBQAUplYuKUq4AACqTMIFABSmVpKfWjlPAIDCSLgAgMKY\n4QIAoCIkXABAYazDBQBARUi4AIDCmOECAKAiJFwAQGHMcAEAUBESLgCgMGa4AACoCAkXAFAYM1wA\nAFSEhAsAKIwZLgAAKkLCBQAUplZmuDRcAEBhaqXhckkRAKDKJFwAQGEMzQMAUBESLgCgMGa4AACo\nCAkXAFAYM1wAAFSEhAsAKIwZLgAAKkLCBQAUxgwXAAAVIeECAApjhgsAgIpoU8L12GOPZdasWVmz\nZk3rZ5MmTapaUQBAbaiVGa42NVxnnHFGxo4dmw984APVrgcAoNNpU8P1vve9LyNHjqx2LQBAjamT\ncP3VgAEDcs0112THHXdM6S+/MR/96EerWhgAQGfRpobrtddey+LFi7N48eLWzzRcAMD/ValGblNs\nU8M1adKkLF68OM8880yGDBmS97///dWuCwCg02hTw3XDDTfk9ttvz5///OccccQRefrpp3PeeedV\nuzYAoJOrq5GEq03rcP30pz/Nddddl549e+aLX/xiHnnkkWrXBQDUgFJ9XVVfm4s2VVIul1MqlVoH\n5hsbG6taFABAZ9KmS4qHHnpojj766Dz33HM5/vjjM3z48GrXBQDUAEPzbzJ27Njst99++d3vfpdt\nt902Q4YMqXZdAABV19LSkvPPPz+LFi1KY2NjLrroomyzzTat2x999NFMnjw55XI5W265ZS6++OJ0\n7dr1HR+nTQ3X4sWLc8kll2Tx4sUZPHhwJkyYkAEDBrzjgwEAvFnRQ/N33HFH1q5dm1mzZuXhhx/O\n5MmTc9VVVyV5faTq3HPPzXe/+91ss802mT17dp599tlst9127/g4bZrhmjBhQkaPHp3Zs2fnc5/7\nXM4444x3fCAAgM3Ngw8+mGHDhiVJhg4dmt/85jet2xYvXpw+ffrk+uuvz9ixY/PSSy+1q9lK2thw\ndevWLR/72MfSs2fPfPzjH09d3eYz9Q8AvHuV6uqq+tqUlStXpkePHq3v6+vrs27duiTJihUr8tBD\nD2Xs2LG57rrrcu+99+aee+5p13m2qXP64Ac/mCuvvDK/+tWvMmPGjDQ2Nubuu+/O3Xff3a6DAgBs\nDnr06JHm5ubW9y0tLenS5fWJqz59+mSbbbbJ9ttvn4aGhgwbNmyDBOydaNMMV5L827/9W5555pmU\nSqW8733vy09/+tMkHvEDALRf0TNcu+++e+68884ccsghefjhhzN48ODWbU1NTWlubs7TTz+dbbbZ\nJg888EA+//nPt+s4G224mpubM378+KxYsSJDhw7Nk08+mX79+uXSSy/dIH4DAHg3OvjggzN//vyM\nHj065XI5EydOzI9//OOsWrUqo0aNyre+9a2MHz8+5XI5u+22Wz7+8Y+36zilcrlcfruNF1xwQXbd\nddccfvjhrZ/Nnj07v/71r3PBBRdscucnlga1qygAOq8Tlz5cdAkkGTqgT9ElJEnu3G2fqu7/wIfu\nq+r+22qjM1yPP/74Bs1WkowcOTKLFi2qalEAAJ3JRi8pvjE09rfq6+urUgwAUFs2p+cdVtNGz7JP\nnz759a9/vcFnv/71r9O7d++qFgUA0JlsNOH65je/ma9+9avZZ5990tTUlKVLl+aee+5pXYEVAOD/\noui7FDvKRhOurbfeOj/60Y+y11575bXXXsuuu+6aW265JU1NTR1VHwDAu94m1+Hq2rVr/uEf/qEj\nagEAakypTsIFAEAFtHmleQCASqtzlyIAAJUg4QIAClNylyIAAJUg4QIAClMrCZeGCwAojKF5AAAq\nQsIFABSmVi4pSrgAAKpMwgUAFKbOo30AAKgECRcAUJiSuxQBAKgECRcAUJg6dykCAFAJEi4AoDDW\n4QIAoCIkXABAYdylCABARUi4AIDCuEsRAICKkHABAIUpeZYiAACVIOECAApT5y5FAAAqQcIFQIeq\nK9XGzA5tUysrzWu4AIDCWPgUAICKkHABAIUp1dVG9lMbZwkAUCAJFwBQGMtCAABQERIuAKAw7lIE\nAKAiJFwAQGEkXAAAVISECwAojHW4AACoCAkXAFCYUn190SV0CAkXAECVSbgAgMK4SxEAgIqQcAEA\nhalzlyIAAJUg4QIACmOGCwCAipBwAQCFqZWES8MFABTGo30AAKgICRcAUJhauaRYG2cJAFAgCRcA\nUBgJFwAAFSHhAgAKUyfhAgCgEiRcAEBhrMMFAEBFSLgAgMK4SxEAgIqQcAEAhZFwAQBQERIuAKAw\n7lIEAKAiJFwAQGHq6uuLLqFDSLgAAKpMwgUAFMZdigAAVISECwAoTK0kXBouAKAwloUAAKAiJFwA\nQGFq5ZJibZwlAECBJFwAQGFqJeFqU8N1yy23ZNq0aVm9enXK5XJKpVLmzp1b7doAADqFNjVcN998\nc6655ppsueWW1a4HAKghtXKXYpsarr59+2bAgAHVrgUAoFPaaMN16aWXJknWrl2bY489NjvttFNK\npVKS5LTTTqt+dQBAp1aqq42HV2+04dp22203+C8AQGfS0tKS888/P4sWLUpjY2MuuuiibLPNNq3b\nf/7zn+eaa65JqVTKZz7zmXzxi19s13E2euH0iCOOyBFHHJFSqbTBq6GhIQ888EC7DggA0Kquvrqv\nTbjjjjuydu3azJo1K+PHj8/kyZNbt61fvz5Tp07N9ddfn1mzZuWmm27K8uXL23WabZrh+ulPf5rV\nq1dn6NChefTRR7NmzZrU19dn5513zllnndWuAwMAFO3BBx/MsGHDkiRDhw7Nb37zm9Zt9fX1ue22\n29KlS5f86U9/SktLSxobG9t1nDY1XOvWrcu0adNSV1eXlpaWHH/88bn22mszevTodh0UACBJUvBd\niitXrkyPHj1a39fX12fdunXp0uX1FqlLly757//+71xwwQX52Mc+lm7durXrOG06y5deeinr1q1L\n8nrz9ec//znJ68P0AADvVj169Ehzc3Pr+5aWltZm6w2f/OQnM2/evLz22muZM2dOu47TpobrqKOO\nymc+85mcfPLJOfzww3PUUUfl6quvbo3gAADao1RfX9XXpuy+++6ZN29ekuThhx/O4MGDW7etXLky\nY8eOzdq1a1NXV5du3bqlrp2JXJsuKY4cOTLDhw/PM888k4EDB6Zv375Zv3596ttwIgAAm6uDDz44\n8+fPz+jRo1MulzNx4sT8+Mc/zqpVqzJq1Kh85jOfydFHH50uXbpkyJAh+exnP9uu45TK5XL57TZe\neeWVOemkk3Laaae1rr/1hqlTp25y5yeWBrWrKAA6r5OefaToEkiy61a9iy4hSfLqf363qvvv9tn/\nV9X9t9VGE67u3btnzpw5GTZsWEqlUt7ozf62+QIA4O1ttOF68cUX8+KLLyZ5fWmIQw89tPXh1QAA\n/2dWmk/Gjx/f+uuHH37Y43wAANqhTUPzicuIAEDllQpeh6uj1MZZAgAUaKMJ1xt3J5bL5Tz55JMb\nXGJsy12KAAAbZYYrGzy6x2N8AICK03Ale++9d0fVAQDQabV5aB4AoNIMzQMAUBESLgCgODUywyXh\nAgCoMgkXAFAcCRcAAJUg4QIAClOql3ABAFABEi4AoDjW4QIAoBIkXABAcdylCABAJUi4AIDClCRc\nAABUgoQLACiOuxQBAKgECRcAUBgzXAAAVISECwAoTo0kXBouAKA4huYBAKgECRcAUJhSfW1cUpRw\nAQBUmYQLAChOjQzNS7gAAKpMwgUAFEfCBQBAJUi4AIDClKzDBQBAJUi4AIDi1MgMl4YLgA61Zl1L\n0SVAh9NwAQDFKdXGdFNtnCUAQIEkXABAcSRcAABUgoQLAChMWcIFAEAlSLgAgOJIuAAAqAQJFwBQ\nnFKp6Ao6hIYLACiOh1cDAFAJEi4AoDCWhQAAoCIkXABAcSRcAABUgoQLACiOhAsAgEqQcAEAxZFw\nAQBQCRIuAKAw1uECAKAiJFwAQHEkXAAAVIKECwAoTqlUdAUdQsIFAFBlEi4AoDhmuAAAqAQJFwBQ\nGOtwAQBQERIuAKA4dbWR/Wi4AIDiuKQIAEAlSLgAgOJIuAAAqAQJFwBQHAkXAACVIOECAApj4VMA\nACpCwgUAFEfCBQBAJUi4AIDilEpFV9AhJFwAAFUm4QIAimOGCwCASpBwAQCFKXodrpaWlpx//vlZ\ntGhRGhsbc9FFF2WbbbZp3f6LX/wi3/ve99KlS5cceeSR+cIXvtCu40i4AICadccdd2Tt2rWZNWtW\nxo8fn8mTJ7due+211zJp0qT88Ic/zIwZMzJr1qy8+OKL7TpOmxquZcuWtWvnAAAbVaqr7msTHnzw\nwQwbNixJMnTo0PzmN79p3fbUU09l4MCB6d27dxobG7PHHntk4cKF7TrNNl1SPPPMM7N27doceOCB\nOfjgg9PU1NSugwEAbE5WrlyZHj16tL6vr6/PunXr0qVLl6xcuTI9e/Zs3da9e/esXLmyXcdpU8N1\n7bXXZuXKlZk3b15OP/30rF69OnPmzGnXAQEA3lAueB2uHj16pLm5ufV9S0tLunTp8ne3NTc3b9CA\nvRNtarjuuOOOLFiwII888ki22mqrfPSjH23XwQAANie777577rzzzhxyyCF5+OGHM3jw4NZt22+/\nfZ5++um89NJLec973pMHHnggxx57bLuO06aGa+rUqWlsbMwJJ5yQYcOGpVevXu06GADAm5XLxR7/\n4IMPzvz58zN69OiUy+VMnDgxP/7xj7Nq1aqMGjUqZ5xxRo499tiUy+UceeSR6d+/f7uOUyqX23aq\nS5cuzd13353bbrstq1evzi233LLJ7zmxNKhdRQHQeR379ENFl0CSvQb2LbqEJMmqV1dXdf/v6bZF\nVfffVm1KuH7729/mrrvuyoIFC7LFFlvkU5/6VLXrAgBqQEvREVcHaVPDddVVV+Xggw/OVVdd1e5h\nMQCAv1Ub7VYb1+GaNGlSHn/88YwfPz4TJ07MSy+9VO26AAA6jTY1XGeffXa22mqrnHrqqRkwYEDO\nOOOMatcFANSAlnJ1X5uLNl1SXLFiRcaNG5ck2XHHHfPzn/+8qkUBAHQmbWq41qxZkz/+8Y/Zcsst\n8+KLL6alpaXadQEANaCNiyW867Wp4fra176W0aNHp2fPnlm5cmW+8pWvVLsuAIBOo00N1/7775+5\nc+dm+fLl6du3b0aOHJmRI0dWuzYAoJPbnOasqqlNDdcb+vXrl6R24j8AgEp4Rw3XG0oFP2gSAOgc\naiXC2WjDddppp72luSqXy1myZElViwIA6Ew22nCNHj36HX0OAPBOmOFKsvfee3dUHQAAnVa7ZrgA\nACqhVm7Ea9OjfQAAaD8JFwBQmFp5do2ECwCgyiRcAEBhamSES8IFAFBtEi4AoDC1sg6XhAsAoMok\nXABAYWplHS4NFwBQGMtCAABQERIuAKAwNXJFUcIFAFBtEi4AoDAtNRJxSbgAAKpMwgUAFKY28i0J\nFwBA1Um4AIDCeLQPAAAVIeECAApTIzcpSrgAAKpNwgUAFKalRu5TlHABAFSZhAsAKIwZLgAAKkLC\nBQAUxjpcAABUhIQLACiMGS4AACpCwgUAFKZW1uHScAEAhXFJEQCAipBwAdCh6kqloktgM9JSIxGX\nhAsAoMokXABAYda3FF1Bx5BwAQBUmYQLACiMGS4AACpCwgUAFGa9hAsAgEqQcAEAhTHDBQBARUi4\nAIDCWIcLAICKkHABAIUxwwUAQEVIuACAwliHCwCAipBwAQCFaamNgEvCBQBQbRIuAKAw62sk4tJw\nAQCFsSwEAAAVIeECAAqzvjYCLgkXAEC1SbgAgMKY4QIAoCIkXABAYWplWQgJFwBAlUm4AIDCmOEC\nAKAiJFwAQGGswwUAQEVIuACAwpjhAgCgIiRcAEBhWqzDBQBAJUi4AIDCuEsRAICKkHABAIVxlyIA\nABUh4QIACrN+M0y4Vq9endNPPz1/+tOf0r1790yZMiX9+vXb4GtuvPHG3HrrrSmVSvnyl7+cQw45\nZKP7lHABAIVpaSlX9dUeM2fOzODBg3PTTTfl8MMPz5VXXrnB9uXLl2fmzJm5+eabc/3112fKlCkp\nb6Jx1HABALzJgw8+mGHDhiVJDjjggNxzzz0bbO/Xr1/mzJmThoaGvPjii+natWtKpdJG9+mSIgBQ\nmKKXhZg9e3amTZu2wWfvfe9707NnzyRJ9+7d88orr7zl+7p06ZIbbrghl19+ecaNG7fJ40i4AICa\nNXLkyPzkJz/Z4NWzZ880NzcnSZqbm9OrV6+/+71jx47NL3/5yyxcuDD33nvvRo+j4QIACtNSLlf1\n1R6777577rrrriTJvHnzsscee2yw/fe//31OPvnklMvlNDQ0pLGxMXV1G2+pXFIEAHiTMWPGZMKE\nCRkzZkwaGhoyderUJMl1112XgQMH5qCDDsqHP/zhjBo1KqVSKcOGDcvee++90X2Wypsaq/8/OLE0\nqFq7BuBd6vhnHi66BJLs0dSn6BKSJFfcs7iq+z95v22ruv+2avMlxZUrV+bxxx/PqlWrqlkPAECn\n06ZLiv/1X/+Vq6++OuvXr8+IESNSKpVy0kknVbs2AKCTW9/OtbLebdqUcF1//fW55ZZb0qdPn5x0\n0km54447ql0XAECn0aaEq76+Po2NjSmVSimVSunWrVu16wIAaoCE60322GOPjB8/Pi+88ELOO++8\n7LLLLtWuCwCg02hTwnXaaadl3rx52XHHHbP99tvnwAMPrHZdAEANkHC9yQsvvJCtttoqn/jEJ3L7\n7bfnscceq3ZdAACdRpsarvHjx+fFF1/Md77zney///6ZOHFitesCAGrA+pZyVV+bizY1XKVSKXvt\ntVdefvnlfPrTn97k8vUAAPxVm2a41q1bl4svvjh77rln7r333rz22mvVrgsAqAGbUwpVTW2KqiZN\nmpSmpqaccMIJWb58eaZMmVLtugAAOo02JVxNTU1JXm+8Bg0alP79+1e1KACgNki43uTcc8/NkiVL\nsv/+++fZZ5/NOeecU+26AAA6jTYlXE8//XRuvPHGJMnw4cMzevToqhYFANQGCdebrFmzJq+++mqS\nZPXq1Vm/fn1ViwIA6EzalHAdc8wxOeyww7LDDjvkySefzCmnnFLtugCAGlArCVebGq7PfvazOeCA\nA7JkyZJsvfXW6du3b7XrAgBqgIYrrz9DsVQq/d1tU6dOrUpBAACdzUYbrlGjRmXx4sVpampKQ0ND\nFi5cmH79+mW77bbrqPoAgE6sVhKujQ7N33///VmwYEF233337L333jnssMMyf/78LFy4sKPqAwB4\n19towzVv3rz8y7/8S7p165Yk2XrrrXPZZZflzjvv7JDiAIDObV1LuaqvzcVGG65u3bq9ZYaroaEh\n3bt3r2pRAACdyUZnuLp165YlS5a0PtonSZYsWfK2g/QAAO9ErcxwbbTh+sY3vpGTTjop++23X5qa\nmvLcc8/l7rvv9vBqAIB3YKMN1w477JCbbropc+fOzbJly7LzzjvnH//xH9OjR4+Oqg8A6MQkXH/R\ns2fPHH744R1RCwBAp9SmleYBAKphfbk2Eq42PbwaAID2k3ABAIWplRkuCRcAQJVJuACAwki4AACo\nCAkXAFAYCRcAABUh4QIACrO+paXoEjqEhAsAoMokXABAYWplhkvDBQAUplYaLpcUAQCqTMIFABRm\nnYQLAIBKkHABAIUxwwUAQEVIuACAwki4AACoCAkXAFAYCRcAABUh4QIACiPhAgCgIiRcAEBhaiXh\nqmrDdeLSh6u5e9qorlQquoSat2ZdS9ElEH8WNhffHzi06BJIskf5D0WXUFMkXABAYco1knCZ4QIA\nqDIJFwBQmBYJFwAAlSDhAgAKUy5LuAAAqAAJFwBQmFq5S1HDBQAUxtA8AAAVIeECAApTrpEHcUi4\nAACqTMIFABTGshAAAFSEhAsAKIy7FAEAqAgJFwBQmFpZ+FTCBQBQZRIuAKAwEi4AACpCwgUAFKbF\nOlwAAFSChAsAKIwZLgAAKkLCBQAURsIFAEBFSLgAgMJ4liIAABUh4QIAClOukXW4NFwAQGHKLUVX\n0DFcUgQAqDIJFwBQGEPzAABUhIQLAChMrSx8quECAHiT1atX5/TTT8+f/vSndO/ePVOmTEm/fv02\n+Jq77ror3/ve91Iul7Pzzjvnn/7pn1Iqld52ny4pAgCFKbeUq/pqj5kzZ2bw4MG56aabcvjhh+fK\nK6/cYPvKlStz8cUX5+qrr87s2bMzYMCArFixYqP71HABALzJgw8+mGHDhiVJDjjggNxzzz0bbH/o\noYcyePDgTJkyJUcddVTe9773vSUB+1suKQIAhWkpeOHT2bNnZ9q0aRt89t73vjc9e/ZMknTv3j2v\nvPLKBttXrFiR++67L3PmzMl73vOeHH300Rk6dGi23Xbbtz2OhgsAqFkjR47MyJEjN/js5JNPTnNz\nc5Kkubk5vXr12mB7nz59sssuu2TLLbdMkuy555557LHHNtpwuaQIABRmc5zh2n333XPXXXclSebN\nm5c99thjg+0777xznnjiiSxfvjzr1q3LI488kg996EMb3aeECwDgTcaMGZMJEyZkzJgxaWhoyNSp\nU5Mk1113XQYOHJiDDjoo48ePz3HHHZckGTFiRAYPHrzRfZbKVXxq5MPPvlStXfMO1G3kNlU6xpp1\nNfKwsM2cPwubh+8PHFp0CSS5uvyHoktIkgw5ZU5V97/o8sOruv+2ckkRAKDKXFIEAArjWYoAAFSE\nhAsAKEwVR8k3KxIuAIAqk3ABAIVp71pZ7zabbLjWr1+fW2+9Nc8991z23Xff7LDDDpt8XhAAAH+1\nyUuK5513Xp577rksWLAgzc3NmTBhQkfUBQDUgJaWclVfm4tNNlzPPPNMvva1r6Vr1675xCc+8ZYH\nOAIAsHFtuqS4fPnyJMnKlStTV2fOHgCojHLL+qJL6BCbbLi+/vWvZ8yYMfnjH/+YUaNG5ayzzuqI\nugCAGqDh+ou99947P//5z7N8+XLD8gAA7bDJhuvmm2/OrFmzsmbNmtbPbrvttqoWBQDUBgnXX0yf\nPj3XXHNNevfu3RH1AAB0OptsuIYMGZIPfvCDqa+v74h6AIAaUl4v4UqS7Lvvvhk+fHiamppSLpdT\nKpUyffr0jqgNAKBT2GTDNWvWrHznO99Jz549O6IeAKCGmOH6i/79+2eXXXax/hYAQDttsuFau3Zt\nDjvssOywww4plUpJkqlTp1a9MACg85Nw/cVXvvKVjqgDAKDT2mTD9dxzz3VEHQBADZJw/cVTTz2V\nJCmXy3nsscfSp0+fHH744VUvDACgs9hkwzV+/PjWX5fLZZcYAYCKkXD9xdq1a1t//cc//jFLly6t\nakEAAJ3NJhuuESNGpFQqpVwuZ4sttsixxx7bEXUBADVAwvUXv/jFLzqiDgCATuttG65Ro0a1rrv1\nt26++eaqFQQA1I6WWk+4Lr300o6sAwCg03rbhmvAgAFJkueffz4TJ07MU089lUGDBuXMM8/ssOIA\ngM6tVma4NvmAxHPOOSeHHXZYZs6cmSOOOCJnn312R9QFANBpbLLhWrNmTQ466KD06tUrw4cPz7p1\n6zqiLgCgBpRb1lf1tbnY5F2K69evz6JFizJkyJAsWrTobQfpAQDeqfL6zacpqqa3bbh+9KMf5dBD\nD825556bs846K8uWLUv//v1z4YUXdmR9AADvem/bcC1atCj/+q//mv333z/f+ta38uEPf7gj6wIA\nasDmdNmvmt52huvss8/Obbfdln333TeXXnppRo8endmzZ+fVV1/tyPoAAN71NjrD1dDQkBEjRmTE\niBF54YUXMmPGjHz84x/Pfffd11H1AQCdWK0kXJscml+zZk1uv/32zJkzJ83NzTn99NM7oi4AgE7j\nbRuu++67L3PmzMl9992Xgw46KN/85jczePDgjqwNAOjkaj7huuKKK/KFL3wh//zP/5zGxsaOrAkA\noFN524ZrxowZHVkHAFCDyi0tRZfQITa50jwAAP83mxyaBwCollqZ4ZJwAQBUmYQLACiMhAsAgIqQ\ncAEAhWmRcAEAUAkSLgCgMOX1Ei4AACpAwgUAFMZdigAAVISECwAoTK0kXBouAKAwtdJwuaQIAFBl\nEi4AoDASLgAAKqJULpfLRRcBANCZSbgAAKpMwwUAUGUaLgCAKtNwAQBUmYYLAKDKNFwAAFVWkw3X\nkiVLcsopp2TcuHEZPXp0zj///KxcubLosmrSfffdl1NPPXWDzy655JJcf/31ueKKK972+2699dZc\ncskl1S6vpvy9nwUd43e/+11OOOGEjBs3LkceeWS++93v5t577/XzqKKxY8fmnnvu2eCziy66KLNn\nz37L1y5dujRf+MIXOqo0Oqmaa7hWr16dk046Kccdd1xmzJiRm2++OR/5yEcyfvz4okvjTXr16pWT\nTz656DKg6l5++eWcdtppOeusszJjxozccssteeKJJ7J48eKiS+vURo4cmf/4j/9ofb927drceeed\n+fSnP11gVXRmNfdon//5n//JXnvtlY985COtnx1xxBGZOXNmJkyYkCT53//936xatSpTpkzJ9ttv\nnxkzZuSEy0yvAAAHXUlEQVQnP/lJSqVSDjnkkBxzzDE544wz0tjYmGeffTbLli3L5MmTs/POOxd1\nWp3SqaeemssuuyyzZ8/OjTfemN69e6ehoSGHHHJIkuSRRx7Jl7/85SxfvjxjxozJqFGjCq6485k/\nf36+853vpGvXrunTp08mTpyYM888MyeeeGJ22WWXjBgxIqeddlo++clP5stf/nImTZqU/v37F132\nu8rcuXOzzz77ZNCgQUmS+vr6TJkyJQ899FDuv//+JMl//ud/Ztq0aWlsbMygQYNywQUXZOnSpTnz\nzDPTpUuXtLS0ZOrUqfngBz+YqVOn5oEHHkhLS0u+9KUv5VOf+lSBZ7f5GjFiRC677LK8+uqr6dat\nW+bOnZv9998/f/jDH3LhhRemvr4+Xbt2zYUXXrjB933iE5/Iz372s3Tt2jWXXHJJtttuuwwYMCDX\nXHNNGhoa8vzzz2f06NG599578/jjj+eYY47JUUcdlfvvvz+XXXZZ6uvr09TUlAsuuCANDQ0FnT1F\nqLmEa8mSJRk4cOBbPt96662zcOHCNDU1Zfr06TnllFNy8cUX58knn8xtt92Wm266KTfeeGPuuOOO\n/P73v0+SbLXVVrn22mszbty4zJo1q6NPpdO49957M27cuNbXT37yk9Zty5cvzw9+8IPMnDkzP/zh\nD/Pqq6+2buvSpUuuvfbaXHHFFZk2bVoRpXdq5XI55557bq644orccMMN2WuvvXLVVVfl4IMPzrx5\n87JkyZI0NjZmwYIFeeWVV7JmzRrNVjssW7YsTU1NG3zWvXv31v8Zr1ixIpdffnmmTZuWmTNnpmfP\nnpk1a1YWLFiQXXfdNdddd11OOeWUvPLKK7nrrruydOnSzJw5M9OnT8/VV1+dl19+uYjT2ux17do1\nw4cPz+23357k9TGF0aNH55xzzsl5552XG264IWPGjMnkyZPbtL/nn38+l19+ec4///xcddVV+fa3\nv53vf//7mTVr1lv+LPXv3z///u//Xs3TYzNUcw1X//79s3Tp0rd8/vTTT2fPPffMvvvumyTZbbfd\nsnjx4jzxxBN57rnn8qUvfSlf+tKX8tJLL+Xpp59Okuy4445Jkg984ANZu3Ztx51EJ7PvvvtmxowZ\nra9DDz20ddszzzyT7bffPt26dUt9fX1222231m077bRTSqVSttxyy6xevbqI0ju1FStWpEePHq1N\n1F577ZXf/e53OfDAA7NgwYL88pe/zPHHH59HH3008+bNy4EHHlhwxe9OW221VZ5//vkNPluyZEkW\nLlzY+usPfehD6dGjR5K//hw+//nPp1evXjnuuONy4403pr6+Pk888UR++9vfZty4cTnuuOOybt26\nPPvssx1+Tu8Wb1xWfOGFF/Lyyy9np512yrJly1r/bn/j9/rtvPnJeDvssEMaGhrSs2fPDBw4MI2N\njendu3fWrFmT5cuXZ9myZfn617+ecePGZf78+X4uNajmGq6DDjooCxYsyKOPPtr62ezZs9O3b9/U\n1dXlt7/9bZLkV7/6VXbYYYdst912+dCHPpTp06dnxowZ+dznPpchQ4YkSUqlUiHnUEsGDhyY3//+\n91m9enVaWlo2+Ln5/a+uvn37ZuXKlVm2bFmS5P7778+gQYPSu3fvbLHFFvnZz36WYcOGZauttsr0\n6dPzyU9+suCK350OPPDA/PKXv8wzzzyTJHnttdcyefLk9O3bN8nr6ftTTz2VVatWJXn957Dttttm\n7ty52WOPPTJt2rSMGDEiP/jBD7Lddttln332yYwZMzJt2rR86lOfekt6xl8NGTIkzc3NmT59eo48\n8sgkyfvf//48/vjjSZKFCxe2Xup9Q2NjY5YtW5Zyudz6dcnG/z7q27dvPvCBD+TKK6/MjBkzcuKJ\nJ7b+457aUXMzXN27d8/VV1+diRMn5qWXXsr69eszZMiQXHrppZk4cWLmzZuXuXPnpqWlJZMmTUpT\nU1P222+/jBkzJmvXrs2uu+7qskkH6tevX44//vgcddRR6dOnT9asWZMuXbpk3bp1RZfWKc2fPz+f\n+9znWt9/5StfySmnnJJSqZTevXtn0qRJSV7/h8utt96aPn365KMf/Whuuummv3upnk3r0aNHJk+e\nnHPOOSflcjnNzc058MADs/322+eBBx5Iv379csopp+SYY45JXV1dBg4cmG984xt54YUXMmHChFx1\n1VVpaWnJmWeemZ122in3339/jjrqqKxatSrDhw9vTcb4+4488shcfPHFufPOO5O8fqfihRdemHK5\nnPr6+kycOHGDrz/uuONywgknZMCAAenVq1ebjlFXV5ezzz47J5xwQsrlcrp3755vf/vbFT8XNm+l\n8psz0Rp3xhln5JBDDskBBxxQdCn8xbp16/L9738/X/3qV1Mul3P00Ufn1FNPzV577VV0aQDQZjWX\ncPHu0qVLl7z66qs54ogj0tDQkF133TV77rln0WUBwDsi4QIAqLKaG5oHAOhoGi4AgCrTcAEAVJmG\nCwCgyjRcAABVpuECAKiy/w9o5DA6ld290gAAAABJRU5ErkJggg==\n",
      "text/plain": [
<<<<<<< HEAD
       "<matplotlib.figure.Figure at 0x2abe0043a90>"
=======
       "<matplotlib.figure.Figure at 0x1c3fc786908>"
>>>>>>> 0c290bb27845d05b00ba61cdabcc4b80e898ff54
      ]
     },
     "metadata": {},
     "output_type": "display_data"
    }
   ],
   "source": [
    "# Create a heatmap to compare the correlation of the columns.\n",
    "import seaborn as sns\n",
    "\n",
    "corrmat = data.corr()\n",
    "\n",
    "# Set up the matplotlib figure.\n",
    "f, ax = plt.subplots(figsize=(12, 9))\n",
    "\n",
    "# Draw the heatmap using seaborn\n",
    "sns.heatmap(corrmat, vmax=.8, square=True)\n",
    "plt.show()"
   ]
  },
  {
   "cell_type": "markdown",
   "metadata": {},
   "source": [
    "As expected, the values are highly correlated. Creating prediction models based off of time-series data will not be helpful in reaching the goal of this project (to determine whether to buy or sell the at the next opening day). \n",
    "\n",
    "Features will need to be created to generate accurate predictions from the models. "
   ]
  },
  {
   "cell_type": "code",
   "execution_count": 8,
   "metadata": {
    "collapsed": false
   },
   "outputs": [
    {
     "data": {
      "text/html": [
       "<div>\n",
       "<table border=\"1\" class=\"dataframe\">\n",
       "  <thead>\n",
       "    <tr style=\"text-align: right;\">\n",
       "      <th></th>\n",
       "      <th>Date</th>\n",
       "      <th>Open</th>\n",
       "      <th>High</th>\n",
       "      <th>Low</th>\n",
       "      <th>Close</th>\n",
       "      <th>Volume</th>\n",
       "      <th>Name</th>\n",
       "      <th>Momentum</th>\n",
       "    </tr>\n",
       "  </thead>\n",
       "  <tbody>\n",
       "    <tr>\n",
       "      <th>0</th>\n",
       "      <td>2012-08-13</td>\n",
       "      <td>324.03</td>\n",
       "      <td>330.41</td>\n",
       "      <td>323.66</td>\n",
       "      <td>330.34</td>\n",
       "      <td>3268073</td>\n",
       "      <td>GOOGL</td>\n",
       "      <td>0</td>\n",
       "    </tr>\n",
       "    <tr>\n",
       "      <th>1</th>\n",
       "      <td>2012-08-14</td>\n",
       "      <td>329.95</td>\n",
       "      <td>336.76</td>\n",
       "      <td>329.83</td>\n",
       "      <td>334.66</td>\n",
       "      <td>3662178</td>\n",
       "      <td>GOOGL</td>\n",
       "      <td>1</td>\n",
       "    </tr>\n",
       "    <tr>\n",
       "      <th>2</th>\n",
       "      <td>2012-08-15</td>\n",
       "      <td>335.48</td>\n",
       "      <td>337.46</td>\n",
       "      <td>332.38</td>\n",
       "      <td>334.10</td>\n",
       "      <td>2411100</td>\n",
       "      <td>GOOGL</td>\n",
       "      <td>-1</td>\n",
       "    </tr>\n",
       "    <tr>\n",
       "      <th>3</th>\n",
       "      <td>2012-08-16</td>\n",
       "      <td>334.09</td>\n",
       "      <td>337.66</td>\n",
       "      <td>333.87</td>\n",
       "      <td>336.77</td>\n",
       "      <td>1717691</td>\n",
       "      <td>GOOGL</td>\n",
       "      <td>1</td>\n",
       "    </tr>\n",
       "    <tr>\n",
       "      <th>4</th>\n",
       "      <td>2012-08-17</td>\n",
       "      <td>337.40</td>\n",
       "      <td>338.96</td>\n",
       "      <td>336.19</td>\n",
       "      <td>338.91</td>\n",
       "      <td>2177896</td>\n",
       "      <td>GOOGL</td>\n",
       "      <td>1</td>\n",
       "    </tr>\n",
       "  </tbody>\n",
       "</table>\n",
       "</div>"
      ],
      "text/plain": [
       "         Date    Open    High     Low   Close   Volume   Name  Momentum\n",
       "0  2012-08-13  324.03  330.41  323.66  330.34  3268073  GOOGL         0\n",
       "1  2012-08-14  329.95  336.76  329.83  334.66  3662178  GOOGL         1\n",
       "2  2012-08-15  335.48  337.46  332.38  334.10  2411100  GOOGL        -1\n",
       "3  2012-08-16  334.09  337.66  333.87  336.77  1717691  GOOGL         1\n",
       "4  2012-08-17  337.40  338.96  336.19  338.91  2177896  GOOGL         1"
      ]
     },
     "execution_count": 8,
     "metadata": {},
     "output_type": "execute_result"
    }
   ],
   "source": [
    "# The momentum will show how many days in a row the stock has moved up or down. \n",
    "\n",
    "# Create a list to store the momentum\n",
    "momentum = [0]\n",
    "i=1\n",
    "# Calculate the momentums and store them in the new column, 'Momentum'\n",
    "for row in data['Close']:\n",
    "    if i < len(data):\n",
    "        if data.Close[i] > data.Close[i-1]:\n",
    "            momentum.append(+1)\n",
    "            i = i+1\n",
    "        elif data.Close[i] < data.Close[i-1]:\n",
    "            momentum.append(-1)\n",
    "            i = i+1\n",
    "\n",
    "data['Momentum'] = momentum\n",
    "data.head()"
   ]
  },
  {
   "cell_type": "code",
   "execution_count": 9,
   "metadata": {
    "collapsed": false
   },
   "outputs": [
    {
     "name": "stdout",
     "output_type": "stream",
     "text": [
      "61\n",
      "0.04848966613672496\n"
     ]
    }
   ],
   "source": [
    "# Print out the total momentum and the average momentum across all rows.\n",
    "total_mom = sum(data.Momentum)\n",
    "print(total_mom)\n",
    "ave_mom = data.Momentum.mean()\n",
    "print(ave_mom)"
   ]
  },
  {
   "cell_type": "code",
   "execution_count": 10,
   "metadata": {
    "collapsed": false
   },
   "outputs": [
    {
     "data": {
      "text/html": [
       "<div>\n",
       "<table border=\"1\" class=\"dataframe\">\n",
       "  <thead>\n",
       "    <tr style=\"text-align: right;\">\n",
       "      <th></th>\n",
       "      <th>Date</th>\n",
       "      <th>Open</th>\n",
       "      <th>High</th>\n",
       "      <th>Low</th>\n",
       "      <th>Close</th>\n",
       "      <th>Volume</th>\n",
       "      <th>Name</th>\n",
       "      <th>Momentum</th>\n",
       "      <th>Streak</th>\n",
       "    </tr>\n",
       "  </thead>\n",
       "  <tbody>\n",
       "    <tr>\n",
       "      <th>0</th>\n",
       "      <td>2012-08-13</td>\n",
       "      <td>324.03</td>\n",
       "      <td>330.41</td>\n",
       "      <td>323.66</td>\n",
       "      <td>330.34</td>\n",
       "      <td>3268073</td>\n",
       "      <td>GOOGL</td>\n",
       "      <td>0</td>\n",
       "      <td>0</td>\n",
       "    </tr>\n",
       "    <tr>\n",
       "      <th>1</th>\n",
       "      <td>2012-08-14</td>\n",
       "      <td>329.95</td>\n",
       "      <td>336.76</td>\n",
       "      <td>329.83</td>\n",
       "      <td>334.66</td>\n",
       "      <td>3662178</td>\n",
       "      <td>GOOGL</td>\n",
       "      <td>1</td>\n",
       "      <td>1</td>\n",
       "    </tr>\n",
       "    <tr>\n",
       "      <th>2</th>\n",
       "      <td>2012-08-15</td>\n",
       "      <td>335.48</td>\n",
       "      <td>337.46</td>\n",
       "      <td>332.38</td>\n",
       "      <td>334.10</td>\n",
       "      <td>2411100</td>\n",
       "      <td>GOOGL</td>\n",
       "      <td>-1</td>\n",
       "      <td>0</td>\n",
       "    </tr>\n",
       "    <tr>\n",
       "      <th>3</th>\n",
       "      <td>2012-08-16</td>\n",
       "      <td>334.09</td>\n",
       "      <td>337.66</td>\n",
       "      <td>333.87</td>\n",
       "      <td>336.77</td>\n",
       "      <td>1717691</td>\n",
       "      <td>GOOGL</td>\n",
       "      <td>1</td>\n",
       "      <td>1</td>\n",
       "    </tr>\n",
       "    <tr>\n",
       "      <th>4</th>\n",
       "      <td>2012-08-17</td>\n",
       "      <td>337.40</td>\n",
       "      <td>338.96</td>\n",
       "      <td>336.19</td>\n",
       "      <td>338.91</td>\n",
       "      <td>2177896</td>\n",
       "      <td>GOOGL</td>\n",
       "      <td>1</td>\n",
       "      <td>2</td>\n",
       "    </tr>\n",
       "  </tbody>\n",
       "</table>\n",
       "</div>"
      ],
      "text/plain": [
       "         Date    Open    High     Low   Close   Volume   Name  Momentum  \\\n",
       "0  2012-08-13  324.03  330.41  323.66  330.34  3268073  GOOGL         0   \n",
       "1  2012-08-14  329.95  336.76  329.83  334.66  3662178  GOOGL         1   \n",
       "2  2012-08-15  335.48  337.46  332.38  334.10  2411100  GOOGL        -1   \n",
       "3  2012-08-16  334.09  337.66  333.87  336.77  1717691  GOOGL         1   \n",
       "4  2012-08-17  337.40  338.96  336.19  338.91  2177896  GOOGL         1   \n",
       "\n",
       "   Streak  \n",
       "0       0  \n",
       "1       1  \n",
       "2       0  \n",
       "3       1  \n",
       "4       2  "
      ]
     },
     "execution_count": 10,
     "metadata": {},
     "output_type": "execute_result"
    }
   ],
   "source": [
    "streak = [0] * len(data)\n",
    "i=1\n",
    "# Calculate the streaks and store them in the new column, 'Streak'\n",
    "for row in data['Close']:\n",
    "    if i < len(data):\n",
    "        if data.Close[i] > data.Close[i-1]:\n",
    "            if streak[i-1] >= 0:\n",
    "                streak[i] = streak[i-1]+1\n",
    "                i = i+1\n",
    "            else:\n",
    "                streak[i]=0\n",
    "                i = i+1\n",
    "        elif data.Close[i] < data.Close[i-1]:\n",
    "            if streak[i-1] <= 0:\n",
    "                streak[i] = streak[i-1]-1\n",
    "                i = i+1\n",
    "            else:\n",
    "                streak[i]=0\n",
    "                i = i+1\n",
    "\n",
    "data['Streak'] = streak\n",
    "data.head()"
   ]
  },
  {
   "cell_type": "code",
   "execution_count": 11,
   "metadata": {
    "collapsed": false
   },
   "outputs": [
    {
     "data": {
      "text/html": [
       "<div>\n",
       "<table border=\"1\" class=\"dataframe\">\n",
       "  <thead>\n",
       "    <tr style=\"text-align: right;\">\n",
       "      <th></th>\n",
       "      <th>Date</th>\n",
       "      <th>Open</th>\n",
       "      <th>High</th>\n",
       "      <th>Low</th>\n",
       "      <th>Close</th>\n",
       "      <th>Volume</th>\n",
       "      <th>Name</th>\n",
       "      <th>Momentum</th>\n",
       "      <th>Streak</th>\n",
       "      <th>Future Momentum</th>\n",
       "    </tr>\n",
       "  </thead>\n",
       "  <tbody>\n",
       "    <tr>\n",
       "      <th>0</th>\n",
       "      <td>2012-08-13</td>\n",
       "      <td>324.03</td>\n",
       "      <td>330.41</td>\n",
       "      <td>323.66</td>\n",
       "      <td>330.34</td>\n",
       "      <td>3268073</td>\n",
       "      <td>GOOGL</td>\n",
       "      <td>0</td>\n",
       "      <td>0</td>\n",
       "      <td>1.0</td>\n",
       "    </tr>\n",
       "    <tr>\n",
       "      <th>1</th>\n",
       "      <td>2012-08-14</td>\n",
       "      <td>329.95</td>\n",
       "      <td>336.76</td>\n",
       "      <td>329.83</td>\n",
       "      <td>334.66</td>\n",
       "      <td>3662178</td>\n",
       "      <td>GOOGL</td>\n",
       "      <td>1</td>\n",
       "      <td>1</td>\n",
       "      <td>-1.0</td>\n",
       "    </tr>\n",
       "    <tr>\n",
       "      <th>2</th>\n",
       "      <td>2012-08-15</td>\n",
       "      <td>335.48</td>\n",
       "      <td>337.46</td>\n",
       "      <td>332.38</td>\n",
       "      <td>334.10</td>\n",
       "      <td>2411100</td>\n",
       "      <td>GOOGL</td>\n",
       "      <td>-1</td>\n",
       "      <td>0</td>\n",
       "      <td>1.0</td>\n",
       "    </tr>\n",
       "    <tr>\n",
       "      <th>3</th>\n",
       "      <td>2012-08-16</td>\n",
       "      <td>334.09</td>\n",
       "      <td>337.66</td>\n",
       "      <td>333.87</td>\n",
       "      <td>336.77</td>\n",
       "      <td>1717691</td>\n",
       "      <td>GOOGL</td>\n",
       "      <td>1</td>\n",
       "      <td>1</td>\n",
       "      <td>1.0</td>\n",
       "    </tr>\n",
       "    <tr>\n",
       "      <th>4</th>\n",
       "      <td>2012-08-17</td>\n",
       "      <td>337.40</td>\n",
       "      <td>338.96</td>\n",
       "      <td>336.19</td>\n",
       "      <td>338.91</td>\n",
       "      <td>2177896</td>\n",
       "      <td>GOOGL</td>\n",
       "      <td>1</td>\n",
       "      <td>2</td>\n",
       "      <td>-1.0</td>\n",
       "    </tr>\n",
       "  </tbody>\n",
       "</table>\n",
       "</div>"
      ],
      "text/plain": [
       "         Date    Open    High     Low   Close   Volume   Name  Momentum  \\\n",
       "0  2012-08-13  324.03  330.41  323.66  330.34  3268073  GOOGL         0   \n",
       "1  2012-08-14  329.95  336.76  329.83  334.66  3662178  GOOGL         1   \n",
       "2  2012-08-15  335.48  337.46  332.38  334.10  2411100  GOOGL        -1   \n",
       "3  2012-08-16  334.09  337.66  333.87  336.77  1717691  GOOGL         1   \n",
       "4  2012-08-17  337.40  338.96  336.19  338.91  2177896  GOOGL         1   \n",
       "\n",
       "   Streak  Future Momentum  \n",
       "0       0              1.0  \n",
       "1       1             -1.0  \n",
       "2       0              1.0  \n",
       "3       1              1.0  \n",
       "4       2             -1.0  "
      ]
     },
     "execution_count": 11,
     "metadata": {},
     "output_type": "execute_result"
    }
   ],
   "source": [
    "# Create a 'Future Momentum' feature that the model will attempt to predict.\n",
    "data['Future Momentum'] = data.Momentum.shift(-1)\n",
    "data.head()"
   ]
  },
  {
   "cell_type": "code",
   "execution_count": 12,
   "metadata": {
    "collapsed": false
   },
   "outputs": [
    {
     "data": {
      "text/html": [
       "<div>\n",
       "<table border=\"1\" class=\"dataframe\">\n",
       "  <thead>\n",
       "    <tr style=\"text-align: right;\">\n",
       "      <th></th>\n",
       "      <th>Date</th>\n",
       "      <th>Open</th>\n",
       "      <th>High</th>\n",
       "      <th>Low</th>\n",
       "      <th>Close</th>\n",
       "      <th>Volume</th>\n",
       "      <th>Name</th>\n",
       "      <th>Momentum</th>\n",
       "      <th>Streak</th>\n",
       "      <th>Future Momentum</th>\n",
       "    </tr>\n",
       "  </thead>\n",
       "  <tbody>\n",
       "    <tr>\n",
       "      <th>1253</th>\n",
       "      <td>2017-08-07</td>\n",
       "      <td>947.52</td>\n",
       "      <td>948.96</td>\n",
       "      <td>943.50</td>\n",
       "      <td>945.75</td>\n",
       "      <td>1445754</td>\n",
       "      <td>GOOGL</td>\n",
       "      <td>-1</td>\n",
       "      <td>0</td>\n",
       "      <td>-1.0</td>\n",
       "    </tr>\n",
       "    <tr>\n",
       "      <th>1254</th>\n",
       "      <td>2017-08-08</td>\n",
       "      <td>944.29</td>\n",
       "      <td>952.49</td>\n",
       "      <td>942.48</td>\n",
       "      <td>944.19</td>\n",
       "      <td>1505064</td>\n",
       "      <td>GOOGL</td>\n",
       "      <td>-1</td>\n",
       "      <td>-1</td>\n",
       "      <td>-1.0</td>\n",
       "    </tr>\n",
       "    <tr>\n",
       "      <th>1255</th>\n",
       "      <td>2017-08-09</td>\n",
       "      <td>938.45</td>\n",
       "      <td>943.76</td>\n",
       "      <td>933.92</td>\n",
       "      <td>940.08</td>\n",
       "      <td>1400852</td>\n",
       "      <td>GOOGL</td>\n",
       "      <td>-1</td>\n",
       "      <td>-2</td>\n",
       "      <td>-1.0</td>\n",
       "    </tr>\n",
       "    <tr>\n",
       "      <th>1256</th>\n",
       "      <td>2017-08-10</td>\n",
       "      <td>935.00</td>\n",
       "      <td>936.30</td>\n",
       "      <td>921.78</td>\n",
       "      <td>923.59</td>\n",
       "      <td>2707393</td>\n",
       "      <td>GOOGL</td>\n",
       "      <td>-1</td>\n",
       "      <td>-3</td>\n",
       "      <td>1.0</td>\n",
       "    </tr>\n",
       "    <tr>\n",
       "      <th>1257</th>\n",
       "      <td>2017-08-11</td>\n",
       "      <td>923.71</td>\n",
       "      <td>933.36</td>\n",
       "      <td>921.22</td>\n",
       "      <td>930.09</td>\n",
       "      <td>1616708</td>\n",
       "      <td>GOOGL</td>\n",
       "      <td>1</td>\n",
       "      <td>0</td>\n",
       "      <td>NaN</td>\n",
       "    </tr>\n",
       "  </tbody>\n",
       "</table>\n",
       "</div>"
      ],
      "text/plain": [
       "            Date    Open    High     Low   Close   Volume   Name  Momentum  \\\n",
       "1253  2017-08-07  947.52  948.96  943.50  945.75  1445754  GOOGL        -1   \n",
       "1254  2017-08-08  944.29  952.49  942.48  944.19  1505064  GOOGL        -1   \n",
       "1255  2017-08-09  938.45  943.76  933.92  940.08  1400852  GOOGL        -1   \n",
       "1256  2017-08-10  935.00  936.30  921.78  923.59  2707393  GOOGL        -1   \n",
       "1257  2017-08-11  923.71  933.36  921.22  930.09  1616708  GOOGL         1   \n",
       "\n",
       "      Streak  Future Momentum  \n",
       "1253       0             -1.0  \n",
       "1254      -1             -1.0  \n",
       "1255      -2             -1.0  \n",
       "1256      -3              1.0  \n",
       "1257       0              NaN  "
      ]
     },
     "execution_count": 12,
     "metadata": {},
     "output_type": "execute_result"
    }
   ],
   "source": [
    "data.tail()"
   ]
  },
  {
   "cell_type": "code",
   "execution_count": 13,
   "metadata": {
    "collapsed": true
   },
   "outputs": [],
   "source": [
    "# Drop the last row to get rid of the NaN values\n",
    "data = data.iloc[:len(data)-1,:]"
   ]
  },
  {
   "cell_type": "code",
   "execution_count": 14,
   "metadata": {
    "collapsed": false
   },
   "outputs": [
    {
     "data": {
      "text/html": [
       "<div>\n",
       "<table border=\"1\" class=\"dataframe\">\n",
       "  <thead>\n",
       "    <tr style=\"text-align: right;\">\n",
       "      <th></th>\n",
       "      <th>Date</th>\n",
       "      <th>Open</th>\n",
       "      <th>High</th>\n",
       "      <th>Low</th>\n",
       "      <th>Close</th>\n",
       "      <th>Volume</th>\n",
       "      <th>Name</th>\n",
       "      <th>Momentum</th>\n",
       "      <th>Streak</th>\n",
       "      <th>Future Momentum</th>\n",
       "    </tr>\n",
       "  </thead>\n",
       "  <tbody>\n",
       "    <tr>\n",
       "      <th>1252</th>\n",
       "      <td>2017-08-04</td>\n",
       "      <td>943.95</td>\n",
       "      <td>947.54</td>\n",
       "      <td>939.80</td>\n",
       "      <td>945.79</td>\n",
       "      <td>1254574</td>\n",
       "      <td>GOOGL</td>\n",
       "      <td>1</td>\n",
       "      <td>1</td>\n",
       "      <td>-1.0</td>\n",
       "    </tr>\n",
       "    <tr>\n",
       "      <th>1253</th>\n",
       "      <td>2017-08-07</td>\n",
       "      <td>947.52</td>\n",
       "      <td>948.96</td>\n",
       "      <td>943.50</td>\n",
       "      <td>945.75</td>\n",
       "      <td>1445754</td>\n",
       "      <td>GOOGL</td>\n",
       "      <td>-1</td>\n",
       "      <td>0</td>\n",
       "      <td>-1.0</td>\n",
       "    </tr>\n",
       "    <tr>\n",
       "      <th>1254</th>\n",
       "      <td>2017-08-08</td>\n",
       "      <td>944.29</td>\n",
       "      <td>952.49</td>\n",
       "      <td>942.48</td>\n",
       "      <td>944.19</td>\n",
       "      <td>1505064</td>\n",
       "      <td>GOOGL</td>\n",
       "      <td>-1</td>\n",
       "      <td>-1</td>\n",
       "      <td>-1.0</td>\n",
       "    </tr>\n",
       "    <tr>\n",
       "      <th>1255</th>\n",
       "      <td>2017-08-09</td>\n",
       "      <td>938.45</td>\n",
       "      <td>943.76</td>\n",
       "      <td>933.92</td>\n",
       "      <td>940.08</td>\n",
       "      <td>1400852</td>\n",
       "      <td>GOOGL</td>\n",
       "      <td>-1</td>\n",
       "      <td>-2</td>\n",
       "      <td>-1.0</td>\n",
       "    </tr>\n",
       "    <tr>\n",
       "      <th>1256</th>\n",
       "      <td>2017-08-10</td>\n",
       "      <td>935.00</td>\n",
       "      <td>936.30</td>\n",
       "      <td>921.78</td>\n",
       "      <td>923.59</td>\n",
       "      <td>2707393</td>\n",
       "      <td>GOOGL</td>\n",
       "      <td>-1</td>\n",
       "      <td>-3</td>\n",
       "      <td>1.0</td>\n",
       "    </tr>\n",
       "  </tbody>\n",
       "</table>\n",
       "</div>"
      ],
      "text/plain": [
       "            Date    Open    High     Low   Close   Volume   Name  Momentum  \\\n",
       "1252  2017-08-04  943.95  947.54  939.80  945.79  1254574  GOOGL         1   \n",
       "1253  2017-08-07  947.52  948.96  943.50  945.75  1445754  GOOGL        -1   \n",
       "1254  2017-08-08  944.29  952.49  942.48  944.19  1505064  GOOGL        -1   \n",
       "1255  2017-08-09  938.45  943.76  933.92  940.08  1400852  GOOGL        -1   \n",
       "1256  2017-08-10  935.00  936.30  921.78  923.59  2707393  GOOGL        -1   \n",
       "\n",
       "      Streak  Future Momentum  \n",
       "1252       1             -1.0  \n",
       "1253       0             -1.0  \n",
       "1254      -1             -1.0  \n",
       "1255      -2             -1.0  \n",
       "1256      -3              1.0  "
      ]
     },
     "execution_count": 14,
     "metadata": {},
     "output_type": "execute_result"
    }
   ],
   "source": [
    "# Look at the tail to make sure the data looks good\n",
    "data.tail()"
   ]
  },
  {
   "cell_type": "code",
   "execution_count": 15,
   "metadata": {
    "collapsed": false
   },
   "outputs": [
    {
     "name": "stderr",
     "output_type": "stream",
     "text": [
<<<<<<< HEAD
      "C:\\Users\\maken\\Anaconda3\\lib\\site-packages\\ipykernel_launcher.py:11: SettingWithCopyWarning: \n",
      "A value is trying to be set on a copy of a slice from a DataFrame.\n",
      "Try using .loc[row_indexer,col_indexer] = value instead\n",
      "\n",
      "See the caveats in the documentation: http://pandas.pydata.org/pandas-docs/stable/indexing.html#indexing-view-versus-copy\n",
      "  # This is added back by InteractiveShellApp.init_path()\n"
=======
      "C:\\Users\\mkennedy\\AppData\\Local\\Continuum\\Anaconda3\\lib\\site-packages\\ipykernel\\__main__.py:12: SettingWithCopyWarning: \n",
      "A value is trying to be set on a copy of a slice from a DataFrame.\n",
      "Try using .loc[row_indexer,col_indexer] = value instead\n",
      "\n",
      "See the caveats in the documentation: http://pandas.pydata.org/pandas-docs/stable/indexing.html#indexing-view-versus-copy\n"
>>>>>>> 0c290bb27845d05b00ba61cdabcc4b80e898ff54
     ]
    },
    {
     "data": {
      "text/html": [
       "<div>\n",
       "<table border=\"1\" class=\"dataframe\">\n",
       "  <thead>\n",
       "    <tr style=\"text-align: right;\">\n",
       "      <th></th>\n",
       "      <th>Date</th>\n",
       "      <th>Open</th>\n",
       "      <th>High</th>\n",
       "      <th>Low</th>\n",
       "      <th>Close</th>\n",
       "      <th>Volume</th>\n",
       "      <th>Name</th>\n",
       "      <th>Momentum</th>\n",
       "      <th>Streak</th>\n",
       "      <th>Future Momentum</th>\n",
       "      <th>Ten Day Average</th>\n",
       "    </tr>\n",
       "  </thead>\n",
       "  <tbody>\n",
       "    <tr>\n",
       "      <th>0</th>\n",
       "      <td>2012-08-13</td>\n",
       "      <td>324.03</td>\n",
       "      <td>330.41</td>\n",
       "      <td>323.66</td>\n",
       "      <td>330.34</td>\n",
       "      <td>3268073</td>\n",
       "      <td>GOOGL</td>\n",
       "      <td>0</td>\n",
       "      <td>0</td>\n",
       "      <td>1.0</td>\n",
       "      <td>0.0</td>\n",
       "    </tr>\n",
       "    <tr>\n",
       "      <th>1</th>\n",
       "      <td>2012-08-14</td>\n",
       "      <td>329.95</td>\n",
       "      <td>336.76</td>\n",
       "      <td>329.83</td>\n",
       "      <td>334.66</td>\n",
       "      <td>3662178</td>\n",
       "      <td>GOOGL</td>\n",
       "      <td>1</td>\n",
       "      <td>1</td>\n",
       "      <td>-1.0</td>\n",
       "      <td>0.0</td>\n",
       "    </tr>\n",
       "    <tr>\n",
       "      <th>2</th>\n",
       "      <td>2012-08-15</td>\n",
       "      <td>335.48</td>\n",
       "      <td>337.46</td>\n",
       "      <td>332.38</td>\n",
       "      <td>334.10</td>\n",
       "      <td>2411100</td>\n",
       "      <td>GOOGL</td>\n",
       "      <td>-1</td>\n",
       "      <td>0</td>\n",
       "      <td>1.0</td>\n",
       "      <td>0.0</td>\n",
       "    </tr>\n",
       "    <tr>\n",
       "      <th>3</th>\n",
       "      <td>2012-08-16</td>\n",
       "      <td>334.09</td>\n",
       "      <td>337.66</td>\n",
       "      <td>333.87</td>\n",
       "      <td>336.77</td>\n",
       "      <td>1717691</td>\n",
       "      <td>GOOGL</td>\n",
       "      <td>1</td>\n",
       "      <td>1</td>\n",
       "      <td>1.0</td>\n",
       "      <td>0.0</td>\n",
       "    </tr>\n",
       "    <tr>\n",
       "      <th>4</th>\n",
       "      <td>2012-08-17</td>\n",
       "      <td>337.40</td>\n",
       "      <td>338.96</td>\n",
       "      <td>336.19</td>\n",
       "      <td>338.91</td>\n",
       "      <td>2177896</td>\n",
       "      <td>GOOGL</td>\n",
       "      <td>1</td>\n",
       "      <td>2</td>\n",
       "      <td>-1.0</td>\n",
       "      <td>0.0</td>\n",
       "    </tr>\n",
       "  </tbody>\n",
       "</table>\n",
       "</div>"
      ],
      "text/plain": [
       "         Date    Open    High     Low   Close   Volume   Name  Momentum  \\\n",
       "0  2012-08-13  324.03  330.41  323.66  330.34  3268073  GOOGL         0   \n",
       "1  2012-08-14  329.95  336.76  329.83  334.66  3662178  GOOGL         1   \n",
       "2  2012-08-15  335.48  337.46  332.38  334.10  2411100  GOOGL        -1   \n",
       "3  2012-08-16  334.09  337.66  333.87  336.77  1717691  GOOGL         1   \n",
       "4  2012-08-17  337.40  338.96  336.19  338.91  2177896  GOOGL         1   \n",
       "\n",
       "   Streak  Future Momentum  Ten Day Average  \n",
       "0       0              1.0              0.0  \n",
       "1       1             -1.0              0.0  \n",
       "2       0              1.0              0.0  \n",
       "3       1              1.0              0.0  \n",
       "4       2             -1.0              0.0  "
      ]
     },
     "execution_count": 15,
     "metadata": {},
     "output_type": "execute_result"
    }
   ],
   "source": [
    "# Make a new dataframe to store the extra feature\n",
    "new_data = data\n",
    "\n",
    "# Make a feature for the ten day average\n",
    "ten_ave = [0] * len(data)\n",
    "\n",
    "# Calculate the ten day averages and store them in the new column, 'Ten Day Average'\n",
    "for i in range(9,len(new_data)):\n",
    "    ten_ave[i] = new_data.Close[i-9:i].mean()\n",
    "\n",
    "new_data['Ten Day Average'] = ten_ave\n",
    "\n",
    "new_data.head()"
   ]
  },
  {
   "cell_type": "code",
   "execution_count": 16,
   "metadata": {
    "collapsed": false
   },
   "outputs": [
    {
     "data": {
      "text/html": [
       "<div>\n",
       "<table border=\"1\" class=\"dataframe\">\n",
       "  <thead>\n",
       "    <tr style=\"text-align: right;\">\n",
       "      <th></th>\n",
       "      <th>Date</th>\n",
       "      <th>Open</th>\n",
       "      <th>High</th>\n",
       "      <th>Low</th>\n",
       "      <th>Close</th>\n",
       "      <th>Volume</th>\n",
       "      <th>Name</th>\n",
       "      <th>Momentum</th>\n",
       "      <th>Streak</th>\n",
       "      <th>Future Momentum</th>\n",
       "      <th>Ten Day Average</th>\n",
       "    </tr>\n",
       "  </thead>\n",
       "  <tbody>\n",
       "    <tr>\n",
       "      <th>9</th>\n",
       "      <td>2012-08-24</td>\n",
       "      <td>338.14</td>\n",
       "      <td>340.57</td>\n",
       "      <td>337.38</td>\n",
       "      <td>339.65</td>\n",
       "      <td>1429267</td>\n",
       "      <td>GOOGL</td>\n",
       "      <td>1</td>\n",
       "      <td>0</td>\n",
       "      <td>-1.0</td>\n",
       "      <td>336.183333</td>\n",
       "    </tr>\n",
       "    <tr>\n",
       "      <th>10</th>\n",
       "      <td>2012-08-27</td>\n",
       "      <td>331.83</td>\n",
       "      <td>336.34</td>\n",
       "      <td>329.95</td>\n",
       "      <td>334.94</td>\n",
       "      <td>2614131</td>\n",
       "      <td>GOOGL</td>\n",
       "      <td>-1</td>\n",
       "      <td>-1</td>\n",
       "      <td>1.0</td>\n",
       "      <td>337.217778</td>\n",
       "    </tr>\n",
       "    <tr>\n",
       "      <th>11</th>\n",
       "      <td>2012-08-28</td>\n",
       "      <td>332.83</td>\n",
       "      <td>339.15</td>\n",
       "      <td>332.70</td>\n",
       "      <td>338.96</td>\n",
       "      <td>2058938</td>\n",
       "      <td>GOOGL</td>\n",
       "      <td>1</td>\n",
       "      <td>0</td>\n",
       "      <td>1.0</td>\n",
       "      <td>337.248889</td>\n",
       "    </tr>\n",
       "    <tr>\n",
       "      <th>12</th>\n",
       "      <td>2012-08-29</td>\n",
       "      <td>339.02</td>\n",
       "      <td>344.84</td>\n",
       "      <td>338.41</td>\n",
       "      <td>344.35</td>\n",
       "      <td>2991037</td>\n",
       "      <td>GOOGL</td>\n",
       "      <td>1</td>\n",
       "      <td>1</td>\n",
       "      <td>-1.0</td>\n",
       "      <td>337.788889</td>\n",
       "    </tr>\n",
       "    <tr>\n",
       "      <th>13</th>\n",
       "      <td>2012-08-30</td>\n",
       "      <td>342.46</td>\n",
       "      <td>344.04</td>\n",
       "      <td>340.43</td>\n",
       "      <td>341.18</td>\n",
       "      <td>1627704</td>\n",
       "      <td>GOOGL</td>\n",
       "      <td>-1</td>\n",
       "      <td>0</td>\n",
       "      <td>1.0</td>\n",
       "      <td>338.631111</td>\n",
       "    </tr>\n",
       "  </tbody>\n",
       "</table>\n",
       "</div>"
      ],
      "text/plain": [
       "          Date    Open    High     Low   Close   Volume   Name  Momentum  \\\n",
       "9   2012-08-24  338.14  340.57  337.38  339.65  1429267  GOOGL         1   \n",
       "10  2012-08-27  331.83  336.34  329.95  334.94  2614131  GOOGL        -1   \n",
       "11  2012-08-28  332.83  339.15  332.70  338.96  2058938  GOOGL         1   \n",
       "12  2012-08-29  339.02  344.84  338.41  344.35  2991037  GOOGL         1   \n",
       "13  2012-08-30  342.46  344.04  340.43  341.18  1627704  GOOGL        -1   \n",
       "\n",
       "    Streak  Future Momentum  Ten Day Average  \n",
       "9        0             -1.0       336.183333  \n",
       "10      -1              1.0       337.217778  \n",
       "11       0              1.0       337.248889  \n",
       "12       1             -1.0       337.788889  \n",
       "13       0              1.0       338.631111  "
      ]
     },
     "execution_count": 16,
     "metadata": {},
     "output_type": "execute_result"
    }
   ],
   "source": [
    "# Drop the first nine rows to get rid of NaNs\n",
    "new_data = new_data.iloc[9:,:]\n",
    "new_data.head()"
   ]
  },
  {
   "cell_type": "code",
   "execution_count": 17,
   "metadata": {
    "collapsed": false
   },
   "outputs": [
    {
     "data": {
      "image/png": "iVBORw0KGgoAAAANSUhEUgAAAqUAAAJQCAYAAAC3hx2YAAAABHNCSVQICAgIfAhkiAAAAAlwSFlz\nAAALEgAACxIB0t1+/AAAIABJREFUeJzs3Xl8TXf+x/H3uVmIJCRqJ5bEbqqWKMYw1aKoam0NKqpj\nGWP011qjtdSo2tVvhqJKK4KIKDqKtkM7pdRSQ7WmdkJoxa7ZRHLP7w/T/JppUeTec3Lv6/l43MdD\n7nbexxKfvM/3nGuYpmkKAAAAsJDD6gAAAAAAQykAAAAsx1AKAAAAyzGUAgAAwHIMpQAAALCcr9UB\nvN1Ao7LVEQCPNjB5n9URXKZWiI/VEVzCkXbR6ggukRNU0uoILvNSYB2rI7jMfPOk1RHcMivYYT9p\nSgEAAGA5hlIAAABYjsP3AAAANuZjWJ3APWhKAQAAYDmaUgAAABvzMbyjKqUpBQAAgOVoSgEAAGzM\nW9aUMpQCAADYGIfvAQAAADehKQUAALAxbzl8T1MKAAAAy9GUAgAA2BhrSgEAAAA3oSkFAACwMdaU\nAgAAAG5CUwoAAGBjrCkFAAAA3ISmFAAAwMa8pUH0lv0EAACAjdGUAgAA2BhrSgEAAAA3oSkFAACw\nMa5TCgAAALgJTSkAAICNecuaUobSnzh9+rSmTZumK1eu6MaNG6pZs6aGDx+uoKAgq6MBAAB4NIbS\n/8jMzNSgQYM0ceJEPfTQQ5KkNWvWaNiwYXrrrbcsTgcAALyVt6wpZSj9j3/+859q1KhR7kAqSZ06\ndVJ8fLxiYmIkSd99953S09M1depURUREKC4uTh988IEMw1D79u3Vu3dvjRo1Sv7+/jpz5oxSUlI0\nZcoU1alTx6rdAgAAKBA40ek/Tp8+rYoVK/7s/goVKmj37t0KCwvTkiVL9MILL2j69Ok6evSoNmzY\noOXLl2vZsmXatGmTjh8/LkkqV66cFi1apOjoaCUkJLh7VwAAgAfxMQyX3+yAofQ/SpcureTk5J/d\nn5SUpMjISDVp0kSSVL9+fZ04cUKHDx/W2bNn1adPH/Xp00dXrlxRUlKSJKlWrVqSpDJlyigrK8t9\nOwEAADyOj+H6mx0wlP7HY489pu3bt2v//v259yUmJio0NFQOh0MHDhyQJP3rX/9StWrVFB4erqpV\nq2rJkiWKi4tT586dVaNGDUmSYZOfOAAAAAoK1pT+R2BgoObPn69JkybpypUrysnJUY0aNfTGG29o\n0qRJ2rJlizZv3iyn06nJkycrLCxMTZs2VY8ePZSVlaW6deuqdOnSVu8GAADwMHY5vO5qhmmaptUh\n7G7UqFFq3769WrRoke/vPdConO/vCeD/DUzeZ3UEl6kV4mN1BJdwpF20OoJL5ASVtDqCy7wU6Lkn\n9M43T1odQfNCarp8G3+6ctDl27gTmlIAAAAbs8uaT1djKP0VpkyZYnUEAAAAj8ZQCgAAYGPe0pRy\n9j0AAAAsR1MKAABgY95y9j1NKQAAACxHUwoAAGBjrCkFAAAA3ISmFAAAwMZYUwoAAAC4CU0pAACA\njbGmFAAAAHATmlIAAAAbY00pAAAA4CY0pQAAADbGmlIAAADATWhKAQAAbMxb1pQylAIAANiYw0uG\nUg7fAwAAwHI0pQAAADZmeMmZTjSlAAAAsBxNKQAAgI05vKQpZSgF4NE8+gQBZ47VCVzDNK1OAMAC\nDKUAAAA2Zvh4x2pL79hLAAAA2BpNKQAAgI15y9n3DKUAAAC4JafTqfHjx+vQoUPy9/fXxIkTValS\npdzH9+/frylTpsg0TZUsWVLTp09XoUKF7no7DKUAAAA2ZvXZ95s2bVJWVpYSEhK0b98+TZkyRfPm\nzZMkmaapsWPH6m9/+5sqVaqkxMREnTlzRuHh4Xe9HYZSAAAA3NKePXvUvHlzSVK9evX0zTff5D52\n4sQJhYSEaPHixTpy5Ih+//vf39NAKnGiEwAAgK0ZDofLb7eTmpqqoKCg3K99fHyUnZ0tSbp8+bL2\n7t2rXr166d1339WOHTv0xRdf3NN+MpQCAADgloKCgpSWlpb7tdPplK/vzYPtISEhqlSpkiIiIuTn\n56fmzZvnaVLvBkMpAACAjTl8DJffbqdBgwbasmWLJGnfvn2qXr167mNhYWFKS0tTUlKSJOnLL79U\ntWrV7mk/WVMKAACAW2rdurW2bdum7t27yzRNTZo0SevWrVN6erqioqL0+uuva9iwYTJNU/Xr19cj\njzxyT9thKAUAALAxq69T6nA4NGHChDz3RURE5P66adOmWrVq1f1v577fAQAAALhPNKUAAAA2Zvh4\nR4foHXsJAAAAW6MpBQAAsDGrP9HJXWhKAQAAYDmaUgAAABszHN7RlDKUAgAA2JiDE50AAAAA96Ap\nBQAAsDGrL57vLjSlAAAAsBxNKQAAgI3RlAIAAABuwlB6Czt37tSQIUPy3DdjxgwtXrxYc+bMueXr\nVq9erRkzZrg6HgAA8BIOH4fLb3bA4fu7VLRoUfXp08fqGAAAAB6FofQeDBkyRLNmzVJiYqKWLVum\nYsWKyc/PT+3bt5ckffXVV/rDH/6gS5cuqUePHoqKirI4MQAAKKi8ZU0pQ+lt7NixQ9HR0blfnz59\nWv/zP/8jSbp06ZIWLlyotWvXyt/fX7179859nq+vrxYtWqQzZ85owIABDKUAAAB3wFB6G02aNNGs\nWbNyv/7pWtFTp04pIiJCAQEBkqT69evnPla7dm0ZhqGSJUsqMzPTfYEBAIDHcXjJx4zaY2VrAVSx\nYkUdP35cmZmZcjqd2r9/f+5jhuEdf3kAAADyC03pPSpevLj69++vnj17KiQkRNevX5evr6+ys7Ot\njgYAADyIYZOz412NofQWGjdurMaNG+e5b/jw4ZKkzp07Kzs7WykpKVq9erVM09Szzz6rsmXLqlGj\nRrnPL1SokD755BO35gYAACiIGErvka+vrzIyMtSpUyf5+fmpbt26ioyMtDoWAADwMA7OvsedDB06\nVEOHDrU6BgAAQIHHUAoAAGBj3nKdUu9YOQsAAABboykFAACwMW85+9479hIAAAC2RlMKAABgY5x9\nDwAAAMsZfMwoAAAA4B40pQAAADbm4EQnAAAAwD1oSgEAAGyMi+cDAAAAbkJTCgAAYGNcPB8AAABw\nE5pSAAAAGzMc3tEhesdeAgAAwNZoSgEAAGyM65QCAAAAbkJTCgAAYGOcfQ8AAAC4CU0pAACAjdGU\nAgAAAG5CUwrAo13PdlodwYU89POwTU/+MwPuHtcpBQAAANyEphQAAMDGDB8fqyO4BU0pAAAALEdT\nCgAAYGPecvY9QykAAICNOTjRCQAAAHAPmlIAAAAb85bD996xlwAAALA1mlIAAAAboykFAAAA3ISm\nFAAAwMb4mFEAAADATWhKAQAAbIw1pQAAAICb0JQCAADYGE0pAAAA4CY0pQAAADbmoCkFAAAA3IOm\nFAAAwMa4TikAAADgJjSlAAAANsbZ9wAAAICb0JQCAADYGE0pJEk7d+7UkCFDrI4BAADg0WhKAQAA\nbIyz73FL27ZtU7du3dSrVy8NHjxY165d05///Gd9/fXXkqS2bdvq448/liT94Q9/0Llz56yMCwAA\nCjCHj4/Lb3ZAU3qXTNPU2LFjFR8fr9KlSys2Nlbz5s1T69attWXLFoWEhMjf31/bt29X06ZNdf36\ndZUuXdrq2AAAALZGU3qXLl++rKCgoNxBs1GjRjpy5Ihatmyp7du3a+vWrerfv7/279+vLVu2qGXL\nlhYnBgAABZnh43D5zQ7skaIACQ0NVWpqqlJSUiRJu3btUuXKlVWsWDEVLlxYGzduVPPmzVWuXDkt\nWbJEbdq0sTgxAACA/XH4/lfYtm2bOnfunPv1H//4R73wwgsyDEPFihXT5MmTJUmPPfaYVq9erZCQ\nEP3ud7/T8uXLVbFiRatiAwAAD2CXJtPVDNM0TatDeLOBRmWrIwAerW/SXqsjuEzdUMPqCC7hSLto\ndQSXyClaxuoILvNSYB2rI7jMfPOk1RF0ddEYl2+jWN+JLt/GndCUAgAA2BiXhAIAAADchKYUAADA\nxrxlTal37CUAAABsjaYUAADAxmhKAQAAADehKQUAALAxzr4HAAAA3ISmFAAAwMYMh4/VEdyCphQA\nAAC35HQ6NW7cOEVFRSk6OlpJSUl5Hv/oo4/UpUsXde3aVbGxsfe8HZpSAAAAO7O4Kd20aZOysrKU\nkJCgffv2acqUKZo3b54kKScnRzNnztR7772nIkWKqH379nryySdVvHjxu94OQykAAABuac+ePWre\nvLkkqV69evrmm29yH/Px8dGGDRvk6+urixcvyul0yt/f/562w+F7AAAAO3M4XH+7jdTUVAUFBeV+\n7ePjo+zs7NyvfX199fHHH+upp57Sww8/rICAgHvbzXt6FQAAALxCUFCQ0tLScr92Op3y9c17sL1N\nmzbasmWLbty4obVr197TdhhKAQAAbMzw8XH57XYaNGigLVu2SJL27dun6tWr5z6WmpqqXr16KSsr\nSw6HQwEBAXLc43VVWVMKAACAW2rdurW2bdum7t27yzRNTZo0SevWrVN6erqioqL05JNP6tlnn5Wv\nr69q1Kihjh073tN2GEoBAADszOKz7x0OhyZMmJDnvoiIiNxfR0VFKSoq6r63w1AKAABgZ1w8HwAA\nAHAPmlIAAAAbM+7xxKGCxjv2EgAAALZGUwoAAGBnXrKmlKEUgEdzGIbVEVzGcGbf+UkFkGE6rY4A\nwAIMpQAAAHbmJU0pa0oBAABgOZpSAAAAG+PsewAAAMBNaEoBAADsjDWlAAAAgHvQlAIAANgZTSkA\nAADgHjSlAAAANmb40JQCAAAAbkFTCgAAYGdcpxQAAABwD5pSAAAAO+PsewAAAMA9aEoBAABszPCS\nppShFAAAwM440QkAAABwD5pSAAAAG/OWw/c0pQAAALAcTSkAAICd0ZQCAAAA7kFTCgAAYGecfQ8A\nAAC4B02ppCNHjmj69OnKyMhQenq6fv/73+vhhx9WQkKCZs2aZXU8AADgxQwf71hT6vVD6bVr1zR0\n6FDNnj1blStXVk5Ojl588UWVLFnS6mgAAABew+uH0s2bN6tx48aqXLmyJMnHx0dTp07V3r17tWvX\nLknS3//+d8XGxsrf31+VK1fWhAkTlJycrJdfflm+vr5yOp2aOXOmypYtq5kzZ+rLL7+U0+lUnz59\n1K5dOwv3DgAAFHhecva91w+lKSkpCgsLy3NfYGCg/Pz8JEmXL1/W7NmztWbNGgUFBWnSpElKSEiQ\nYRiqW7euRowYoS+//FI//PCDDh8+rOTkZMXHx+v69et65pln1KxZMxUtWtSKXQMAACgwvP5Ep3Ll\nyun777/Pc9/p06e1e/fu3F9XrVpVQUFBkqRGjRrpyJEj6tq1q4oWLap+/fpp2bJl8vHx0eHDh3Xg\nwAFFR0erX79+ys7O1pkzZ9y+TwAAwIM4fFx/swGvH0pbtmyprVu36tSpU5KkGzduaMqUKQoNDZUk\nVahQQceOHVN6erokadeuXapSpYo2b96shg0bKjY2Vm3bttXChQsVHh6uxo0bKy4uTrGxsWrXrt3P\nWlgAAAD8nNcfvg8KCtKUKVM0ZswYmaaptLQ0tWzZUhEREfryyy9VvHhxvfDCC+rdu7ccDocqVqyo\n4cOH69y5c4qJidG8efPkdDr18ssvq3bt2tq1a5d69uyp9PR0tWrVKrdhBQAAuBeGl1yn1DBN07Q6\nhDcbaFS2OgLg0fqf2md1BJd5sGi21RFcwpF+2eoILpFdrJzVEVzmpcA6VkdwmfnmSasjyHl4m8u3\n4ajezOXbuBOvb0oBAABszSZrPl3NO/pgAAAA2BpNKQAAgJ0Z3tEhesdeAgAAwNZoSgEAAOzMS5pS\nhlIAAAAbM71kKPWOvQQAAICt0ZQCAADYGU0pAAAA4B40pQAAAHZmGFYncAuaUgAAAFiOphQAAMDO\nHN7RIXrHXgIAAMDWaEoBAABsjOuUAgAAAG5CUwoAAGBnNKUAAACAe9CUAgAA2BlNKQAAAOAeNKUA\nAAB2RlMKAAAAuAdNKQAAgI15y3VKGUotNjB5n9URXMJhGFZHcJnr2U6rI7iEp/6ZvV2xntURXGZW\nxkGrI7iE0y/A6giu4cGDRf9Tnvl/GdyLoRQAAMDOPPgHmp/yjr0EAACArdGUAgAA2JmHLq/6bwyl\nAAAAdsbhewAAAMA9aEoBAABszFsuCeUdewkAAABboykFAACwM4d3dIjesZcAAACwNZpSAAAAO2NN\nKQAAAOAeNKUAAAB2RlMKAAAAuAdNKQAAgJ3RlAIAAADuQVMKAABgY3yiEwAAAOAmNKUAAAB2RlMK\nAAAAuAdNKQAAgJ0ZhtUJ3IKmFAAAAJajKQUAALAz1pQCAAAA7uHRQ2mvXr30xRdf5Llv4sSJSkxM\n/Nlzk5OT9cwzz7grGgAAwK9iGg6X327H6XRq3LhxioqKUnR0tJKSkvI8/sknn6hLly6KiorSypUr\n73k/PXoo7datm95///3cr7OysvTpp5/qiSeesDAVAABAwbFp0yZlZWUpISFBw4YN05QpU3Ifu3Hj\nhiZPnqx33nlHcXFxSkhI0IULF+5pOx69prRt27aaNWuWMjIyFBAQoM2bN6tZs2Y6efKkXnvtNfn4\n+KhQoUJ67bXX8rzu0Ucf1caNG1WoUCHNmDFD4eHhKl++vBYsWCA/Pz99//336t69u3bs2KGDBw+q\nd+/e6tmzp3bt2qVZs2bJx8dHYWFhmjBhgvz8/CzaewAA4BEsXlO6Z88eNW/eXJJUr149ffPNN7mP\nHTt2TBUrVlSxYsUkSQ0bNtTu3bvVrl27u96ORzelhQoVUqtWrfSPf/xDkrR69Wp1795dY8aM0bhx\n47R06VL16NEjz8R/O99//71mz56t8ePHa968eZo2bZrefvttJSQkyDRNjR07VnPmzNHSpUtVunRp\nrVmzxpW7BwAAvIBpGC6/3U5qaqqCgoJyv/bx8VF2dnbuY8HBwbmPBQYGKjU19Z7206OHUun/D+Gf\nO3dO165dU+3atZWSkqJatWpJkho1aqQjR47c8vWmaeb+ulq1avLz81NwcLAqVqwof39/FStWTNev\nX9elS5eUkpKil156SdHR0dq2bZvOnDnj8v0DAABwpaCgIKWlpeV+7XQ65evr+4uPpaWl5RlS74bH\nD6U1atRQWlqalixZoi5dukiSSpUqpYMHD0qSdu/ercqVK+d5jb+/v1JSUmSaZu7zJMm4zU8SoaGh\nKlOmjObOnau4uDgNHDhQTZo0yf8dAgAAXsU0XX+7nQYNGmjLli2SpH379ql69eq5j0VERCgpKUlX\nrlxRVlaWvvzyS9WvX/+e9tOj15T+qEuXLpo+fbo+/fRTSTfPwH/ttddkmqZ8fHw0adKkPM/v16+f\nBgwYoPLly6to0aK/ahsOh0OjR4/WgAEDZJqmAgMDNW3atHzfFwAAAHdq3bq1tm3bpu7du8s0TU2a\nNEnr1q1Tenq6oqKiNGrUKPXt21emaapLly4qXbr0PW3HMM07zcdwpX1nrlgdwSUcHvyRaNeznVZH\ncAlP/TN7u2I9qyO4zKyMg3d+UgFkOHOsjuAaHnwB9AMXrlsdwWUahoVYHUGp6Rku30ZQkQCXb+NO\nPPdfCAAAAAoMrzh8DwAAUFB5yyFtmlIAAABYjqYUAADAxpxeUpXSlAIAAMByNKUAAAA25i0XSqIp\nBQAAgOVoSgEAAGyMNaUAAACAm9CUAgAA2JiXFKU0pQAAALAeTSkAAICNsaYUAAAAcBOaUgAAABvj\nOqUAAACAm9CUAgAA2JjT6gBuwlAKAABgY15y9J7D9wAAALAeTSkAAICNcUkoAAAAwE1oSgEAAGyM\nS0IBAAAAbkJTCgAAYGPeckkow/SWTtimrqf9YHUE13DmWJ0Ad8lwZlsdwSVyCgVZHcFlhgTUtDqC\nSzR7IMDqCC7RNXmv1RFcxvDg7/mFiwRaHUGnLqW6fBsVi1v/vZKmFAAAwMa8pT5kTSkAAAAsR1MK\nAABgY04vqUppSgEAAGA5mlIAAAAb846elKYUAAAANkBTCgAAYGNOL6lKaUoBAABgOZpSAAAAG/OS\nk+9pSgEAAGA9mlIAAAAbc3rJ+fc0pQAAALAcTSkAAICNecuaUoZSAAAAG+OSUAAAAICb0JQCAADY\nmLccvqcpBQAAgOVoSgEAAGyMS0IBAAAAbkJTCgAAYGOsKQUAAADchKYUAADAxpxeUpXSlAIAAMBy\nth9Kd+7cqRo1amj9+vV57n/yySc1atQot2TYvXu3Dh486JZtAQAA/FSO0/U3O7D9UCpJ4eHheYbS\nQ4cOKSMjw23bf++995SSkuK27QEAAHibArGmtGbNmjpx4oR++OEHBQcH6+9//7uefPJJfffdd/r7\n3/+u2NhY+fv7q3LlypowYYLWrVunTz/9VJmZmTp//rx69+6tzZs368iRIxo5cqRatWqljRs3avHi\nxXI4HGrYsKGGDx+u2bNnKzk5WRcvXtTZs2f18ssvKzQ0VFu3btWBAwdUtWpVdevWTdu2bZMkDRky\nRN27d9eZM2fuuD0AAIB7wZpSm2nTpo0+/vhjmaap/fv3q379+rpy5Ypmz56t2NhYxcfHKzg4WAkJ\nCZKktLQ0vf322+rfv7/i4+M1Z84cTZgwQatXr8593eLFixUfH69z587lDpr+/v5auHChRo8ercWL\nF+s3v/mNmjdvrhEjRqhcuXK3zHe77QEAAOD2CkRTKt1cQzp+/HiFhYUpMjJSkuR0OlW1alUFBQVJ\nkho1aqTPP/9cDz30kGrVqiVJCg4OVkREhAzDULFixXT9+nWdOnVKly5d0oABAyTdHChPnTolSbmv\nK1OmjLKysm6byfzJTy632x4AAMC9yqEptZewsDClp6crLi5OHTt2lCQZhqFjx44pPT1dkrRr1y5V\nqVIl97FbqVChgsqWLat33nlHcXFx6tWrl+rVq3fL1xmGkTuAZmdnKy0tTVlZWTp69Gie5wAAAODe\nFJimVJLat2+v999/X1WqVNHp06cVGhqqDh06qHfv3nI4HKpYsaKGDx/+szP1/1vx4sXVp08fRUdH\nKycnR+XLl1e7du1u+fyHHnpIM2bMUIUKFdS7d29FRUWpQoUKtz2cDwAAkB+8ZU2pYZpesqc2dT3t\nB6sjuIYzx+oEuEuGM9vqCC6RUyjI6gguMySgptURXKLZAwFWR3CJrsl7rY7gMoYHf88vXCTQ6gja\nfvKiy7fx28oPuHwbd1KgmlIAAABvY5friLpagVlTCgAAAM9FUwoAAGBj3rKmlKEUAADAxrgkFAAA\nAOAmNKUAAAA25vSOopSmFAAAANajKQUAALCxHC+pSmlKAQAAYDmaUgAAABvzlktC0ZQCAADAcjSl\nAAAANpbjHUUpTSkAAACsR1MKAABgY6wpBQAAANyEphQAAMDGuE4pAAAA4CY0pQAAADbGmlIAAADA\nTWhKAQAAbIzrlAIAAABuQlMKAABgY96yppSh1GKOtItWR3ANT/4HZDqtTuAShoful9MvwOoILtPs\nAc/ct20XM6yO4BKdPPiyPv5ZaVZHcJ0igVYn8BoMpQAAADbm9OAfaH6KNaUAAACwHE0pAACAjXnL\n2fcMpQAAADbmLSc6cfgeAAAAlqMpBQAAsLEcL2lKGUoBAABwVzIzMzVixAhdvHhRgYGBmjp1qooX\nL57nOcuWLdPq1atlGIb+8Ic/qH379rd9Tw7fAwAA2JjTabr8drfi4+NVvXp1LV++XE8//bTmzp2b\n5/FLly4pPj5eK1as0OLFizV16lSZd2h8GUoBAABwV/bs2aPmzZtLklq0aKEvvvgiz+PFixfX2rVr\n5efnpwsXLqhQoUIyDOO278nhewAAABuz+pJQiYmJio2NzXPfAw88oODgYElSYGCgfvjhh5+9ztfX\nV0uXLtXs2bMVHR19x+3QlAIAAOCWunXrpg8++CDPLTg4WGlpNz9eNi0tTUWLFv3F1/bq1Utbt27V\n7t27tWPHjttuh6EUAADAxpym6fLb3WrQoIE+++wzSdKWLVvUsGHDPI8fP35cgwcPlmma8vPzk7+/\nvxyO24+dHL4HAADAXenRo4diYmLUo0cP+fn5aebMmZKkd999VxUrVtRjjz2mmjVrKioqSoZhqHnz\n5nr44Ydv+56GeadToeBSN1JOWh3BNTz5r5XptDqBSxgeul/ZxcpZHcFlEitGWh3BJbZdzLA6gkvM\nSPvW6ggu45/18/WEnsI/pJTVETTnixMu38bgplVcvo074fA9AAAALMfhewAAABvLuYfriBZENKUA\nAACwHE0pAACAjdGUAgAAAG5CUwoAAGBjNKUAAACAm9CUAgAA2BhNKQAAAOAmXtuULliwQNu3b1d2\ndrYMw1BMTIz8/Px07do1NWrU6J7fd/Xq1Tp+/LiGDx+ej2kBAIC38pam1CuH0qNHj+qTTz5RfHy8\nDMPQt99+q5iYGLVu3VolSpS4r6EUAAAgPzGUerDg4GCdPXtWq1atUosWLVSrVi3NmzdP0dHR8vPz\nU506dfTKK6+ocuXK8vPz04QJEzR69GhdvnxZkjRmzBjVqFFDS5cu1ccff6yMjAyFhoZqzpw5udu4\ndOmSBg0apBdffFFNmza1alcBAAAKBK8cSkuXLq158+Zp6dKlevPNN1W4cGENGTJEnTp1UokSJVS3\nbl2lp6dr0KBBql27tqZPn64mTZqoZ8+eOnnypF5++WUtW7ZMV65c0eLFi+VwONS3b199/fXXkqSL\nFy/qT3/6k1555RU99NBDFu8tAAAoyGhKPVhSUpKCgoI0efJkSdLXX3+t/v37q0OHDipRokTu86pU\nqSJJOnz4sHbs2KGNGzdKkq5evSqHwyE/Pz8NHTpURYoU0ffff6/s7GxJ0tatW1WyZEk5nU437xkA\nAEDB5JVD6aFDh5SQkKB58+bJ399fVapUUdGiRRUSEpJnkHQ4bl6cIDw8XB07dtSTTz6pixcvKjEx\nUQcPHtSmTZuUmJiojIwMde7cWaZ58yeZp59+Wk899ZReeuklJSYmqkiRIpbsJwAAKPhoSj1YmzZt\ndOzYMXUtv2vaAAAgAElEQVTt2lVFihSRaZoaOXKkfH19NW3aNEVEROR5/sCBAzV69GitXLlSqamp\nGjx4sCpVqqSAgAB1795dklSyZEmlpKTkvqZatWrq2LGjJk+erNdee82t+wcAAFDQGOaP9R4scSPl\npNURXMOT/1qZnrksw/DQ/couVs7qCC6TWDHS6gguse1ihtURXGJG2rdWR3AZ/6wfrI7gMv4hpayO\noJfX/9vl25j8RG2Xb+NOuHg+AAAALOeVh+8BAAAKCm9ZU0pTCgAAAMvRlAIAANhYNk0pAAAA4B40\npQAAADbGmlIAAADATWhKAQAAbIymFAAAAHATmlIAAAAby/HkT0n8CZpSAAAAWI6mFAAAwMZYUwoA\nAAC4CU0pAACAjXlLU8pQCgAAYGPeMpRy+B4AAACWoykFAACwsRyn0+oIbkFTCgAAAMvRlAIAANgY\na0oBAAAAN6EpBQAAsDGaUgAAAMBNaEotlhNU0uoIgGczPPdn767Je62O4BKdPLQVGh5Yy+oILvO/\naQesjuDRsj3038R/89zv1gAAACgwaEoBAABsjDWlAAAAgJvQlAIAANgYTSkAAADgJjSlAAAANkZT\nCgAAALgJTSkAAICN0ZQCAAAAbkJTCgAAYGM0pQAAAICb0JQCAADYmOklTSlDKQAAgI05vWQo5fA9\nAAAALEdTCgAAYGOmSVMKAAAAuAVNKQAAgI15y4lONKUAAACwHE0pAACAjXH2PQAAAOAmNKUAAAA2\nZjqtTuAeNKUAAACwHE0pAACAjXGdUknJyclq0KCBoqOjc29z5sy55fPPnj2rTz75JN/CrV69WjVq\n1NC+ffty77tx44YaN26s2bNn59t27uQf//iHzp0757btAQAAeJs7NqVVq1ZVXFzcr3qzHTt26Pjx\n43r00UfvO9iPwsPDtX79etWrV0+StHXrVgUHB+fb+/8aS5Ys0fjx41W6dGm3bhcAAMBbzr6/p8P3\nO3fu1IoVKzRr1ixJUrNmzbRlyxYtWLBAmZmZql+/vhYvXqzx48crIiJC8fHxunDhgjp16qQ//elP\nCgkJUYsWLdSiRQtNnDhRkhQSEqJJkyb9bOBs0aKFPv/8czmdTjkcDq1fv15PPPFE7uPvvPOO1q9f\nL19fX0VGRmrEiBGaPXu2kpKSdPnyZV25ckXPPvusPv74Y504cUJTp05VvXr1FBcXpw8++ECGYah9\n+/bq3bu3Ro0aJX9/f505c0YpKSmaMmWKzp8/r2+//VYxMTGaPn26YmJitHLlSknSM888ozfeeENr\n1qy54/YAAABwa3c80eno0aN5Dt/f6jC2j4+PBgwYoA4dOuixxx675fudP39eixYtUv/+/TV27Fi9\n+uqriouLU4sWLbRw4cKfPd/Pz0/16tXTrl27lJqaqtTUVJUpU0aSdOjQIW3cuFErVqzQihUrlJSU\npE8//VSSVLhwYS1atEiPP/64PvvsM82fP18DBgzQ+vXrdfToUW3YsEHLly/XsmXLtGnTJh0/flyS\nVK5cOS1atEjR0dFKSEjQI488olq1amnq1Kny8/O75X7dbnsAAAD3ynSaLr/ZwT0dvj958mSer++0\nAPenj1eoUEH+/v6SpGPHjukvf/mLpJtrRStXrvyLr+/QoYPWr1+v7777Tq1bt9aNGzckScePH9dD\nDz2UOyxGRkbqyJEjkqTatWtLkoKDg1W1alVJUrFixXT9+nUdPnxYZ8+eVZ8+fSRJV69eVVJSkiSp\nVq1akqQyZcroX//616/er9ttDwAAALd3T5eEKlSokM6fPy9JOnPmjK5evXrzzRwOOZ03L6bl7++f\n+5x///vf/79Bx/9vskqVKpo6dari4uI0YsQIPfLII7+4vcaNG2vfvn368MMP1bZt29z7w8PDtX//\nfmVnZ8s0Te3evVtVqlSRJBmGccv84eHhqlq1qpYsWaK4uDh17txZNWrUuOXrDMOQaZoqVKiQLl68\nqJycHF27dk3Jycl5ngMAAJDfaEpv4ze/+Y2Cg4PVrVs3RUREqEKFCpKk6tWra968eapTp4569+6t\nv/zlLypXrpxKlSr1i+8zfvx4xcTEKDs7W4Zh6PXXX//F5zkcDjVr1kzfffedgoKCcu+vUaOG2rVr\npx49esjpdKphw4Zq1aqVDh48eNv8NWvWVNOmTdWjRw9lZWWpbt26tz2JqX79+ho5cqTeeecdNWvW\nTF27dlVYWJgqVap0p98qAAAA/AqG6S0Xv7KpzPQ0qyMAns3w3M8IMT30CE2OTVqb/DY8sJbVEVzm\nf9MOWB3BZQoXCbQ6ghr95WOXb2P3q21cvo078dzv1gAAACgw+EQnAAAAG7PLmk9XoykFAACA5WhK\nAQAAbMxbmlKGUgAAABvzlo8Z5fA9AAAALEdTCgAAYGPecvVOmlIAAABYjqYUAADAxkyn1Qncg6YU\nAAAAlqMpBQAAsDHOvgcAAADchKYUAADAxrh4PgAAAPALMjMzNWLECF28eFGBgYGaOnWqihcvnuc5\nn332md58802Zpqk6dero1VdflWEYt3xPDt8DAADYmOk0XX67W/Hx8apevbqWL1+up59+WnPnzs3z\neGpqqqZPn6758+crMTFR5cuX1+XLl2/7ngylAAAAuCt79uxR8+bNJUktWrTQF198kefxvXv3qnr1\n6po6dap69uypEiVK/KxJ/W8cvgcAALAxp8Wf6JSYmKjY2Ng89z3wwAMKDg6WJAUGBuqHH37I8/jl\ny5e1c+dOrV27VkWKFNGzzz6revXqqUqVKrfcDkMpAAAAbqlbt27q1q1bnvsGDx6stLQ0SVJaWpqK\nFi2a5/GQkBA9+OCDKlmypCQpMjJS33777W2HUg7fAwAA2Jgd15Q2aNBAn332mSRpy5YtatiwYZ7H\n69Spo8OHD+vSpUvKzs7WV199papVq972PWlKAQAAcFd69OihmJgY9ejRQ35+fpo5c6Yk6d1331XF\nihX12GOPadiwYerXr58kqW3btqpevfpt39MwTYsXKni5zPQ0qyMAns3w3ANC5m0urVKQ5XjoNRmH\nB9ayOoLL/G/aAasjuEzhIoFWR1CNF9a6fBuHZj/t8m3cied+twYAAECBweF7AAAAG3N66NGD/8ZQ\narGXAutYHQHwaP1P7bM6gsvUecDP6ggu4Z/lmcuaPPkQtyf/XzbfPGl1BK/BUAoAAGBj3nL6D0Mp\nAACAjd3LJZsKIk50AgAAgOVoSgEAAGzMW050oikFAACA5WhKAQAAbMx05lgdwS1oSgEAAGA5mlIA\nAAAboykFAAAA3ISmFAAAwMZoSgEAAAA3oSkFAACwMTOHphQAAABwC5pSAAAAG2NNKQAAAOAmNKUA\nAAA2RlMKAAAAuAlNKQAAgI3RlAIAAABuQlMKAABgYzSlAAAAgJvQlAIAANiYtzSlDKUAAAA25mQo\n/WVTpkzRgQMHdP78eWVmZiosLEyhoaH629/+dk8Btm/fruHDhysiIkKmaSo7O1t9+vRR27Zt7+n9\nfpSRkaGWLVtq4MCB6tOnz329FwAAAFzrrofSUaNGSZJWr16t48ePa/jw4fcd4re//a1mzJghSUpN\nTVWvXr0UHh6u6tWr3/N7fvjhh3rqqae0atUqPffcczIM475zAgAAuBuH7+/BtGnTtHfvXjmdTvXt\n21dt2rRRjx499OCDD+rQoUNKT0/X3/72N5UtW/aW7xEUFKRu3brpo48+Unh4uMaOHauUlBSlpKSo\nTZs2GjRokB5//HGtWbNGwcHBiouLU3Z2tp5//vk875OYmKi//OUv+v7777V161a1aNFCEydOVN26\nddWxY0edO3dOf/7zn7Vq1apb5i5durSuXbumN954Q+PGjVNqaqpSUlIUHR2tqKgo7d27VxMnTlRg\nYKCKFy+uwMBAvf7661q8eLE2btwoSerYsaOeffbZ/PxtBgAA8Dj5dvb9J598onPnzik+Pl6xsbGa\nPXu2UlNTJUn16tVTbGysHn74YW3YsOGO71WiRAldvnxZ3333nRo2bKhFixYpMTFRy5Ytk4+Pj554\n4onc91m3bp2eeuqpPK8/duyYnE6nqlWrpi5dumj58uWSpG7dumnt2rWSpLVr16pLly63zd2xY0e9\n8847On36dO6vFyxYoMWLF0uSXn31VU2bNk1LlixR+fLlJUkHDx7Upk2bFB8fr+XLl2vjxo1KSkq6\n/99gAADglUxnjstvdpBvTenhw4f1zTffKDo6WpKUk5Ojs2fPSpJq164tSSpbtqyuXbt2x/c6e/as\nypQpo5CQEO3bt09ffPGFgoODdePGDUlS165dNXLkSNWtW1dly5ZV8eLF87w+MTFRqamp6tu3r0zT\n1N69e3X69GnVqFFD6enp+v777/Xhhx8qLi5OS5cuvWXuKlWqSLo5JMfFxemjjz5SkSJFlJ2dLUm6\nePGiIiIiJEmRkZHatGmTjhw5ouTkZD333HOSpKtXryopKUmVKlW6999cAAAAD5dvQ2l4eLiaNm2q\n8ePHKycnR2+++aYqVKggSXe1nvOHH37QqlWrNHfuXK1atUoPPPCAhgwZouPHj2vlypWSpLCwMAUE\nBOjtt99W165d87w+KytLH374odatW6fg4GBJ0pw5cxQfH6+RI0eqS5cumjJlimrWrKmgoKDb5nY4\nbhbJixYtUmRkpJ555hlt27ZN27ZtkySVKlVKx48fV3h4uPbt25f7+1C9enW99dZbMgxD77zzzn2t\njQUAAN7NzLFHk+lq+TaUtm7dWrt27VLPnj2Vnp6uxx9/XEWKFPlVr92+fbuio6PlcDiUk5OjIUOG\nqFKlSmratKlGjhypPXv2yN/fX2FhYbpw4YJKlCihrl27avr06bknSP1o06ZNeuihh3IHUknq0qWL\nOnfurBdffFFPPPGEJk+erIULF/7q3I8++qgmTZqk999/XyEhITIMQ1lZWRo/frxGjRqlgIAA+fn5\nqXz58qpTp44iIyPVo0cPZWVlqX79+ipVqtR9/u4CAAB4NsM0TdPqEPfigw8+0MmTJzV48GDLMsTF\nxalDhw4KDQ3VjBkzFBQUpIEDB97Veww0KrskG4Cb+p/aZ3UEl6nzgJ/VEVzCkZVmdQSXcPoHWh3B\nZV4KrGN1BJeZb560OoKKt53g8m1c+nCcy7dxJwXy4vnTp0/Xnj179NZbb1ma44EHHtDzzz+vgIAA\nFStWTFOnTrU0DwAAQEFVIIfSESNGWB1BktS+fXu1b9/e6hgAAMCD2eXseFfLt0tCAQAAAPeqQDal\nAAAA3oKmFAAAAHATmlIAAAAbM51OqyO4BU0pAAAALEdTCgAAYGOsKQUAAADchKYUAADAxmhKAQAA\nADehKQUAALAxp5c0pQylAAAANmbmeMdQyuF7AAAAWI6mFAAAwMY40QkAAABwE5pSAAAAG6MpBQAA\nANyEphQAAMDGaEoBAAAAN6EpBQAAsDGaUgAAAMBNDNM0TatDAAAAwLvRlAIAAMByDKUAAACwHEMp\nAAAALMdQCgAAAMsxlAIAAMByDKUAAACwHEMpAAAALMdQCgAAbO/06dP6/PPPde7cOaujwEX4mFHA\nhlJSUlSqVCmrY7hEamqqkpOTVbFiRRUpUsTqOPkiJydHq1ev1tmzZ9WkSRNVq1ZNxYsXtzoWbmPH\njh1q0qSJJCkzM1OTJk3ShAkTLE51//bv36/169fr+vXrufeNHz/eukD5JD4+Xhs2bNC1a9f09NNP\n68yZMxozZozVsZDPGEq9wLfffquEhIQ836QmT55sYaL8sXLlSsXGxiozM1OmacowDG3evNnqWPni\n5ZdfVlZWllq2bKnWrVsrLCzM6kj54sMPP9T8+fOVk5Ojtm3byjAMDRo0yOpY923cuHEqVaqUtm/f\nrgcffFAxMTF6++23rY6VLz755BO99957ysrKyr3PE/btr3/9qwIDA5WTk6MxY8aoY8eOVkfKFzEx\nMerfv7+KFi1qdZR89f7772v58uV67rnn9Pzzz6tz585WR4ILMJR6gVGjRqlXr14qU6aM1VHy1YoV\nK7RgwQKVLFnS6ij5btGiRUpNTdWWLVs0YsQIZWZmau3atVbHum+LFy/WypUr1bdvXw0aNEhdunTx\niKH01KlTev3117Vnzx49+uijWrBggdWR8s3UqVM1YcIEFStWzOoo+erNN9/UoEGDlJWVpb/+9a+K\niIiwOlK+qFSpkscObA6HQ4ZhSJIKFSpkcRq4AkOpFyhRooS6detmdYx8FxoaqvLly1sdwyU2bdqk\n7du366uvvlK5cuX0u9/9zupI+cLHx0f+/v4yDEOGYSggIMDqSPkiJydHly5dknRzeYLD4TnL9atV\nq6bGjRtbHSPfzJw5M3ewqVKlirZu3ar3339fkjR06FAro+WLxx9/XEOGDMkzZA8ePNjCRPmjXbt2\nio6OVnJysgYOHKiWLVtaHQkuYJimaVodAq41btw4VahQQbVq1cr9ZlyQh5w33nhDkrR37175+/ur\ndu3aufvlCf+pSDe/Afv7+2vAgAFq3ry5xxyKe+ONN3TmzBl98803aty4sYoUKaJRo0ZZHeu+7dq1\nS2PHjtX58+dVtmxZvfLKK2rWrJnVsfLFmjVrtGLFCoWHh+feV5CX/6xZs+aWj3Xq1MmNSVyja9eu\natOmTZ7vGd27d7cwUf45dOiQjhw5ooiICNWqVcvqOHABhlIv8PLLL//sPv5Tsb/k5GR9/vnn2rBh\ngzIzM7Vy5UqrI+WLLVu26PDhw4qIiPC4tuPSpUsed4JT586d1a9fPwUHB+fe17x5cwsT5Y/s7Gx9\n/fXXys7OlmmaSklJUYcOHayOdd/69eunhQsXWh0j340dOzbP176+vipbtqx69OiR5+8mCjYO33uB\nyZMn68SJEzp16pRq1KhR4M/q/nHw/O81lr6+vvryyy8VGRlpRax8deDAAX322Wfavn27ChcurHbt\n2lkdKV+cO3dO5cqVU4UKFbRw4UKVKVPGIxqPFStW/Oxkwg0bNliYKP+UKFFC7du3tzpGvhs8eLBu\n3LihlJQU5eTkqFSpUh4xlIaGhmrcuHF5jiBFRUVZnOr+paamqnz58oqMjNS+ffv073//W0FBQRo5\ncqTmzZtndTzkE4ZSL7B06VL94x//0NWrV9WpUyclJSVp3LhxVse6b+vXr1dmZqbq1aun/fv36/r1\n6/Lx8VGdOnX0yiuvWB3vvsybN0+tW7fWvHnzPKoFGDZsmAYPHqzly5fr8ccf16RJkxQXF2d1rPu2\nZMkSLViwwONOBpKkwoULq2/fvh63TOby5ctKSEjQ6NGjNXbsWD3//PNWR8oXlSpVkiRduHDB4iT5\n6/Lly5o1a5Yk6ZFHHtHzzz+vYcOGqWfPnhYnQ35iKPUC69ev17Jly/Tcc8/pueeeU5cuXayOlC+y\ns7MVGxsrh8Mhp9Op/v37a9GiRR6xfmry5MmaO3eu1q9fr8qVK2vQoEEKCQmxOtZ9MwxDjRo10vz5\n8/XEE094zJKEGjVqqGzZsvLx8bE6Sr7ztCUWPypcuLAkKSMjQ4ULF84duAs6Tz3zPjU1VSdPnlTl\nypV18uRJpaen6+rVq8rIyLA6GvIRQ6kX+PEanj9+0/X397c4Uf64cuWKsrOz5e/vr+zsbF29elWS\n8lxPsaAaPXq0GjVqpI4dO2rXrl0aNWqU5s+fb3Ws+5adna3p06crMjJSO3bs0I0bN6yOlC+aNGmi\nVq1aKSwsLPff25IlS6yOlS8qVKhgdQSXaNOmjebMmaOaNWvqmWee8ZgPchgyZIgMw5DT6VRycrIq\nVaqk+Ph4q2Pdt9GjR+vFF1/UxYsXVapUKY0fP17r1q1T//79rY6GfMSJTl5g6dKl2rBhg86ePatq\n1aqpSZMm6tu3r9Wx7ltiYqIWLlyoatWq6fjx4+rXr59SUlKUkZGhIUOGWB3vvkRHR+c5rN2zZ08t\nX77cwkT54+TJk9q2bZu6deumTZs26cEHH/SIDwbo3LmzXn311TxLLX56tnpB9uOhetM0dfToUZUv\nX94jfkD6qUOHDqlSpUq57amnuHbtmsaOHau//vWvVkfJd9nZ2fL1pVfzNPyJeoFevXqpadOmOnLk\niKpUqaIaNWpYHSlfdOvWTa1atdKpU6dUsWJFhYaGKicnxyMOoV6/fl3nz59XyZIldeHCBTmdTqsj\n5YsfB9DJkyercuXKKl26tMWJ8kfp0qX14IMPetT1SX/04yXYpJtHIV566SUL0+SfI0eO6NVXX9W1\na9fUsWNHVatWzeOWKgQHB+v06dNWx8gXiYmJWrx4ce7VEgzD0EcffWR1LOQzhlIvcOLECc2YMUMn\nTpxQ9erVFRMTU6AvOj937lwNGjRIQ4cO/dk6sJkzZ1qUKn+9+OKL6t69u4KDg5Wamqo//vGPVkfK\nF2PHjlXRokXVrFkz7dq1S2PGjNG0adOsjnXfsrKy9NRTT6latWq5fyc95e/iT+Xk5HjMkDNx4kRN\nnjxZY8aMUdeuXdWvXz+PGEqjoqJkGIZM09SlS5fUtGlTqyPliyVLlmjhwoV666231KZNG484coSf\nYyj1AjExMfrzn/+sBg0aaM+ePRo1alSBPuM5MDBQa9euVfPmzXO/+UrymBMVJKlZs2bavHmzLl26\npNDQUHXr1s0jPpUrKSlJy5YtkyS1atXKI05Kk+QxPzT8kp9+0EZ2draee+45C9Pkr0qVKskwDBUv\nXlyBgYFWx8kXU6dOlZ+fn6SbH8XpKecQlCpVSmXLllVGRoZ++9vfchkoD8VQ6gUCAgL0+9//XtLN\nS2m8++67Fie6PxcuXMi93Mn69evVoUOH3MM5nubHC7F7ytLv69evKyMjQwEBAcrMzFROTo7VkfLF\n2bNnrY7gMomJiSpbtmzu18ePH7cwTf4pVqyYVqxYoYyMDK1fv77Af2ra+fPnlZqaqpiYGE2bNk2m\naSozM1MxMTFatWqV1fHuW1BQkDZv3izp5t/JK1euWJwIrsBQ6gXKli2ruXPnqkmTJjpw4ID8/f31\n+eefSyqYHzc6bNiw3F/v27fPI66ZeCeeMnD37t079zD30aNH9cILL1gdKV8cO3ZM0s0fHr799luF\nhITo6aeftjjV/Tl8+LDOnTunGTNmaOTIkTJNU06nUzNnzsz9rPiCbNKkSZo/f75CQ0P1zTff6PXX\nX7c60n356quvFBsbqxMnTuR++pHD4SiQ3+N/yYQJE3T69GkNGTJECxcuLPDXosYvYyj1Eu+9955O\nnTolwzBUokQJrV+/XlLBHEp/ylOGtR/90jpZ0zQ9Zh1fx44d1aJFC50+fVoVKlRQaGio1ZHyxU9/\nUDJN0yMO51+7dk0bNmzQxYsX9cEHH0i6+e/NUy5W/uqrr3rUut9WrVqpVatW+uyzz3KPjHmSoUOH\natGiRZKkMWPGWJwGrsJQ6sHS0tI0bNgwXb58WfXq1dPRo0dVvHhxvfHGGwoKCrI6Hn7BrdZYFvS1\nl780bP/IEwaDn14b9/z580pOTrYwTf6IjIxUZGSkDhw4oDp16lgdJ99lZWXp4MGDqlKlikddw/nH\na3j+9CNvJ0+ebGGi/FG0aFH985//VJUqVXKvcuEJl5NDXlyn1INNmDBBdevWzXMYMTExUV9//bUm\nTJhgYbL78+OAY5qmduzYkefsUk8YcDzRzp07deLECYWFhcnPz0+7d+9W8eLFFR4ersaNG1sd7749\n+uijuX8nf/xYTk/55LRt27Zp8eLFeYYcT/hggCeffFJpaWm5XxuGkbtmsSB76qmn1KtXL5UpUyb3\nvubNm1uYKH/8d0NvGEbuSZPwHAylHuxWF1yPiopSQkKCBYnyx65du2752MMPP+zGJPi1Zs+erSNH\njmjq1KkKCAhQcnKypkyZopo1a2rw4MFWx8NtdOjQQa+88kqeIccTPhhg//79qlu3bu7XO3fu9Igf\nkPr27Zt7mNvTpKam6rvvvlOFChUUEBBgdRy4AIfvPditPu2ioF9cnsGz4NmyZYtWrlz5f+3dX0zV\n9R/H8deB6HBaEgiFfzhTDxJHrMFMaWZeNBIVGAM6IWSOLMzC5oqJBiaG/TEytbmzcuKFdjiIQYIa\ngkOFhlkiaQP7A3JgQCKgU6jDCIFzfhfO85OfHfMH38PH8/X1uDp8jxfPDdze+/55f22XSf38/LB9\n+3YkJCQ49VB6cyfkP8nPzx/jGseYOHEinnnmGdEZkqmpqUFjYyP27NmD5cuXAwAsFguMRqPt3lln\nNnnyZOzatQszZsyw/W06+7MDAHDs2DHs2LEDFosFixYtgpubmyzu3abhOJTKmKenJ+rq6vDkk0/a\njtXV1eGRRx4RWEX3I5VKddvw5ubm5vS7IW9925FceXt7IzMzE0FBQbbf4ZIlSwRXjZyHhweuXLmC\n69ev4/Lly+jp6YGnpyfS0tJEp0liYGAAzc3NaG5uth2Tw1C6e/duFBQUIDk5GSkpKdDpdBxKZYhD\nqYytXbsWb775Jp5++mmo1Wr88ccf+OGHH7h0mMacSqVCW1vbsAcT2tranH57ws03o3V0dODjjz+G\nyWTC1KlTkZ6eLrhMOn5+fgBg2w3s7AYGBlBeXo7c3FycP38eGzduhIeHB7Rareg0SWzevBnNzc1o\nbW1FYGAgHnvsMdFJknB1dYVSqYRCoYCLiwsv38sU7ymVuf7+flRWVqKtrQ2+vr4ICwvDQw89JDqL\n7jMXLlxAamoq5s6dC7Vajfb2dpw8eRLZ2dkICgoSnTdqycnJSExMxJw5c1BdXQ2DwYC9e/eKzpLM\nqVOn0NbWhuDgYEybNg1KpVJ00oglJSUhPT0dWq0WERER2LJlC6ZMmYLk5GRZ3HKRm5uL8vJy9PT0\nIDY2Fi0tLcjMzBSdNWpbtmxBZ2cn6urqMG/ePLi6umL9+vWis0hiPFMqc0qlEgsXLhSdQfe5gIAA\n5OXl4fjx4+jq6sLMmTOxatUq2awm6+/vR1hYGIAb+yKd/a1pt9q2bRs6OjpgMpnw4IMPYteuXU59\n2xBN38MAAAugSURBVILFYoFWq0VnZyf6+vps665urhlydiUlJTAajUhKSkJSUpJstkCkpaWhoqIC\nAQEB0Gg0WLBggegkcgAOpUQ0JsaNG+f0bzmyZ2hoCPX19QgMDER9fb3T35Zwq59++glGoxHLli1D\nbGws9u3bJzppVG4+AFpVVWVbJzcwMDBsPZQzu/nKZTntXgWAF198ETqdDi+//LLT34tO9nEoJSIa\nocLCQkRFRWHDhg3IyMhAV1cXfH198cEHH4hOk8zQ0BD6+/uhUCgwNDTk9GcU586di4SEBHR0dODL\nL79Ea2srNm3ahIiICNFpkoiKisLSpUvR3t6OFStW4PnnnxedJAm9Xo+DBw9i2bJlmDFjBuLj4xEc\nHCw6iyTGe0qJiEboo48+QmVlJebNm4eEhATZPCxzq9LSUuj1ely9ehUTJ07EK6+8gujoaNFZo2Iy\nmfDwww/D19cXra2tqK+vl9XlYJPJhIaGBmg0GgQGBorOkVRnZyc++eQTVFVVoaamRnQOSYxDKRHR\nKAwMDOD48eM4cOAA/vzzT7zwwguIioqS1dPBPT09aGlpgVqthpeXl+gcuoPa2lqUlJQMewPX+++/\nLy5IIocPH0ZxcTH6+voQFxeHyMhIWf0foxs4lBIRSaSzsxMGgwEFBQU4ffq06BxJnDhxAgcOHBg2\n5OTk5AgsojtZvHgxVqxYAQ8PD9sxOVzC//DDDxEfH4/HH38cAHD9+nXZ3C9L/8V7SomIRqm/vx/l\n5eUoLi5Gb2+vbBaxA0B2djY2bdrEl244iSlTpiAuLk50huTee+89AMDFixeRl5eH4uJifP/994Kr\nSGocSomIRuj06dMoLi7G6dOnERYWhrVr19rO5MhFQECALN4Jf79YuHAh3nnnHfj7+9uOOfOrfG86\nefIkcnNzcebMGbz66qv45ptvRCeRA3AoJSIaIb1ej/j4eGRlZcn2UmJYWBiWLFkCjUZjO7Z582aB\nRXQnRqMR4eHhwy7fO7O9e/eisLAQ06dPx9KlSzEwMIBVq1aJziIH4VBKRDRCBoNBdILDGQwGJCcn\nY9y4caJT6C54enri9ddfF50hmZ07dyImJgY6nQ7+/v746quvRCeRA3EoJSIiu3x8fGSzw/N+4OXl\nhczMTAQFBdkW6C9ZskRw1chVVFSgrKwMmZmZsFgsMJvN6O3t5QJ9meJQSkREdrm7u+O1114bNuSk\npqYKriJ7pkyZAgC4cuWK4BJpuLu7IyYmBjExMWhqakJBQQGioqIQEhKC7du3i84jiXElFBER2VVU\nVHTbsdjYWAEldLcqKytx4cIFTJs2TRbroP7XwMAAjh07hsWLF4tOIYlxKCUiIrsGBwexf/9+NDY2\nYurUqUhMTJTtQ11ysHXrVrS0tGDWrFmoqamBWq3GunXrRGcR3RUOpUREZFdGRgY8PDwwe/ZsVFdX\no7u7G59++qnoLLIjISEB+fn5AACr1Yr4+HgUFBQIriK6O7ynlIiI7GppaYHRaARw481ACQkJgovo\nTgYHB2GxWODi4gKr1Wq7D9jZ7dmzBzExMfD09BSdQg7EoZSIiOzq7+9HX18fVCoV+vr6MDQ0JDqJ\n7iAiIgKJiYkIDg5GbW2tbDYnPPDAA1i5ciUmTZoEnU6HefPmiU4iB+DleyIisuvw4cPQ6/WYPn06\nGhsbsXr1akRGRorOojtoaGhAU1MTNBqN7N4w9vvvvyMnJwfnzp2DTqfDsmXLuENXRjiUEhHRbdLT\n022fr127ZrsU7OXlxTc63YP0er3d7+TwmlGz2YzS0lIUFRVBpVJBp9PBYrEgNzcX+/btE51HEuHl\neyIius358+fx999/Izo6GpGRkeD5i3tbbm4uPDw8EBkZiQkTJsju9xUbG4vIyEhkZ2dDrVbbjv/2\n228Cq0hqPFNKRET/qKGhAYcOHUJtbS3mzJmD6Oho23J2urcMDg6iqqoK3377LXp7exEeHo6FCxfK\n5s1HNx/euunq1asYP368wCJyBA6lRET0r86cOQODwYCOjg58/fXXonPoDnp7e1FeXo6ysjKoVCpZ\nvPlIr9fDaDRicHAQfX19UKvVKC0tFZ1FEnP5939CRET3K7PZjKKiIuzcuRNXrlxBdHS06CT6F7/8\n8gvOnj2L9vZ2TJgwQXSOJMrLy1FZWYmoqCgcOnQIkyZNEp1EDsB7SomI6DZHjhzBkSNH0N7ejvDw\ncGRlZcHPz090FtlRW1uLkpISnDp1CiEhIYiKikJWVpZs9pQ++uijUCqVMJvN0Gg0uH79uugkcgBe\nviciottotVpoNBpotVoAGDbcbN26VVQW2aHVauHv74/58+fDzc1t2O8rNTVVYJk0MjIyMHv2bJw7\ndw7e3t6oqKjAwYMHRWeRxDiUEhHRbaqrq+1+FxoaOoYldDeKiorsfhcbGzuGJY4xNDSES5cuwdPT\nE4WFhZg7dy4CAwNFZ5HEOJQSERHRPauxsRFlZWXo7u6Gr68vFi1aNGwtFMkHH3QiIiKie9LRo0eR\nlpaG8ePHIzQ0FG5ubkhJScGJEydEp5ED8EwpERER3ZNeeukl5OTkDNu3+tdffyElJQUGg0FgGTkC\nn74nIiKSCbPZjJycHHR1deG5555DYGCgU7/wwNXV9bYXAIwbNw6urq6CisiRePmeiIhIJjIyMqBW\nq9HS0gIfHx+sX79edNKo2FtpZbFYxriExgLPlBIREclEd3c3dDodDh06hFmzZjn98GYymbB27dph\nx6xWK5qamgQVkSNxKCUiIpIRk8kEAOjo6HD6y9yfffbZPx6Pi4sb4xIaC3zQiYiISCYaGhqwYcMG\nmEwmaDQabNy4ETNnzhSdRXRXeKaUiIhIJqqqqrB//37RGUQjwgediIiIZOK7777D0NCQ6AyiEeGZ\nUiIiIpm4du0a5s+fDz8/PygUCigUCuTn54vOGrXOzk4cOXIE/f39tmNvvPGGwCJyBA6lREREMrFz\n507RCQ6xevVqzJkzBxMnThSdQg7EoZSIiEgmioqKbjv21ltvCSiRlkqlwpo1a0RnkINxKCUiIpIJ\nHx8fADd2ef76669Ov6f0psDAQJSVlSEoKMi2UF+tVguuIqlxKCUiIpKJhISEYT8nJycLKpFWXV0d\n6urqbD8rFAoYjUaBReQIHEqJiIhkorm52fb58uXLaG9vF1gjnby8PJjNZly6dAl+fn5QqVSik8gB\nOJQSERHJRGZmpu2zUqnEu+++K7BGOseOHcOOHTtgsViwaNEiuLm5YeXKlaKzSGLcU0pERCQTy5cv\nh8FggMFgwO7du2E2m0UnSWL37t0oKCiAl5cXUlJScPToUdFJ5AA8U0pEROTkKioqcPbsWZSUlODn\nn38GAFgsFhw/fhwRERGC60bP1dUVSqUSCoUCLi4uvHwvUxxKiYiInJxWq0V3dzeUSiWmTZsG4MbD\nQJGRkYLLpBESEoK0tDR0dnZi06ZNCAoKEp1EDqCwWq1W0RFEREQ0elar1bYySW4qKirQ0NAAjUaD\nBQsWiM4hB+BQSkREJBPPPvus7XN3dzfUajVKS0sFFo3O22+/jc8//1x0Bo0RXr4nIiKSiZMnT9o+\nX7x4EXq9XmDN6F29elV0Ao0hDqVEREQyNHnyZDQ1NYnOGJW2tjZs27btH79LTU0d4xpyNA6lRERE\nMpGammq7p7Srqwve3t6Ci0bH3d3d9uAWyR+HUiIiIpm49TWjSqUSTzzxhMCa0fPx8UFsbKzoDBoj\nXJ5PRETk5L744gsAQGhoKKZOnYrQ0FAEBwfD1dVVcNnoOPtQTf8fDqVERERO7scff7R9XrNmjcAS\naa1bt050Ao0hDqVERERO7tbtjtz0SM6KQykREZGTu3VhvlyX55P8cXk+ERGRk3vqqacQEBAAq9WK\nxsZG22eFQoH8/HzReUR3hUMpERGRk7t48aLd7yZPnjyGJUQjx6GUiIiIiITjPaVEREREJByHUiIi\nIiISjkMpEREREQnHoZSIiIiIhPsPr5CZjIXx5mgAAAAASUVORK5CYII=\n",
      "text/plain": [
<<<<<<< HEAD
       "<matplotlib.figure.Figure at 0x2abe04fc2e8>"
=======
       "<matplotlib.figure.Figure at 0x1c381d2f4e0>"
>>>>>>> 0c290bb27845d05b00ba61cdabcc4b80e898ff54
      ]
     },
     "metadata": {},
     "output_type": "display_data"
    }
   ],
   "source": [
    "# Create a heatmap with the new features.\n",
    "\n",
    "corrmat = new_data.corr()\n",
    "\n",
    "# Set up the matplotlib figure.\n",
    "f, ax = plt.subplots(figsize=(12, 9))\n",
    "\n",
    "# Draw the heatmap using seaborn\n",
    "sns.heatmap(corrmat, vmax=.8, square=True)\n",
    "plt.show()"
   ]
  },
  {
   "cell_type": "markdown",
   "metadata": {},
   "source": [
    "# Section 2: Creation and Comparison of Predictive Models"
   ]
  },
  {
   "cell_type": "markdown",
   "metadata": {},
   "source": [
    "Now that the data has been analyzed to ensure it can be manipulated, it is time to create some predictive models. For comparison, the scores from the models will be stored in a new table, titled \"Model Comparison.\""
   ]
  },
  {
   "cell_type": "code",
   "execution_count": 18,
   "metadata": {
    "collapsed": false
   },
   "outputs": [
    {
     "data": {
      "text/html": [
       "<div>\n",
       "<table border=\"1\" class=\"dataframe\">\n",
       "  <thead>\n",
       "    <tr style=\"text-align: right;\">\n",
       "      <th></th>\n",
       "      <th>Model</th>\n",
       "      <th>R^2</th>\n",
       "      <th>Accuracy</th>\n",
       "      <th>AUROC</th>\n",
       "    </tr>\n",
       "  </thead>\n",
       "  <tbody>\n",
       "  </tbody>\n",
       "</table>\n",
       "</div>"
      ],
      "text/plain": [
       "Empty DataFrame\n",
       "Columns: [Model, R^2, Accuracy, AUROC]\n",
       "Index: []"
      ]
     },
     "execution_count": 18,
     "metadata": {},
     "output_type": "execute_result"
    }
   ],
   "source": [
    "# Create a table to store the scores for each model.\n",
    "# Title: Model Comparison\n",
    "# Columns: Model, R^2, Accuracy, AUROC\n",
    "# Model values: Linear Regression, Ridge Regression, Lasso Regression, Support Vector Regression, Gradient Boost Classification\n",
    "models = {'Model':[], 'R^2':[], 'Accuracy':[], 'AUROC':[]}\n",
    "columns = models.keys()\n",
    "model_comparison = pd.DataFrame(data=models, columns=columns)\n",
    "model_comparison\n",
    "\n",
    "################# Change this to model, scoring metric, and value. \n",
    "################# R^2 for Regression, Accuracy for Classification."
   ]
  },
  {
   "cell_type": "code",
   "execution_count": 19,
   "metadata": {
    "collapsed": true
   },
   "outputs": [],
   "source": [
    "# Set the variables. \n",
    "# Use the closing value for Y\n",
    "# Use the new features for X\n",
    "Y = data['Future Momentum']\n",
    "X = data[['Close', 'Volume', 'Momentum', 'Streak']]"
   ]
  },
  {
   "cell_type": "code",
   "execution_count": 20,
   "metadata": {
    "collapsed": true
   },
   "outputs": [],
   "source": [
    "# Create new variables to include the ten day average\n",
    "new_Y = new_data['Future Momentum']\n",
    "new_X = new_data[['Close', 'Volume', 'Momentum', 'Streak','Ten Day Average']]"
   ]
  },
  {
   "cell_type": "markdown",
   "metadata": {},
   "source": [
    "# Logistic Regression"
   ]
  },
  {
   "cell_type": "code",
   "execution_count": 21,
<<<<<<< HEAD
   "metadata": {},
=======
   "metadata": {
    "collapsed": false
   },
>>>>>>> 0c290bb27845d05b00ba61cdabcc4b80e898ff54
   "outputs": [
    {
     "name": "stdout",
     "output_type": "stream",
     "text": [
      "R-Squared of the model:\n",
      "-0.907435508346\n",
      "Accuracy of the model:\n",
      "0.524264120923\n",
      "Confusion Matrix of the model:\n",
      "[[  0 598]\n",
      " [  0 659]]\n",
      "AUROC Score:\n",
      "[ 0.52752525  0.40050505  0.57651515  0.5219697   0.37550505  0.52171717\n",
      "  0.48535354  0.44242424  0.54648177  0.44067797]\n",
      "Average of the AUROC Score:\n",
      "0.483867488444\n"
     ]
    }
   ],
   "source": [
    "# Declare a logistic regression classifier.\n",
    "# Larger C's lead to reduced regularization of parameters, but because there are\n",
    "#   few features, the value of C has a trivial effect (tested for many C's)\n",
    "lr = LogisticRegression(C=1e9)\n",
    "\n",
    "# Make a dictionary to pass to the models_comparison dataframe\n",
    "#lr1 = {'Model':'Logistic Regression 1', 'R^2':0, 'Accuracy':0,}\n",
    "\n",
    "# Fit the model.\n",
    "lr.fit(X,Y)\n",
    "y_pred = lr.fit(X,Y).predict(X)\n",
    "\n",
    "# Print the R-Squared value and store it in the table\n",
    "print('R-Squared of the model:') \n",
    "score = r2_score(Y, y_pred)\n",
    "print(score)\n",
    "#lr1['R^2'] = score\n",
    "\n",
    "\n",
    "# Print the accuracy of the model and store it in the table\n",
    "print('Accuracy of the model:')\n",
    "print(lr.score(X,Y))\n",
    "#lr1['Accuracy'] = lr.score\n",
    "\n",
    "\n",
    "print('Confusion Matrix of the model:')\n",
    "conf_mat = confusion_matrix(Y, y_pred)\n",
    "print(conf_mat)\n",
    "\n",
    "# Print the AUROC.\n",
    "cv = cross_val_score(lr, X, Y, cv=10, scoring='roc_auc') \n",
    "print('AUROC Score:')\n",
    "print(cv)\n",
    "# Print the average of the AUROC and store it in the table\n",
    "print('Average of the AUROC Score:')\n",
    "ave = sum(cv)/len(cv)\n",
    "print(ave)\n",
    "\n",
    "# Store the data in the model_comparison table\n",
    "models = {'Model':['Logistic Regression 1'], 'R^2':[score], 'Accuracy':[lr.score(X,Y)],\n",
    "         'AUROC':[ave]}\n",
    "model_comparison = model_comparison.append(pd.DataFrame(data=models, columns=models.keys()), ignore_index=True)"
   ]
  },
  {
   "cell_type": "code",
   "execution_count": 22,
   "metadata": {
    "collapsed": false
   },
   "outputs": [
    {
     "name": "stdout",
     "output_type": "stream",
     "text": [
      "[ 1.  1.  1. ...,  1.  1.  1.]\n",
      "1.0\n"
     ]
    }
   ],
   "source": [
    "print(y_pred)\n",
    "print(y_pred.mean())"
   ]
  },
  {
   "cell_type": "markdown",
   "metadata": {},
   "source": [
    "# Analysis of Results for the First Logistic Regression:\n",
    "R-Squared: A negative r2 value is indicative of the model being arbitrarily worse.\n",
    "\n",
    "As seen above, the total momentum is +60 for 1258 rows of data, and the y_pred\n",
    "value is always 1. \n",
    "\n",
    "Accuracy: The accuracy of the model is 52.4%.\n",
    "\n",
    "Confusion Matrix: The matrix shows 598 False Positives and 659 True Positives.\n",
    "\n",
    "Average AUROC: The average area under the curve is .483867... "
   ]
  },
  {
   "cell_type": "code",
   "execution_count": 23,
<<<<<<< HEAD
   "metadata": {},
=======
   "metadata": {
    "collapsed": false
   },
>>>>>>> 0c290bb27845d05b00ba61cdabcc4b80e898ff54
   "outputs": [
    {
     "name": "stdout",
     "output_type": "stream",
     "text": [
      "R-Squared of the model:\n",
      "-0.908256880734\n",
      "Accuracy of the model:\n",
      "0.524038461538\n",
      "Confusion Matrix of the model:\n",
      "[[  0 594]\n",
      " [  0 654]]\n",
      "AUROC Score:\n",
      "[ 0.51641414  0.42575758  0.58181818  0.49191919  0.37835724  0.55306389\n",
      "  0.48474576  0.44328553  0.58670143  0.4440678 ]\n",
      "Average of the AUROC Score:\n",
      "0.490613073367\n"
     ]
    }
   ],
   "source": [
    "# Use Logistic Regression again, but use the ten-day average.\n",
    "# If the accuracy improves, it will show that the model can be improved.\n",
    "\n",
    "# Make a dictionary to store the values\n",
    "lr2 = {'Model':'Logistic Regression 2', 'R^2':0, 'Accuracy':0, 'AUROC':0}\n",
    "\n",
    "# Fit the model.\n",
    "lr.fit(new_X, new_Y)\n",
    "y_pred = lr.fit(new_X,new_Y).predict(new_X)\n",
    "\n",
    "# Print the R-Squared value and store it in the table\n",
    "print('R-Squared of the model:') \n",
    "score = r2_score(new_Y, y_pred)\n",
    "lr2['R^2'] = score\n",
    "print(score)\n",
    "\n",
    "# Print the accuracy of the model and store it in the table\n",
    "print('Accuracy of the model:')\n",
    "print(lr.score(new_X,new_Y))\n",
    "# TODO: STORE IN TABLE\n",
    "lr2['Accuracy'] = lr.score\n",
    "\n",
    "print('Confusion Matrix of the model:')\n",
    "conf_mat = confusion_matrix(new_Y, y_pred)\n",
    "print(conf_mat)\n",
    "\n",
    "# Print the AUROC.\n",
    "cv = cross_val_score(lr, new_X, new_Y, cv=10, scoring='roc_auc') \n",
    "print('AUROC Score:')\n",
    "print(cv)\n",
    "# Print the average of the AUROC and store it in the table\n",
    "print('Average of the AUROC Score:')\n",
    "ave = sum(cv)/len(cv)\n",
    "lr2['AUROC'] = ave\n",
    "print(ave)\n",
    "\n",
    "# Store the data in the model_comparison table\n",
    "models = {'Model':['Logistic Regression 2'], 'R^2':[score], 'Accuracy':[lr.score(new_X,new_Y)],\n",
    "         'AUROC':[ave]}\n",
    "model_comparison = model_comparison.append(pd.DataFrame(data=models, columns=models.keys()), ignore_index=True)"
   ]
  },
  {
   "cell_type": "code",
   "execution_count": 24,
   "metadata": {
    "collapsed": false
   },
   "outputs": [
    {
     "name": "stdout",
     "output_type": "stream",
     "text": [
      "[ 1.  1.  1. ...,  1.  1.  1.]\n",
      "1.0\n"
     ]
    }
   ],
   "source": [
    "print(y_pred)\n",
    "print(y_pred.mean())"
   ]
  },
  {
   "cell_type": "markdown",
   "metadata": {},
   "source": [
    "# Analysis of Results for the Second Logistic Regression:\n",
    "R-Squared: A negative r2 value is indicative of the model being arbitrarily worse.\n",
    "\n",
    "Accuracy: The accuracy of the model is 52.4%.\n",
    "\n",
    "Confusion Matrix: The matrix shows 594 False Positives and 654 True Positives.\n",
    "\n",
    "Average AUROC: The average area under the curve is .406... "
   ]
  },
  {
   "cell_type": "markdown",
   "metadata": {},
   "source": [
    "# Ridge Regression"
   ]
  },
  {
   "cell_type": "code",
   "execution_count": 25,
   "metadata": {
    "collapsed": false
   },
   "outputs": [
    {
     "name": "stdout",
     "output_type": "stream",
     "text": [
      "R-Squared of the model:\n",
      "0.000417011761739\n",
      "Accuracy of the model:\n",
      "0.000417011761739\n",
      "AUROC Score:\n",
      "[ 0.53017241  0.44228831  0.52979798  0.53099798  0.51159274  0.50912779\n",
      "  0.47331141  0.44724653  0.47720287  0.3513302 ]\n",
      "Average of the AUROC Score:\n",
      "0.480306822224\n"
     ]
    }
   ],
   "source": [
    "# Fitting a ridge regression model. Alpha is the regularization\n",
    "# parameter (usually called lambda). As alpha gets larger, parameter\n",
    "# shrinkage grows more pronounced. Note that by convention, the\n",
    "# intercept is not regularized. Since we standardized the data\n",
    "# earlier, the intercept should be equal to zero and can be dropped.\n",
    "\n",
    "ridgeregr = linear_model.Ridge(alpha=10, fit_intercept=False) \n",
    "ridgeregr.fit(X, Y)\n",
    "\n",
    "y_pred = ridgeregr.fit(X,Y).predict(X)\n",
    "\n",
    "# Print the R-Squared value and store it in the table\n",
    "print('R-Squared of the model:') \n",
    "score = r2_score(Y, y_pred)\n",
    "print(score)\n",
    "\n",
    "# Print the accuracy of the model and store it in the table\n",
    "print('Accuracy of the model:')\n",
    "print(ridgeregr.score(X,Y))\n",
    "# TODO: STORE IN TABLE\n",
    "\n",
    "\"\"\"\n",
    "print('Confusion Matrix of the model:')\n",
    "conf_mat = confusion_matrix(Y, y_pred)\n",
    "print(conf_mat)\n",
    "\"\"\"\n",
    "# Print the AUROC.\n",
    "cv = cross_val_score(ridgeregr, X, Y, cv=10, scoring='roc_auc') \n",
    "print('AUROC Score:')\n",
    "print(cv)\n",
    "# Print the average of the AUROC and store it in the table\n",
    "print('Average of the AUROC Score:')\n",
    "print(sum(cv)/len(cv))\n",
    "\n",
    "# Store the data in the model_comparison table\n",
    "models = {'Model':['Ridge Regression 1'], 'R^2':[score], 'Accuracy':[ridgeregr.score(X,Y)],\n",
    "         'AUROC':[ave]}\n",
    "model_comparison = model_comparison.append(pd.DataFrame(data=models, columns=models.keys()), ignore_index=True)"
   ]
  },
  {
   "cell_type": "code",
   "execution_count": 26,
   "metadata": {
    "collapsed": false
   },
   "outputs": [
    {
     "name": "stdout",
     "output_type": "stream",
     "text": [
      "[ 0.03578161  0.03574146  0.02117346 ...,  0.07192826  0.0845071\n",
      "  0.10206515]\n",
      "0.0477904672036\n"
     ]
    }
   ],
   "source": [
    "print(y_pred)\n",
    "print(y_pred.mean())"
   ]
  },
  {
   "cell_type": "markdown",
   "metadata": {},
   "source": [
    "# Analysis of Results for the First Ridge Regression:\n",
    "R-Squared: \n",
    "\n",
    "Accuracy: \n",
    "\n",
    "Confusion Matrix: \n",
    "\n",
    "Average AUROC: "
   ]
  },
  {
   "cell_type": "code",
   "execution_count": 27,
   "metadata": {
    "collapsed": false
   },
   "outputs": [
    {
     "name": "stdout",
     "output_type": "stream",
     "text": [
      "R-Squared of the model:\n",
      "0.0016389209226\n",
      "Accuracy of the model:\n",
      "0.0016389209226\n",
      "AUROC Score:\n",
      "[ 0.45536636  0.46307692  0.55687082  0.51357582  0.57066052  0.59752322\n",
      "  0.47220793  0.55223881  0.50911458  0.37671958]\n",
      "Average of the AUROC Score:\n",
      "0.506735455214\n"
     ]
    }
   ],
   "source": [
    "# Use Ridge Regression again, but use the ten-day average.\n",
    "# If the accuracy improves, it will show that the model can be improved.\n",
    "\n",
    "ridgeregr.fit(new_X, new_Y)\n",
    "y_pred = ridgeregr.fit(new_X,new_Y).predict(new_X)\n",
    "\n",
    "# Print the R-Squared value and store it in the table\n",
    "print('R-Squared of the model:') \n",
    "score = r2_score(new_Y, y_pred)\n",
    "print(score)\n",
    "\n",
    "# Print the accuracy of the model and store it in the table\n",
    "print('Accuracy of the model:')\n",
    "print(ridgeregr.score(new_X,new_Y))\n",
    "# TODO: STORE IN TABLE\n",
    "\n",
    "\"\"\"\n",
    "print('Confusion Matrix of the model:')\n",
    "conf_mat = confusion_matrix(new_Y, y_pred)\n",
    "print(conf_mat)\n",
    "\"\"\"\n",
    "# Print the AUROC.\n",
    "cv = cross_val_score(ridgeregr, new_X, new_Y, cv=10, scoring='roc_auc') \n",
    "print('AUROC Score:')\n",
    "print(cv)\n",
    "# Print the average of the AUROC and store it in the table\n",
    "print('Average of the AUROC Score:')\n",
    "print(sum(cv)/len(cv))\n",
    "\n",
    "# Store the data in the model_comparison table\n",
    "models = {'Model':['Ridge Regression 2'], 'R^2':[score], 'Accuracy':[ridgeregr.score(new_X,new_Y)],\n",
    "         'AUROC':[ave]}\n",
    "model_comparison = model_comparison.append(pd.DataFrame(data=models, columns=models.keys()), ignore_index=True)"
   ]
  },
  {
   "cell_type": "code",
   "execution_count": 28,
   "metadata": {
    "collapsed": false
   },
   "outputs": [
    {
     "name": "stdout",
     "output_type": "stream",
     "text": [
      "[ 0.03422879  0.02882705  0.0408703  ...,  0.07887133  0.08419232\n",
      "  0.12764107]\n",
      "0.0476211119218\n"
     ]
    }
   ],
   "source": [
    "print(y_pred)\n",
    "print(y_pred.mean())"
   ]
  },
  {
   "cell_type": "markdown",
   "metadata": {},
   "source": [
    "# Analysis of Results for the Second Ridge Regression:\n",
    "R-Squared: \n",
    "\n",
    "Accuracy: \n",
    "\n",
    "Confusion Matrix: \n",
    "\n",
    "Average AUROC: "
   ]
  },
  {
   "cell_type": "markdown",
   "metadata": {},
   "source": [
    "# Lasso Regression"
   ]
  },
  {
   "cell_type": "code",
   "execution_count": 29,
   "metadata": {
    "collapsed": false
   },
   "outputs": [
    {
     "name": "stdout",
     "output_type": "stream",
     "text": [
      "R-Squared of the model:\n",
      "3.58369809751e-05\n",
      "Accuracy of the model:\n",
      "3.58369809751e-05\n",
      "AUROC Score:\n",
      "[ 0.52890467  0.42111895  0.5270202   0.41355847  0.45262097  0.52890467\n",
      "  0.46142171  0.43232115  0.47464139  0.44653104]\n",
      "Average of the AUROC Score:\n",
      "0.468704320916\n"
     ]
    }
   ],
   "source": [
    "lasso = linear_model.Lasso(alpha=.35)\n",
    "lasso.fit(X, Y)\n",
    "\n",
    "y_pred = lasso.fit(X,Y).predict(X)\n",
    "\n",
    "# Print the R-Squared value and store it in the table\n",
    "print('R-Squared of the model:') \n",
    "score = r2_score(Y, y_pred)\n",
    "print(score)\n",
    "\n",
    "# Print the accuracy of the model and store it in the table\n",
    "print('Accuracy of the model:')\n",
    "print(lasso.score(X,Y))\n",
    "# TODO: STORE IN TABLE\n",
    "\n",
    "\"\"\"\n",
    "print('Confusion Matrix of the model:')\n",
    "conf_mat = confusion_matrix(Y, y_pred)\n",
    "print(conf_mat)\n",
    "\"\"\"\n",
    "# Print the AUROC.\n",
    "cv = cross_val_score(lasso, X, Y, cv=10, scoring='roc_auc') \n",
    "print('AUROC Score:')\n",
    "print(cv)\n",
    "# Print the average of the AUROC and store it in the table\n",
    "print('Average of the AUROC Score:')\n",
    "print(sum(cv)/len(cv))\n",
    "\n",
    "# Store the data in the model_comparison table\n",
    "models = {'Model':['Lasso Regression 1'], 'R^2':[score], 'Accuracy':[lasso.score(X,Y)],\n",
    "         'AUROC':[ave]}\n",
    "model_comparison = model_comparison.append(pd.DataFrame(data=models, columns=models.keys()), ignore_index=True)"
   ]
  },
  {
   "cell_type": "code",
   "execution_count": 30,
   "metadata": {
    "collapsed": false
   },
   "outputs": [
    {
     "name": "stdout",
     "output_type": "stream",
     "text": [
      "[ 0.04302036  0.04367439  0.04192738 ...,  0.05594064  0.05569343\n",
      "  0.05709057]\n",
      "0.0485282418457\n"
     ]
    }
   ],
   "source": [
    "print(y_pred)\n",
    "print(y_pred.mean())"
   ]
  },
  {
   "cell_type": "markdown",
   "metadata": {},
   "source": [
    "# Analysis of Results for the First Lasso Regression:\n",
    "R-Squared: \n",
    "\n",
    "Accuracy: \n",
    "\n",
    "Confusion Matrix: \n",
    "\n",
    "Average AUROC: "
   ]
  },
  {
   "cell_type": "code",
   "execution_count": 31,
   "metadata": {
    "collapsed": false
   },
   "outputs": [
    {
     "name": "stdout",
     "output_type": "stream",
     "text": [
      "R-Squared of the model:\n",
      "0.000115556606135\n",
      "Accuracy of the model:\n",
      "0.000115556606135\n",
      "AUROC Score:\n",
      "[ 0.5250258   0.42333333  0.52959341  0.41060451  0.46748592  0.53224974\n",
      "  0.46603191  0.42794647  0.49817708  0.37751323]\n",
      "Average of the AUROC Score:\n",
      "0.465796140946\n"
     ]
    }
   ],
   "source": [
    "lasso.fit(new_X, new_Y)\n",
    "\n",
    "y_pred = lasso.fit(new_X,new_Y).predict(new_X)\n",
    "\n",
    "# Print the R-Squared value and store it in the table\n",
    "print('R-Squared of the model:') \n",
    "score = r2_score(new_Y, y_pred)\n",
    "print(score)\n",
    "\n",
    "# Print the accuracy of the model and store it in the table\n",
    "print('Accuracy of the model:')\n",
    "print(lasso.score(new_X,new_Y))\n",
    "# TODO: STORE IN TABLE\n",
    "\n",
    "\"\"\"\n",
    "print('Confusion Matrix of the model:')\n",
    "conf_mat = confusion_matrix(new_Y, y_pred)\n",
    "print(conf_mat)\n",
    "\"\"\"\n",
    "# Print the AUROC.\n",
    "cv = cross_val_score(lasso, new_X, new_Y, cv=10, scoring='roc_auc') \n",
    "print('AUROC Score:')\n",
    "print(cv)\n",
    "# Print the average of the AUROC and store it in the table\n",
    "print('Average of the AUROC Score:')\n",
    "print(sum(cv)/len(cv))\n",
    "\n",
    "# Store the data in the model_comparison table\n",
    "models = {'Model':['Lasso Regression 2'], 'R^2':[score], 'Accuracy':[lasso.score(new_X,new_Y)],\n",
    "         'AUROC':[ave]}\n",
    "model_comparison = model_comparison.append(pd.DataFrame(data=models, columns=models.keys()), ignore_index=True)"
   ]
  },
  {
   "cell_type": "code",
   "execution_count": 32,
   "metadata": {
    "collapsed": false
   },
   "outputs": [
    {
     "name": "stdout",
     "output_type": "stream",
     "text": [
      "[ 0.03178294  0.03457972  0.03329652 ...,  0.06441369  0.06404839\n",
      "  0.06699899]\n",
      "0.0480769230769\n"
     ]
    }
   ],
   "source": [
    "print(y_pred)\n",
    "print(y_pred.mean())"
   ]
  },
  {
   "cell_type": "markdown",
   "metadata": {},
   "source": [
    "# Analysis of Results for the Second Lasso Regression Classifier:\n",
    "R-Squared: \n",
    "\n",
    "Accuracy: \n",
    "\n",
    "Confusion Matrix: \n",
    "\n",
    "Average AUROC: "
   ]
  },
  {
   "cell_type": "markdown",
   "metadata": {},
   "source": [
    "# Support Vector Regression"
   ]
  },
  {
   "cell_type": "code",
   "execution_count": 33,
<<<<<<< HEAD
   "metadata": {},
=======
   "metadata": {
    "collapsed": false
   },
>>>>>>> 0c290bb27845d05b00ba61cdabcc4b80e898ff54
   "outputs": [
    {
     "name": "stdout",
     "output_type": "stream",
     "text": [
      "R-Squared of the model:\n",
      "3.58369809751e-05\n",
      "Accuracy of the model:\n",
      "0.749417240786\n",
      "AUROC Score:\n",
      "[ 0.5  0.5  0.5  0.5  0.5  0.5  0.5  0.5  0.5  0.5]\n",
      "Average of the AUROC Score:\n",
      "0.5\n"
     ]
    }
   ],
   "source": [
    "# TODO: Look up the epsilon value for SVR\n",
    "# Changing value for epsilon may reduce the overfitting\n",
    "\n",
    "# Make a model using SVR here\n",
    "svr = SVR(epsilon=.5)\n",
    "svr.fit(X,Y)\n",
    "y_pred = lasso.fit(X,Y).predict(X)\n",
    "\n",
    "# Print the R-Squared value and store it in the table\n",
    "print('R-Squared of the model:') \n",
    "score = r2_score(Y, y_pred)\n",
    "print(score)\n",
    "\n",
    "# Print the accuracy of the model and store it in the table\n",
    "print('Accuracy of the model:')\n",
    "print(svr.score(X,Y))\n",
    "# TODO: STORE IN TABLE\n",
    "\n",
    "\n",
    "#print('Confusion Matrix of the model:')\n",
    "#conf_mat = confusion_matrix(Y, y_pred)\n",
    "#print(conf_mat)\n",
    "\n",
    "# Print the AUROC.\n",
    "cv = cross_val_score(svr, X, Y, cv=10, scoring='roc_auc') \n",
    "print('AUROC Score:')\n",
    "print(cv)\n",
    "# Print the average of the AUROC and store it in the table\n",
    "print('Average of the AUROC Score:')\n",
    "print(sum(cv)/len(cv))\n",
    "\n",
    "# Store the data in the model_comparison table\n",
    "models = {'Model':['Support Vector Regression 1'], 'R^2':[score], 'Accuracy':[svr.score(X,Y)],\n",
    "         'AUROC':[ave]}\n",
    "model_comparison = model_comparison.append(pd.DataFrame(data=models, columns=models.keys()), ignore_index=True)"
   ]
  },
  {
   "cell_type": "code",
   "execution_count": 34,
   "metadata": {
    "collapsed": false
   },
   "outputs": [
    {
     "name": "stdout",
     "output_type": "stream",
     "text": [
      "[ 0.04302036  0.04367439  0.04192738 ...,  0.05594064  0.05569343\n",
      "  0.05709057]\n",
      "0.0485282418457\n"
     ]
    }
   ],
   "source": [
    "print(y_pred)\n",
    "print(y_pred.mean())"
   ]
  },
  {
   "cell_type": "markdown",
   "metadata": {},
   "source": [
    "# Analysis of Results for the First Support Vector Regression Model:\n",
    "R-Squared: \n",
    "\n",
    "Accuracy: \n",
    "\n",
    "Confusion Matrix: \n",
    "\n",
    "Average AUROC: "
   ]
  },
  {
   "cell_type": "code",
   "execution_count": 35,
   "metadata": {
    "collapsed": false
   },
   "outputs": [
    {
     "name": "stdout",
     "output_type": "stream",
     "text": [
      "R-Squared of the model:\n",
      "0.749408762341\n",
      "Accuracy of the model:\n",
      "0.749408762341\n",
      "AUROC Score:\n",
      "[ 0.5  0.5  0.5  0.5  0.5  0.5  0.5  0.5  0.5  0.5]\n",
      "Average of the AUROC Score:\n",
      "0.5\n"
     ]
    }
   ],
   "source": [
    "svr.fit(new_X,new_Y)\n",
    "y_pred = svr.fit(new_X,new_Y).predict(new_X)\n",
    "\n",
    "# Print the R-Squared value and store it in the table\n",
    "print('R-Squared of the model:') \n",
    "score = r2_score(new_Y, y_pred)\n",
    "print(score)\n",
    "\n",
    "# Print the accuracy of the model and store it in the table\n",
    "print('Accuracy of the model:')\n",
    "print(svr.score(new_X,new_Y))\n",
    "# TODO: STORE IN TABLE\n",
    "\n",
    "\"\"\"\n",
    "print('Confusion Matrix of the model:')\n",
    "conf_mat = confusion_matrix(new_Y, y_pred)\n",
    "print(conf_mat)\n",
    "\"\"\"\n",
    "# Print the AUROC.\n",
    "cv = cross_val_score(svr, new_X, new_Y, cv=10, scoring='roc_auc') \n",
    "print('AUROC Score:')\n",
    "print(cv)\n",
    "# Print the average of the AUROC and store it in the table\n",
    "print('Average of the AUROC Score:')\n",
    "print(sum(cv)/len(cv))\n",
    "\n",
    "# Store the data in the model_comparison table\n",
    "models = {'Model':['Support Vector Regression 2'], 'R^2':[score], 'Accuracy':[svr.score(new_X,new_Y)],\n",
    "         'AUROC':[ave]}\n",
    "model_comparison = model_comparison.append(pd.DataFrame(data=models, columns=models.keys()), ignore_index=True)"
   ]
  },
  {
   "cell_type": "code",
   "execution_count": 36,
   "metadata": {
    "collapsed": false
   },
   "outputs": [
    {
     "name": "stdout",
     "output_type": "stream",
     "text": [
      "[-0.5003756  0.4996244  0.4996244 ..., -0.5003756 -0.5003756  0.4996244]\n",
      "0.0240384615385\n"
     ]
    }
   ],
   "source": [
    "print(y_pred)\n",
    "print(y_pred.mean())"
   ]
  },
  {
   "cell_type": "markdown",
   "metadata": {},
   "source": [
    "# Analysis of Results for the Second Support Vector Regression Model:\n",
    "R-Squared: \n",
    "\n",
    "Accuracy: \n",
    "\n",
    "Confusion Matrix: \n",
    "\n",
    "Average AUROC: \n",
    "\n",
    "## Talk about overfitting"
   ]
  },
  {
   "cell_type": "markdown",
   "metadata": {},
   "source": [
    "# Support Vector Classifier"
   ]
  },
  {
   "cell_type": "code",
   "execution_count": 37,
<<<<<<< HEAD
   "metadata": {},
=======
   "metadata": {
    "collapsed": false
   },
>>>>>>> 0c290bb27845d05b00ba61cdabcc4b80e898ff54
   "outputs": [
    {
     "name": "stdout",
     "output_type": "stream",
     "text": [
      "R-Squared of the model:\n",
      "1.0\n",
      "Accuracy of the model:\n",
      "1.0\n",
      "Confusion Matrix of the model:\n",
      "[[598   0]\n",
      " [  0 659]]\n",
      "AUROC Score:\n",
      "[ 0.5  0.5  0.5  0.5  0.5  0.5  0.5  0.5  0.5  0.5]\n",
      "Average of the AUROC Score:\n",
      "0.5\n"
     ]
    }
   ],
   "source": [
    "# Make a model using SVR here\n",
    "svc = SVC()\n",
    "svc.fit(X,Y)\n",
    "y_pred = svc.fit(X,Y).predict(X)\n",
    "\n",
    "# Print the R-Squared value and store it in the table\n",
    "print('R-Squared of the model:') \n",
    "score = r2_score(Y, y_pred)\n",
    "print(score)\n",
    "\n",
    "# Print the accuracy of the model and store it in the table\n",
    "print('Accuracy of the model:')\n",
    "print(svc.score(X,Y))\n",
    "# TODO: STORE IN TABLE\n",
    "\n",
    "\n",
    "print('Confusion Matrix of the model:')\n",
    "conf_mat = confusion_matrix(Y, y_pred)\n",
    "print(conf_mat)\n",
    "\n",
    "# Print the AUROC.\n",
    "cv = cross_val_score(svc, X, Y, cv=10, scoring='roc_auc') \n",
    "print('AUROC Score:')\n",
    "print(cv)\n",
    "# Print the average of the AUROC and store it in the table\n",
    "print('Average of the AUROC Score:')\n",
    "print(sum(cv)/len(cv))\n",
    "\n",
    "\n",
    "# Store the data in the model_comparison table\n",
    "models = {'Model':['Support Vector Classifier 1'], 'R^2':[score], 'Accuracy':[svc.score(X,Y)],\n",
    "         'AUROC':[ave]}\n",
    "model_comparison = model_comparison.append(pd.DataFrame(data=models, columns=models.keys()), ignore_index=True)"
   ]
  },
  {
   "cell_type": "code",
   "execution_count": 38,
   "metadata": {
    "collapsed": false
   },
   "outputs": [
    {
     "name": "stdout",
     "output_type": "stream",
     "text": [
      "[ 1. -1.  1. ..., -1. -1.  1.]\n",
      "0.0485282418457\n"
     ]
    }
   ],
   "source": [
    "print(y_pred)\n",
    "print(y_pred.mean())"
   ]
  },
  {
   "cell_type": "markdown",
   "metadata": {},
   "source": [
    "# Analysis of Results for the First Support Vector Classifier:\n",
    "R-Squared: \n",
    "\n",
    "Accuracy: \n",
    "\n",
    "Confusion Matrix: \n",
    "\n",
    "Average AUROC: "
   ]
  },
  {
   "cell_type": "code",
   "execution_count": 39,
   "metadata": {
    "collapsed": false
   },
   "outputs": [
    {
     "name": "stdout",
     "output_type": "stream",
     "text": [
      "R-Squared of the model:\n",
      "1.0\n",
      "Accuracy of the model:\n",
      "1.0\n",
      "Confusion Matrix of the model:\n",
      "[[594   0]\n",
      " [  0 654]]\n",
      "AUROC Score:\n",
      "[ 0.5  0.5  0.5  0.5  0.5  0.5  0.5  0.5  0.5  0.5]\n",
      "Average of the AUROC Score:\n",
      "0.5\n"
     ]
    }
   ],
   "source": [
    "svc.fit(new_X,new_Y)\n",
    "y_pred = svc.fit(new_X,new_Y).predict(new_X)\n",
    "\n",
    "# Print the R-Squared value and store it in the table\n",
    "print('R-Squared of the model:') \n",
    "score = r2_score(new_Y, y_pred)\n",
    "print(score)\n",
    "\n",
    "# Print the accuracy of the model and store it in the table\n",
    "print('Accuracy of the model:')\n",
    "print(svc.score(new_X, new_Y))\n",
    "# TODO: STORE IN TABLE\n",
    "\n",
    "\n",
    "print('Confusion Matrix of the model:')\n",
    "conf_mat = confusion_matrix(new_Y, y_pred)\n",
    "print(conf_mat)\n",
    "\n",
    "# Print the AUROC.\n",
    "cv = cross_val_score(svc, new_X, new_Y, cv=10, scoring='roc_auc') \n",
    "print('AUROC Score:')\n",
    "print(cv)\n",
    "# Print the average of the AUROC and store it in the table\n",
    "print('Average of the AUROC Score:')\n",
    "print(sum(cv)/len(cv))\n",
    "\n",
    "# Store the data in the model_comparison table\n",
    "models = {'Model':['Support Vector Classifier 2'], 'R^2':[score], 'Accuracy':[lr.score(new_X,new_Y)],\n",
    "         'AUROC':[ave]}\n",
    "model_comparison = model_comparison.append(pd.DataFrame(data=models, columns=models.keys()), ignore_index=True)"
   ]
  },
  {
   "cell_type": "code",
   "execution_count": 40,
   "metadata": {
    "collapsed": false
   },
   "outputs": [
    {
     "name": "stdout",
     "output_type": "stream",
     "text": [
      "[-1.  1.  1. ..., -1. -1.  1.]\n",
      "0.0480769230769\n"
     ]
    }
   ],
   "source": [
    "print(y_pred)\n",
    "print(y_pred.mean())"
   ]
  },
  {
   "cell_type": "markdown",
   "metadata": {},
   "source": [
    "# Analysis of Results for the Second Support Vector Clasifier:\n",
    "R-Squared: \n",
    "\n",
    "Accuracy: \n",
    "\n",
    "Confusion Matrix: \n",
    "\n",
    "Average AUROC: "
   ]
  },
  {
   "cell_type": "markdown",
   "metadata": {},
   "source": [
    "# Gradient Boosting Classifier"
   ]
  },
  {
   "cell_type": "code",
   "execution_count": 41,
<<<<<<< HEAD
   "metadata": {},
=======
   "metadata": {
    "collapsed": false
   },
>>>>>>> 0c290bb27845d05b00ba61cdabcc4b80e898ff54
   "outputs": [
    {
     "name": "stdout",
     "output_type": "stream",
     "text": [
      "R-Squared of the model:\n",
      "0.996810308514\n",
      "Accuracy of the model:\n",
      "0.999204455052\n",
      "Confusion Matrix of the model:\n",
      "[[597   1]\n",
      " [  0 659]]\n",
      "AUROC Score:\n",
<<<<<<< HEAD
      "[ 0.60568182  0.41111111  0.52853535  0.4719697   0.50063131  0.40820707\n",
      "  0.41262626  0.52020202  0.4470981   0.54276402]\n",
      "Average of the AUROC Score:\n",
      "0.484882676175\n"
=======
      "[ 0.60593434  0.40808081  0.58636364  0.47373737  0.49507576  0.40517677\n",
      "  0.43383838  0.51792929  0.45146379  0.53220339]\n",
      "Average of the AUROC Score:\n",
      "0.490980354391\n"
>>>>>>> 0c290bb27845d05b00ba61cdabcc4b80e898ff54
     ]
    }
   ],
   "source": [
    "# 500 iterations, using 5-deep trees, and loss function 'deviance.'\n",
    "# Play around with number of iterations\n",
    "# Look into learning rate\n",
    "params = {'n_estimators': 500,\n",
    "          'max_depth': 5,\n",
    "          'loss': 'deviance'}\n",
    "\n",
    "# Initialize and fit the model.\n",
    "clf = ensemble.GradientBoostingClassifier(**params)\n",
    "clf.fit(X,Y)\n",
    "y_pred = clf.fit(X,Y).predict(X)\n",
    "\n",
    "# Print the R-Squared value and store it in the table\n",
    "print('R-Squared of the model:') \n",
    "score = r2_score(Y, y_pred)\n",
    "print(score)\n",
    "\n",
    "# Print the accuracy of the model and store it in the table\n",
    "print('Accuracy of the model:')\n",
    "print(clf.score(X,Y))\n",
    "# TODO: STORE IN TABLE\n",
    "\n",
    "\n",
    "print('Confusion Matrix of the model:')\n",
    "conf_mat = confusion_matrix(Y, y_pred)\n",
    "print(conf_mat)\n",
    "\n",
    "# Print the AUROC.\n",
    "cv = cross_val_score(clf, X, Y, cv=10, scoring='roc_auc') \n",
    "print('AUROC Score:')\n",
    "print(cv)\n",
    "# Print the average of the AUROC and store it in the table\n",
    "print('Average of the AUROC Score:')\n",
    "print(sum(cv)/len(cv))\n",
    "\n",
    "# Store the data in the model_comparison table\n",
    "models = {'Model':['Gradient Boosting Classifier 1'], 'R^2':[score], 'Accuracy':[clf.score(X,Y)],\n",
    "         'AUROC':[ave]}\n",
    "model_comparison = model_comparison.append(pd.DataFrame(data=models, columns=models.keys()), ignore_index=True)"
   ]
  },
  {
   "cell_type": "markdown",
   "metadata": {},
   "source": [
    "# Notes:\n",
    "High variation in cv score, indicative of overfitting. Solid r-squared and accuracy.\n",
    "\n",
    "After playing around with different n_estimators and max_depth values, need to determine the best tradeoff for r-squared & accuracy vs AUROC variations."
   ]
  },
  {
   "cell_type": "code",
   "execution_count": 42,
<<<<<<< HEAD
   "metadata": {},
=======
   "metadata": {
    "collapsed": false
   },
>>>>>>> 0c290bb27845d05b00ba61cdabcc4b80e898ff54
   "outputs": [
    {
     "name": "stdout",
     "output_type": "stream",
     "text": [
      "[ 1. -1.  1. ..., -1. -1.  1.]\n",
      "0.0501193317422\n"
     ]
    }
   ],
   "source": [
    "print(y_pred)\n",
    "print(y_pred.mean())"
   ]
  },
  {
   "cell_type": "markdown",
   "metadata": {},
   "source": [
    "# Analysis of Results for the First Gradient Boost Model:\n",
    "R-Squared: \n",
    "\n",
    "Accuracy: \n",
    "\n",
    "Confusion Matrix: \n",
    "\n",
    "Average AUROC: "
   ]
  },
  {
   "cell_type": "code",
   "execution_count": 43,
<<<<<<< HEAD
   "metadata": {},
=======
   "metadata": {
    "collapsed": false
   },
>>>>>>> 0c290bb27845d05b00ba61cdabcc4b80e898ff54
   "outputs": [
    {
     "name": "stdout",
     "output_type": "stream",
     "text": [
      "R-Squared of the model:\n",
      "1.0\n",
      "Accuracy of the model:\n",
      "1.0\n",
      "Confusion Matrix of the model:\n",
      "[[594   0]\n",
      " [  0 654]]\n",
      "AUROC Score:\n",
<<<<<<< HEAD
      "[ 0.52487374  0.42323232  0.52070707  0.42474747  0.4797914   0.3958279\n",
      "  0.43102999  0.46466754  0.44315515  0.54289439]\n",
      "Average of the AUROC Score:\n",
      "0.465092696851\n"
=======
      "[ 0.53257576  0.43598485  0.51414141  0.42525253  0.49778357  0.39295958\n",
      "  0.43050847  0.46205997  0.44367666  0.54263364]\n",
      "Average of the AUROC Score:\n",
      "0.467757644897\n"
>>>>>>> 0c290bb27845d05b00ba61cdabcc4b80e898ff54
     ]
    }
   ],
   "source": [
    "clf.fit(new_X,new_Y)\n",
    "y_pred = clf.fit(new_X,new_Y).predict(new_X)\n",
    "\n",
    "# Print the R-Squared value and store it in the table\n",
    "print('R-Squared of the model:') \n",
    "score = r2_score(new_Y, y_pred)\n",
    "print(score)\n",
    "\n",
    "# Print the accuracy of the model and store it in the table\n",
    "print('Accuracy of the model:')\n",
    "print(clf.score(new_X,new_Y))\n",
    "# TODO: STORE IN TABLE\n",
    "\n",
    "\n",
    "print('Confusion Matrix of the model:')\n",
    "conf_mat = confusion_matrix(new_Y, y_pred)\n",
    "print(conf_mat)\n",
    "\n",
    "# Print the AUROC.\n",
    "cv = cross_val_score(clf, new_X, new_Y, cv=10, scoring='roc_auc') \n",
    "print('AUROC Score:')\n",
    "print(cv)\n",
    "# Print the average of the AUROC and store it in the table\n",
    "print('Average of the AUROC Score:')\n",
    "print(sum(cv)/len(cv))\n",
    "\n",
    "# Store the data in the model_comparison table\n",
    "models = {'Model':['Gradient Boosting Classifier 2'], 'R^2':[score], 'Accuracy':[lr.score(new_X,new_Y)],\n",
    "         'AUROC':[ave]}\n",
    "model_comparison = model_comparison.append(pd.DataFrame(data=models, columns=models.keys()), ignore_index=True)"
   ]
  },
  {
   "cell_type": "code",
   "execution_count": 44,
   "metadata": {
    "collapsed": false
   },
   "outputs": [
    {
     "name": "stdout",
     "output_type": "stream",
     "text": [
      "[-1.  1.  1. ..., -1. -1.  1.]\n",
      "0.0480769230769\n"
     ]
    }
   ],
   "source": [
    "print(y_pred)\n",
    "print(y_pred.mean())"
   ]
  },
  {
   "cell_type": "markdown",
   "metadata": {},
   "source": [
    "# Analysis of Results for the Second Gradient Boost Model:\n",
    "R-Squared: \n",
    "\n",
    "Accuracy: \n",
    "\n",
    "Confusion Matrix: \n",
    "\n",
    "Average AUROC: "
   ]
  },
  {
   "cell_type": "markdown",
   "metadata": {},
   "source": [
    "# Section 3: Selection and Analysis of the Best Performing Model"
   ]
  },
  {
   "cell_type": "markdown",
   "metadata": {},
   "source": [
    "Display the model comparison table here. Write up an analysis. "
   ]
  },
  {
   "cell_type": "code",
   "execution_count": 45,
<<<<<<< HEAD
   "metadata": {},
=======
   "metadata": {
    "collapsed": false
   },
>>>>>>> 0c290bb27845d05b00ba61cdabcc4b80e898ff54
   "outputs": [
    {
     "data": {
      "text/html": [
       "<div>\n",
       "<table border=\"1\" class=\"dataframe\">\n",
       "  <thead>\n",
       "    <tr style=\"text-align: right;\">\n",
       "      <th></th>\n",
       "      <th>Model</th>\n",
       "      <th>R^2</th>\n",
       "      <th>Accuracy</th>\n",
       "      <th>AUROC</th>\n",
       "    </tr>\n",
       "  </thead>\n",
       "  <tbody>\n",
       "    <tr>\n",
       "      <th>0</th>\n",
       "      <td>Logistic Regression 1</td>\n",
       "      <td>-0.907436</td>\n",
       "      <td>0.524264</td>\n",
       "      <td>0.483867</td>\n",
       "    </tr>\n",
       "    <tr>\n",
       "      <th>1</th>\n",
       "      <td>Logistic Regression 2</td>\n",
       "      <td>-0.908257</td>\n",
       "      <td>0.524038</td>\n",
       "      <td>0.490613</td>\n",
       "    </tr>\n",
       "    <tr>\n",
       "      <th>2</th>\n",
       "      <td>Ridge Regression 1</td>\n",
       "      <td>0.000417</td>\n",
       "      <td>0.000417</td>\n",
       "      <td>0.490613</td>\n",
       "    </tr>\n",
       "    <tr>\n",
       "      <th>3</th>\n",
       "      <td>Ridge Regression 2</td>\n",
       "      <td>0.001639</td>\n",
       "      <td>0.001639</td>\n",
       "      <td>0.490613</td>\n",
       "    </tr>\n",
       "    <tr>\n",
       "      <th>4</th>\n",
       "      <td>Lasso Regression 1</td>\n",
       "      <td>0.000036</td>\n",
       "      <td>0.000036</td>\n",
       "      <td>0.490613</td>\n",
       "    </tr>\n",
       "    <tr>\n",
       "      <th>5</th>\n",
       "      <td>Lasso Regression 2</td>\n",
       "      <td>0.000116</td>\n",
       "      <td>0.000116</td>\n",
       "      <td>0.490613</td>\n",
       "    </tr>\n",
       "    <tr>\n",
       "      <th>6</th>\n",
       "      <td>Support Vector Regression 1</td>\n",
       "      <td>0.000036</td>\n",
       "      <td>0.749417</td>\n",
       "      <td>0.490613</td>\n",
       "    </tr>\n",
       "    <tr>\n",
       "      <th>7</th>\n",
       "      <td>Support Vector Regression 2</td>\n",
       "      <td>0.749409</td>\n",
       "      <td>0.749409</td>\n",
       "      <td>0.490613</td>\n",
       "    </tr>\n",
       "    <tr>\n",
       "      <th>8</th>\n",
       "      <td>Support Vector Classifier 1</td>\n",
       "      <td>1.000000</td>\n",
       "      <td>1.000000</td>\n",
       "      <td>0.490613</td>\n",
       "    </tr>\n",
       "    <tr>\n",
       "      <th>9</th>\n",
       "      <td>Support Vector Classifier 2</td>\n",
       "      <td>1.000000</td>\n",
       "      <td>0.524038</td>\n",
       "      <td>0.490613</td>\n",
       "    </tr>\n",
       "    <tr>\n",
       "      <th>10</th>\n",
       "      <td>Gradient Boosting Classifier 1</td>\n",
       "      <td>0.996810</td>\n",
       "      <td>0.999204</td>\n",
       "      <td>0.490613</td>\n",
       "    </tr>\n",
       "    <tr>\n",
       "      <th>11</th>\n",
       "      <td>Gradient Boosting Classifier 2</td>\n",
       "      <td>1.000000</td>\n",
       "      <td>0.524038</td>\n",
       "      <td>0.490613</td>\n",
       "    </tr>\n",
       "  </tbody>\n",
       "</table>\n",
       "</div>"
      ],
      "text/plain": [
       "                             Model       R^2  Accuracy     AUROC\n",
       "0            Logistic Regression 1 -0.907436  0.524264  0.483867\n",
       "1            Logistic Regression 2 -0.908257  0.524038  0.490613\n",
       "2               Ridge Regression 1  0.000417  0.000417  0.490613\n",
       "3               Ridge Regression 2  0.001639  0.001639  0.490613\n",
       "4               Lasso Regression 1  0.000036  0.000036  0.490613\n",
       "5               Lasso Regression 2  0.000116  0.000116  0.490613\n",
       "6      Support Vector Regression 1  0.000036  0.749417  0.490613\n",
       "7      Support Vector Regression 2  0.749409  0.749409  0.490613\n",
       "8      Support Vector Classifier 1  1.000000  1.000000  0.490613\n",
       "9      Support Vector Classifier 2  1.000000  0.524038  0.490613\n",
       "10  Gradient Boosting Classifier 1  0.996810  0.999204  0.490613\n",
       "11  Gradient Boosting Classifier 2  1.000000  0.524038  0.490613"
      ]
     },
     "execution_count": 45,
     "metadata": {},
     "output_type": "execute_result"
    }
   ],
   "source": [
    "model_comparison"
   ]
  },
  {
   "cell_type": "code",
<<<<<<< HEAD
   "execution_count": 46,
   "metadata": {},
   "outputs": [
    {
     "ename": "SyntaxError",
     "evalue": "invalid syntax (<ipython-input-46-143e1fcf3c39>, line 1)",
     "output_type": "error",
     "traceback": [
      "\u001b[1;36m  File \u001b[1;32m\"<ipython-input-46-143e1fcf3c39>\"\u001b[1;36m, line \u001b[1;32m1\u001b[0m\n\u001b[1;33m    plt.plot(model_comparison['R^2'], xlabels:model_comparison.Model)\u001b[0m\n\u001b[1;37m                                             ^\u001b[0m\n\u001b[1;31mSyntaxError\u001b[0m\u001b[1;31m:\u001b[0m invalid syntax\n"
     ]
    }
   ],
   "source": [
    "plt.plot(model_comparison['R^2'], xlabels:model_comparison.Model)\n",
=======
   "execution_count": 50,
   "metadata": {
    "collapsed": false
   },
   "outputs": [
    {
     "data": {
      "image/png": "iVBORw0KGgoAAAANSUhEUgAAAe0AAAFJCAYAAAC2OXUDAAAABHNCSVQICAgIfAhkiAAAAAlwSFlz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\nRU5ErkJggg==\n",
      "text/plain": [
       "<matplotlib.figure.Figure at 0x1c383ba0128>"
      ]
     },
     "metadata": {},
     "output_type": "display_data"
    }
   ],
   "source": [
    "plt.plot(model_comparison['R^2'])\n",
>>>>>>> 0c290bb27845d05b00ba61cdabcc4b80e898ff54
    "plt.show()"
   ]
  },
  {
   "cell_type": "code",
<<<<<<< HEAD
   "execution_count": 47,
   "metadata": {},
=======
   "execution_count": 51,
   "metadata": {
    "collapsed": false
   },
>>>>>>> 0c290bb27845d05b00ba61cdabcc4b80e898ff54
   "outputs": [
    {
     "data": {
      "image/png": "iVBORw0KGgoAAAANSUhEUgAAAeEAAAFJCAYAAACsBZWNAAAABHNCSVQICAgIfAhkiAAAAAlwSFlz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\n",
      "text/plain": [
<<<<<<< HEAD
       "<matplotlib.figure.Figure at 0x2abe06148d0>"
=======
       "<matplotlib.figure.Figure at 0x1c383c528d0>"
>>>>>>> 0c290bb27845d05b00ba61cdabcc4b80e898ff54
      ]
     },
     "metadata": {},
     "output_type": "display_data"
    }
   ],
   "source": [
    "plt.plot(model_comparison['Accuracy'])\n",
    "plt.show()"
   ]
  },
  {
   "cell_type": "code",
<<<<<<< HEAD
   "execution_count": 48,
   "metadata": {},
=======
   "execution_count": 52,
   "metadata": {
    "collapsed": false
   },
>>>>>>> 0c290bb27845d05b00ba61cdabcc4b80e898ff54
   "outputs": [
    {
     "data": {
      "image/png": "iVBORw0KGgoAAAANSUhEUgAAAe0AAAFJCAYAAAC2OXUDAAAABHNCSVQICAgIfAhkiAAAAAlwSFlz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\nkCcIbQAA8gShDQBAnvj/Ugx4sLecs9EAAAAASUVORK5CYII=\n",
      "text/plain": [
<<<<<<< HEAD
       "<matplotlib.figure.Figure at 0x2abe079e4e0>"
=======
       "<matplotlib.figure.Figure at 0x1c383cdbf98>"
>>>>>>> 0c290bb27845d05b00ba61cdabcc4b80e898ff54
      ]
     },
     "metadata": {},
     "output_type": "display_data"
    }
   ],
   "source": [
    "plt.plot(model_comparison['AUROC'])\n",
    "plt.show()"
   ]
  },
  {
   "cell_type": "markdown",
   "metadata": {},
   "source": [
    "Analysis of table goes here. "
   ]
  },
  {
   "cell_type": "markdown",
   "metadata": {},
   "source": [
    "# Compare the models to each other as well as to the results of buying each week 401k style.\n",
    "### Rules for Calculating Return for the Prediction Models:\n",
    "\n",
<<<<<<< HEAD
    "Start with \\$10k in cash"
=======
    "Start with \\$10k in cash, do not allow the model to go below $2k \n",
    "\n",
    "The max value of stock in dataframe is \\$1005, $2k will provide a pain tolerance so that, in the event of a bad buy action, there is still money to buy stocks at the next opportunity"
>>>>>>> 0c290bb27845d05b00ba61cdabcc4b80e898ff54
   ]
  },
  {
   "cell_type": "code",
<<<<<<< HEAD
   "execution_count": 49,
=======
   "execution_count": 53,
>>>>>>> 0c290bb27845d05b00ba61cdabcc4b80e898ff54
   "metadata": {
    "collapsed": true
   },
   "outputs": [],
   "source": [
    "# Create a method to calculate return for the prediction models\n",
    "# First, create a dataframe to store the average return for each model:\n",
    "returns = {'Model':[],'Average Return Over Time':[]}\n",
    "columns = returns.keys()\n",
    "pred_returns = pd.DataFrame(data=returns, columns=columns)\n",
    "\n",
    "# Create a cash_available list that stores how much cash is available \n",
    "# to buy the stocks\n",
    "cash_available = [10000]"
   ]
  },
  {
   "cell_type": "code",
<<<<<<< HEAD
   "execution_count": 50,
=======
   "execution_count": 56,
>>>>>>> 0c290bb27845d05b00ba61cdabcc4b80e898ff54
   "metadata": {
    "collapsed": true
   },
   "outputs": [],
   "source": [
    "# Create a pred_return function to calculate the returns of the prediction models\n",
<<<<<<< HEAD
    "def pred_return(model, y_pred, data):\n",
    "    for i in range(len(y_pred)):\n",
=======
    "def pred_return(model, y_pred):\n",
    "    i = 0\n",
    "    for i in range(len(X)):\n",
>>>>>>> 0c290bb27845d05b00ba61cdabcc4b80e898ff54
    "        # If the predicted value is greater than zero, buy more stock\n",
    "        if y_pred[i] > 0:\n",
    "            buy_stock(model)\n",
    "        # If the predicted value is less than zero, sell stock\n",
    "        elif y_pred[i] < 0:\n",
    "            sell_stock(model)\n",
<<<<<<< HEAD
    "        # Store the new values in the table\n",
    "        # Need to return model and average to populate the returns table"
=======
    "        # Store the new values in the table"
>>>>>>> 0c290bb27845d05b00ba61cdabcc4b80e898ff54
   ]
  },
  {
   "cell_type": "code",
<<<<<<< HEAD
   "execution_count": 51,
=======
   "execution_count": 54,
>>>>>>> 0c290bb27845d05b00ba61cdabcc4b80e898ff54
   "metadata": {
    "collapsed": true
   },
   "outputs": [],
   "source": [
    "# Create a buy_stock function that buys as many stocks as can be afforded\n",
<<<<<<< HEAD
    "def buy_stock(model, y_pred, data):\n",
    "    # initial cash available is 10000\n",
    "    cash_available = 10000\n",
    "    for i in range(len(y_pred)):\n",
    "        # Set number of stocks to buy\n",
    "        num_stocks_buy[i] = int(cash_available/data.Close[i])\n",
    "        # Subtract from cash_available, store it in a list\n",
    "        cash_available[i] = cash_available-num_stocks_buy[i]*data.Close[i]\n",
    "    return(num_stocks_buy, cash_available)"
=======
    "def buy_stock(model):\n",
    "    # Only buy when cash_availalbe greater than $2k\n",
    "    if cash_available > 2000:\n",
    "        # Set number of stocks to buy\n",
    "        ### Need to ensure that cash_available does not drop below $2k\n",
    "        num_stocks_buy[i] = cash_available[i-1]/data.Close[i]\n",
    "        stocks_owned[i] = stocks_owned[i-1]+num_stocks_buy\n",
    "        # Subtract from cash_available\n",
    "        cash_available[i] = cash_available[i-1]-num_stocks_buy[i]*data.Close[i]\n",
    "        return(cahs_available[i], stocks_owned[i])"
>>>>>>> 0c290bb27845d05b00ba61cdabcc4b80e898ff54
   ]
  },
  {
   "cell_type": "code",
<<<<<<< HEAD
   "execution_count": 52,
=======
   "execution_count": 55,
>>>>>>> 0c290bb27845d05b00ba61cdabcc4b80e898ff54
   "metadata": {
    "collapsed": true
   },
   "outputs": [],
   "source": [
    "# Create a sell_stock function that sells all stocks\n",
    "def sell_stock(model):\n",
<<<<<<< HEAD
    "    for i in range(len(y_pred)):\n",
    "        sell_value = stocks_owned[i]*data.Close[i]\n",
    "        cash_available[i] = cash_available[i-1] + sell_value\n",
    "        stocks_owned[i] = 0\n",
    "    return(cash_available[i])"
=======
    "    sell_value = stocks_owned[i]*data.Close[i]\n",
    "    cash_available[i] = cash_available[i-1] + sell_value\n",
    "    stocks_owned[i] = 0\n",
    "    return(cash_available[i], stocks_owned[i])"
>>>>>>> 0c290bb27845d05b00ba61cdabcc4b80e898ff54
   ]
  },
  {
   "cell_type": "code",
<<<<<<< HEAD
   "execution_count": 53,
=======
   "execution_count": 57,
>>>>>>> 0c290bb27845d05b00ba61cdabcc4b80e898ff54
   "metadata": {
    "collapsed": true
   },
   "outputs": [],
   "source": [
    "# Create the 401k approach simulator, safe_invest, \n",
    "# That buys as much stock as is available every two weeks / ten business days.\n",
    "def safe_invest(data):\n",
    "    i=10\n",
    "    # $10k initial cash for prediction model approach / 6 years of data / \n",
    "    # 26 bi-weekly 401k additions = $76 every two weeks\n",
    "    cash_available = 76\n",
    "    for i in range(data):\n",
    "        num_stocks_buy[i] = cash_available[i-1]/data.Close[i]\n",
    "        stocks_owned[i] = num_stocks_buy[i] + stocks_owned[i-1]\n",
    "        # Store the values in a table"
   ]
  }
 ],
 "metadata": {
  "kernelspec": {
   "display_name": "Python 3",
   "language": "python",
   "name": "python3"
  },
  "language_info": {
   "codemirror_mode": {
    "name": "ipython",
    "version": 3
   },
   "file_extension": ".py",
   "mimetype": "text/x-python",
   "name": "python",
   "nbconvert_exporter": "python",
   "pygments_lexer": "ipython3",
   "version": "3.6.0"
  }
 },
 "nbformat": 4,
 "nbformat_minor": 2
}
