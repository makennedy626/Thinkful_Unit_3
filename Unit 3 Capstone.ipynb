{
 "cells": [
  {
   "cell_type": "markdown",
   "metadata": {},
   "source": [
    "# Unit 3 Capstone Project\n",
    "  ## Matthew Kennedy, August 2017\n",
    "\n",
    "   ## Section 1: Overview of Dataset and Analysis of Data\n",
    "   \n",
    "   The dataset used in this project comes from Kaggle user \"CNuge.\" The dataset contains historical stock prices over the last five years for all companies in the S&P 500 index and can be found at https://www.kaggle.com/camnugent/sandp500. This project will use the files that have the historical prices for individual stocks.   \n",
    "       \n",
    "   The dataset contains the following columns: \n",
    "       \n",
    "       Date - In the format of yy-mm-dd\n",
    "       Open - Price of the stock in USD at market open\n",
    "       High - Highest price reached in the day\n",
    "       Low - Lowest price reached in the day\n",
    "       Close - The price the stock had at the end of the day\n",
    "       Volume - Number of shares traded\n",
    "       Name - The stock's ticker name\n",
    "       \n",
    "   The user collected the data by using the python library, 'pandas_datareader,' to scrape Google Finance."
   ]
  },
  {
   "cell_type": "code",
   "execution_count": 40,
   "metadata": {
    "collapsed": true
   },
   "outputs": [],
   "source": [
    "# Import the necessary modules\n",
    "import pandas as pd\n",
    "import numpy as np\n",
    "import scipy\n",
    "import matplotlib.pyplot as plt\n",
    "%matplotlib inline\n",
    "\n",
    "from sklearn import linear_model\n",
    "from sklearn import preprocessing\n",
    "import statsmodels.api as sm\n",
    "from sklearn.linear_model import LogisticRegression\n",
    "from sklearn.svm import SVR\n",
    "from sklearn import ensemble\n",
    "from sklearn import datasets\n",
    "from sklearn.utils import shuffle\n",
    "from sklearn.metrics import mean_squared_error\n",
    "from sklearn.metrics import r2_score\n",
    "from sklearn.model_selection import cross_val_score"
   ]
  },
  {
   "cell_type": "code",
   "execution_count": 18,
   "metadata": {
    "collapsed": false
   },
   "outputs": [],
   "source": [
    "# This project will use the historical prices of GOOGL\n",
    "\n",
    "# Read the Dataset, store the original\n",
    "# This is the filepath on my laptop:\n",
    "original = pd.read_csv('C:\\\\Users\\\\mkennedy\\\\sandp500\\\\individual_stocks_5yr\\\\GOOGL_data.csv', encoding='utf-8-sig')\n",
    "# This is the filepath on my desktop:\n",
    "# original = pd.read_csv('D:\\\\Data\\\\sandp500\\\\GOOGL_data.csv')"
   ]
  },
  {
   "cell_type": "code",
   "execution_count": 19,
   "metadata": {
    "collapsed": false
   },
   "outputs": [
    {
     "data": {
      "text/html": [
       "<div>\n",
       "<table border=\"1\" class=\"dataframe\">\n",
       "  <thead>\n",
       "    <tr style=\"text-align: right;\">\n",
       "      <th></th>\n",
       "      <th>Date</th>\n",
       "      <th>Open</th>\n",
       "      <th>High</th>\n",
       "      <th>Low</th>\n",
       "      <th>Close</th>\n",
       "      <th>Volume</th>\n",
       "      <th>Name</th>\n",
       "    </tr>\n",
       "  </thead>\n",
       "  <tbody>\n",
       "    <tr>\n",
       "      <th>0</th>\n",
       "      <td>2012-08-13</td>\n",
       "      <td>324.03</td>\n",
       "      <td>330.41</td>\n",
       "      <td>323.66</td>\n",
       "      <td>330.34</td>\n",
       "      <td>3268073</td>\n",
       "      <td>GOOGL</td>\n",
       "    </tr>\n",
       "    <tr>\n",
       "      <th>1</th>\n",
       "      <td>2012-08-14</td>\n",
       "      <td>329.95</td>\n",
       "      <td>336.76</td>\n",
       "      <td>329.83</td>\n",
       "      <td>334.66</td>\n",
       "      <td>3662178</td>\n",
       "      <td>GOOGL</td>\n",
       "    </tr>\n",
       "    <tr>\n",
       "      <th>2</th>\n",
       "      <td>2012-08-15</td>\n",
       "      <td>335.48</td>\n",
       "      <td>337.46</td>\n",
       "      <td>332.38</td>\n",
       "      <td>334.10</td>\n",
       "      <td>2411100</td>\n",
       "      <td>GOOGL</td>\n",
       "    </tr>\n",
       "    <tr>\n",
       "      <th>3</th>\n",
       "      <td>2012-08-16</td>\n",
       "      <td>334.09</td>\n",
       "      <td>337.66</td>\n",
       "      <td>333.87</td>\n",
       "      <td>336.77</td>\n",
       "      <td>1717691</td>\n",
       "      <td>GOOGL</td>\n",
       "    </tr>\n",
       "    <tr>\n",
       "      <th>4</th>\n",
       "      <td>2012-08-17</td>\n",
       "      <td>337.40</td>\n",
       "      <td>338.96</td>\n",
       "      <td>336.19</td>\n",
       "      <td>338.91</td>\n",
       "      <td>2177896</td>\n",
       "      <td>GOOGL</td>\n",
       "    </tr>\n",
       "  </tbody>\n",
       "</table>\n",
       "</div>"
      ],
      "text/plain": [
       "         Date    Open    High     Low   Close   Volume   Name\n",
       "0  2012-08-13  324.03  330.41  323.66  330.34  3268073  GOOGL\n",
       "1  2012-08-14  329.95  336.76  329.83  334.66  3662178  GOOGL\n",
       "2  2012-08-15  335.48  337.46  332.38  334.10  2411100  GOOGL\n",
       "3  2012-08-16  334.09  337.66  333.87  336.77  1717691  GOOGL\n",
       "4  2012-08-17  337.40  338.96  336.19  338.91  2177896  GOOGL"
      ]
     },
     "execution_count": 19,
     "metadata": {},
     "output_type": "execute_result"
    }
   ],
   "source": [
    "# Copy a dataframe of the original data to manipulate\n",
    "data = original\n",
    "\n",
    "# Print the headers of the dataframe\n",
    "data.head()"
   ]
  },
  {
   "cell_type": "code",
   "execution_count": 20,
   "metadata": {
    "collapsed": false
   },
   "outputs": [
    {
     "data": {
      "text/html": [
       "<div>\n",
       "<table border=\"1\" class=\"dataframe\">\n",
       "  <thead>\n",
       "    <tr style=\"text-align: right;\">\n",
       "      <th></th>\n",
       "      <th>Date</th>\n",
       "      <th>Open</th>\n",
       "      <th>High</th>\n",
       "      <th>Low</th>\n",
       "      <th>Close</th>\n",
       "      <th>Volume</th>\n",
       "      <th>Name</th>\n",
       "    </tr>\n",
       "  </thead>\n",
       "  <tbody>\n",
       "    <tr>\n",
       "      <th>1253</th>\n",
       "      <td>2017-08-07</td>\n",
       "      <td>947.52</td>\n",
       "      <td>948.96</td>\n",
       "      <td>943.50</td>\n",
       "      <td>945.75</td>\n",
       "      <td>1445754</td>\n",
       "      <td>GOOGL</td>\n",
       "    </tr>\n",
       "    <tr>\n",
       "      <th>1254</th>\n",
       "      <td>2017-08-08</td>\n",
       "      <td>944.29</td>\n",
       "      <td>952.49</td>\n",
       "      <td>942.48</td>\n",
       "      <td>944.19</td>\n",
       "      <td>1505064</td>\n",
       "      <td>GOOGL</td>\n",
       "    </tr>\n",
       "    <tr>\n",
       "      <th>1255</th>\n",
       "      <td>2017-08-09</td>\n",
       "      <td>938.45</td>\n",
       "      <td>943.76</td>\n",
       "      <td>933.92</td>\n",
       "      <td>940.08</td>\n",
       "      <td>1400852</td>\n",
       "      <td>GOOGL</td>\n",
       "    </tr>\n",
       "    <tr>\n",
       "      <th>1256</th>\n",
       "      <td>2017-08-10</td>\n",
       "      <td>935.00</td>\n",
       "      <td>936.30</td>\n",
       "      <td>921.78</td>\n",
       "      <td>923.59</td>\n",
       "      <td>2707393</td>\n",
       "      <td>GOOGL</td>\n",
       "    </tr>\n",
       "    <tr>\n",
       "      <th>1257</th>\n",
       "      <td>2017-08-11</td>\n",
       "      <td>923.71</td>\n",
       "      <td>933.36</td>\n",
       "      <td>921.22</td>\n",
       "      <td>930.09</td>\n",
       "      <td>1616708</td>\n",
       "      <td>GOOGL</td>\n",
       "    </tr>\n",
       "  </tbody>\n",
       "</table>\n",
       "</div>"
      ],
      "text/plain": [
       "            Date    Open    High     Low   Close   Volume   Name\n",
       "1253  2017-08-07  947.52  948.96  943.50  945.75  1445754  GOOGL\n",
       "1254  2017-08-08  944.29  952.49  942.48  944.19  1505064  GOOGL\n",
       "1255  2017-08-09  938.45  943.76  933.92  940.08  1400852  GOOGL\n",
       "1256  2017-08-10  935.00  936.30  921.78  923.59  2707393  GOOGL\n",
       "1257  2017-08-11  923.71  933.36  921.22  930.09  1616708  GOOGL"
      ]
     },
     "execution_count": 20,
     "metadata": {},
     "output_type": "execute_result"
    }
   ],
   "source": [
    "# Check the footer to make sure there are no rows of text\n",
    "data.tail()"
   ]
  },
  {
   "cell_type": "markdown",
   "metadata": {},
   "source": [
    "There are no footers that need to be excluded.\n",
    "There are 1257 rows of stock data. "
   ]
  },
  {
   "cell_type": "code",
   "execution_count": 21,
   "metadata": {
    "collapsed": false
   },
   "outputs": [
    {
     "data": {
      "text/html": [
       "<div>\n",
       "<table border=\"1\" class=\"dataframe\">\n",
       "  <thead>\n",
       "    <tr style=\"text-align: right;\">\n",
       "      <th></th>\n",
       "      <th>Open</th>\n",
       "      <th>High</th>\n",
       "      <th>Low</th>\n",
       "      <th>Close</th>\n",
       "      <th>Volume</th>\n",
       "    </tr>\n",
       "  </thead>\n",
       "  <tbody>\n",
       "    <tr>\n",
       "      <th>count</th>\n",
       "      <td>1258.000000</td>\n",
       "      <td>1258.000000</td>\n",
       "      <td>1258.000000</td>\n",
       "      <td>1258.000000</td>\n",
       "      <td>1.258000e+03</td>\n",
       "    </tr>\n",
       "    <tr>\n",
       "      <th>mean</th>\n",
       "      <td>616.760469</td>\n",
       "      <td>621.377719</td>\n",
       "      <td>611.501638</td>\n",
       "      <td>616.599809</td>\n",
       "      <td>2.076615e+06</td>\n",
       "    </tr>\n",
       "    <tr>\n",
       "      <th>std</th>\n",
       "      <td>170.726853</td>\n",
       "      <td>171.626054</td>\n",
       "      <td>169.458607</td>\n",
       "      <td>170.631830</td>\n",
       "      <td>1.081167e+06</td>\n",
       "    </tr>\n",
       "    <tr>\n",
       "      <th>min</th>\n",
       "      <td>323.320000</td>\n",
       "      <td>326.830000</td>\n",
       "      <td>318.320000</td>\n",
       "      <td>323.910000</td>\n",
       "      <td>5.211410e+05</td>\n",
       "    </tr>\n",
       "    <tr>\n",
       "      <th>25%</th>\n",
       "      <td>510.217500</td>\n",
       "      <td>514.237500</td>\n",
       "      <td>504.365000</td>\n",
       "      <td>508.212500</td>\n",
       "      <td>1.453572e+06</td>\n",
       "    </tr>\n",
       "    <tr>\n",
       "      <th>50%</th>\n",
       "      <td>579.000000</td>\n",
       "      <td>583.625000</td>\n",
       "      <td>573.405000</td>\n",
       "      <td>579.170000</td>\n",
       "      <td>1.820138e+06</td>\n",
       "    </tr>\n",
       "    <tr>\n",
       "      <th>75%</th>\n",
       "      <td>758.737500</td>\n",
       "      <td>765.280000</td>\n",
       "      <td>754.065000</td>\n",
       "      <td>759.822500</td>\n",
       "      <td>2.343574e+06</td>\n",
       "    </tr>\n",
       "    <tr>\n",
       "      <th>max</th>\n",
       "      <td>1005.490000</td>\n",
       "      <td>1008.610000</td>\n",
       "      <td>996.620000</td>\n",
       "      <td>1004.280000</td>\n",
       "      <td>1.285814e+07</td>\n",
       "    </tr>\n",
       "  </tbody>\n",
       "</table>\n",
       "</div>"
      ],
      "text/plain": [
       "              Open         High          Low        Close        Volume\n",
       "count  1258.000000  1258.000000  1258.000000  1258.000000  1.258000e+03\n",
       "mean    616.760469   621.377719   611.501638   616.599809  2.076615e+06\n",
       "std     170.726853   171.626054   169.458607   170.631830  1.081167e+06\n",
       "min     323.320000   326.830000   318.320000   323.910000  5.211410e+05\n",
       "25%     510.217500   514.237500   504.365000   508.212500  1.453572e+06\n",
       "50%     579.000000   583.625000   573.405000   579.170000  1.820138e+06\n",
       "75%     758.737500   765.280000   754.065000   759.822500  2.343574e+06\n",
       "max    1005.490000  1008.610000   996.620000  1004.280000  1.285814e+07"
      ]
     },
     "execution_count": 21,
     "metadata": {},
     "output_type": "execute_result"
    }
   ],
   "source": [
    "# The describe method provides some additional information about the data\n",
    "data.describe()"
   ]
  },
  {
   "cell_type": "code",
   "execution_count": 22,
   "metadata": {
    "collapsed": false
   },
   "outputs": [
    {
     "name": "stdout",
     "output_type": "stream",
     "text": [
      "Date       object\n",
      "Open      float64\n",
      "High      float64\n",
      "Low       float64\n",
      "Close     float64\n",
      "Volume      int64\n",
      "Name       object\n",
      "dtype: object\n"
     ]
    }
   ],
   "source": [
    "# The dtypes call will display the data types. \n",
    "# This is used to make sure all numerical values have the correct data type to work with in the models.\n",
    "print(data.dtypes)"
   ]
  },
  {
   "cell_type": "markdown",
   "metadata": {},
   "source": [
    "The dataset appears to be clean and easy to work with.\n",
    "\n",
    "Observe the correlations between columns by using seaborn's heatmap."
   ]
  },
  {
   "cell_type": "code",
   "execution_count": 23,
   "metadata": {
    "collapsed": false
   },
   "outputs": [
    {
     "data": {
      "image/png": "[encoded data removed]",
      "text/plain": [
       "<matplotlib.figure.Figure at 0x1708a171f98>"
      ]
     },
     "metadata": {},
     "output_type": "display_data"
    }
   ],
   "source": [
    "# Create a heatmap to compare the correlation of the columns.\n",
    "import seaborn as sns\n",
    "\n",
    "corrmat = data.corr()\n",
    "\n",
    "# Set up the matplotlib figure.\n",
    "f, ax = plt.subplots(figsize=(12, 9))\n",
    "\n",
    "# Draw the heatmap using seaborn\n",
    "sns.heatmap(corrmat, vmax=.8, square=True)\n",
    "plt.show()"
   ]
  },
  {
   "cell_type": "markdown",
   "metadata": {},
   "source": [
    "As expected, the values are highly correlated. Creating prediction models based off of time-series data will not be helpful in reaching the goal of this project (to determine whether to buy or sell the at the next opening day). \n",
    "\n",
    "Features will need to be created to generate accurate predictions from the models. "
   ]
  },
  {
   "cell_type": "code",
   "execution_count": 24,
   "metadata": {
    "collapsed": false
   },
   "outputs": [
    {
     "data": {
      "text/html": [
       "<div>\n",
       "<table border=\"1\" class=\"dataframe\">\n",
       "  <thead>\n",
       "    <tr style=\"text-align: right;\">\n",
       "      <th></th>\n",
       "      <th>Date</th>\n",
       "      <th>Open</th>\n",
       "      <th>High</th>\n",
       "      <th>Low</th>\n",
       "      <th>Close</th>\n",
       "      <th>Volume</th>\n",
       "      <th>Name</th>\n",
       "      <th>Momentum</th>\n",
       "    </tr>\n",
       "  </thead>\n",
       "  <tbody>\n",
       "    <tr>\n",
       "      <th>0</th>\n",
       "      <td>2012-08-13</td>\n",
       "      <td>324.03</td>\n",
       "      <td>330.41</td>\n",
       "      <td>323.66</td>\n",
       "      <td>330.34</td>\n",
       "      <td>3268073</td>\n",
       "      <td>GOOGL</td>\n",
       "      <td>0</td>\n",
       "    </tr>\n",
       "    <tr>\n",
       "      <th>1</th>\n",
       "      <td>2012-08-14</td>\n",
       "      <td>329.95</td>\n",
       "      <td>336.76</td>\n",
       "      <td>329.83</td>\n",
       "      <td>334.66</td>\n",
       "      <td>3662178</td>\n",
       "      <td>GOOGL</td>\n",
       "      <td>1</td>\n",
       "    </tr>\n",
       "    <tr>\n",
       "      <th>2</th>\n",
       "      <td>2012-08-15</td>\n",
       "      <td>335.48</td>\n",
       "      <td>337.46</td>\n",
       "      <td>332.38</td>\n",
       "      <td>334.10</td>\n",
       "      <td>2411100</td>\n",
       "      <td>GOOGL</td>\n",
       "      <td>-1</td>\n",
       "    </tr>\n",
       "    <tr>\n",
       "      <th>3</th>\n",
       "      <td>2012-08-16</td>\n",
       "      <td>334.09</td>\n",
       "      <td>337.66</td>\n",
       "      <td>333.87</td>\n",
       "      <td>336.77</td>\n",
       "      <td>1717691</td>\n",
       "      <td>GOOGL</td>\n",
       "      <td>1</td>\n",
       "    </tr>\n",
       "    <tr>\n",
       "      <th>4</th>\n",
       "      <td>2012-08-17</td>\n",
       "      <td>337.40</td>\n",
       "      <td>338.96</td>\n",
       "      <td>336.19</td>\n",
       "      <td>338.91</td>\n",
       "      <td>2177896</td>\n",
       "      <td>GOOGL</td>\n",
       "      <td>1</td>\n",
       "    </tr>\n",
       "  </tbody>\n",
       "</table>\n",
       "</div>"
      ],
      "text/plain": [
       "         Date    Open    High     Low   Close   Volume   Name  Momentum\n",
       "0  2012-08-13  324.03  330.41  323.66  330.34  3268073  GOOGL         0\n",
       "1  2012-08-14  329.95  336.76  329.83  334.66  3662178  GOOGL         1\n",
       "2  2012-08-15  335.48  337.46  332.38  334.10  2411100  GOOGL        -1\n",
       "3  2012-08-16  334.09  337.66  333.87  336.77  1717691  GOOGL         1\n",
       "4  2012-08-17  337.40  338.96  336.19  338.91  2177896  GOOGL         1"
      ]
     },
     "execution_count": 24,
     "metadata": {},
     "output_type": "execute_result"
    }
   ],
   "source": [
    "# The momentum will show how many days in a row the stock has moved up or down. \n",
    "\n",
    "# Create a list to store the momentum\n",
    "momentum = [0]\n",
    "i=1\n",
    "# Calculate the momentums and store them in the new column, 'Momentum'\n",
    "for row in data['Close']:\n",
    "    if i < len(data):\n",
    "        if data.Close[i] > data.Close[i-1]:\n",
    "            momentum.append(+1)\n",
    "            i = i+1\n",
    "        elif data.Close[i] < data.Close[i-1]:\n",
    "            momentum.append(-1)\n",
    "            i = i+1\n",
    "\n",
    "data['Momentum'] = momentum\n",
    "data.head()"
   ]
  },
  {
   "cell_type": "code",
   "execution_count": 25,
   "metadata": {
    "collapsed": false
   },
   "outputs": [],
   "source": [
    "# Create a 'Future Close' feature that the model will attempt to predict.\n",
    "#data['Future Close'] = data.Close.shift(-1)\n",
    "#data.head()"
   ]
  },
  {
   "cell_type": "code",
   "execution_count": 26,
   "metadata": {
    "collapsed": false
   },
   "outputs": [],
   "source": [
    "#data.columns.drop('Future Close')"
   ]
  },
  {
   "cell_type": "code",
   "execution_count": 28,
   "metadata": {
    "collapsed": false
   },
   "outputs": [
    {
     "data": {
      "text/html": [
       "<div>\n",
       "<table border=\"1\" class=\"dataframe\">\n",
       "  <thead>\n",
       "    <tr style=\"text-align: right;\">\n",
       "      <th></th>\n",
       "      <th>Date</th>\n",
       "      <th>Open</th>\n",
       "      <th>High</th>\n",
       "      <th>Low</th>\n",
       "      <th>Close</th>\n",
       "      <th>Volume</th>\n",
       "      <th>Name</th>\n",
       "      <th>Momentum</th>\n",
       "      <th>Streak</th>\n",
       "    </tr>\n",
       "  </thead>\n",
       "  <tbody>\n",
       "    <tr>\n",
       "      <th>0</th>\n",
       "      <td>2012-08-13</td>\n",
       "      <td>324.03</td>\n",
       "      <td>330.41</td>\n",
       "      <td>323.66</td>\n",
       "      <td>330.34</td>\n",
       "      <td>3268073</td>\n",
       "      <td>GOOGL</td>\n",
       "      <td>0</td>\n",
       "      <td>0</td>\n",
       "    </tr>\n",
       "    <tr>\n",
       "      <th>1</th>\n",
       "      <td>2012-08-14</td>\n",
       "      <td>329.95</td>\n",
       "      <td>336.76</td>\n",
       "      <td>329.83</td>\n",
       "      <td>334.66</td>\n",
       "      <td>3662178</td>\n",
       "      <td>GOOGL</td>\n",
       "      <td>1</td>\n",
       "      <td>1</td>\n",
       "    </tr>\n",
       "    <tr>\n",
       "      <th>2</th>\n",
       "      <td>2012-08-15</td>\n",
       "      <td>335.48</td>\n",
       "      <td>337.46</td>\n",
       "      <td>332.38</td>\n",
       "      <td>334.10</td>\n",
       "      <td>2411100</td>\n",
       "      <td>GOOGL</td>\n",
       "      <td>-1</td>\n",
       "      <td>0</td>\n",
       "    </tr>\n",
       "    <tr>\n",
       "      <th>3</th>\n",
       "      <td>2012-08-16</td>\n",
       "      <td>334.09</td>\n",
       "      <td>337.66</td>\n",
       "      <td>333.87</td>\n",
       "      <td>336.77</td>\n",
       "      <td>1717691</td>\n",
       "      <td>GOOGL</td>\n",
       "      <td>1</td>\n",
       "      <td>1</td>\n",
       "    </tr>\n",
       "    <tr>\n",
       "      <th>4</th>\n",
       "      <td>2012-08-17</td>\n",
       "      <td>337.40</td>\n",
       "      <td>338.96</td>\n",
       "      <td>336.19</td>\n",
       "      <td>338.91</td>\n",
       "      <td>2177896</td>\n",
       "      <td>GOOGL</td>\n",
       "      <td>1</td>\n",
       "      <td>2</td>\n",
       "    </tr>\n",
       "  </tbody>\n",
       "</table>\n",
       "</div>"
      ],
      "text/plain": [
       "         Date    Open    High     Low   Close   Volume   Name  Momentum  \\\n",
       "0  2012-08-13  324.03  330.41  323.66  330.34  3268073  GOOGL         0   \n",
       "1  2012-08-14  329.95  336.76  329.83  334.66  3662178  GOOGL         1   \n",
       "2  2012-08-15  335.48  337.46  332.38  334.10  2411100  GOOGL        -1   \n",
       "3  2012-08-16  334.09  337.66  333.87  336.77  1717691  GOOGL         1   \n",
       "4  2012-08-17  337.40  338.96  336.19  338.91  2177896  GOOGL         1   \n",
       "\n",
       "   Streak  \n",
       "0       0  \n",
       "1       1  \n",
       "2       0  \n",
       "3       1  \n",
       "4       2  "
      ]
     },
     "execution_count": 28,
     "metadata": {},
     "output_type": "execute_result"
    }
   ],
   "source": [
    "streak = [0] * len(data)\n",
    "i=1\n",
    "# Calculate the streaks and store them in the new column, 'Streak'\n",
    "for row in data['Close']:\n",
    "    if i < len(data):\n",
    "        if data.Close[i] > data.Close[i-1]:\n",
    "            if streak[i-1] >= 0:\n",
    "                streak[i] = streak[i-1]+1\n",
    "                i = i+1\n",
    "            else:\n",
    "                streak[i]=0\n",
    "                i = i+1\n",
    "        elif data.Close[i] < data.Close[i-1]:\n",
    "            if streak[i-1] <= 0:\n",
    "                streak[i] = streak[i-1]-1\n",
    "                i = i+1\n",
    "            else:\n",
    "                streak[i]=0\n",
    "                i = i+1\n",
    "\n",
    "data['Streak'] = streak\n",
    "data.head()"
   ]
  },
  {
   "cell_type": "code",
   "execution_count": 53,
   "metadata": {
    "collapsed": false
   },
   "outputs": [
    {
     "name": "stderr",
     "output_type": "stream",
     "text": [
      "C:\\Users\\mkennedy\\AppData\\Local\\Continuum\\Anaconda3\\lib\\site-packages\\ipykernel\\__main__.py:2: SettingWithCopyWarning: \n",
      "A value is trying to be set on a copy of a slice from a DataFrame.\n",
      "Try using .loc[row_indexer,col_indexer] = value instead\n",
      "\n",
      "See the caveats in the documentation: http://pandas.pydata.org/pandas-docs/stable/indexing.html#indexing-view-versus-copy\n",
      "  from ipykernel import kernelapp as app\n"
     ]
    },
    {
     "data": {
      "text/html": [
       "<div>\n",
       "<table border=\"1\" class=\"dataframe\">\n",
       "  <thead>\n",
       "    <tr style=\"text-align: right;\">\n",
       "      <th></th>\n",
       "      <th>Date</th>\n",
       "      <th>Open</th>\n",
       "      <th>High</th>\n",
       "      <th>Low</th>\n",
       "      <th>Close</th>\n",
       "      <th>Volume</th>\n",
       "      <th>Name</th>\n",
       "      <th>Momentum</th>\n",
       "      <th>Streak</th>\n",
       "      <th>Future Momentum</th>\n",
       "      <th>Two Day Momentum</th>\n",
       "    </tr>\n",
       "  </thead>\n",
       "  <tbody>\n",
       "    <tr>\n",
       "      <th>0</th>\n",
       "      <td>2012-08-13</td>\n",
       "      <td>324.03</td>\n",
       "      <td>330.41</td>\n",
       "      <td>323.66</td>\n",
       "      <td>330.34</td>\n",
       "      <td>3268073</td>\n",
       "      <td>GOOGL</td>\n",
       "      <td>0</td>\n",
       "      <td>0</td>\n",
       "      <td>1.0</td>\n",
       "      <td>-1.0</td>\n",
       "    </tr>\n",
       "    <tr>\n",
       "      <th>1</th>\n",
       "      <td>2012-08-14</td>\n",
       "      <td>329.95</td>\n",
       "      <td>336.76</td>\n",
       "      <td>329.83</td>\n",
       "      <td>334.66</td>\n",
       "      <td>3662178</td>\n",
       "      <td>GOOGL</td>\n",
       "      <td>1</td>\n",
       "      <td>1</td>\n",
       "      <td>-1.0</td>\n",
       "      <td>1.0</td>\n",
       "    </tr>\n",
       "    <tr>\n",
       "      <th>2</th>\n",
       "      <td>2012-08-15</td>\n",
       "      <td>335.48</td>\n",
       "      <td>337.46</td>\n",
       "      <td>332.38</td>\n",
       "      <td>334.10</td>\n",
       "      <td>2411100</td>\n",
       "      <td>GOOGL</td>\n",
       "      <td>-1</td>\n",
       "      <td>0</td>\n",
       "      <td>1.0</td>\n",
       "      <td>1.0</td>\n",
       "    </tr>\n",
       "    <tr>\n",
       "      <th>3</th>\n",
       "      <td>2012-08-16</td>\n",
       "      <td>334.09</td>\n",
       "      <td>337.66</td>\n",
       "      <td>333.87</td>\n",
       "      <td>336.77</td>\n",
       "      <td>1717691</td>\n",
       "      <td>GOOGL</td>\n",
       "      <td>1</td>\n",
       "      <td>1</td>\n",
       "      <td>1.0</td>\n",
       "      <td>-1.0</td>\n",
       "    </tr>\n",
       "    <tr>\n",
       "      <th>4</th>\n",
       "      <td>2012-08-17</td>\n",
       "      <td>337.40</td>\n",
       "      <td>338.96</td>\n",
       "      <td>336.19</td>\n",
       "      <td>338.91</td>\n",
       "      <td>2177896</td>\n",
       "      <td>GOOGL</td>\n",
       "      <td>1</td>\n",
       "      <td>2</td>\n",
       "      <td>-1.0</td>\n",
       "      <td>-1.0</td>\n",
       "    </tr>\n",
       "  </tbody>\n",
       "</table>\n",
       "</div>"
      ],
      "text/plain": [
       "         Date    Open    High     Low   Close   Volume   Name  Momentum  \\\n",
       "0  2012-08-13  324.03  330.41  323.66  330.34  3268073  GOOGL         0   \n",
       "1  2012-08-14  329.95  336.76  329.83  334.66  3662178  GOOGL         1   \n",
       "2  2012-08-15  335.48  337.46  332.38  334.10  2411100  GOOGL        -1   \n",
       "3  2012-08-16  334.09  337.66  333.87  336.77  1717691  GOOGL         1   \n",
       "4  2012-08-17  337.40  338.96  336.19  338.91  2177896  GOOGL         1   \n",
       "\n",
       "   Streak  Future Momentum  Two Day Momentum  \n",
       "0       0              1.0              -1.0  \n",
       "1       1             -1.0               1.0  \n",
       "2       0              1.0               1.0  \n",
       "3       1              1.0              -1.0  \n",
       "4       2             -1.0              -1.0  "
      ]
     },
     "execution_count": 53,
     "metadata": {},
     "output_type": "execute_result"
    }
   ],
   "source": [
    "# Create a 'Future Momentum' feature that the model will attempt to predict.\n",
    "data['Future Momentum'] = data.Momentum.shift(-1)\n",
    "data.head()"
   ]
  },
  {
   "cell_type": "code",
   "execution_count": 30,
   "metadata": {
    "collapsed": false
   },
   "outputs": [
    {
     "data": {
      "text/html": [
       "<div>\n",
       "<table border=\"1\" class=\"dataframe\">\n",
       "  <thead>\n",
       "    <tr style=\"text-align: right;\">\n",
       "      <th></th>\n",
       "      <th>Date</th>\n",
       "      <th>Open</th>\n",
       "      <th>High</th>\n",
       "      <th>Low</th>\n",
       "      <th>Close</th>\n",
       "      <th>Volume</th>\n",
       "      <th>Name</th>\n",
       "      <th>Momentum</th>\n",
       "      <th>Streak</th>\n",
       "      <th>Future Momentum</th>\n",
       "    </tr>\n",
       "  </thead>\n",
       "  <tbody>\n",
       "    <tr>\n",
       "      <th>1253</th>\n",
       "      <td>2017-08-07</td>\n",
       "      <td>947.52</td>\n",
       "      <td>948.96</td>\n",
       "      <td>943.50</td>\n",
       "      <td>945.75</td>\n",
       "      <td>1445754</td>\n",
       "      <td>GOOGL</td>\n",
       "      <td>-1</td>\n",
       "      <td>0</td>\n",
       "      <td>-1.0</td>\n",
       "    </tr>\n",
       "    <tr>\n",
       "      <th>1254</th>\n",
       "      <td>2017-08-08</td>\n",
       "      <td>944.29</td>\n",
       "      <td>952.49</td>\n",
       "      <td>942.48</td>\n",
       "      <td>944.19</td>\n",
       "      <td>1505064</td>\n",
       "      <td>GOOGL</td>\n",
       "      <td>-1</td>\n",
       "      <td>-1</td>\n",
       "      <td>-1.0</td>\n",
       "    </tr>\n",
       "    <tr>\n",
       "      <th>1255</th>\n",
       "      <td>2017-08-09</td>\n",
       "      <td>938.45</td>\n",
       "      <td>943.76</td>\n",
       "      <td>933.92</td>\n",
       "      <td>940.08</td>\n",
       "      <td>1400852</td>\n",
       "      <td>GOOGL</td>\n",
       "      <td>-1</td>\n",
       "      <td>-2</td>\n",
       "      <td>-1.0</td>\n",
       "    </tr>\n",
       "    <tr>\n",
       "      <th>1256</th>\n",
       "      <td>2017-08-10</td>\n",
       "      <td>935.00</td>\n",
       "      <td>936.30</td>\n",
       "      <td>921.78</td>\n",
       "      <td>923.59</td>\n",
       "      <td>2707393</td>\n",
       "      <td>GOOGL</td>\n",
       "      <td>-1</td>\n",
       "      <td>-3</td>\n",
       "      <td>1.0</td>\n",
       "    </tr>\n",
       "    <tr>\n",
       "      <th>1257</th>\n",
       "      <td>2017-08-11</td>\n",
       "      <td>923.71</td>\n",
       "      <td>933.36</td>\n",
       "      <td>921.22</td>\n",
       "      <td>930.09</td>\n",
       "      <td>1616708</td>\n",
       "      <td>GOOGL</td>\n",
       "      <td>1</td>\n",
       "      <td>0</td>\n",
       "      <td>NaN</td>\n",
       "    </tr>\n",
       "  </tbody>\n",
       "</table>\n",
       "</div>"
      ],
      "text/plain": [
       "            Date    Open    High     Low   Close   Volume   Name  Momentum  \\\n",
       "1253  2017-08-07  947.52  948.96  943.50  945.75  1445754  GOOGL        -1   \n",
       "1254  2017-08-08  944.29  952.49  942.48  944.19  1505064  GOOGL        -1   \n",
       "1255  2017-08-09  938.45  943.76  933.92  940.08  1400852  GOOGL        -1   \n",
       "1256  2017-08-10  935.00  936.30  921.78  923.59  2707393  GOOGL        -1   \n",
       "1257  2017-08-11  923.71  933.36  921.22  930.09  1616708  GOOGL         1   \n",
       "\n",
       "      Streak  Future Momentum  \n",
       "1253       0             -1.0  \n",
       "1254      -1             -1.0  \n",
       "1255      -2             -1.0  \n",
       "1256      -3              1.0  \n",
       "1257       0              NaN  "
      ]
     },
     "execution_count": 30,
     "metadata": {},
     "output_type": "execute_result"
    }
   ],
   "source": [
    "data.tail()"
   ]
  },
  {
   "cell_type": "code",
   "execution_count": 31,
   "metadata": {
    "collapsed": true
   },
   "outputs": [],
   "source": [
    "# Drop the 1257th row to get rid of the NaN values\n",
    "data = data.loc[:1256,:]"
   ]
  },
  {
   "cell_type": "code",
   "execution_count": 32,
   "metadata": {
    "collapsed": false
   },
   "outputs": [
    {
     "data": {
      "text/html": [
       "<div>\n",
       "<table border=\"1\" class=\"dataframe\">\n",
       "  <thead>\n",
       "    <tr style=\"text-align: right;\">\n",
       "      <th></th>\n",
       "      <th>Date</th>\n",
       "      <th>Open</th>\n",
       "      <th>High</th>\n",
       "      <th>Low</th>\n",
       "      <th>Close</th>\n",
       "      <th>Volume</th>\n",
       "      <th>Name</th>\n",
       "      <th>Momentum</th>\n",
       "      <th>Streak</th>\n",
       "      <th>Future Momentum</th>\n",
       "    </tr>\n",
       "  </thead>\n",
       "  <tbody>\n",
       "    <tr>\n",
       "      <th>1252</th>\n",
       "      <td>2017-08-04</td>\n",
       "      <td>943.95</td>\n",
       "      <td>947.54</td>\n",
       "      <td>939.80</td>\n",
       "      <td>945.79</td>\n",
       "      <td>1254574</td>\n",
       "      <td>GOOGL</td>\n",
       "      <td>1</td>\n",
       "      <td>1</td>\n",
       "      <td>-1.0</td>\n",
       "    </tr>\n",
       "    <tr>\n",
       "      <th>1253</th>\n",
       "      <td>2017-08-07</td>\n",
       "      <td>947.52</td>\n",
       "      <td>948.96</td>\n",
       "      <td>943.50</td>\n",
       "      <td>945.75</td>\n",
       "      <td>1445754</td>\n",
       "      <td>GOOGL</td>\n",
       "      <td>-1</td>\n",
       "      <td>0</td>\n",
       "      <td>-1.0</td>\n",
       "    </tr>\n",
       "    <tr>\n",
       "      <th>1254</th>\n",
       "      <td>2017-08-08</td>\n",
       "      <td>944.29</td>\n",
       "      <td>952.49</td>\n",
       "      <td>942.48</td>\n",
       "      <td>944.19</td>\n",
       "      <td>1505064</td>\n",
       "      <td>GOOGL</td>\n",
       "      <td>-1</td>\n",
       "      <td>-1</td>\n",
       "      <td>-1.0</td>\n",
       "    </tr>\n",
       "    <tr>\n",
       "      <th>1255</th>\n",
       "      <td>2017-08-09</td>\n",
       "      <td>938.45</td>\n",
       "      <td>943.76</td>\n",
       "      <td>933.92</td>\n",
       "      <td>940.08</td>\n",
       "      <td>1400852</td>\n",
       "      <td>GOOGL</td>\n",
       "      <td>-1</td>\n",
       "      <td>-2</td>\n",
       "      <td>-1.0</td>\n",
       "    </tr>\n",
       "    <tr>\n",
       "      <th>1256</th>\n",
       "      <td>2017-08-10</td>\n",
       "      <td>935.00</td>\n",
       "      <td>936.30</td>\n",
       "      <td>921.78</td>\n",
       "      <td>923.59</td>\n",
       "      <td>2707393</td>\n",
       "      <td>GOOGL</td>\n",
       "      <td>-1</td>\n",
       "      <td>-3</td>\n",
       "      <td>1.0</td>\n",
       "    </tr>\n",
       "  </tbody>\n",
       "</table>\n",
       "</div>"
      ],
      "text/plain": [
       "            Date    Open    High     Low   Close   Volume   Name  Momentum  \\\n",
       "1252  2017-08-04  943.95  947.54  939.80  945.79  1254574  GOOGL         1   \n",
       "1253  2017-08-07  947.52  948.96  943.50  945.75  1445754  GOOGL        -1   \n",
       "1254  2017-08-08  944.29  952.49  942.48  944.19  1505064  GOOGL        -1   \n",
       "1255  2017-08-09  938.45  943.76  933.92  940.08  1400852  GOOGL        -1   \n",
       "1256  2017-08-10  935.00  936.30  921.78  923.59  2707393  GOOGL        -1   \n",
       "\n",
       "      Streak  Future Momentum  \n",
       "1252       1             -1.0  \n",
       "1253       0             -1.0  \n",
       "1254      -1             -1.0  \n",
       "1255      -2             -1.0  \n",
       "1256      -3              1.0  "
      ]
     },
     "execution_count": 32,
     "metadata": {},
     "output_type": "execute_result"
    }
   ],
   "source": [
    "# Look at the tail to make sure the data looks good\n",
    "data.tail()"
   ]
  },
  {
   "cell_type": "code",
   "execution_count": null,
   "metadata": {
    "collapsed": true
   },
   "outputs": [],
   "source": [
    "# Make a feature for the month average\n",
    "m_ave = [0] * len(data)\n",
    "i=1\n",
    "# Calculate the streaks and store them in the new column, 'Streak'\n",
    "for row in data['Close']:\n",
    "    m_ave[i] = sum(m_ave[:i])/len(m_ave[:i])\n",
    "    \n",
    "# I need something like:\n",
    "    # For date contains ('2017-08'):\n",
    "        # m_ave = sum(data.Close[:i])/len(data.Close[:i])\n",
    "\n",
    "\n",
    "data['Month Average'] = m_ave"
   ]
  },
  {
   "cell_type": "code",
   "execution_count": 33,
   "metadata": {
    "collapsed": false
   },
   "outputs": [
    {
     "data": {
      "image/png": "[encoded data removed]",
      "text/plain": [
       "<matplotlib.figure.Figure at 0x17088badb00>"
      ]
     },
     "metadata": {},
     "output_type": "display_data"
    }
   ],
   "source": [
    "# Create a heatmap with the new features.\n",
    "\n",
    "corrmat = data.corr()\n",
    "\n",
    "# Set up the matplotlib figure.\n",
    "f, ax = plt.subplots(figsize=(12, 9))\n",
    "\n",
    "# Draw the heatmap using seaborn\n",
    "sns.heatmap(corrmat, vmax=.8, square=True)\n",
    "plt.show()"
   ]
  },
  {
   "cell_type": "markdown",
   "metadata": {},
   "source": [
    "## Section 2: Creation and Comparison of Predictive Models"
   ]
  },
  {
   "cell_type": "markdown",
   "metadata": {},
   "source": [
    "Now that the data has been analyzed to ensure it can be manipulated, it is time to create some predictive models. For comparison, the scores from the models will be stored in a new table, titled \"Model Comparison.\""
   ]
  },
  {
   "cell_type": "code",
   "execution_count": 34,
   "metadata": {
    "collapsed": true
   },
   "outputs": [],
   "source": [
    "# Create a table to store the scores for each model.\n",
    "# Title: Model Comparison\n",
    "# Columns: Model, R^2, Accuracy, AUROC\n",
    "# Model values: Linear Regression, Ridge Regression, Lasso Regression, Support Vector Regression, Gradient Boost Classification\n",
    "models = {'Model':[], 'R^2':[], 'Accuracy':[], 'AUROC':[]}\n",
    "model_comparison = pd.DataFrame(data=models)"
   ]
  },
  {
   "cell_type": "markdown",
   "metadata": {},
   "source": [
    "New features will be created to show a one week trend as well as a four week average.\n",
    "### NOTE: I want to add features to show momentum (by using how many days in a row it has increased compared to its average increase or decrease), the one month, one quarter, and one year averages, etc."
   ]
  },
  {
   "cell_type": "code",
   "execution_count": 35,
   "metadata": {
    "collapsed": true
   },
   "outputs": [],
   "source": [
    "# Set the variables. \n",
    "# Use the closing value for Y\n",
    "# Use the new features for X\n",
    "Y = data['Future Momentum']\n",
    "X = data[['Close', 'Volume', 'Momentum', 'Streak']]\n",
    "\n",
    "\n",
    "# Create training and test sets.\n",
    "offset = int(X.shape[0] * 0.9)\n",
    "\n",
    "# Put 90% of the data in the training set.\n",
    "X_train, Y_train = X[:offset], Y[:offset]\n",
    "\n",
    "# And put 10% in the test set.\n",
    "X_test, Y_test = X[offset:], Y[offset:]"
   ]
  },
  {
   "cell_type": "markdown",
   "metadata": {},
   "source": [
    "### Binary Logistic Regression Classifier"
   ]
  },
  {
   "cell_type": "code",
   "execution_count": 50,
   "metadata": {
    "collapsed": false
   },
   "outputs": [
    {
     "name": "stdout",
     "output_type": "stream",
     "text": [
      "R-Squared of the model:\n",
      "Accuracy of the model:\n",
      "0.524264120923\n",
      "AUROC Score:\n",
      "[ 0.52752525  0.40050505  0.57651515  0.5219697   0.37550505  0.52171717\n",
      "  0.48535354  0.44242424  0.54648177  0.44067797]\n",
      "Average of the AUROC Score:\n",
      "0.483867488444\n"
     ]
    }
   ],
   "source": [
    "# Declare a logistic regression classifier.\n",
    "# Larger C's lead to reduced regularization of parameters, but because there are\n",
    "#   few features, the value of C has a trivial effect (tested for many C's)\n",
    "lr = LogisticRegression(C=1e9)\n",
    "\n",
    "\n",
    "# Fit the model.\n",
    "lr.fit(X_train, Y_train)\n",
    "\n",
    "# Print the R-Squared value and store it in the table\n",
    "print('R-Squared of the model:') \n",
    "# print(r2_score())\n",
    "\n",
    "# Print the accuracy of the model and store it in the table\n",
    "print('Accuracy of the model:')\n",
    "print(lr.score(X,Y))\n",
    "# TODO: STORE IN TABLE\n",
    "\n",
    "# Print the AUROC.\n",
    "cv = cross_val_score(lr, X, Y, cv=10, scoring='roc_auc') \n",
    "print('AUROC Score:')\n",
    "print(cv)\n",
    "# Print the average of the AUROC and store it in the table\n",
    "print('Average of the AUROC Score:')\n",
    "print(sum(cv)/len(cv))\n",
    "# TODO: STORE IN TABLE"
   ]
  },
  {
   "cell_type": "code",
   "execution_count": 104,
   "metadata": {
    "collapsed": true
   },
   "outputs": [],
   "source": [
    "# Use Binary Logistic Regression again, but use the two-day momentum.\n",
    "# If the accuracy improves, it will show that the model can be improved."
   ]
  },
  {
   "cell_type": "code",
   "execution_count": 55,
   "metadata": {
    "collapsed": true
   },
   "outputs": [],
   "source": [
    "# Make a Seven Day Average Feature, see if it improves the scores"
   ]
  },
  {
   "cell_type": "markdown",
   "metadata": {},
   "source": [
    "### Ridge Regression Classifier"
   ]
  },
  {
   "cell_type": "code",
   "execution_count": 100,
   "metadata": {
    "collapsed": false
   },
   "outputs": [
    {
     "name": "stdout",
     "output_type": "stream",
     "text": [
      "\n",
      "Accuracy for the model with train set:\n",
      "0.00312839499699\n",
      "Run time for the model with train set:\n",
      "\n",
      "Accuracy for the model with test set:\n",
      "-0.00799999993801\n",
      "Run time for the model with test set:\n"
     ]
    }
   ],
   "source": [
    "# Fitting a ridge regression model. Alpha is the regularization\n",
    "# parameter (usually called lambda). As alpha gets larger, parameter\n",
    "# shrinkage grows more pronounced. Note that by convention, the\n",
    "# intercept is not regularized. Since we standardized the data\n",
    "# earlier, the intercept should be equal to zero and can be dropped.\n",
    "\n",
    "ridgeregr = linear_model.Ridge(alpha=10, fit_intercept=False) \n",
    "ridgeregr.fit(X_train, Y_train)\n",
    "print('\\nAccuracy for the model with train set:')\n",
    "print(ridgeregr.score(X_train, Y_train))\n",
    "print('Run time for the model with train set:')\n",
    "#print(Runtime)\n",
    "print('\\nAccuracy for the model with test set:')\n",
    "print(ridgeregr.score(X_test, Y_test))\n",
    "print('Run time for the model with test set:')\n",
    "#print(Runtime)\n",
    "# Store the run time from the test set to the appropriate row/column for the model."
   ]
  },
  {
   "cell_type": "markdown",
   "metadata": {},
   "source": [
    "### Lasso Regression Classifier"
   ]
  },
  {
   "cell_type": "code",
   "execution_count": 101,
   "metadata": {
    "collapsed": false
   },
   "outputs": [
    {
     "name": "stdout",
     "output_type": "stream",
     "text": [
      "\n",
      "Accuracy for the model with train set:\n",
      "0.000328032232356\n",
      "Run time for the model with train set:\n",
      "\n",
      "Accuracy for the model with test set:\n",
      "-0.00799999987909\n",
      "Run time for the model with test set:\n"
     ]
    }
   ],
   "source": [
    "lasso = linear_model.Lasso(alpha=.35)\n",
    "lasso.fit(X_train, Y_train)\n",
    "print('\\nAccuracy for the model with train set:')\n",
    "print(lasso.score(X_train, Y_train))\n",
    "print('Run time for the model with train set:')\n",
    "#print(Runtime)\n",
    "print('\\nAccuracy for the model with test set:')\n",
    "print(lasso.score(X_test, Y_test))\n",
    "print('Run time for the model with test set:')\n",
    "#print(Runtime)\n",
    "# Store the run time from the test set to the appropriate row/column for the model."
   ]
  },
  {
   "cell_type": "markdown",
   "metadata": {},
   "source": [
    "### Support Vector Regression"
   ]
  },
  {
   "cell_type": "code",
   "execution_count": 102,
   "metadata": {
    "collapsed": false
   },
   "outputs": [
    {
     "name": "stderr",
     "output_type": "stream",
     "text": [
      "C:\\Users\\maken\\Anaconda3\\lib\\site-packages\\sklearn\\utils\\validation.py:526: DataConversionWarning: A column-vector y was passed when a 1d array was expected. Please change the shape of y to (n_samples, ), for example using ravel().\n",
      "  y = column_or_1d(y, warn=True)\n"
     ]
    },
    {
     "name": "stdout",
     "output_type": "stream",
     "text": [
      "\n",
      "Accuracy for the model with train set:\n",
      "0.990015204049\n",
      "Run time for the model with train set:\n",
      "\n",
      "Accuracy for the model with test set:\n",
      "-0.00799999990517\n",
      "Run time for the model with test set:\n"
     ]
    }
   ],
   "source": [
    "# Make a model using SVR here\n",
    "svr = SVR()\n",
    "svr.fit(X_train, Y_train)\n",
    "print('\\nAccuracy for the model with train set:')\n",
    "print(svr.score(X_train, Y_train))\n",
    "print('Run time for the model with train set:')\n",
    "#print(Runtime)\n",
    "print('\\nAccuracy for the model with test set:')\n",
    "print(svr.score(X_test, Y_test))\n",
    "print('Run time for the model with test set:')\n",
    "#print(Runtime)\n",
    "# Store the run time from the test set to the appropriate row/column for the model."
   ]
  },
  {
   "cell_type": "markdown",
   "metadata": {},
   "source": [
    "# Support Vector Classifier"
   ]
  },
  {
   "cell_type": "code",
   "execution_count": null,
   "metadata": {
    "collapsed": true
   },
   "outputs": [],
   "source": []
  },
  {
   "cell_type": "markdown",
   "metadata": {},
   "source": [
    "### Gradient Boosting Classifier"
   ]
  },
  {
   "cell_type": "code",
   "execution_count": 103,
   "metadata": {
    "collapsed": false
   },
   "outputs": [
    {
     "name": "stdout",
     "output_type": "stream",
     "text": [
      "\n",
      "Accuracy for the model with train set:\n",
      "0.812720848057\n",
      "Run time for the model with train set:\n",
      "\n",
      "Accuracy for the model with test set:\n",
      "0.420634920635\n",
      "Run time for the model with test set:\n"
     ]
    }
   ],
   "source": [
    "# 500 iterations, using 2-deep trees, and loss function 'deviance.'\n",
    "params = {'n_estimators': 500,\n",
    "          'max_depth': 2,\n",
    "          'loss': 'deviance'}\n",
    "\n",
    "# Initialize and fit the model.\n",
    "clf = ensemble.GradientBoostingClassifier(**params)\n",
    "clf.fit(X_train, Y_train.ravel())\n",
    "print('\\nAccuracy for the model with train set:')\n",
    "print(clf.score(X_train, Y_train.ravel()))\n",
    "print('Run time for the model with train set:')\n",
    "#print(clf.Runtime)\n",
    "print('\\nAccuracy for the model with test set:')\n",
    "print(clf.score(X_test, Y_test.ravel()))\n",
    "print('Run time for the model with test set:')\n",
    "#print(Runtime)\n",
    "# Store the run time from the test set to the appropriate row/column for the model."
   ]
  },
  {
   "cell_type": "markdown",
   "metadata": {},
   "source": [
    "## Section 3: Selection and Analysis of the Best Performing Model"
   ]
  },
  {
   "cell_type": "markdown",
   "metadata": {},
   "source": [
    "Display the model comparison table here. Write up an analysis. "
   ]
  },
  {
   "cell_type": "markdown",
   "metadata": {},
   "source": [
    "# Compare the models to each other as well as to the results of buying each week 401k style."
   ]
  }
 ],
 "metadata": {
  "kernelspec": {
   "display_name": "Python 3",
   "language": "python",
   "name": "python3"
  },
  "language_info": {
   "codemirror_mode": {
    "name": "ipython",
    "version": 3
   },
   "file_extension": ".py",
   "mimetype": "text/x-python",
   "name": "python",
   "nbconvert_exporter": "python",
   "pygments_lexer": "ipython3",
   "version": "3.6.0"
  }
 },
 "nbformat": 4,
 "nbformat_minor": 2
}
