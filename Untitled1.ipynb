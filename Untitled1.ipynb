{
 "cells": [
  {
   "cell_type": "code",
   "execution_count": 2,
   "metadata": {
    "collapsed": false
   },
   "outputs": [
    {
     "name": "stdout",
     "output_type": "stream",
     "text": [
      "0.657954263982\n",
      "0.29501827264\n",
      "0.487\n",
      "0.499830971429\n"
     ]
    },
    {
     "data": {
      "image/png": "[encoded data removed]",
      "text/plain": [
       "<matplotlib.figure.Figure at 0x2060dcae828>"
      ]
     },
     "metadata": {},
     "output_type": "display_data"
    }
   ],
   "source": [
    "import numpy as np\n",
    "import pandas as pd\n",
    "import matplotlib.pyplot as plt\n",
    "%matplotlib inline\n",
    "beta = np.random.beta(1, .5, 1000)\n",
    "binomial = np.random.binomial(1, .5, 1000)\n",
    "\n",
    "# Plot the histogram\n",
    "plt.subplot(2, 1, 2)\n",
    "plt.hist(beta)\n",
    "plt.subplot(2, 1, 2)\n",
    "plt.hist(binomial)\n",
    "\n",
    "# Add a vertical line at the mean.\n",
    "plt.axvline(beta.mean(), color='b', linestyle='solid', linewidth=2)\n",
    "plt.axvline(binomial.mean(), color = 'g', linestyle = 'solid', linewidth = 2)\n",
    "\n",
    "# Add a vertical line at one standard deviation above the mean.\n",
    "plt.axvline(beta.mean() + beta.std(), color='b', linestyle='dashed', linewidth=2)\n",
    "plt.axvline(binomial.mean() + binomial.std(), color = 'g', linestyle = 'dashed', linewidth = 2)\n",
    "\n",
    "# Add a vertical line at one standard deviation below the mean.\n",
    "plt.axvline(beta.mean()-beta.std(), color='b', linestyle='dashed', linewidth=2) \n",
    "plt.axvline(binomial.mean()- binomial.std(), color='g', linestyle='dashed', linewidth=2) \n",
    "\n",
    "print(beta.mean())\n",
    "print(beta.std())\n",
    "print(binomial.mean())\n",
    "print(binomial.std())"
   ]
  },
  {
   "cell_type": "markdown",
   "metadata": {},
   "source": [
    "Q: Evaluate whether the descriptive statistics provided useful information about the variable. \n",
    "    Can you identify any common characteristics of the distributions that could be usefully described using the mean and/or\n",
    "    standard deviation, versus the ones that could not?\n",
    "\n",
    "A: For the beta distribution, the mean and standard deviation describe are equal, which is indicative of a binomial distribution."
   ]
  },
  {
   "cell_type": "code",
   "execution_count": 3,
   "metadata": {
    "collapsed": false
   },
   "outputs": [
    {
     "name": "stdout",
     "output_type": "stream",
     "text": [
      "0.954880274256\n",
      "1.33632912472\n"
     ]
    },
    {
     "data": {
      "image/png": "[encoded data removed]",
      "text/plain": [
       "<matplotlib.figure.Figure at 0x2060b6e5c18>"
      ]
     },
     "metadata": {},
     "output_type": "display_data"
    }
   ],
   "source": [
    "chisquare = np.random.chisquare(1, 1000)\n",
    "\n",
    "# Add a vertical line at the mean.\n",
    "plt.axvline(chisquare.mean(), color='b', linestyle='solid', linewidth=2)\n",
    "\n",
    "# Add a vertical line at one standard deviation above the mean.\n",
    "plt.axvline(chisquare.mean() + chisquare.std(), color='b', linestyle='dashed', linewidth=2)\n",
    "\n",
    "# Add a vertical line at one standard deviation below the mean.\n",
    "plt.axvline(chisquare.mean()-chisquare.std(), color='b', linestyle='dashed', linewidth=2) \n",
    "\n",
    "# Plot the histogram\n",
    "plt.hist(chisquare)\n",
    "print(chisquare.mean())\n",
    "print(chisquare.std())"
   ]
  },
  {
   "cell_type": "markdown",
   "metadata": {},
   "source": [
    "Q: Evaluate whether the descriptive statistics provided useful information about the variable. \n",
    "    Can you identify any common characteristics of the distributions that could be usefully described using the mean \n",
    "    and/or standard deviation, versus the ones that could not?\n",
    "    \n",
    "A: The mean and standard deviation show a high concentration of values in the lower x-value range, which is indicative of a chi \n",
    "    square distribution."
   ]
  },
  {
   "cell_type": "code",
   "execution_count": 4,
   "metadata": {
    "collapsed": false
   },
   "outputs": [
    {
     "name": "stdout",
     "output_type": "stream",
     "text": [
      "1.01471335488\n",
      "1.00132177262\n"
     ]
    },
    {
     "data": {
      "image/png": "[encoded data removed]",
      "text/plain": [
       "<matplotlib.figure.Figure at 0x2060ea44940>"
      ]
     },
     "metadata": {},
     "output_type": "display_data"
    }
   ],
   "source": [
    "exponential = np.random.exponential(1, 1000)\n",
    "\n",
    "# Add a vertical line at the mean.\n",
    "plt.axvline(exponential.mean(), color='b', linestyle='solid', linewidth=2)\n",
    "\n",
    "# Add a vertical line at one standard deviation above the mean.\n",
    "plt.axvline(exponential.mean() + exponential.std(), color='b', linestyle='dashed', linewidth=2)\n",
    "\n",
    "# Add a vertical line at one standard deviation below the mean.\n",
    "plt.axvline(exponential.mean()-exponential.std(), color='b', linestyle='dashed', linewidth=2) \n",
    "\n",
    "# Plot the histogram\n",
    "plt.hist(exponential)\n",
    "print(exponential.mean())\n",
    "print(exponential.std())"
   ]
  },
  {
   "cell_type": "markdown",
   "metadata": {},
   "source": [
    "Q: Evaluate whether the descriptive statistics provided useful information about the variable. Can you identify any common characteristics of the distributions that could be usefully described using the mean and/or standard deviation, versus the ones that could not?\n",
    "\n",
    "A: Since beta is set to 1, the graph shows that the highest concentration of actions occurred within 1 arbritrary time unit of each other. From the print functions, you can see that mean and std are equal, which is a characteristic of an exponential distribution. "
   ]
  },
  {
   "cell_type": "code",
   "execution_count": 45,
   "metadata": {
    "collapsed": false
   },
   "outputs": [
    {
     "name": "stdout",
     "output_type": "stream",
     "text": [
      "0.954958300118\n",
      "0.912603811413\n"
     ]
    },
    {
     "data": {
      "image/png": "[encoded data removed]",
      "text/plain": [
       "<matplotlib.figure.Figure at 0x25c8c755f98>"
      ]
     },
     "metadata": {},
     "output_type": "display_data"
    }
   ],
   "source": [
    "logistic = np.random.logistic(1, .5, 1000)\n",
    "\n",
    "# Add a vertical line at the mean.\n",
    "plt.axvline(logistic.mean(), color='b', linestyle='solid', linewidth=2)\n",
    "\n",
    "# Add a vertical line at one standard deviation above the mean.\n",
    "plt.axvline(logistic.mean() + logistic.std(), color='b', linestyle='dashed', linewidth=2)\n",
    "\n",
    "# Add a vertical line at one standard deviation below the mean.\n",
    "plt.axvline(logistic.mean()-logistic.std(), color='b', linestyle='dashed', linewidth=2) \n",
    "\n",
    "# Plot the histogram\n",
    "plt.hist(logistic)\n",
    "print(logistic.mean())\n",
    "print(logistic.std())"
   ]
  },
  {
   "cell_type": "markdown",
   "metadata": {},
   "source": [
    "Q: Evaluate whether the descriptive statistics provided useful information about the variable. Can you identify any common characteristics of the distributions that could be usefully described using the mean and/or standard deviation, versus the ones that could not?\n",
    "\n",
    "A: The mean shows that the highest concentration is in the middle of the distribution, and the std deviation shows that 68% (from the 68-95-99.7 rule) of the values are from .04 (.95 mean - .91 std) and 1.86 (.95 mean + .91 std).  "
   ]
  },
  {
   "cell_type": "code",
   "execution_count": 46,
   "metadata": {
    "collapsed": false
   },
   "outputs": [
    {
     "name": "stdout",
     "output_type": "stream",
     "text": [
      "3.17586495176\n",
      "1.71648078666\n"
     ]
    },
    {
     "data": {
      "image/png": "[encoded data removed]",
      "text/plain": [
       "<matplotlib.figure.Figure at 0x25c8cc91a58>"
      ]
     },
     "metadata": {},
     "output_type": "display_data"
    }
   ],
   "source": [
    "lognormal = np.random.lognormal(1, .5, 1000)\n",
    "\n",
    "# Add a vertical line at the mean.\n",
    "plt.axvline(lognormal.mean(), color='b', linestyle='solid', linewidth=2)\n",
    "\n",
    "# Add a vertical line at one standard deviation above the mean.\n",
    "plt.axvline(lognormal.mean() + lognormal.std(), color='b', linestyle='dashed', linewidth=2)\n",
    "\n",
    "# Add a vertical line at one standard deviation below the mean.\n",
    "plt.axvline(lognormal.mean()-lognormal.std(), color='b', linestyle='dashed', linewidth=2) \n",
    "\n",
    "# Plot the histogram\n",
    "plt.hist(lognormal)\n",
    "print(lognormal.mean())\n",
    "print(lognormal.std())"
   ]
  },
  {
   "cell_type": "markdown",
   "metadata": {},
   "source": [
    "Q: Evaluate whether the descriptive statistics provided useful information about the variable. Can you identify any common characteristics of the distributions that could be usefully described using the mean and/or standard deviation, versus the ones that could not?\n",
    "\n",
    "A: The mean shows that the highest concentration occurs around 3.175, and the std deviation shows that 68% (from the 68-95-99.7 rule) of the values are from 1.45 (3.175 mean - 1.71 std) and 4.885 (3.175 mean + 1.71 std)."
   ]
  },
  {
   "cell_type": "code",
   "execution_count": 47,
   "metadata": {
    "collapsed": false
   },
   "outputs": [
    {
     "name": "stdout",
     "output_type": "stream",
     "text": [
      "1.023\n",
      "1.0249248753\n"
     ]
    },
    {
     "data": {
      "image/png": "[encoded data removed]",
      "text/plain": [
       "<matplotlib.figure.Figure at 0x25c8c37d2e8>"
      ]
     },
     "metadata": {},
     "output_type": "display_data"
    }
   ],
   "source": [
    "poisson = np.random.poisson(1, 1000)\n",
    "\n",
    "# Add a vertical line at the mean.\n",
    "plt.axvline(poisson.mean(), color='b', linestyle='solid', linewidth=2)\n",
    "\n",
    "# Add a vertical line at one standard deviation above the mean.\n",
    "plt.axvline(poisson.mean() + poisson.std(), color='b', linestyle='dashed', linewidth=2)\n",
    "\n",
    "# Add a vertical line at one standard deviation below the mean.\n",
    "plt.axvline(poisson.mean()-poisson.std(), color='b', linestyle='dashed', linewidth=2) \n",
    "\n",
    "# Plot the histogram\n",
    "plt.hist(poisson)\n",
    "print(poisson.mean())\n",
    "print(poisson.std())"
   ]
  },
  {
   "cell_type": "markdown",
   "metadata": {},
   "source": [
    "Q: Evaluate whether the descriptive statistics provided useful information about the variable. Can you identify any common characteristics of the distributions that could be usefully described using the mean and/or standard deviation, versus the ones that could not?\n",
    "\n",
    "A: The mean shows that the highest concentration occurs around 1.023, and the std deviation shows that 68% (from the 68-95-99.7 rule) of the values are from 0 (1.02 mean - 1.02 std) and 2.04 (1.02 mean + 1.02 std)."
   ]
  },
  {
   "cell_type": "code",
   "execution_count": 48,
   "metadata": {
    "collapsed": false
   },
   "outputs": [
    {
     "data": {
      "image/png": "[encoded data removed]",
      "text/plain": [
       "<matplotlib.figure.Figure at 0x25c8c710978>"
      ]
     },
     "metadata": {},
     "output_type": "display_data"
    },
    {
     "name": "stdout",
     "output_type": "stream",
     "text": [
      "<bound method Series.mean of 0      15.787617\n",
      "1      15.660395\n",
      "2      13.342789\n",
      "3      13.571250\n",
      "4      14.167985\n",
      "5      14.441820\n",
      "6      14.434183\n",
      "7      15.222543\n",
      "8      14.579957\n",
      "9      13.870481\n",
      "10     13.293600\n",
      "11     14.133203\n",
      "12     15.768466\n",
      "13     15.474973\n",
      "14     16.313093\n",
      "15     14.045030\n",
      "16     15.162873\n",
      "17     15.872637\n",
      "18     16.227342\n",
      "19     14.584504\n",
      "20     17.696038\n",
      "21     15.604675\n",
      "22     16.453656\n",
      "23     16.052176\n",
      "24     14.913444\n",
      "25     15.696764\n",
      "26     13.517869\n",
      "27     15.851676\n",
      "28     14.022424\n",
      "29     15.537290\n",
      "         ...    \n",
      "970    16.109320\n",
      "971    15.331956\n",
      "972    16.142569\n",
      "973    17.598892\n",
      "974    16.632690\n",
      "975    17.538651\n",
      "976    14.236830\n",
      "977    14.417489\n",
      "978    14.938410\n",
      "979    14.189629\n",
      "980    16.531171\n",
      "981    13.965442\n",
      "982    16.078904\n",
      "983    14.975116\n",
      "984    14.934106\n",
      "985    15.538463\n",
      "986    15.511685\n",
      "987    14.312734\n",
      "988    15.128691\n",
      "989    17.614594\n",
      "990    15.764391\n",
      "991    15.014647\n",
      "992    14.834526\n",
      "993    16.114453\n",
      "994    12.969734\n",
      "995    15.564260\n",
      "996    13.214527\n",
      "997    15.576290\n",
      "998    14.406874\n",
      "999    16.029063\n",
      "dtype: float64>\n",
      "<bound method Series.std of 0      15.787617\n",
      "1      15.660395\n",
      "2      13.342789\n",
      "3      13.571250\n",
      "4      14.167985\n",
      "5      14.441820\n",
      "6      14.434183\n",
      "7      15.222543\n",
      "8      14.579957\n",
      "9      13.870481\n",
      "10     13.293600\n",
      "11     14.133203\n",
      "12     15.768466\n",
      "13     15.474973\n",
      "14     16.313093\n",
      "15     14.045030\n",
      "16     15.162873\n",
      "17     15.872637\n",
      "18     16.227342\n",
      "19     14.584504\n",
      "20     17.696038\n",
      "21     15.604675\n",
      "22     16.453656\n",
      "23     16.052176\n",
      "24     14.913444\n",
      "25     15.696764\n",
      "26     13.517869\n",
      "27     15.851676\n",
      "28     14.022424\n",
      "29     15.537290\n",
      "         ...    \n",
      "970    16.109320\n",
      "971    15.331956\n",
      "972    16.142569\n",
      "973    17.598892\n",
      "974    16.632690\n",
      "975    17.538651\n",
      "976    14.236830\n",
      "977    14.417489\n",
      "978    14.938410\n",
      "979    14.189629\n",
      "980    16.531171\n",
      "981    13.965442\n",
      "982    16.078904\n",
      "983    14.975116\n",
      "984    14.934106\n",
      "985    15.538463\n",
      "986    15.511685\n",
      "987    14.312734\n",
      "988    15.128691\n",
      "989    17.614594\n",
      "990    15.764391\n",
      "991    15.014647\n",
      "992    14.834526\n",
      "993    16.114453\n",
      "994    12.969734\n",
      "995    15.564260\n",
      "996    13.214527\n",
      "997    15.576290\n",
      "998    14.406874\n",
      "999    16.029063\n",
      "dtype: float64>\n"
     ]
    }
   ],
   "source": [
    "# 1. Generate two normally-distributed variables, one with a mean of 5 and standard deviation of 0.5, and the other with a mean\n",
    "    # of 10 and standard deviation of 1.\n",
    "# 2. Add them together to create a third variable.\n",
    "# 3. Graph the third variable using a histogram.\n",
    "# 4. Compute the mean and standard deviation and plot them as vertical lines on the histogram.\n",
    "# 5. Evaluate the descriptive statistics against the data.\n",
    "\n",
    "df1 = pd.DataFrame({'rand1': np.random.normal(mean1, sd1, 1000)})\n",
    "mean1 = 5\n",
    "sd1 = .5\n",
    "n1 = 1000\n",
    "\n",
    "df2 = pd.DataFrame({'rand2' : np.random.normal(mean2, sd2, 1000)})\n",
    "mean2 = 10\n",
    "sd2 = 1\n",
    "n2 = 1000\n",
    "\n",
    "df3 = df1['rand1'] + df2['rand2']\n",
    "\n",
    "# Add a vertical line at the mean.\n",
    "plt.axvline(df3.mean(), color='b', linestyle='solid', linewidth=2)\n",
    "\n",
    "# Add a vertical line at one standard deviation above the mean.\n",
    "plt.axvline(df3.mean() + df3.std(), color='b', linestyle='dashed', linewidth=2)\n",
    "\n",
    "# Add a vertical line at one standard deviation below the mean.\n",
    "plt.axvline(df3.mean()-df3.std(), color='b', linestyle='dashed', linewidth=2)\n",
    "\n",
    "plt.hist(df3)\n",
    "plt.show()\n",
    "print(df3.mean)\n",
    "print(df3.std)"
   ]
  },
  {
   "cell_type": "markdown",
   "metadata": {},
   "source": [
    "Q: Evaluate whether the descriptive statistics provided useful information about the variable. Can you identify any common characteristics of the distributions that could be usefully described using the mean and/or standard deviation, versus the ones that could not?\n",
    "A: The mean shows that the highest concentration occurs around 15.79, and the std deviation shows that 68% (from the 68-95-99.7 rule) of the values are from 0 (15.79 mean - 15.79 std) and 31.58 (15.79 mean + 15.79 std)."
   ]
  },
  {
   "cell_type": "code",
   "execution_count": null,
   "metadata": {
    "collapsed": true
   },
   "outputs": [],
   "source": []
  }
 ],
 "metadata": {
  "kernelspec": {
   "display_name": "Python 3",
   "language": "python",
   "name": "python3"
  },
  "language_info": {
   "codemirror_mode": {
    "name": "ipython",
    "version": 3
   },
   "file_extension": ".py",
   "mimetype": "text/x-python",
   "name": "python",
   "nbconvert_exporter": "python",
   "pygments_lexer": "ipython3",
   "version": "3.6.0"
  }
 },
 "nbformat": 4,
 "nbformat_minor": 2
}
